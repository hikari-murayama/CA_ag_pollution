{
 "cells": [
  {
   "cell_type": "markdown",
   "metadata": {},
   "source": [
    "# ER131 Final Project (replace this with your project title)\n",
    "Fall 2020\n",
    "\n",
    "In this cell, give an alphabetical (by last name) list of student group members.  Beside each student's name, provide a description of each student's contribution to the project.\n",
    "\n",
    "**Longmate, Julia**: [contribution] <br>\n",
    "**Murayama, Hikari**: [contribution] <br>\n",
    "**Sims, Michelle**: [contribution] <br>\n",
    "**Worsham, Marshall**: [contribution] <br>"
   ]
  },
  {
   "cell_type": "markdown",
   "metadata": {},
   "source": [
    "## Basic Project Requirements (delete this markdown cell in your final submission)\n",
    "\n",
    "**How to use this notebook**:  This notebook is the template for your semester project.  Each markdown cell provides instructions on what to do in order to complete a successful project.  The cell you're reading right now is the only one you can delete from what you eventually hand in.  For the other cells:\n",
    "1. You may replace the instructions in each cell with your own work but do not edit the cell titles (with the exception of the project title, above).  \n",
    "2. Follow the instructions in each section carefully.  For some sections you will enter only markdown text in the existing cells. For other sections, you'll accompany the markdown cells with additional code cells, and perhaps more markdown, before moving on to the next section.  \n",
    "\n",
    "**Grading**.  You'll see point allocations listed in each of the section titles below.  In addition, there are other categories for points: \n",
    "1. Visualization (10 points).  Plots should be well organized, legible, labelled, and well-suited for the question they are being used to answer or explore.  \n",
    "2. Clarity (5 points). Note that clarity also supports points elsewhere, because if we can't understand what you're explaining, we'll assume you didn't understand what you were doing and give points accordingly!  \n",
    "\n",
    "For each Section or Category, we will give points according to the following percentage scale:\n",
    "1. More than 90%:  work that is free of anything but superficial mistakes, and demonstrates creativity and / or a very deep understanding of what you are doing.\n",
    "2. 80-90%: work without fundamental errors and demonstrates a basic understanding of what you're doing.\n",
    "3. 60-80%: work with fundamental flaws in the analysis and / or conveys that you do not understand the basics of the work you are trying to do.\n",
    "4. Below 60%: Work that is severely lacking or incomplete.  \n",
    "\n",
    "Note that we distinguish *mistakes* from *\"my idea didn't work\"*.  Sometimes you don't know if you can actually do the thing you're trying to do and as you dig in you find that you can't.  That doesn't necessarily mean you made a mistake; it might just mean you needed more information.  We'll still give high marks to ambitious projects that \"fail\" at their stated objective, as long as that objective was clear and you demonstrate an understanding of what you were doing and why it didn't work.\n",
    "\n",
    "**Number of prediction questions:**  The number of prediction questions must be greater than or equal to the number of students in the team minus one.  (A 4 person team would need to explore 4-1 = 3 questions.)  Questions should be related, but have distinct work efforts, interpretation and analysis. An example: for land use regression, you could have a core prediction question (what is pollution concentration on a fine spatial scale), a supporting question that explore how the degree of spatial aggregation influences prediction quality, plus a prediction model that explores *temporal* prediction at one point in space.  There is a lot of flexibility here; if you have any doubt about whether your questions are distinct, consult with the instructors.\n",
    "\n",
    "**Data requirements**:  Projects must use data from a minimum of $1+N_s$ different sources, where $N_s$ is the number of students in the group.  You should merge at least two data sets. </font>\n",
    "\n",
    "**Advice on Project Topics**:  We want you to do a project that relates to energy and environment topics.  \n",
    "\n",
    "**Suggested data sets**: If you choose not to work on a client projets, here are some ideas for data starting points. You can definitely bring your own data to the table!\n",
    "1. [Purple Air](https://www.purpleair.com) Instructions on how to download PurpleAir data are [here](https://docs.google.com/document/d/15ijz94dXJ-YAZLi9iZ_RaBwrZ4KtYeCy08goGBwnbCU/edit).\n",
    "2. California Enviroscreen database.  Available [here].(https://oehha.ca.gov/calenviroscreen/report/calenviroscreen-30) \n",
    "3. Several data sets available from the UC Irvine machine learning library:\n",
    "    1. [Forest Fires](https://archive.ics.uci.edu/ml/datasets/Forest+Fires)\n",
    "    4. [Climate](https://archive.ics.uci.edu/ml/datasets/Greenhouse+Gas+Observing+Network)\n",
    "    5. [Ozone](https://archive.ics.uci.edu/ml/datasets/Ozone+Level+Detection)\n",
    "4. California Solar Initiative data (installed rooftop solar systems).  Available [here](https://www.californiasolarstatistics.ca.gov/data_downloads/).\n",
    "5. World Bank Open Data, available [here](https://data.worldbank.org).\n",
    "6. California ISO monitored emissions data, [here](http://www.caiso.com/TodaysOutlook/Pages/Emissions.aspx).\n",
    "7. Energy Information Administration Residential Energy Consumption Survey, [here] (https://www.eia.gov/consumption/residential/data/2015/) "
   ]
  },
  {
   "cell_type": "code",
   "execution_count": 1,
   "metadata": {},
   "outputs": [],
   "source": [
    "#Import modules\n",
    "import numpy as np\n",
    "import pandas as pd\n",
    "import geopandas as gpd\n",
    "\n",
    "import matplotlib.pyplot as plt\n",
    "import seaborn as sns\n",
    "\n",
    "from sklearn import linear_model\n",
    "\n",
    "from sklearn.linear_model import LinearRegression, Lasso, Ridge, RidgeCV, LassoCV\n",
    "from sklearn.model_selection import train_test_split, KFold, GridSearchCV\n",
    "from sklearn.metrics import mean_squared_error\n",
    "from sklearn.preprocessing import StandardScaler\n",
    "from sklearn.neighbors import KNeighborsRegressor\n",
    "from scipy import stats\n",
    "import statsmodels.api as sm\n",
    "\n",
    "import random\n",
    "random.seed(15)"
   ]
  },
  {
   "cell_type": "markdown",
   "metadata": {},
   "source": [
    "## Abstract (5 points)\n",
    "Although this section comes first, you'll write it last.  It should be a ~250 word summary of your project.  1/3rd of the abstract should provide background, 1/3rd should explain what you did, and 1/3rd should explain what you learned."
   ]
  },
  {
   "cell_type": "markdown",
   "metadata": {},
   "source": [
    "## Project Background (5 points)\n",
    "In this section you will describe relevant background for your project.  It should give enough information that a non-expert can understand in detail the history and / or context of the system or setting you wish to study, the need for quantitative analysis, and, broadly, what impact a quantitative analyses could have on the system.  Shoot for 500 words here."
   ]
  },
  {
   "cell_type": "markdown",
   "metadata": {},
   "source": [
    "## Project Objective (5 points)\n",
    "In this section you will pose the central objective or objectives for your semester project.  Objectives should be extremely clear, well-defined and clearly cast as forecasting problems.  \n",
    "\n",
    "Some example questions: \n",
    "1. *\"The purpose of this project is to train and evaluate different models to predict soil heavy metal contamination levels across the state of Louisiana, using a variety of features drawn from EPA, the US Census, and NAICS databases.\"* or\n",
    "2. *\"The purpose of this project is to train and evaluate different models to predict 1-minute generation from a UCSD solar PV site, up to 2 hours into the future, using historical data as well as basic weather forecast variables.*\" or\n",
    "3. *\"The purpose of this project is to forecast daily emergency room visits for cardiac problems in 4 major US cities, using a majority of features including air quality forecasts, weather forecasts and seasonal variables.\"*\n",
    "\n",
    "You should reflect here on why it's important to answer these questions.  In most cases this will mean that you'll frame the answers to your questions as informing one or more *resource allocation* problems.  If you have done a good job of providing project background (in the cell above) then this reflection will be short and easy to write.\n",
    "\n",
    "**Comment on novelty:** You may find it hard to identify a project question that has *never* been answered before.  It's ok if you take inspiration from existing analyses.  However you shouldn't exactly reproduce someone else's analysis.  If you take inspiration from another analyses, you should still use different models, different data, and so on."
   ]
  },
  {
   "cell_type": "markdown",
   "metadata": {},
   "source": [
    "## Input Data Description (5 points)\n",
    "Here you will provide an initial description of your data sets, including:\n",
    "1. The origins of your data.  Where did you get the data?  How were the data collected from the original sources?\n",
    "2. The structure, granularity, scope, temporality and faithfulness (SGSTF) of your data.  To discuss these attributes you should load the data into one or more data frames (so you'll start building code cells for the first time).  At a minimum, use some basic methods (`.head`, `.loc`, and so on) to provide support for the descriptions you provide for SGSTF. \n",
    "\n",
    "[Chapter 5](https://www.textbook.ds100.org/ch/05/eda_intro.html) of the DS100 textbook might be helpful for you in this section."
   ]
  },
  {
   "cell_type": "markdown",
   "metadata": {},
   "source": [
    "TO DO: INPUT DESCRIPTION + (Photos of?) BASIC METHODS `.head(), .loc` (where possible)"
   ]
  },
  {
   "cell_type": "markdown",
   "metadata": {},
   "source": [
    "### Y variable"
   ]
  },
  {
   "cell_type": "markdown",
   "metadata": {},
   "source": [
    "#### AVIRIS-NG mean methane concentration\n",
    "[Marshall]"
   ]
  },
  {
   "cell_type": "code",
   "execution_count": null,
   "metadata": {},
   "outputs": [],
   "source": []
  },
  {
   "cell_type": "markdown",
   "metadata": {},
   "source": [
    "### Features"
   ]
  },
  {
   "cell_type": "markdown",
   "metadata": {},
   "source": [
    "#### TROPOMI Satellite Measurements of CH4, O3, and SO2\n",
    "[Hikari]"
   ]
  },
  {
   "cell_type": "code",
   "execution_count": null,
   "metadata": {},
   "outputs": [],
   "source": []
  },
  {
   "cell_type": "markdown",
   "metadata": {},
   "source": [
    "#### VISTA-CA Methane Emitters\n",
    "[Marshall]"
   ]
  },
  {
   "cell_type": "code",
   "execution_count": null,
   "metadata": {},
   "outputs": [],
   "source": []
  },
  {
   "cell_type": "markdown",
   "metadata": {},
   "source": [
    "#### USGS National Land Cover Data\n",
    "[Michelle]"
   ]
  },
  {
   "cell_type": "code",
   "execution_count": null,
   "metadata": {},
   "outputs": [],
   "source": []
  },
  {
   "cell_type": "markdown",
   "metadata": {},
   "source": [
    "#### US Information Administration Natural Gas Pipeline\n",
    "[Julia]"
   ]
  },
  {
   "cell_type": "code",
   "execution_count": null,
   "metadata": {},
   "outputs": [],
   "source": []
  },
  {
   "cell_type": "markdown",
   "metadata": {},
   "source": [
    "#### EPA Air Now Measurements of PM2.5, Ozone, and NOx\n",
    "[Hikari]"
   ]
  },
  {
   "cell_type": "code",
   "execution_count": null,
   "metadata": {},
   "outputs": [],
   "source": []
  },
  {
   "cell_type": "markdown",
   "metadata": {},
   "source": [
    "#### USDA(?) Cow Density Data\n",
    "[Julia]"
   ]
  },
  {
   "cell_type": "code",
   "execution_count": null,
   "metadata": {},
   "outputs": [],
   "source": []
  },
  {
   "cell_type": "markdown",
   "metadata": {},
   "source": [
    "## Data Cleaning (10 points)\n",
    "In this section you will walk through the data cleaning and merging process.  Explain how you make decisions to clean and merge the data.  Explain how you convince yourself that the data don't contain problems that will limit your ability to produce a meaningful analysis from them.  \n",
    "\n",
    "[Chapter 4](https://www.textbook.ds100.org/ch/04/cleaning_intro.html) of the DS100 textbook might be helpful to you in this section.  "
   ]
  },
  {
   "cell_type": "markdown",
   "metadata": {},
   "source": [
    "TO DO: INPUT DESCRIPTION OF DATA CLEANING + ANY CODE(? - maybe just merged dataframe at the end?)"
   ]
  },
  {
   "cell_type": "markdown",
   "metadata": {},
   "source": [
    "#### AVIRIS-NG mean methane concentration\n",
    "[Marshall]"
   ]
  },
  {
   "cell_type": "markdown",
   "metadata": {},
   "source": [
    "#### TROPOMI Satellite Measurements of CH4, O3, and SO2\n",
    "[Hikari]"
   ]
  },
  {
   "cell_type": "markdown",
   "metadata": {},
   "source": [
    "#### VISTA-CA Emitter Locations \n",
    "[Marshall]"
   ]
  },
  {
   "cell_type": "markdown",
   "metadata": {},
   "source": [
    "#### VISTA-CA Emitter Type\n",
    "[Michelle]"
   ]
  },
  {
   "cell_type": "markdown",
   "metadata": {},
   "source": [
    "#### USGS National Land Cover Data\n",
    "[Michelle]"
   ]
  },
  {
   "cell_type": "markdown",
   "metadata": {},
   "source": [
    "#### US Information Administration Natural Gas Pipeline\n",
    "[Julia]"
   ]
  },
  {
   "cell_type": "markdown",
   "metadata": {},
   "source": [
    "#### EPA Air Now Measurements of PM2.5, Ozone, and NOx\n",
    "[Hikari]"
   ]
  },
  {
   "cell_type": "markdown",
   "metadata": {},
   "source": [
    "#### USDA(?) Cow Density Data\n",
    "[Julia]"
   ]
  },
  {
   "cell_type": "code",
   "execution_count": null,
   "metadata": {},
   "outputs": [],
   "source": []
  },
  {
   "cell_type": "markdown",
   "metadata": {},
   "source": [
    "## Data Summary and Exploratory Data Analysis (10 points)\n",
    "\n",
    "In this section you should provide a tour through some of the basic trends and patterns in your data.  This includes providing initial plots to summarize the data, such as box plots, histograms, trends over time, scatter plots relating one variable or another.  \n",
    "\n",
    "[Chapter 6](https://www.textbook.ds100.org/ch/06/viz_intro.html) of the DS100 textbook might be helpful for providing ideas for visualizations that describe your data.  "
   ]
  },
  {
   "cell_type": "markdown",
   "metadata": {},
   "source": [
    "Ideas for visualizations to include:\n",
    "1. Scatter plot relationship between each feature and our y variable\n",
    "2. One-two summary visualizations for each feature?\n",
    "3. Scatter plot relationship between specific variables\n",
    "4. Correlation plot"
   ]
  },
  {
   "cell_type": "code",
   "execution_count": null,
   "metadata": {},
   "outputs": [],
   "source": []
  },
  {
   "cell_type": "markdown",
   "metadata": {},
   "source": [
    "## Forecasting and Prediction Modeling (25 points)\n",
    "\n",
    "This section is where the rubber meets the road.  In it you must:\n",
    "1. Explore at least 3 prediction modeling approaches for each prediction question, ranging from the simple (e.g. linear regression, KNN) to the complex (e.g. SVM, random forests, Lasso).  \n",
    "2. Motivate all your modeling decisions.  This includes parameter choices (e.g., how many folds in k-fold cross validation, what time window you use for averaging your data) as well as model form (e.g., If you use regression trees, why?  If you include nonlinear features in a regression model, why?). \n",
    "1. Carefully describe your cross validation and model selection process.  You should partition your data into training and testing data sets.  The training data set is what you use for cross-validation (i.e. you sample from within it to create folds, etc.).  The testing data set is held to the very end of your efforts, and used to compare qualitatively different models (e.g. OLS vs random forests).\n",
    "4. Very carefully document your workflow.  We will be reading a lot of projects, so we need you to explain each basic step in your analysis.  \n",
    "5. Seek opportunities to write functions allow you to avoid doing things over and over, and that make your code more succinct and readable. "
   ]
  },
  {
   "cell_type": "markdown",
   "metadata": {},
   "source": [
    "### Question 1: Predicting air quality measurements near methane emitter sources \n",
    "##### **To use as a feature for prediction questions 2 & 3**\n",
    "We'd like to use air quality as a feature in our model; however, we don't have air quality measurements at the exact location of our emitter points. Therefore, we'll use K Nearest Neighbors to predict air quality at our emitter points, and use these predictions as a feature for our main prediction questions. "
   ]
  },
  {
   "cell_type": "markdown",
   "metadata": {},
   "source": [
    "#### K Nearest Neighbors \n",
    "First, we'll load in our Airnow data and our Feature/target dataset. We'll dig into all our features in the following section; for now, we'll focus ..."
   ]
  },
  {
   "cell_type": "markdown",
   "metadata": {},
   "source": [
    "### Question 2: Predicting ground-level methane emissions throughout California\n",
    "\n",
    "With the lack of facility level measurements, air monitor network sensors, and regulation of methane in the United States, it was imperative to develop a model that could predict ground measurements of CH<sub>4</sub>. Using studies like the Novotony et al. (2011) as a basis, we decided to go about this prediction using OLS, Lasso, and Ridge."
   ]
  },
  {
   "cell_type": "markdown",
   "metadata": {},
   "source": [
    "#### Overview of our dataset"
   ]
  },
  {
   "cell_type": "code",
   "execution_count": 2,
   "metadata": {},
   "outputs": [],
   "source": [
    "gdf = gpd.read_file('output/target_and_features_AQ.geojson')"
   ]
  },
  {
   "cell_type": "markdown",
   "metadata": {},
   "source": [
    "First let's double check our geodataframe."
   ]
  },
  {
   "cell_type": "code",
   "execution_count": 3,
   "metadata": {},
   "outputs": [
    {
     "data": {
      "text/plain": [
       "(48386, 70)"
      ]
     },
     "execution_count": 3,
     "metadata": {},
     "output_type": "execute_result"
    }
   ],
   "source": [
    "gdf.shape"
   ]
  },
  {
   "cell_type": "code",
   "execution_count": 4,
   "metadata": {},
   "outputs": [
    {
     "data": {
      "text/html": [
       "<div>\n",
       "<style scoped>\n",
       "    .dataframe tbody tr th:only-of-type {\n",
       "        vertical-align: middle;\n",
       "    }\n",
       "\n",
       "    .dataframe tbody tr th {\n",
       "        vertical-align: top;\n",
       "    }\n",
       "\n",
       "    .dataframe thead th {\n",
       "        text-align: right;\n",
       "    }\n",
       "</style>\n",
       "<table border=\"1\" class=\"dataframe\">\n",
       "  <thead>\n",
       "    <tr style=\"text-align: right;\">\n",
       "      <th></th>\n",
       "      <th>Vista_ID</th>\n",
       "      <th>AVIRIS_CH4_median_ppmm</th>\n",
       "      <th>AVIRIS_CH4_median_date</th>\n",
       "      <th>AVIRIS_CH4_pxcount</th>\n",
       "      <th>CH4_Mass_kg</th>\n",
       "      <th>ng_pipelength_2</th>\n",
       "      <th>ng_pipelength_1000</th>\n",
       "      <th>ng_pipelength_5000</th>\n",
       "      <th>ng_pipelength_10000</th>\n",
       "      <th>ng_pipelength_50000</th>\n",
       "      <th>...</th>\n",
       "      <th>aviris_month</th>\n",
       "      <th>tropomi_no2_mean</th>\n",
       "      <th>tropomi_o3_mean</th>\n",
       "      <th>tropomi_so2_mean</th>\n",
       "      <th>aviris_year</th>\n",
       "      <th>PM10</th>\n",
       "      <th>OZONE</th>\n",
       "      <th>PM2.5</th>\n",
       "      <th>NO2</th>\n",
       "      <th>geometry</th>\n",
       "    </tr>\n",
       "  </thead>\n",
       "  <tbody>\n",
       "    <tr>\n",
       "      <th>0</th>\n",
       "      <td>DAF001852</td>\n",
       "      <td>152.0039</td>\n",
       "      <td>2016-09-11</td>\n",
       "      <td>835.7500</td>\n",
       "      <td>0.0001</td>\n",
       "      <td>6392.1007</td>\n",
       "      <td>7391.6466</td>\n",
       "      <td>16539.2553</td>\n",
       "      <td>57707.9384</td>\n",
       "      <td>667538.8408</td>\n",
       "      <td>...</td>\n",
       "      <td>9</td>\n",
       "      <td>0.0</td>\n",
       "      <td>2.7501</td>\n",
       "      <td>0.3199</td>\n",
       "      <td>2016</td>\n",
       "      <td>51.724377</td>\n",
       "      <td>54.575650</td>\n",
       "      <td>12.110008</td>\n",
       "      <td>12.352775</td>\n",
       "      <td>MULTIPOLYGON (((-82488.739 -16790.579, -82489....</td>\n",
       "    </tr>\n",
       "    <tr>\n",
       "      <th>1</th>\n",
       "      <td>DAF001876</td>\n",
       "      <td>111.8814</td>\n",
       "      <td>2016-09-12</td>\n",
       "      <td>1670.0000</td>\n",
       "      <td>0.0001</td>\n",
       "      <td>85884.6586</td>\n",
       "      <td>94127.2287</td>\n",
       "      <td>127492.1839</td>\n",
       "      <td>170899.8068</td>\n",
       "      <td>842878.1810</td>\n",
       "      <td>...</td>\n",
       "      <td>9</td>\n",
       "      <td>0.0</td>\n",
       "      <td>2.7094</td>\n",
       "      <td>0.4187</td>\n",
       "      <td>2016</td>\n",
       "      <td>123.754870</td>\n",
       "      <td>54.635442</td>\n",
       "      <td>12.016291</td>\n",
       "      <td>17.446938</td>\n",
       "      <td>MULTIPOLYGON (((260247.391 -342212.585, 260246...</td>\n",
       "    </tr>\n",
       "    <tr>\n",
       "      <th>2</th>\n",
       "      <td>DAF001759</td>\n",
       "      <td>244.1223</td>\n",
       "      <td>2016-09-12</td>\n",
       "      <td>3346.0000</td>\n",
       "      <td>0.0002</td>\n",
       "      <td>18873.8279</td>\n",
       "      <td>21161.2918</td>\n",
       "      <td>29954.3051</td>\n",
       "      <td>43939.1783</td>\n",
       "      <td>334243.8826</td>\n",
       "      <td>...</td>\n",
       "      <td>9</td>\n",
       "      <td>0.0</td>\n",
       "      <td>2.6972</td>\n",
       "      <td>0.3413</td>\n",
       "      <td>2016</td>\n",
       "      <td>122.085898</td>\n",
       "      <td>58.867722</td>\n",
       "      <td>12.210585</td>\n",
       "      <td>17.895675</td>\n",
       "      <td>MULTIPOLYGON (((61647.033 -234595.348, 61646.1...</td>\n",
       "    </tr>\n",
       "    <tr>\n",
       "      <th>3</th>\n",
       "      <td>DAF001767</td>\n",
       "      <td>112.7884</td>\n",
       "      <td>2016-09-12</td>\n",
       "      <td>1114.6667</td>\n",
       "      <td>0.0001</td>\n",
       "      <td>0.0000</td>\n",
       "      <td>0.0000</td>\n",
       "      <td>0.0000</td>\n",
       "      <td>6753.5702</td>\n",
       "      <td>336951.9840</td>\n",
       "      <td>...</td>\n",
       "      <td>9</td>\n",
       "      <td>0.0</td>\n",
       "      <td>2.6981</td>\n",
       "      <td>0.3361</td>\n",
       "      <td>2016</td>\n",
       "      <td>101.719890</td>\n",
       "      <td>54.932985</td>\n",
       "      <td>13.713212</td>\n",
       "      <td>23.538732</td>\n",
       "      <td>MULTIPOLYGON (((45304.763 -224578.476, 45303.9...</td>\n",
       "    </tr>\n",
       "    <tr>\n",
       "      <th>4</th>\n",
       "      <td>DAF001776</td>\n",
       "      <td>105.4107</td>\n",
       "      <td>2016-09-12</td>\n",
       "      <td>1216.2727</td>\n",
       "      <td>0.0001</td>\n",
       "      <td>0.0000</td>\n",
       "      <td>0.0000</td>\n",
       "      <td>0.0000</td>\n",
       "      <td>0.0000</td>\n",
       "      <td>264800.5901</td>\n",
       "      <td>...</td>\n",
       "      <td>9</td>\n",
       "      <td>0.0</td>\n",
       "      <td>2.7004</td>\n",
       "      <td>0.3429</td>\n",
       "      <td>2016</td>\n",
       "      <td>101.719890</td>\n",
       "      <td>54.932985</td>\n",
       "      <td>13.713212</td>\n",
       "      <td>23.313427</td>\n",
       "      <td>MULTIPOLYGON (((39551.942 -203816.734, 39551.1...</td>\n",
       "    </tr>\n",
       "  </tbody>\n",
       "</table>\n",
       "<p>5 rows × 70 columns</p>\n",
       "</div>"
      ],
      "text/plain": [
       "    Vista_ID  AVIRIS_CH4_median_ppmm AVIRIS_CH4_median_date  \\\n",
       "0  DAF001852                152.0039             2016-09-11   \n",
       "1  DAF001876                111.8814             2016-09-12   \n",
       "2  DAF001759                244.1223             2016-09-12   \n",
       "3  DAF001767                112.7884             2016-09-12   \n",
       "4  DAF001776                105.4107             2016-09-12   \n",
       "\n",
       "   AVIRIS_CH4_pxcount  CH4_Mass_kg  ng_pipelength_2  ng_pipelength_1000  \\\n",
       "0            835.7500       0.0001        6392.1007           7391.6466   \n",
       "1           1670.0000       0.0001       85884.6586          94127.2287   \n",
       "2           3346.0000       0.0002       18873.8279          21161.2918   \n",
       "3           1114.6667       0.0001           0.0000              0.0000   \n",
       "4           1216.2727       0.0001           0.0000              0.0000   \n",
       "\n",
       "   ng_pipelength_5000  ng_pipelength_10000  ng_pipelength_50000  ...  \\\n",
       "0          16539.2553           57707.9384          667538.8408  ...   \n",
       "1         127492.1839          170899.8068          842878.1810  ...   \n",
       "2          29954.3051           43939.1783          334243.8826  ...   \n",
       "3              0.0000            6753.5702          336951.9840  ...   \n",
       "4              0.0000               0.0000          264800.5901  ...   \n",
       "\n",
       "   aviris_month  tropomi_no2_mean  tropomi_o3_mean  tropomi_so2_mean  \\\n",
       "0             9               0.0           2.7501            0.3199   \n",
       "1             9               0.0           2.7094            0.4187   \n",
       "2             9               0.0           2.6972            0.3413   \n",
       "3             9               0.0           2.6981            0.3361   \n",
       "4             9               0.0           2.7004            0.3429   \n",
       "\n",
       "   aviris_year        PM10      OZONE      PM2.5        NO2  \\\n",
       "0         2016   51.724377  54.575650  12.110008  12.352775   \n",
       "1         2016  123.754870  54.635442  12.016291  17.446938   \n",
       "2         2016  122.085898  58.867722  12.210585  17.895675   \n",
       "3         2016  101.719890  54.932985  13.713212  23.538732   \n",
       "4         2016  101.719890  54.932985  13.713212  23.313427   \n",
       "\n",
       "                                            geometry  \n",
       "0  MULTIPOLYGON (((-82488.739 -16790.579, -82489....  \n",
       "1  MULTIPOLYGON (((260247.391 -342212.585, 260246...  \n",
       "2  MULTIPOLYGON (((61647.033 -234595.348, 61646.1...  \n",
       "3  MULTIPOLYGON (((45304.763 -224578.476, 45303.9...  \n",
       "4  MULTIPOLYGON (((39551.942 -203816.734, 39551.1...  \n",
       "\n",
       "[5 rows x 70 columns]"
      ]
     },
     "execution_count": 4,
     "metadata": {},
     "output_type": "execute_result"
    }
   ],
   "source": [
    "#First, we'll look at the dataframe that contains the data we'll use to create our model.\n",
    "gdf.head()"
   ]
  },
  {
   "cell_type": "code",
   "execution_count": 5,
   "metadata": {},
   "outputs": [
    {
     "data": {
      "text/plain": [
       "Index(['Vista_ID', 'AVIRIS_CH4_median_ppmm', 'AVIRIS_CH4_median_date',\n",
       "       'AVIRIS_CH4_pxcount', 'CH4_Mass_kg', 'ng_pipelength_2',\n",
       "       'ng_pipelength_1000', 'ng_pipelength_5000', 'ng_pipelength_10000',\n",
       "       'ng_pipelength_50000', 'weighted_cow_density', 'LULC_open_water_perc',\n",
       "       'LULC_ice_snow_perc', 'LULC_developed_open_space_perc',\n",
       "       'LULC_developed_low_int_perc', 'LULC_developed_med_int_perc',\n",
       "       'LULC_developed_high_int_perc', 'LULC_barren_land_perc',\n",
       "       'LULC_deciduous_forest_perc', 'LULC_evergreen_forest_perc',\n",
       "       'LULC_mixed_forest_perc', 'LULC_shrub_scrub_perc',\n",
       "       'LULC_grassland_herbaceous_perc', 'LULC_pasture_hay_perc',\n",
       "       'LULC_cultivated_crops_perc', 'LULC_woody_wetlands_perc',\n",
       "       'LULC_emergent_herbaceous_wetlands_perc', 'LULC_total_perc',\n",
       "       'LULC_majority_class', 'LULC_Barren.Land', 'LULC_Cultivated.Crops',\n",
       "       'LULC_Dev..Low.Int', 'LULC_Dev..Med.Int', 'LULC_Dev..Open.Space',\n",
       "       'LULC_Evergreen.Forest', 'LULC_Grassland', 'LULC_Herbaceous.Wetlands',\n",
       "       'LULC_Mixed.Forest', 'LULC_Open.Water', 'LULC_Pasture.Hay',\n",
       "       'LULC_Shrub.Scrub', 'EmitterType_Composting.Sites',\n",
       "       'EmitterType_Compressed.Natural.Gas.Fueling.Station',\n",
       "       'EmitterType_Dairy', 'EmitterType_Digester', 'EmitterType_Feed.Lot',\n",
       "       'EmitterType_Landfill',\n",
       "       'EmitterType_Liquefied.Natural.Gas.Fueling.Station',\n",
       "       'EmitterType_Natural.Gas.Processing.Plants',\n",
       "       'EmitterType_Natural.Gas.Station',\n",
       "       'EmitterType_Natural.Gas.Storage.Field',\n",
       "       'EmitterType_Oil.and.Gas.Facility.Boundary',\n",
       "       'EmitterType_Oil.and.Gas.Field.Boundary',\n",
       "       'EmitterType_Oil.and.Gas.Well', 'EmitterType_Power.Plant',\n",
       "       'EmitterType_Refinery', 'EmitterType_Wastewater.Treatment.Plant',\n",
       "       'NearestNeighbor', 'NN_Distance_m', 'NN_Type', 'aviris_month',\n",
       "       'tropomi_no2_mean', 'tropomi_o3_mean', 'tropomi_so2_mean',\n",
       "       'aviris_year', 'PM10', 'OZONE', 'PM2.5', 'NO2', 'geometry'],\n",
       "      dtype='object')"
      ]
     },
     "execution_count": 5,
     "metadata": {},
     "output_type": "execute_result"
    }
   ],
   "source": [
    "gdf.columns"
   ]
  },
  {
   "cell_type": "markdown",
   "metadata": {},
   "source": [
    "Before we dive into dividing up our data into features and our y variable, let's double check our variables like looking at our summary statistics."
   ]
  },
  {
   "cell_type": "code",
   "execution_count": 6,
   "metadata": {
    "scrolled": true
   },
   "outputs": [
    {
     "name": "stdout",
     "output_type": "stream",
     "text": [
      "count          48386\n",
      "unique            68\n",
      "top       2017-10-06\n",
      "freq            6814\n",
      "Name: AVIRIS_CH4_median_date, dtype: object\n",
      "count    48386.000000\n",
      "mean       156.687344\n",
      "std         64.226277\n",
      "min        100.001800\n",
      "25%        118.497575\n",
      "50%        139.909150\n",
      "75%        175.603850\n",
      "max       2057.326500\n",
      "Name: AVIRIS_CH4_median_ppmm, dtype: float64\n",
      "count    4.838200e+04\n",
      "mean     1.599713e+03\n",
      "std      1.467527e+04\n",
      "min      1.989200e-06\n",
      "25%      6.960505e+02\n",
      "50%      1.025500e+03\n",
      "75%      1.381344e+03\n",
      "max      1.956112e+06\n",
      "Name: AVIRIS_CH4_pxcount, dtype: float64\n",
      "count    48386.000000\n",
      "mean         0.000114\n",
      "std          0.000045\n",
      "min          0.000100\n",
      "25%          0.000100\n",
      "50%          0.000100\n",
      "75%          0.000100\n",
      "max          0.001500\n",
      "Name: CH4_Mass_kg, dtype: float64\n",
      "count    48386.000000\n",
      "mean         0.000517\n",
      "std          0.022725\n",
      "min          0.000000\n",
      "25%          0.000000\n",
      "50%          0.000000\n",
      "75%          0.000000\n",
      "max          1.000000\n",
      "Name: EmitterType_Composting.Sites, dtype: float64\n",
      "count    48386.000000\n",
      "mean         0.002997\n",
      "std          0.054661\n",
      "min          0.000000\n",
      "25%          0.000000\n",
      "50%          0.000000\n",
      "75%          0.000000\n",
      "max          1.000000\n",
      "Name: EmitterType_Compressed.Natural.Gas.Fueling.Station, dtype: float64\n",
      "count    48386.000000\n",
      "mean         0.005539\n",
      "std          0.074217\n",
      "min          0.000000\n",
      "25%          0.000000\n",
      "50%          0.000000\n",
      "75%          0.000000\n",
      "max          1.000000\n",
      "Name: EmitterType_Dairy, dtype: float64\n",
      "count    48386.000000\n",
      "mean         0.000207\n",
      "std          0.014375\n",
      "min          0.000000\n",
      "25%          0.000000\n",
      "50%          0.000000\n",
      "75%          0.000000\n",
      "max          1.000000\n",
      "Name: EmitterType_Digester, dtype: float64\n",
      "count    48386.000000\n",
      "mean         0.000165\n",
      "std          0.012857\n",
      "min          0.000000\n",
      "25%          0.000000\n",
      "50%          0.000000\n",
      "75%          0.000000\n",
      "max          1.000000\n",
      "Name: EmitterType_Feed.Lot, dtype: float64\n",
      "count    48386.000000\n",
      "mean         0.000909\n",
      "std          0.030142\n",
      "min          0.000000\n",
      "25%          0.000000\n",
      "50%          0.000000\n",
      "75%          0.000000\n",
      "max          1.000000\n",
      "Name: EmitterType_Landfill, dtype: float64\n",
      "count    48386.000000\n",
      "mean         0.000207\n",
      "std          0.014375\n",
      "min          0.000000\n",
      "25%          0.000000\n",
      "50%          0.000000\n",
      "75%          0.000000\n",
      "max          1.000000\n",
      "Name: EmitterType_Liquefied.Natural.Gas.Fueling.Station, dtype: float64\n",
      "count    48386.000000\n",
      "mean         0.000083\n",
      "std          0.009092\n",
      "min          0.000000\n",
      "25%          0.000000\n",
      "50%          0.000000\n",
      "75%          0.000000\n",
      "max          1.000000\n",
      "Name: EmitterType_Natural.Gas.Processing.Plants, dtype: float64\n",
      "count    48386.000000\n",
      "mean         0.001757\n",
      "std          0.041877\n",
      "min          0.000000\n",
      "25%          0.000000\n",
      "50%          0.000000\n",
      "75%          0.000000\n",
      "max          1.000000\n",
      "Name: EmitterType_Natural.Gas.Station, dtype: float64\n",
      "count    48386.000000\n",
      "mean         0.000041\n",
      "std          0.006429\n",
      "min          0.000000\n",
      "25%          0.000000\n",
      "50%          0.000000\n",
      "75%          0.000000\n",
      "max          1.000000\n",
      "Name: EmitterType_Natural.Gas.Storage.Field, dtype: float64\n",
      "count    48386.000000\n",
      "mean         0.011532\n",
      "std          0.106768\n",
      "min          0.000000\n",
      "25%          0.000000\n",
      "50%          0.000000\n",
      "75%          0.000000\n",
      "max          1.000000\n",
      "Name: EmitterType_Oil.and.Gas.Facility.Boundary, dtype: float64\n",
      "count    48386.000000\n",
      "mean         0.000889\n",
      "std          0.029798\n",
      "min          0.000000\n",
      "25%          0.000000\n",
      "50%          0.000000\n",
      "75%          0.000000\n",
      "max          1.000000\n",
      "Name: EmitterType_Oil.and.Gas.Field.Boundary, dtype: float64\n",
      "count    48386.000000\n",
      "mean         0.973939\n",
      "std          0.159319\n",
      "min          0.000000\n",
      "25%          1.000000\n",
      "50%          1.000000\n",
      "75%          1.000000\n",
      "max          1.000000\n",
      "Name: EmitterType_Oil.and.Gas.Well, dtype: float64\n",
      "count    48386.000000\n",
      "mean         0.000930\n",
      "std          0.030482\n",
      "min          0.000000\n",
      "25%          0.000000\n",
      "50%          0.000000\n",
      "75%          0.000000\n",
      "max          1.000000\n",
      "Name: EmitterType_Power.Plant, dtype: float64\n",
      "count    48386.000000\n",
      "mean         0.000186\n",
      "std          0.013637\n",
      "min          0.000000\n",
      "25%          0.000000\n",
      "50%          0.000000\n",
      "75%          0.000000\n",
      "max          1.000000\n",
      "Name: EmitterType_Refinery, dtype: float64\n",
      "count    48386.000000\n",
      "mean         0.000103\n",
      "std          0.010165\n",
      "min          0.000000\n",
      "25%          0.000000\n",
      "50%          0.000000\n",
      "75%          0.000000\n",
      "max          1.000000\n",
      "Name: EmitterType_Wastewater.Treatment.Plant, dtype: float64\n",
      "count    48386.0\n",
      "mean         0.0\n",
      "std          0.0\n",
      "min          0.0\n",
      "25%          0.0\n",
      "50%          0.0\n",
      "75%          0.0\n",
      "max          0.0\n",
      "Name: LULC_Barren.Land, dtype: float64\n",
      "count    48386.000000\n",
      "mean         0.044042\n",
      "std          0.205190\n",
      "min          0.000000\n",
      "25%          0.000000\n",
      "50%          0.000000\n",
      "75%          0.000000\n",
      "max          1.000000\n",
      "Name: LULC_Cultivated.Crops, dtype: float64\n",
      "count    48386.000000\n",
      "mean         0.000021\n",
      "std          0.004546\n",
      "min          0.000000\n",
      "25%          0.000000\n",
      "50%          0.000000\n",
      "75%          0.000000\n",
      "max          1.000000\n",
      "Name: LULC_Dev..Low.Int, dtype: float64\n",
      "count    48386.000000\n",
      "mean         0.131319\n",
      "std          0.337752\n",
      "min          0.000000\n",
      "25%          0.000000\n",
      "50%          0.000000\n",
      "75%          0.000000\n",
      "max          1.000000\n",
      "Name: LULC_Dev..Med.Int, dtype: float64\n",
      "count    48386.0\n",
      "mean         0.0\n",
      "std          0.0\n",
      "min          0.0\n",
      "25%          0.0\n",
      "50%          0.0\n",
      "75%          0.0\n",
      "max          0.0\n",
      "Name: LULC_Dev..Open.Space, dtype: float64\n",
      "count    48386.0\n",
      "mean         0.0\n",
      "std          0.0\n",
      "min          0.0\n",
      "25%          0.0\n",
      "50%          0.0\n",
      "75%          0.0\n",
      "max          0.0\n",
      "Name: LULC_Evergreen.Forest, dtype: float64\n",
      "count    48386.000000\n",
      "mean         0.738003\n",
      "std          0.439726\n",
      "min          0.000000\n",
      "25%          0.000000\n",
      "50%          1.000000\n",
      "75%          1.000000\n",
      "max          1.000000\n",
      "Name: LULC_Grassland, dtype: float64\n",
      "count    48386.0\n",
      "mean         0.0\n",
      "std          0.0\n",
      "min          0.0\n",
      "25%          0.0\n",
      "50%          0.0\n",
      "75%          0.0\n",
      "max          0.0\n",
      "Name: LULC_Herbaceous.Wetlands, dtype: float64\n",
      "count    48386.000000\n",
      "mean         0.000062\n",
      "std          0.007874\n",
      "min          0.000000\n",
      "25%          0.000000\n",
      "50%          0.000000\n",
      "75%          0.000000\n",
      "max          1.000000\n",
      "Name: LULC_Mixed.Forest, dtype: float64\n",
      "count    48386.000000\n",
      "mean         0.056545\n",
      "std          0.230974\n",
      "min          0.000000\n",
      "25%          0.000000\n",
      "50%          0.000000\n",
      "75%          0.000000\n",
      "max          1.000000\n",
      "Name: LULC_Open.Water, dtype: float64\n",
      "count    48386.0\n",
      "mean         0.0\n",
      "std          0.0\n",
      "min          0.0\n",
      "25%          0.0\n",
      "50%          0.0\n",
      "75%          0.0\n",
      "max          0.0\n",
      "Name: LULC_Pasture.Hay, dtype: float64\n",
      "count    48386.000000\n",
      "mean         0.030009\n",
      "std          0.170613\n",
      "min          0.000000\n",
      "25%          0.000000\n",
      "50%          0.000000\n",
      "75%          0.000000\n",
      "max          1.000000\n",
      "Name: LULC_Shrub.Scrub, dtype: float64\n",
      "count    48386.000000\n",
      "mean         0.006061\n",
      "std          0.003993\n",
      "min          0.000000\n",
      "25%          0.003300\n",
      "50%          0.005200\n",
      "75%          0.008600\n",
      "max          0.169800\n",
      "Name: LULC_barren_land_perc, dtype: float64\n",
      "count    48386.000000\n",
      "mean         0.141973\n",
      "std          0.188784\n",
      "min          0.000000\n",
      "25%          0.001300\n",
      "50%          0.049000\n",
      "75%          0.305450\n",
      "max          0.960700\n",
      "Name: LULC_cultivated_crops_perc, dtype: float64\n",
      "count    48386.000000\n",
      "mean         0.000004\n",
      "std          0.000074\n",
      "min          0.000000\n",
      "25%          0.000000\n",
      "50%          0.000000\n",
      "75%          0.000000\n",
      "max          0.007200\n",
      "Name: LULC_deciduous_forest_perc, dtype: float64\n",
      "count    48386.000000\n",
      "mean         0.054245\n",
      "std          0.087391\n",
      "min          0.000000\n",
      "25%          0.000600\n",
      "50%          0.001900\n",
      "75%          0.059700\n",
      "max          0.342600\n",
      "Name: LULC_developed_high_int_perc, dtype: float64\n",
      "count    48386.000000\n",
      "mean         0.046787\n",
      "std          0.041233\n",
      "min          0.000400\n",
      "25%          0.013300\n",
      "50%          0.020000\n",
      "75%          0.078300\n",
      "max          0.292900\n",
      "Name: LULC_developed_low_int_perc, dtype: float64\n",
      "count    48386.000000\n",
      "mean         0.113717\n",
      "std          0.146478\n",
      "min          0.000000\n",
      "25%          0.002400\n",
      "50%          0.015900\n",
      "75%          0.191900\n",
      "max          0.573700\n",
      "Name: LULC_developed_med_int_perc, dtype: float64\n",
      "count    48386.000000\n",
      "mean         0.100941\n",
      "std          0.040895\n",
      "min          0.007000\n",
      "25%          0.064900\n",
      "50%          0.117100\n",
      "75%          0.131200\n",
      "max          0.173600\n",
      "Name: LULC_developed_open_space_perc, dtype: float64\n",
      "count    48386.000000\n",
      "mean         0.002025\n",
      "std          0.006401\n",
      "min          0.000000\n",
      "25%          0.000100\n",
      "50%          0.000300\n",
      "75%          0.002800\n",
      "max          0.303200\n",
      "Name: LULC_emergent_herbaceous_wetlands_perc, dtype: float64\n",
      "count    48386.000000\n",
      "mean         0.000894\n",
      "std          0.007273\n",
      "min          0.000000\n",
      "25%          0.000000\n",
      "50%          0.000000\n",
      "75%          0.000000\n",
      "max          0.225100\n",
      "Name: LULC_evergreen_forest_perc, dtype: float64\n",
      "count    48386.000000\n",
      "mean         0.433615\n",
      "std          0.258420\n",
      "min          0.000000\n",
      "25%          0.322950\n",
      "50%          0.481600\n",
      "75%          0.646400\n",
      "max          0.965600\n",
      "Name: LULC_grassland_herbaceous_perc, dtype: float64\n",
      "count    48386.0\n",
      "mean         0.0\n",
      "std          0.0\n",
      "min          0.0\n",
      "25%          0.0\n",
      "50%          0.0\n",
      "75%          0.0\n",
      "max          0.0\n",
      "Name: LULC_ice_snow_perc, dtype: float64\n",
      "count         48386\n",
      "unique            7\n",
      "top       Grassland\n",
      "freq          35709\n",
      "Name: LULC_majority_class, dtype: object\n",
      "count    48386.000000\n",
      "mean         0.000567\n",
      "std          0.004151\n",
      "min          0.000000\n",
      "25%          0.000000\n",
      "50%          0.000000\n",
      "75%          0.000000\n",
      "max          0.306700\n",
      "Name: LULC_mixed_forest_perc, dtype: float64\n",
      "count    48386.000000\n",
      "mean         0.043871\n",
      "std          0.103629\n",
      "min          0.000000\n",
      "25%          0.000800\n",
      "50%          0.002200\n",
      "75%          0.005700\n",
      "max          0.634000\n",
      "Name: LULC_open_water_perc, dtype: float64\n",
      "count    48386.000000\n",
      "mean         0.003414\n",
      "std          0.003868\n",
      "min          0.000000\n",
      "25%          0.000300\n",
      "50%          0.001900\n",
      "75%          0.006400\n",
      "max          0.125500\n",
      "Name: LULC_pasture_hay_perc, dtype: float64\n",
      "count    48386.000000\n",
      "mean         0.049901\n",
      "std          0.083757\n",
      "min          0.000000\n",
      "25%          0.011500\n",
      "50%          0.015400\n",
      "75%          0.082600\n",
      "max          0.861800\n",
      "Name: LULC_shrub_scrub_perc, dtype: float64\n",
      "count    48386.0\n",
      "mean         1.0\n",
      "std          0.0\n",
      "min          1.0\n",
      "25%          1.0\n",
      "50%          1.0\n",
      "75%          1.0\n",
      "max          1.0\n",
      "Name: LULC_total_perc, dtype: float64\n",
      "count    48386.000000\n",
      "mean         0.001981\n",
      "std          0.003355\n",
      "min          0.000000\n",
      "25%          0.000000\n",
      "50%          0.000008\n",
      "75%          0.003300\n",
      "max          0.036500\n",
      "Name: LULC_woody_wetlands_perc, dtype: float64\n",
      "count    48386.000000\n",
      "mean        47.596438\n",
      "std        129.939011\n",
      "min          0.000007\n",
      "25%          9.222100\n",
      "50%         20.313450\n",
      "75%         41.128600\n",
      "max       4638.269300\n",
      "Name: NN_Distance_m, dtype: float64\n",
      "count                48386\n",
      "unique                  15\n",
      "top       Oil and Gas Well\n",
      "freq                 47116\n",
      "Name: NN_Type, dtype: object\n",
      "count    48386.000000\n",
      "mean        13.642164\n",
      "std          7.896102\n",
      "min          3.369688\n",
      "25%          6.955166\n",
      "50%         10.099150\n",
      "75%         20.442581\n",
      "max         57.000000\n",
      "Name: NO2, dtype: float64\n"
     ]
    },
    {
     "name": "stdout",
     "output_type": "stream",
     "text": [
      "count         48386\n",
      "unique        36594\n",
      "top       CNG000146\n",
      "freq             66\n",
      "Name: NearestNeighbor, dtype: object\n",
      "count    48386.000000\n",
      "mean        57.958220\n",
      "std          5.592101\n",
      "min         16.693314\n",
      "25%         53.920130\n",
      "50%         58.474669\n",
      "75%         62.297128\n",
      "max         74.467024\n",
      "Name: OZONE, dtype: float64\n",
      "count    48386.000000\n",
      "mean        59.675186\n",
      "std         22.288055\n",
      "min         18.673698\n",
      "25%         43.612839\n",
      "50%         50.975047\n",
      "75%         61.950983\n",
      "max        126.087255\n",
      "Name: PM10, dtype: float64\n",
      "count    48386.000000\n",
      "mean        12.321104\n",
      "std          3.619949\n",
      "min          4.226510\n",
      "25%         11.212030\n",
      "50%         11.464943\n",
      "75%         12.817249\n",
      "max         39.957154\n",
      "Name: PM2.5, dtype: float64\n",
      "count     48386.000000\n",
      "mean      62872.637413\n",
      "std       44574.359268\n",
      "min           0.000000\n",
      "25%       18229.814000\n",
      "50%       68453.731200\n",
      "75%      103679.856725\n",
      "max      322848.647800\n",
      "Name: ng_pipelength_1000, dtype: float64\n",
      "count     48386.000000\n",
      "mean     149817.532686\n",
      "std       65688.589231\n",
      "min           0.000000\n",
      "25%       87779.029900\n",
      "50%      145708.899750\n",
      "75%      207446.824875\n",
      "max      488252.893300\n",
      "Name: ng_pipelength_10000, dtype: float64\n",
      "count     48386.000000\n",
      "mean      55764.459811\n",
      "std       40529.407169\n",
      "min           0.000000\n",
      "25%       15155.542525\n",
      "50%       62322.057500\n",
      "75%       90334.474875\n",
      "max      306774.473800\n",
      "Name: ng_pipelength_2, dtype: float64\n",
      "count     48386.000000\n",
      "mean      98025.327231\n",
      "std       54108.397959\n",
      "min           0.000000\n",
      "25%       43379.119175\n",
      "50%       94272.863250\n",
      "75%      145890.502600\n",
      "max      407257.449700\n",
      "Name: ng_pipelength_5000, dtype: float64\n",
      "count    4.838600e+04\n",
      "mean     6.732928e+05\n",
      "std      1.962214e+05\n",
      "min      8.534565e+04\n",
      "25%      5.248433e+05\n",
      "50%      6.270600e+05\n",
      "75%      8.988837e+05\n",
      "max      1.209238e+06\n",
      "Name: ng_pipelength_50000, dtype: float64\n",
      "count    48386.000000\n",
      "mean         0.000020\n",
      "std          0.000041\n",
      "min          0.000000\n",
      "25%          0.000000\n",
      "50%          0.000000\n",
      "75%          0.000000\n",
      "max          0.000300\n",
      "Name: tropomi_no2_mean, dtype: float64\n",
      "count    48386.000000\n",
      "mean         2.719907\n",
      "std          0.138131\n",
      "min          2.496800\n",
      "25%          2.688000\n",
      "50%          2.697300\n",
      "75%          2.738275\n",
      "max          3.354800\n",
      "Name: tropomi_o3_mean, dtype: float64\n",
      "count    48386.000000\n",
      "mean         0.338749\n",
      "std          0.032017\n",
      "min          0.192100\n",
      "25%          0.311900\n",
      "50%          0.344800\n",
      "75%          0.356700\n",
      "max          0.586900\n",
      "Name: tropomi_so2_mean, dtype: float64\n",
      "count    48386.000000\n",
      "mean        13.382441\n",
      "std          9.434782\n",
      "min          0.048100\n",
      "25%         13.165050\n",
      "50%         16.253000\n",
      "75%         16.253000\n",
      "max        112.176800\n",
      "Name: weighted_cow_density, dtype: float64\n"
     ]
    }
   ],
   "source": [
    "columns_of_interest = np.setdiff1d(list(gdf.columns),['Vista_ID', 'aviris_month','aviris_year','geometry'])\n",
    "\n",
    "for column in columns_of_interest:\n",
    "    print(gdf[column].describe())"
   ]
  },
  {
   "cell_type": "markdown",
   "metadata": {},
   "source": [
    "Most of our variables aren't objects, but a few are. We'll make sure to note which ones these are and then exclude them from being features."
   ]
  },
  {
   "cell_type": "code",
   "execution_count": 7,
   "metadata": {
    "scrolled": false
   },
   "outputs": [
    {
     "data": {
      "text/html": [
       "<div>\n",
       "<style scoped>\n",
       "    .dataframe tbody tr th:only-of-type {\n",
       "        vertical-align: middle;\n",
       "    }\n",
       "\n",
       "    .dataframe tbody tr th {\n",
       "        vertical-align: top;\n",
       "    }\n",
       "\n",
       "    .dataframe thead th {\n",
       "        text-align: right;\n",
       "    }\n",
       "</style>\n",
       "<table border=\"1\" class=\"dataframe\">\n",
       "  <thead>\n",
       "    <tr style=\"text-align: right;\">\n",
       "      <th></th>\n",
       "      <th>Vista_ID</th>\n",
       "      <th>AVIRIS_CH4_median_date</th>\n",
       "      <th>LULC_majority_class</th>\n",
       "      <th>NearestNeighbor</th>\n",
       "      <th>NN_Type</th>\n",
       "    </tr>\n",
       "  </thead>\n",
       "  <tbody>\n",
       "    <tr>\n",
       "      <th>0</th>\n",
       "      <td>DAF001852</td>\n",
       "      <td>2016-09-11</td>\n",
       "      <td>Cultivated Crops</td>\n",
       "      <td>DAF000658</td>\n",
       "      <td>Dairy</td>\n",
       "    </tr>\n",
       "    <tr>\n",
       "      <th>1</th>\n",
       "      <td>DAF001876</td>\n",
       "      <td>2016-09-12</td>\n",
       "      <td>Shrub Scrub</td>\n",
       "      <td>COM000219</td>\n",
       "      <td>Natural Gas Station</td>\n",
       "    </tr>\n",
       "    <tr>\n",
       "      <th>2</th>\n",
       "      <td>DAF001759</td>\n",
       "      <td>2016-09-12</td>\n",
       "      <td>Cultivated Crops</td>\n",
       "      <td>DAF000910</td>\n",
       "      <td>Dairy</td>\n",
       "    </tr>\n",
       "    <tr>\n",
       "      <th>3</th>\n",
       "      <td>DAF001767</td>\n",
       "      <td>2016-09-12</td>\n",
       "      <td>Cultivated Crops</td>\n",
       "      <td>OGW166989</td>\n",
       "      <td>Oil and Gas Well</td>\n",
       "    </tr>\n",
       "    <tr>\n",
       "      <th>4</th>\n",
       "      <td>DAF001776</td>\n",
       "      <td>2016-09-12</td>\n",
       "      <td>Cultivated Crops</td>\n",
       "      <td>FDL000024</td>\n",
       "      <td>Feed Lot</td>\n",
       "    </tr>\n",
       "  </tbody>\n",
       "</table>\n",
       "</div>"
      ],
      "text/plain": [
       "    Vista_ID AVIRIS_CH4_median_date LULC_majority_class NearestNeighbor  \\\n",
       "0  DAF001852             2016-09-11    Cultivated Crops       DAF000658   \n",
       "1  DAF001876             2016-09-12         Shrub Scrub       COM000219   \n",
       "2  DAF001759             2016-09-12    Cultivated Crops       DAF000910   \n",
       "3  DAF001767             2016-09-12    Cultivated Crops       OGW166989   \n",
       "4  DAF001776             2016-09-12    Cultivated Crops       FDL000024   \n",
       "\n",
       "               NN_Type  \n",
       "0                Dairy  \n",
       "1  Natural Gas Station  \n",
       "2                Dairy  \n",
       "3     Oil and Gas Well  \n",
       "4             Feed Lot  "
      ]
     },
     "execution_count": 7,
     "metadata": {},
     "output_type": "execute_result"
    }
   ],
   "source": [
    "gdf.select_dtypes(include='object').head()"
   ]
  },
  {
   "cell_type": "markdown",
   "metadata": {},
   "source": [
    "We also have some hot encoded variables that are just 0s. We can omit those."
   ]
  },
  {
   "cell_type": "code",
   "execution_count": 8,
   "metadata": {},
   "outputs": [
    {
     "name": "stdout",
     "output_type": "stream",
     "text": [
      "['LULC_Barren.Land', 'LULC_Dev..Open.Space', 'LULC_Evergreen.Forest', 'LULC_Herbaceous.Wetlands', 'LULC_Pasture.Hay', 'LULC_ice_snow_perc']\n"
     ]
    }
   ],
   "source": [
    "columns_of_interest = np.setdiff1d(list(gdf.columns),['Vista_ID', 'aviris_month','aviris_year','geometry'])\n",
    "\n",
    "vars_0 = [column for column in columns_of_interest if len(gdf[column].unique())==1 and gdf[column].unique()==0]\n",
    "print(vars_0)"
   ]
  },
  {
   "cell_type": "markdown",
   "metadata": {},
   "source": [
    "Our data is comprised of features from various sources. These can be categorized on whether they are categorical or quantitative, which you will find in the following table.\n",
    "\n",
    "\n",
    "| Response Variable | Quantitative Feature | Categorical Feature |\n",
    "| --- | --- | --- |\n",
    "|`CH4_Mass_kg`|`ng_pipelength_2`|`LULC_Cultivated.Crops`|\n",
    "||`ng_pipelength_1000`|`LULC_Dev..Low.Int`|\n",
    "||`ng_pipelength_5000`|`LULC_Dev..Med.Int`|\n",
    "||`ng_pipelength_10000`|`LULC_Grassland`|\n",
    "||`ng_pipelength_50000`|`LULC_Open.Water`|\n",
    "||`weighted_cow_density`|`LULC_Shrub.Scrub`|\n",
    "||`LULC_open_water_perc`|`LULC_Mixed.Forest`|\n",
    "||`LULC_developed_open_space_perc`|`EmitterType_Composting.Sites`|\n",
    "||`LULC_developed_low_int_perc`|`EmitterType_Compressed.Natural.Gas.Fueling.Station`|\n",
    "||`LULC_developed_med_int_perc`|`EmitterType_Dairy`|\n",
    "||`LULC_developed_high_int_perc`|`EmitterType_Digester`|\n",
    "||`LULC_barren_land_perc`|`EmitterType_Feed.Lot`|\n",
    "||`LULC_deciduous_forest_perc`|`EmitterType_Landfill`|\n",
    "||`LULC_evergreen_forest_perc`|`EmitterType_Liquefied.Natural.Gas.Fueling.Station`|\n",
    "||`LULC_mixed_forest_perc`|`EmitterType_Natural.Gas.Processing.Plants`|\n",
    "||`LULC_shrub_scrub_perc`|`EmitterType_Natural.Gas.Station`|\n",
    "||`LULC_grassland_herbaceous_perc`|`EmitterType_Natural.Gas.Storage.Field`|\n",
    "||`LULC_pasture_hay_perc`|`EmitterType_Oil.and.Gas.Facility.Boundary`|\n",
    "||`LULC_cultivated_crops_perc`|`EmitterType_Oil.and.Gas.Field.Boundary`|\n",
    "||`LULC_woody_wetlands_perc`|`EmitterType_Oil.and.Gas.Well`|\n",
    "||`LULC_emergent_herbaceous_wetlands_perc`|`EmitterType_Power.Plant`|\n",
    "||`LULC_total_perc`|`EmitterType_Refinery`|\n",
    "||`NN_Distance_m`|`EmitterType_Wastewater.Treatment.Plant`|\n",
    "||`tropomi_no2_mean`|\n",
    "||`tropomi_o3_mean`\n",
    "||`tropomi_so2_mean`|\n",
    "||`PM2.5`|\n",
    "||`PM10`|\n",
    "||`OZONE`|\n",
    "||`NO2`|"
   ]
  },
  {
   "cell_type": "markdown",
   "metadata": {},
   "source": [
    "We'll double check if any of our rows have missing values."
   ]
  },
  {
   "cell_type": "code",
   "execution_count": 9,
   "metadata": {},
   "outputs": [
    {
     "data": {
      "text/plain": [
       "0    48382\n",
       "1        4\n",
       "dtype: int64"
      ]
     },
     "execution_count": 9,
     "metadata": {},
     "output_type": "execute_result"
    }
   ],
   "source": [
    "np.sum(gdf.isna(),axis=1).value_counts()"
   ]
  },
  {
   "cell_type": "markdown",
   "metadata": {},
   "source": [
    "It seems that the maximum value of missing values for a single row is 1. Let's see what variable may be the root of this."
   ]
  },
  {
   "cell_type": "code",
   "execution_count": 10,
   "metadata": {},
   "outputs": [
    {
     "data": {
      "text/plain": [
       "AVIRIS_CH4_pxcount                        4\n",
       "geometry                                  0\n",
       "LULC_woody_wetlands_perc                  0\n",
       "LULC_evergreen_forest_perc                0\n",
       "LULC_mixed_forest_perc                    0\n",
       "LULC_shrub_scrub_perc                     0\n",
       "LULC_grassland_herbaceous_perc            0\n",
       "LULC_pasture_hay_perc                     0\n",
       "LULC_cultivated_crops_perc                0\n",
       "LULC_emergent_herbaceous_wetlands_perc    0\n",
       "dtype: int64"
      ]
     },
     "execution_count": 10,
     "metadata": {},
     "output_type": "execute_result"
    }
   ],
   "source": [
    "np.sum(gdf.isna(),axis=0).sort_values(ascending=False)[:10]"
   ]
  },
  {
   "cell_type": "markdown",
   "metadata": {},
   "source": [
    "Since the pixel count is not a feature, we can ignore this and say that our data is complete to conduct our prediction.\n",
    "\n",
    "Finally, we're interested in seeing how the CH4 emissions vary by feature type. We'll plot a histogram of emissions level by each emitter type. Before running our model. "
   ]
  },
  {
   "cell_type": "code",
   "execution_count": 11,
   "metadata": {},
   "outputs": [
    {
     "name": "stdout",
     "output_type": "stream",
     "text": [
      "['EmitterType_Composting.Sites', 'EmitterType_Compressed.Natural.Gas.Fueling.Station', 'EmitterType_Dairy', 'EmitterType_Digester', 'EmitterType_Feed.Lot', 'EmitterType_Landfill', 'EmitterType_Liquefied.Natural.Gas.Fueling.Station', 'EmitterType_Natural.Gas.Processing.Plants', 'EmitterType_Natural.Gas.Station', 'EmitterType_Natural.Gas.Storage.Field', 'EmitterType_Oil.and.Gas.Facility.Boundary', 'EmitterType_Oil.and.Gas.Field.Boundary', 'EmitterType_Oil.and.Gas.Well', 'EmitterType_Power.Plant', 'EmitterType_Refinery', 'EmitterType_Wastewater.Treatment.Plant']\n"
     ]
    }
   ],
   "source": [
    "col_emitter_type = [col for col in gdf if col.startswith('Emitter')]\n",
    "print(col_emitter_type)"
   ]
  },
  {
   "cell_type": "code",
   "execution_count": 12,
   "metadata": {},
   "outputs": [
    {
     "data": {
      "text/plain": [
       "0.0001    42747\n",
       "0.0002     4949\n",
       "0.0003      452\n",
       "0.0004      141\n",
       "0.0005       61\n",
       "0.0006       19\n",
       "0.0007        6\n",
       "0.0009        5\n",
       "0.0008        2\n",
       "0.0014        2\n",
       "0.0015        1\n",
       "0.0010        1\n",
       "Name: CH4_Mass_kg, dtype: int64"
      ]
     },
     "execution_count": 12,
     "metadata": {},
     "output_type": "execute_result"
    }
   ],
   "source": [
    "gdf['CH4_Mass_kg'].value_counts()"
   ]
  },
  {
   "cell_type": "code",
   "execution_count": 13,
   "metadata": {
    "scrolled": false
   },
   "outputs": [
    {
     "data": {
      "image/png": "[encoded data removed]",
      "text/plain": [
       "<Figure size 504x3600 with 16 Axes>"
      ]
     },
     "metadata": {
      "needs_background": "light"
     },
     "output_type": "display_data"
    }
   ],
   "source": [
    "#Plot histogram of emissions level by each emitter type. \n",
    "fig, ax = plt.subplots(nrows = len(col_emitter_type), figsize = (7, 50))\n",
    "\n",
    "for j, col in enumerate(col_emitter_type):\n",
    "    data = gdf[['CH4_Mass_kg',col]]\n",
    "    data = data.loc[data[col]==1]\n",
    "    ax[j].hist(data['CH4_Mass_kg'], bins = 30)\n",
    "    ax[j].set_title(str(col))\n",
    "    ax[j].set_xlabel('CH4 Mass (kg)')\n",
    "    ax[j].set_ylabel('Count')\n",
    "plt.tight_layout()"
   ]
  },
  {
   "cell_type": "markdown",
   "metadata": {},
   "source": [
    "#### Step 1: Train/Test Split\n",
    "\n",
    "We'll first split our data into training (80%) and testing data (20%). \n",
    "The testing data will be used to evaluate how each our models perform.\n",
    "\n",
    "We'll also drop one of the dummy columns from each of the sets of categorical variables. We'll drop `LULC_Shrub.Scrub` and `EmitterType_Wastewater.Treatment.Plant`"
   ]
  },
  {
   "cell_type": "code",
   "execution_count": 14,
   "metadata": {},
   "outputs": [],
   "source": [
    "#We'll need to create a dataframe of our X variables (features), and our y variable\n",
    "features = np.setdiff1d(list(gdf.columns),\n",
    "                        ['Vista_ID', 'AVIRIS_CH4_median_date','AVIRIS_CH4_pxcount', \n",
    "                         'CH4_Mass_kg','LULC_majority_class','NearestNeighbor',\n",
    "                         'AVIRIS_CH4_median_ppmm','NN_Type','aviris_month', 'aviris_year','geometry', \n",
    "                        'LULC_Shrub.Scrub', 'EmitterType_Wastewater.Treatment.Plant'] + vars_0 )\n",
    "\n",
    "X = gdf[features]\n",
    "Y = gdf['CH4_Mass_kg']"
   ]
  },
  {
   "cell_type": "code",
   "execution_count": 15,
   "metadata": {},
   "outputs": [],
   "source": [
    "#Create train/test split \n",
    "X_train, X_test, y_train, y_test = train_test_split(X, Y, test_size = 0.2, random_state = 15)"
   ]
  },
  {
   "cell_type": "markdown",
   "metadata": {},
   "source": [
    "Standardization is an important step in using Ridge and Lasso models to ensure that all features are put on the same scale, since these models penalize large coefficients. We'll also create a train/test split for our standardized features, with the same random_state to ensure we have the same split as above. "
   ]
  },
  {
   "cell_type": "code",
   "execution_count": 16,
   "metadata": {},
   "outputs": [],
   "source": [
    "#Standardize features\n",
    "scalar = StandardScaler()\n",
    "scalar.fit(X)\n",
    "X_std = scalar.transform(X)"
   ]
  },
  {
   "cell_type": "code",
   "execution_count": 17,
   "metadata": {},
   "outputs": [],
   "source": [
    "#Create train/test split with standardized features\n",
    "X_std_train, X_std_test, y_std_train, y_std_test = train_test_split(X_std, Y, test_size = 0.2, random_state = 15)"
   ]
  },
  {
   "cell_type": "markdown",
   "metadata": {},
   "source": [
    "\n",
    "\n",
    "We will use `X_train` and `y_train` to fit each of our models in the sections below, and `X_test` and `y_test` to compare between models once we have fit the parameters and hyperparameters of each model. "
   ]
  },
  {
   "cell_type": "markdown",
   "metadata": {},
   "source": [
    "#### Model 1: Ordinary Least Squares Regression\n",
    "To begin, we'll use Ordinary Least Squares Linear regression.\n",
    "\n",
    "We'll start by using `statsmodels` to fit the model on our training data, as this package provides more detailed statistical information about linear regression models. This will allow us to examine statistics such as R-squared and the P-value for each of our coefficients. \n",
    "\n",
    "We'll then run the model in `scikit learn` on both our testing and training data. "
   ]
  },
  {
   "cell_type": "code",
   "execution_count": 18,
   "metadata": {
    "scrolled": false
   },
   "outputs": [
    {
     "data": {
      "text/html": [
       "<table class=\"simpletable\">\n",
       "<caption>OLS Regression Results</caption>\n",
       "<tr>\n",
       "  <th>Dep. Variable:</th>       <td>CH4_Mass_kg</td>   <th>  R-squared:         </th>  <td>   0.027</td> \n",
       "</tr>\n",
       "<tr>\n",
       "  <th>Model:</th>                   <td>OLS</td>       <th>  Adj. R-squared:    </th>  <td>   0.026</td> \n",
       "</tr>\n",
       "<tr>\n",
       "  <th>Method:</th>             <td>Least Squares</td>  <th>  F-statistic:       </th>  <td>   21.55</td> \n",
       "</tr>\n",
       "<tr>\n",
       "  <th>Date:</th>             <td>Sun, 13 Dec 2020</td> <th>  Prob (F-statistic):</th>  <td>5.94e-190</td>\n",
       "</tr>\n",
       "<tr>\n",
       "  <th>Time:</th>                 <td>18:39:53</td>     <th>  Log-Likelihood:    </th> <td>3.3278e+05</td>\n",
       "</tr>\n",
       "<tr>\n",
       "  <th>No. Observations:</th>      <td> 38708</td>      <th>  AIC:               </th> <td>-6.655e+05</td>\n",
       "</tr>\n",
       "<tr>\n",
       "  <th>Df Residuals:</th>          <td> 38657</td>      <th>  BIC:               </th> <td>-6.650e+05</td>\n",
       "</tr>\n",
       "<tr>\n",
       "  <th>Df Model:</th>              <td>    50</td>      <th>                     </th>      <td> </td>    \n",
       "</tr>\n",
       "<tr>\n",
       "  <th>Covariance Type:</th>      <td>nonrobust</td>    <th>                     </th>      <td> </td>    \n",
       "</tr>\n",
       "</table>\n",
       "<table class=\"simpletable\">\n",
       "<tr>\n",
       "                           <td></td>                             <th>coef</th>     <th>std err</th>      <th>t</th>      <th>P>|t|</th>  <th>[0.025</th>    <th>0.975]</th>  \n",
       "</tr>\n",
       "<tr>\n",
       "  <th>EmitterType_Composting.Sites</th>                       <td>-1.552e-05</td> <td> 2.44e-05</td> <td>   -0.635</td> <td> 0.525</td> <td>-6.34e-05</td> <td> 3.23e-05</td>\n",
       "</tr>\n",
       "<tr>\n",
       "  <th>EmitterType_Compressed.Natural.Gas.Fueling.Station</th> <td>-3.009e-05</td> <td> 2.28e-05</td> <td>   -1.319</td> <td> 0.187</td> <td>-7.48e-05</td> <td> 1.46e-05</td>\n",
       "</tr>\n",
       "<tr>\n",
       "  <th>EmitterType_Dairy</th>                                  <td>-1.021e-05</td> <td> 2.28e-05</td> <td>   -0.448</td> <td> 0.655</td> <td>-5.49e-05</td> <td> 3.45e-05</td>\n",
       "</tr>\n",
       "<tr>\n",
       "  <th>EmitterType_Digester</th>                               <td>-2.705e-05</td> <td> 2.81e-05</td> <td>   -0.962</td> <td> 0.336</td> <td>-8.22e-05</td> <td> 2.81e-05</td>\n",
       "</tr>\n",
       "<tr>\n",
       "  <th>EmitterType_Feed.Lot</th>                               <td>-1.438e-05</td> <td> 2.82e-05</td> <td>   -0.510</td> <td> 0.610</td> <td>-6.96e-05</td> <td> 4.08e-05</td>\n",
       "</tr>\n",
       "<tr>\n",
       "  <th>EmitterType_Landfill</th>                               <td>-3.601e-05</td> <td> 2.36e-05</td> <td>   -1.526</td> <td> 0.127</td> <td>-8.23e-05</td> <td> 1.02e-05</td>\n",
       "</tr>\n",
       "<tr>\n",
       "  <th>EmitterType_Liquefied.Natural.Gas.Fueling.Station</th>  <td>-3.146e-05</td> <td> 2.89e-05</td> <td>   -1.089</td> <td> 0.276</td> <td>-8.81e-05</td> <td> 2.52e-05</td>\n",
       "</tr>\n",
       "<tr>\n",
       "  <th>EmitterType_Natural.Gas.Processing.Plants</th>          <td> -1.83e-05</td> <td> 3.16e-05</td> <td>   -0.578</td> <td> 0.563</td> <td>-8.03e-05</td> <td> 4.37e-05</td>\n",
       "</tr>\n",
       "<tr>\n",
       "  <th>EmitterType_Natural.Gas.Station</th>                    <td>-3.715e-05</td> <td>  2.3e-05</td> <td>   -1.617</td> <td> 0.106</td> <td>-8.22e-05</td> <td> 7.89e-06</td>\n",
       "</tr>\n",
       "<tr>\n",
       "  <th>EmitterType_Natural.Gas.Storage.Field</th>              <td>-4.111e-05</td> <td> 3.88e-05</td> <td>   -1.061</td> <td> 0.289</td> <td>   -0.000</td> <td> 3.49e-05</td>\n",
       "</tr>\n",
       "<tr>\n",
       "  <th>EmitterType_Oil.and.Gas.Facility.Boundary</th>          <td>-2.784e-05</td> <td> 2.25e-05</td> <td>   -1.239</td> <td> 0.215</td> <td>-7.19e-05</td> <td> 1.62e-05</td>\n",
       "</tr>\n",
       "<tr>\n",
       "  <th>EmitterType_Oil.and.Gas.Field.Boundary</th>             <td> -3.95e-05</td> <td> 2.37e-05</td> <td>   -1.667</td> <td> 0.095</td> <td>-8.59e-05</td> <td> 6.93e-06</td>\n",
       "</tr>\n",
       "<tr>\n",
       "  <th>EmitterType_Oil.and.Gas.Well</th>                       <td>-3.098e-05</td> <td> 2.24e-05</td> <td>   -1.385</td> <td> 0.166</td> <td>-7.48e-05</td> <td> 1.29e-05</td>\n",
       "</tr>\n",
       "<tr>\n",
       "  <th>EmitterType_Power.Plant</th>                            <td>-2.244e-05</td> <td> 2.35e-05</td> <td>   -0.955</td> <td> 0.339</td> <td>-6.85e-05</td> <td> 2.36e-05</td>\n",
       "</tr>\n",
       "<tr>\n",
       "  <th>EmitterType_Refinery</th>                               <td>-4.265e-05</td> <td> 2.74e-05</td> <td>   -1.556</td> <td> 0.120</td> <td>-9.64e-05</td> <td> 1.11e-05</td>\n",
       "</tr>\n",
       "<tr>\n",
       "  <th>LULC_Cultivated.Crops</th>                              <td> 1.767e-05</td> <td> 5.36e-06</td> <td>    3.297</td> <td> 0.001</td> <td> 7.17e-06</td> <td> 2.82e-05</td>\n",
       "</tr>\n",
       "<tr>\n",
       "  <th>LULC_Dev..Low.Int</th>                                  <td>-3.539e-05</td> <td> 4.49e-05</td> <td>   -0.788</td> <td> 0.431</td> <td>   -0.000</td> <td> 5.27e-05</td>\n",
       "</tr>\n",
       "<tr>\n",
       "  <th>LULC_Dev..Med.Int</th>                                  <td> 1.014e-05</td> <td> 4.46e-06</td> <td>    2.275</td> <td> 0.023</td> <td>  1.4e-06</td> <td> 1.89e-05</td>\n",
       "</tr>\n",
       "<tr>\n",
       "  <th>LULC_Grassland</th>                                     <td> 1.666e-05</td> <td> 5.31e-06</td> <td>    3.137</td> <td> 0.002</td> <td> 6.25e-06</td> <td> 2.71e-05</td>\n",
       "</tr>\n",
       "<tr>\n",
       "  <th>LULC_Mixed.Forest</th>                                  <td>    0.0002</td> <td> 4.44e-05</td> <td>    4.198</td> <td> 0.000</td> <td> 9.93e-05</td> <td>    0.000</td>\n",
       "</tr>\n",
       "<tr>\n",
       "  <th>LULC_Open.Water</th>                                    <td> 8.083e-06</td> <td> 4.63e-06</td> <td>    1.745</td> <td> 0.081</td> <td>-9.95e-07</td> <td> 1.72e-05</td>\n",
       "</tr>\n",
       "<tr>\n",
       "  <th>LULC_barren_land_perc</th>                              <td>    0.0018</td> <td>    0.002</td> <td>    0.799</td> <td> 0.424</td> <td>   -0.003</td> <td>    0.006</td>\n",
       "</tr>\n",
       "<tr>\n",
       "  <th>LULC_cultivated_crops_perc</th>                         <td>    0.0022</td> <td>    0.002</td> <td>    0.934</td> <td> 0.350</td> <td>   -0.002</td> <td>    0.007</td>\n",
       "</tr>\n",
       "<tr>\n",
       "  <th>LULC_deciduous_forest_perc</th>                         <td>    0.0114</td> <td>    0.004</td> <td>    2.552</td> <td> 0.011</td> <td>    0.003</td> <td>    0.020</td>\n",
       "</tr>\n",
       "<tr>\n",
       "  <th>LULC_developed_high_int_perc</th>                       <td>    0.0023</td> <td>    0.002</td> <td>    0.977</td> <td> 0.329</td> <td>   -0.002</td> <td>    0.007</td>\n",
       "</tr>\n",
       "<tr>\n",
       "  <th>LULC_developed_low_int_perc</th>                        <td>    0.0023</td> <td>    0.002</td> <td>    0.994</td> <td> 0.320</td> <td>   -0.002</td> <td>    0.007</td>\n",
       "</tr>\n",
       "<tr>\n",
       "  <th>LULC_developed_med_int_perc</th>                        <td>    0.0021</td> <td>    0.002</td> <td>    0.906</td> <td> 0.365</td> <td>   -0.002</td> <td>    0.007</td>\n",
       "</tr>\n",
       "<tr>\n",
       "  <th>LULC_developed_open_space_perc</th>                     <td>    0.0021</td> <td>    0.002</td> <td>    0.917</td> <td> 0.359</td> <td>   -0.002</td> <td>    0.007</td>\n",
       "</tr>\n",
       "<tr>\n",
       "  <th>LULC_emergent_herbaceous_wetlands_perc</th>             <td>    0.0021</td> <td>    0.002</td> <td>    0.899</td> <td> 0.369</td> <td>   -0.002</td> <td>    0.007</td>\n",
       "</tr>\n",
       "<tr>\n",
       "  <th>LULC_evergreen_forest_perc</th>                         <td>    0.0021</td> <td>    0.002</td> <td>    0.920</td> <td> 0.357</td> <td>   -0.002</td> <td>    0.007</td>\n",
       "</tr>\n",
       "<tr>\n",
       "  <th>LULC_grassland_herbaceous_perc</th>                     <td>    0.0022</td> <td>    0.002</td> <td>    0.929</td> <td> 0.353</td> <td>   -0.002</td> <td>    0.007</td>\n",
       "</tr>\n",
       "<tr>\n",
       "  <th>LULC_mixed_forest_perc</th>                             <td>    0.0022</td> <td>    0.002</td> <td>    0.963</td> <td> 0.336</td> <td>   -0.002</td> <td>    0.007</td>\n",
       "</tr>\n",
       "<tr>\n",
       "  <th>LULC_open_water_perc</th>                               <td>    0.0022</td> <td>    0.002</td> <td>    0.935</td> <td> 0.350</td> <td>   -0.002</td> <td>    0.007</td>\n",
       "</tr>\n",
       "<tr>\n",
       "  <th>LULC_pasture_hay_perc</th>                              <td>    0.0020</td> <td>    0.002</td> <td>    0.880</td> <td> 0.379</td> <td>   -0.003</td> <td>    0.007</td>\n",
       "</tr>\n",
       "<tr>\n",
       "  <th>LULC_shrub_scrub_perc</th>                              <td>    0.0022</td> <td>    0.002</td> <td>    0.957</td> <td> 0.339</td> <td>   -0.002</td> <td>    0.007</td>\n",
       "</tr>\n",
       "<tr>\n",
       "  <th>LULC_total_perc</th>                                    <td>   -0.0020</td> <td>    0.002</td> <td>   -0.851</td> <td> 0.395</td> <td>   -0.007</td> <td>    0.003</td>\n",
       "</tr>\n",
       "<tr>\n",
       "  <th>LULC_woody_wetlands_perc</th>                           <td>    0.0033</td> <td>    0.002</td> <td>    1.440</td> <td> 0.150</td> <td>   -0.001</td> <td>    0.008</td>\n",
       "</tr>\n",
       "<tr>\n",
       "  <th>NN_Distance_m</th>                                      <td> 8.841e-09</td> <td> 2.31e-09</td> <td>    3.819</td> <td> 0.000</td> <td>  4.3e-09</td> <td> 1.34e-08</td>\n",
       "</tr>\n",
       "<tr>\n",
       "  <th>NO2</th>                                                <td> 5.081e-08</td> <td> 5.45e-08</td> <td>    0.932</td> <td> 0.351</td> <td> -5.6e-08</td> <td> 1.58e-07</td>\n",
       "</tr>\n",
       "<tr>\n",
       "  <th>OZONE</th>                                              <td>  4.64e-07</td> <td> 8.96e-08</td> <td>    5.176</td> <td> 0.000</td> <td> 2.88e-07</td> <td>  6.4e-07</td>\n",
       "</tr>\n",
       "<tr>\n",
       "  <th>PM10</th>                                               <td>-1.142e-07</td> <td> 1.71e-08</td> <td>   -6.687</td> <td> 0.000</td> <td>-1.48e-07</td> <td>-8.07e-08</td>\n",
       "</tr>\n",
       "<tr>\n",
       "  <th>PM2.5</th>                                              <td> 3.221e-07</td> <td> 8.79e-08</td> <td>    3.665</td> <td> 0.000</td> <td>  1.5e-07</td> <td> 4.94e-07</td>\n",
       "</tr>\n",
       "<tr>\n",
       "  <th>ng_pipelength_1000</th>                                 <td> 7.495e-11</td> <td> 8.65e-11</td> <td>    0.866</td> <td> 0.386</td> <td>-9.46e-11</td> <td> 2.45e-10</td>\n",
       "</tr>\n",
       "<tr>\n",
       "  <th>ng_pipelength_10000</th>                                <td> 1.358e-10</td> <td> 2.26e-11</td> <td>    5.999</td> <td> 0.000</td> <td> 9.15e-11</td> <td>  1.8e-10</td>\n",
       "</tr>\n",
       "<tr>\n",
       "  <th>ng_pipelength_2</th>                                    <td> 1.401e-10</td> <td> 7.95e-11</td> <td>    1.762</td> <td> 0.078</td> <td>-1.57e-11</td> <td> 2.96e-10</td>\n",
       "</tr>\n",
       "<tr>\n",
       "  <th>ng_pipelength_5000</th>                                 <td>-2.827e-10</td> <td> 3.54e-11</td> <td>   -7.995</td> <td> 0.000</td> <td>-3.52e-10</td> <td>-2.13e-10</td>\n",
       "</tr>\n",
       "<tr>\n",
       "  <th>ng_pipelength_50000</th>                                <td>-2.048e-11</td> <td>    4e-12</td> <td>   -5.119</td> <td> 0.000</td> <td>-2.83e-11</td> <td>-1.26e-11</td>\n",
       "</tr>\n",
       "<tr>\n",
       "  <th>tropomi_no2_mean</th>                                   <td>   -0.1384</td> <td>    0.019</td> <td>   -7.141</td> <td> 0.000</td> <td>   -0.176</td> <td>   -0.100</td>\n",
       "</tr>\n",
       "<tr>\n",
       "  <th>tropomi_o3_mean</th>                                    <td>-1.535e-05</td> <td> 3.23e-06</td> <td>   -4.753</td> <td> 0.000</td> <td>-2.17e-05</td> <td>-9.02e-06</td>\n",
       "</tr>\n",
       "<tr>\n",
       "  <th>tropomi_so2_mean</th>                                   <td>-9.739e-05</td> <td> 1.31e-05</td> <td>   -7.422</td> <td> 0.000</td> <td>   -0.000</td> <td>-7.17e-05</td>\n",
       "</tr>\n",
       "<tr>\n",
       "  <th>weighted_cow_density</th>                               <td> 4.039e-08</td> <td>  5.7e-08</td> <td>    0.709</td> <td> 0.479</td> <td>-7.13e-08</td> <td> 1.52e-07</td>\n",
       "</tr>\n",
       "</table>\n",
       "<table class=\"simpletable\">\n",
       "<tr>\n",
       "  <th>Omnibus:</th>       <td>47100.937</td> <th>  Durbin-Watson:     </th>   <td>   2.005</td>  \n",
       "</tr>\n",
       "<tr>\n",
       "  <th>Prob(Omnibus):</th>  <td> 0.000</td>   <th>  Jarque-Bera (JB):  </th> <td>14288536.207</td>\n",
       "</tr>\n",
       "<tr>\n",
       "  <th>Skew:</th>           <td> 6.273</td>   <th>  Prob(JB):          </th>   <td>    0.00</td>  \n",
       "</tr>\n",
       "<tr>\n",
       "  <th>Kurtosis:</th>       <td>96.284</td>   <th>  Cond. No.          </th>   <td>6.25e+10</td>  \n",
       "</tr>\n",
       "</table><br/><br/>Warnings:<br/>[1] Standard Errors assume that the covariance matrix of the errors is correctly specified.<br/>[2] The condition number is large, 6.25e+10. This might indicate that there are<br/>strong multicollinearity or other numerical problems."
      ],
      "text/plain": [
       "<class 'statsmodels.iolib.summary.Summary'>\n",
       "\"\"\"\n",
       "                            OLS Regression Results                            \n",
       "==============================================================================\n",
       "Dep. Variable:            CH4_Mass_kg   R-squared:                       0.027\n",
       "Model:                            OLS   Adj. R-squared:                  0.026\n",
       "Method:                 Least Squares   F-statistic:                     21.55\n",
       "Date:                Sun, 13 Dec 2020   Prob (F-statistic):          5.94e-190\n",
       "Time:                        18:39:53   Log-Likelihood:             3.3278e+05\n",
       "No. Observations:               38708   AIC:                        -6.655e+05\n",
       "Df Residuals:                   38657   BIC:                        -6.650e+05\n",
       "Df Model:                          50                                         \n",
       "Covariance Type:            nonrobust                                         \n",
       "======================================================================================================================\n",
       "                                                         coef    std err          t      P>|t|      [0.025      0.975]\n",
       "----------------------------------------------------------------------------------------------------------------------\n",
       "EmitterType_Composting.Sites                       -1.552e-05   2.44e-05     -0.635      0.525   -6.34e-05    3.23e-05\n",
       "EmitterType_Compressed.Natural.Gas.Fueling.Station -3.009e-05   2.28e-05     -1.319      0.187   -7.48e-05    1.46e-05\n",
       "EmitterType_Dairy                                  -1.021e-05   2.28e-05     -0.448      0.655   -5.49e-05    3.45e-05\n",
       "EmitterType_Digester                               -2.705e-05   2.81e-05     -0.962      0.336   -8.22e-05    2.81e-05\n",
       "EmitterType_Feed.Lot                               -1.438e-05   2.82e-05     -0.510      0.610   -6.96e-05    4.08e-05\n",
       "EmitterType_Landfill                               -3.601e-05   2.36e-05     -1.526      0.127   -8.23e-05    1.02e-05\n",
       "EmitterType_Liquefied.Natural.Gas.Fueling.Station  -3.146e-05   2.89e-05     -1.089      0.276   -8.81e-05    2.52e-05\n",
       "EmitterType_Natural.Gas.Processing.Plants           -1.83e-05   3.16e-05     -0.578      0.563   -8.03e-05    4.37e-05\n",
       "EmitterType_Natural.Gas.Station                    -3.715e-05    2.3e-05     -1.617      0.106   -8.22e-05    7.89e-06\n",
       "EmitterType_Natural.Gas.Storage.Field              -4.111e-05   3.88e-05     -1.061      0.289      -0.000    3.49e-05\n",
       "EmitterType_Oil.and.Gas.Facility.Boundary          -2.784e-05   2.25e-05     -1.239      0.215   -7.19e-05    1.62e-05\n",
       "EmitterType_Oil.and.Gas.Field.Boundary              -3.95e-05   2.37e-05     -1.667      0.095   -8.59e-05    6.93e-06\n",
       "EmitterType_Oil.and.Gas.Well                       -3.098e-05   2.24e-05     -1.385      0.166   -7.48e-05    1.29e-05\n",
       "EmitterType_Power.Plant                            -2.244e-05   2.35e-05     -0.955      0.339   -6.85e-05    2.36e-05\n",
       "EmitterType_Refinery                               -4.265e-05   2.74e-05     -1.556      0.120   -9.64e-05    1.11e-05\n",
       "LULC_Cultivated.Crops                               1.767e-05   5.36e-06      3.297      0.001    7.17e-06    2.82e-05\n",
       "LULC_Dev..Low.Int                                  -3.539e-05   4.49e-05     -0.788      0.431      -0.000    5.27e-05\n",
       "LULC_Dev..Med.Int                                   1.014e-05   4.46e-06      2.275      0.023     1.4e-06    1.89e-05\n",
       "LULC_Grassland                                      1.666e-05   5.31e-06      3.137      0.002    6.25e-06    2.71e-05\n",
       "LULC_Mixed.Forest                                      0.0002   4.44e-05      4.198      0.000    9.93e-05       0.000\n",
       "LULC_Open.Water                                     8.083e-06   4.63e-06      1.745      0.081   -9.95e-07    1.72e-05\n",
       "LULC_barren_land_perc                                  0.0018      0.002      0.799      0.424      -0.003       0.006\n",
       "LULC_cultivated_crops_perc                             0.0022      0.002      0.934      0.350      -0.002       0.007\n",
       "LULC_deciduous_forest_perc                             0.0114      0.004      2.552      0.011       0.003       0.020\n",
       "LULC_developed_high_int_perc                           0.0023      0.002      0.977      0.329      -0.002       0.007\n",
       "LULC_developed_low_int_perc                            0.0023      0.002      0.994      0.320      -0.002       0.007\n",
       "LULC_developed_med_int_perc                            0.0021      0.002      0.906      0.365      -0.002       0.007\n",
       "LULC_developed_open_space_perc                         0.0021      0.002      0.917      0.359      -0.002       0.007\n",
       "LULC_emergent_herbaceous_wetlands_perc                 0.0021      0.002      0.899      0.369      -0.002       0.007\n",
       "LULC_evergreen_forest_perc                             0.0021      0.002      0.920      0.357      -0.002       0.007\n",
       "LULC_grassland_herbaceous_perc                         0.0022      0.002      0.929      0.353      -0.002       0.007\n",
       "LULC_mixed_forest_perc                                 0.0022      0.002      0.963      0.336      -0.002       0.007\n",
       "LULC_open_water_perc                                   0.0022      0.002      0.935      0.350      -0.002       0.007\n",
       "LULC_pasture_hay_perc                                  0.0020      0.002      0.880      0.379      -0.003       0.007\n",
       "LULC_shrub_scrub_perc                                  0.0022      0.002      0.957      0.339      -0.002       0.007\n",
       "LULC_total_perc                                       -0.0020      0.002     -0.851      0.395      -0.007       0.003\n",
       "LULC_woody_wetlands_perc                               0.0033      0.002      1.440      0.150      -0.001       0.008\n",
       "NN_Distance_m                                       8.841e-09   2.31e-09      3.819      0.000     4.3e-09    1.34e-08\n",
       "NO2                                                 5.081e-08   5.45e-08      0.932      0.351    -5.6e-08    1.58e-07\n",
       "OZONE                                                4.64e-07   8.96e-08      5.176      0.000    2.88e-07     6.4e-07\n",
       "PM10                                               -1.142e-07   1.71e-08     -6.687      0.000   -1.48e-07   -8.07e-08\n",
       "PM2.5                                               3.221e-07   8.79e-08      3.665      0.000     1.5e-07    4.94e-07\n",
       "ng_pipelength_1000                                  7.495e-11   8.65e-11      0.866      0.386   -9.46e-11    2.45e-10\n",
       "ng_pipelength_10000                                 1.358e-10   2.26e-11      5.999      0.000    9.15e-11     1.8e-10\n",
       "ng_pipelength_2                                     1.401e-10   7.95e-11      1.762      0.078   -1.57e-11    2.96e-10\n",
       "ng_pipelength_5000                                 -2.827e-10   3.54e-11     -7.995      0.000   -3.52e-10   -2.13e-10\n",
       "ng_pipelength_50000                                -2.048e-11      4e-12     -5.119      0.000   -2.83e-11   -1.26e-11\n",
       "tropomi_no2_mean                                      -0.1384      0.019     -7.141      0.000      -0.176      -0.100\n",
       "tropomi_o3_mean                                    -1.535e-05   3.23e-06     -4.753      0.000   -2.17e-05   -9.02e-06\n",
       "tropomi_so2_mean                                   -9.739e-05   1.31e-05     -7.422      0.000      -0.000   -7.17e-05\n",
       "weighted_cow_density                                4.039e-08    5.7e-08      0.709      0.479   -7.13e-08    1.52e-07\n",
       "==============================================================================\n",
       "Omnibus:                    47100.937   Durbin-Watson:                   2.005\n",
       "Prob(Omnibus):                  0.000   Jarque-Bera (JB):         14288536.207\n",
       "Skew:                           6.273   Prob(JB):                         0.00\n",
       "Kurtosis:                      96.284   Cond. No.                     6.25e+10\n",
       "==============================================================================\n",
       "\n",
       "Warnings:\n",
       "[1] Standard Errors assume that the covariance matrix of the errors is correctly specified.\n",
       "[2] The condition number is large, 6.25e+10. This might indicate that there are\n",
       "strong multicollinearity or other numerical problems.\n",
       "\"\"\""
      ]
     },
     "execution_count": 18,
     "metadata": {},
     "output_type": "execute_result"
    }
   ],
   "source": [
    "#For statsmodels, we need to include a column of one's to X so that it can fit an intercept. We'll add this column to \n",
    "# our training data to run the model. \n",
    "X_stats = sm.add_constant(X_train)\n",
    "\n",
    "#Fit OLS regression\n",
    "sm_model = sm.OLS(y_train, X_stats)\n",
    "results = sm_model.fit()\n",
    "results_summary = results.summary()\n",
    "results.summary()"
   ]
  },
  {
   "cell_type": "markdown",
   "metadata": {},
   "source": [
    "Overall, our model had a $R^2$ value of 0.027, showing that our model doesn't seem to explain a large proportion of the variation in our response variable. However, AIC (a metric used to assess the quality of our model with a small value being better) is pretty large, indicating that we probably have too many features and could benefit from doing a model selection.\n",
    "\n",
    " Looking at the t-statistic, where larger values are more significant, in conjunction with p values (should be at around 0), variables such as `OZONE`, `PM2.5`, `PM10`, `tropomi_o3_mean`, `tropomi_no2_mean`, `tropomi_so2_mean` `LULC_Herbaceous.Wetlands`, `LULC_Dev..Open.Space`, `LULC_Evergreen.Forest`, `LULC_Pasture.Hay`, `LULC_Barren.Land`, `NN_Distance_m` and `ng_pipelength_10000`/`50000`/`5000` seem to introduce the least error to the model.\n",
    "\n",
    "Based off of these results we're skeptical about the significance of the following variables, since they include 0 within their 95% confidence interval: all of the `EmitterType` features, many of the `LULC_*_perc` features, `LULC_Open.Water`, `NO2`, `ng_pipelength_1000`, and `weighted_cow_density`. "
   ]
  },
  {
   "cell_type": "markdown",
   "metadata": {},
   "source": [
    "Let's compare these results with `scikit learn` to double check out work."
   ]
  },
  {
   "cell_type": "code",
   "execution_count": 19,
   "metadata": {},
   "outputs": [
    {
     "name": "stdout",
     "output_type": "stream",
     "text": [
      "Intercept: -0.0019741090552207762\n",
      "Coefficients: [-1.55198255e-05 -3.00945094e-05 -1.02115151e-05 -2.70487008e-05\n",
      " -1.43775402e-05 -3.60114781e-05 -3.14583506e-05 -1.82963937e-05\n",
      " -3.71483885e-05 -4.11106230e-05 -2.78377971e-05 -3.95015141e-05\n",
      " -3.09818827e-05 -2.24369211e-05 -4.26532037e-05  1.76707109e-05\n",
      " -3.53866407e-05  1.01447669e-05  1.66568537e-05  1.86284219e-04\n",
      "  8.08347018e-06  1.84898506e-03  2.16594257e-03  1.13762617e-02\n",
      "  2.26570682e-03  2.30395947e-03  2.10179685e-03  2.12663748e-03\n",
      "  2.08496135e-03  2.13508791e-03  2.15523391e-03  2.23556957e-03\n",
      "  2.16895250e-03  2.04254383e-03  2.21853203e-03 -3.90784681e-14\n",
      "  3.33802134e-03  8.84108067e-09  5.08147612e-08  4.63968633e-07\n",
      " -1.14207016e-07  3.22096893e-07  7.49543663e-11  1.35837452e-10\n",
      "  1.40114565e-10 -2.82738746e-10 -2.04836562e-11 -1.38390929e-01\n",
      " -1.53505395e-05 -9.73929348e-05  4.03910457e-08]\n"
     ]
    }
   ],
   "source": [
    "sk_model = linear_model.LinearRegression()\n",
    "sk_fit = sk_model.fit(X_train,y_train)\n",
    "\n",
    "print(\"Intercept:\", sk_fit.intercept_)\n",
    "# Coefficients\n",
    "print(\"Coefficients:\", sk_fit.coef_)"
   ]
  },
  {
   "cell_type": "markdown",
   "metadata": {},
   "source": [
    "The coefficients seem to match up. \n",
    "\n",
    "Now, we'll fit the model in `scikit learn`, and evaluate how the model performs on the testing data. We'll create a function that fits a linear regression model and returns the training and test MSE. "
   ]
  },
  {
   "cell_type": "code",
   "execution_count": 20,
   "metadata": {},
   "outputs": [],
   "source": [
    "#Create a function  that fits a linear regression model and returns the training and test MSE. \n",
    "def OLS(X_train, y_train, X_test, y_test):\n",
    "    \"\"\" Fits an Ordinary Least Squares Linear regression on the training set of X and y,\n",
    "    and finds the MSE of the training and test set. \n",
    "    Arguments:\n",
    "        X_train: An ndarray containing the set of features used to train the model. \n",
    "        y_train: A list/array containing containing the set of response variable observations used to train the model.\n",
    "        X_test: An ndarray containing the set of features used to test the model.\n",
    "        y_test: A list/array containing the set of response variable observations used to test the model. \n",
    "    Returns:\n",
    "        train_mse: the MSE for the training data\n",
    "        test_mse: The MSE for the test data\n",
    "        model_coef: The coefficients for the model\n",
    "        \"\"\"\n",
    "    #Fit model\n",
    "    lm = LinearRegression()\n",
    "    lm.fit(X_train, y_train)\n",
    "    \n",
    "    #Get training MSE\n",
    "    train_mse = mean_squared_error(y_train, lm.predict(X_train))\n",
    "    \n",
    "    #Get test MSE\n",
    "    test_mse = mean_squared_error(y_test, lm.predict(X_test))\n",
    "    \n",
    "    return train_mse, test_mse"
   ]
  },
  {
   "cell_type": "markdown",
   "metadata": {},
   "source": [
    "We can utilize our function to fit the model using Ordinary Least Squares Linear regression. "
   ]
  },
  {
   "cell_type": "code",
   "execution_count": 21,
   "metadata": {
    "scrolled": true
   },
   "outputs": [
    {
     "name": "stdout",
     "output_type": "stream",
     "text": [
      "Training MSE:  1.9960894111037496e-09\n",
      "Test MSE:  1.8708430004665657e-09\n"
     ]
    }
   ],
   "source": [
    "ols_train_mse, ols_test_mse = OLS(X_train, y_train, X_test, y_test)\n",
    "print(\"Training MSE: \", ols_train_mse)\n",
    "print(\"Test MSE: \", ols_test_mse)"
   ]
  },
  {
   "cell_type": "markdown",
   "metadata": {},
   "source": [
    "It seems that our MSE is very small. However, this is also likely a factor of the scale of our response variable. Since our AIC is so large in this version of the OLS model, we'll vary the number of features we use to see what will improve the quality of our model.\n",
    "\n",
    "We'll figure out what variables we may want to add first by sorting it on the t and p statistics."
   ]
  },
  {
   "cell_type": "code",
   "execution_count": 22,
   "metadata": {
    "scrolled": false
   },
   "outputs": [
    {
     "data": {
      "text/html": [
       "<div>\n",
       "<style scoped>\n",
       "    .dataframe tbody tr th:only-of-type {\n",
       "        vertical-align: middle;\n",
       "    }\n",
       "\n",
       "    .dataframe tbody tr th {\n",
       "        vertical-align: top;\n",
       "    }\n",
       "\n",
       "    .dataframe thead th {\n",
       "        text-align: right;\n",
       "    }\n",
       "</style>\n",
       "<table border=\"1\" class=\"dataframe\">\n",
       "  <thead>\n",
       "    <tr style=\"text-align: right;\">\n",
       "      <th></th>\n",
       "      <th>index</th>\n",
       "      <th>coef</th>\n",
       "      <th>std err</th>\n",
       "      <th>t</th>\n",
       "      <th>P&gt;|t|</th>\n",
       "      <th>[0.025</th>\n",
       "      <th>0.975]</th>\n",
       "      <th>t_abs</th>\n",
       "    </tr>\n",
       "  </thead>\n",
       "  <tbody>\n",
       "    <tr>\n",
       "      <th>45</th>\n",
       "      <td>ng_pipelength_5000</td>\n",
       "      <td>-2.827000e-10</td>\n",
       "      <td>3.540000e-11</td>\n",
       "      <td>-7.995</td>\n",
       "      <td>0.0</td>\n",
       "      <td>-3.520000e-10</td>\n",
       "      <td>-2.130000e-10</td>\n",
       "      <td>7.995</td>\n",
       "    </tr>\n",
       "    <tr>\n",
       "      <th>49</th>\n",
       "      <td>tropomi_so2_mean</td>\n",
       "      <td>-9.739000e-05</td>\n",
       "      <td>1.310000e-05</td>\n",
       "      <td>-7.422</td>\n",
       "      <td>0.0</td>\n",
       "      <td>-0.000000e+00</td>\n",
       "      <td>-7.170000e-05</td>\n",
       "      <td>7.422</td>\n",
       "    </tr>\n",
       "    <tr>\n",
       "      <th>47</th>\n",
       "      <td>tropomi_no2_mean</td>\n",
       "      <td>-1.384000e-01</td>\n",
       "      <td>1.900000e-02</td>\n",
       "      <td>-7.141</td>\n",
       "      <td>0.0</td>\n",
       "      <td>-1.760000e-01</td>\n",
       "      <td>-1.000000e-01</td>\n",
       "      <td>7.141</td>\n",
       "    </tr>\n",
       "    <tr>\n",
       "      <th>40</th>\n",
       "      <td>PM10</td>\n",
       "      <td>-1.142000e-07</td>\n",
       "      <td>1.710000e-08</td>\n",
       "      <td>-6.687</td>\n",
       "      <td>0.0</td>\n",
       "      <td>-1.480000e-07</td>\n",
       "      <td>-8.070000e-08</td>\n",
       "      <td>6.687</td>\n",
       "    </tr>\n",
       "    <tr>\n",
       "      <th>43</th>\n",
       "      <td>ng_pipelength_10000</td>\n",
       "      <td>1.358000e-10</td>\n",
       "      <td>2.260000e-11</td>\n",
       "      <td>5.999</td>\n",
       "      <td>0.0</td>\n",
       "      <td>9.150000e-11</td>\n",
       "      <td>1.800000e-10</td>\n",
       "      <td>5.999</td>\n",
       "    </tr>\n",
       "  </tbody>\n",
       "</table>\n",
       "</div>"
      ],
      "text/plain": [
       "                  index          coef       std err      t  P>|t|  \\\n",
       "45   ng_pipelength_5000 -2.827000e-10  3.540000e-11 -7.995    0.0   \n",
       "49     tropomi_so2_mean -9.739000e-05  1.310000e-05 -7.422    0.0   \n",
       "47     tropomi_no2_mean -1.384000e-01  1.900000e-02 -7.141    0.0   \n",
       "40                 PM10 -1.142000e-07  1.710000e-08 -6.687    0.0   \n",
       "43  ng_pipelength_10000  1.358000e-10  2.260000e-11  5.999    0.0   \n",
       "\n",
       "          [0.025        0.975]  t_abs  \n",
       "45 -3.520000e-10 -2.130000e-10  7.995  \n",
       "49 -0.000000e+00 -7.170000e-05  7.422  \n",
       "47 -1.760000e-01 -1.000000e-01  7.141  \n",
       "40 -1.480000e-07 -8.070000e-08  6.687  \n",
       "43  9.150000e-11  1.800000e-10  5.999  "
      ]
     },
     "execution_count": 22,
     "metadata": {},
     "output_type": "execute_result"
    }
   ],
   "source": [
    "# Take our results summary table and make it a dataframe\n",
    "results_as_html = results_summary.tables[1].as_html()\n",
    "results_summary_df = pd.read_html(results_as_html, header=0, index_col=0)[0].reset_index()\n",
    "\n",
    "# Get absolute t value\n",
    "results_summary_df['t_abs'] = np.absolute(results_summary_df['t'])\n",
    "\n",
    "# Sort by large t and small p\n",
    "results_summary_df = results_summary_df.sort_values(by=['t_abs', 'P>|t|'], ascending=[False,True])\n",
    "results_summary_df.head()"
   ]
  },
  {
   "cell_type": "markdown",
   "metadata": {},
   "source": [
    "Above, we can see that the most important variable is `ng_pipelength_5000`, which makes sense intuitively, as many of our features are oil and gas wells. However, the coefficient is negative, indicating a negative correlation, which is not what we would expect. `tropomi_so2_mean` also has a negative correlation.\n",
    "\n",
    "`LULC_Evergreen.Forest` has a positive correlation (though very small coefficient), which is again not what we would expect. `LULC_Herbaceous.Wetlands` has a negative correlation with a very small coefficient; here, the negative correlation does make sense, since we'd be less likely to see a methane-emitting facility located in areas that are majority wetlands (although wetlands are methane emitters, they are not anthropogenic sources, and thus are not included in our dataset). "
   ]
  },
  {
   "cell_type": "code",
   "execution_count": 23,
   "metadata": {},
   "outputs": [],
   "source": [
    "# Sort variables in order we think they're important (important ones first)\n",
    "vars_to_add = results_summary_df['index']"
   ]
  },
  {
   "cell_type": "markdown",
   "metadata": {},
   "source": [
    "And then we'll compute AIC and the loglikelihood function."
   ]
  },
  {
   "cell_type": "code",
   "execution_count": 24,
   "metadata": {},
   "outputs": [],
   "source": [
    "def computeAIC(fit_model,k):\n",
    "    llf = fit_model.llf # get likelihood\n",
    "    AIC = 2*k - 2*llf # calculate AIC\n",
    "    \n",
    "    return AIC"
   ]
  },
  {
   "cell_type": "code",
   "execution_count": 25,
   "metadata": {},
   "outputs": [],
   "source": [
    "AIC_results = []\n",
    "llf_results = []\n",
    "\n",
    "for i, var in enumerate(vars_to_add):\n",
    "    X_subset = X_train[vars_to_add[:i]]\n",
    "    X2 = sm.add_constant(X_subset)\n",
    "    sm_model = sm.OLS(y_train, X2)\n",
    "    results = sm_model.fit()\n",
    "    \n",
    "    llf_results.append(results.llf)\n",
    "    AIC_results.append(computeAIC(results,i))"
   ]
  },
  {
   "cell_type": "markdown",
   "metadata": {},
   "source": [
    "We can visualize our results:"
   ]
  },
  {
   "cell_type": "code",
   "execution_count": 26,
   "metadata": {},
   "outputs": [
    {
     "data": {
      "image/png": "[encoded data removed]",
      "text/plain": [
       "<Figure size 864x576 with 2 Axes>"
      ]
     },
     "metadata": {
      "needs_background": "light"
     },
     "output_type": "display_data"
    }
   ],
   "source": [
    "fig, (ax0,ax1) = plt.subplots(nrows=2, sharex=True, figsize = (12,8))\n",
    "\n",
    "# AIC\n",
    "ax0.plot(np.arange(1,len(vars_to_add)+1), AIC_results, color = 'navy')\n",
    "ax0.set_xlabel('Number of features')\n",
    "ax0.set_ylabel('AIC')\n",
    "ax0.set_title('AIC')\n",
    "\n",
    "# Log likelihood function\n",
    "ax1.plot(np.arange(1,len(vars_to_add)+1), llf_results, color = 'gold')\n",
    "ax1.set_xlabel('Number of features')\n",
    "ax1.set_ylabel('Log likelihoof function')\n",
    "ax1.set_title('Log likelihood function')\n",
    "\n",
    "plt.show()"
   ]
  },
  {
   "cell_type": "code",
   "execution_count": 27,
   "metadata": {},
   "outputs": [
    {
     "name": "stdout",
     "output_type": "stream",
     "text": [
      "Best model based on AIC:  42\n",
      "Best model based on LLF:  50\n"
     ]
    }
   ],
   "source": [
    "print(\"Best model based on AIC: \", np.argmin(AIC_results))\n",
    "print(\"Best model based on LLF: \", np.argmax(llf_results))"
   ]
  },
  {
   "cell_type": "markdown",
   "metadata": {},
   "source": [
    "If we choose our model based on a low AIC we would have the following variables:"
   ]
  },
  {
   "cell_type": "code",
   "execution_count": 28,
   "metadata": {},
   "outputs": [
    {
     "name": "stdout",
     "output_type": "stream",
     "text": [
      "Features for model  (based on AIC): \n",
      " 45                                   ng_pipelength_5000\n",
      "49                                     tropomi_so2_mean\n",
      "47                                     tropomi_no2_mean\n",
      "40                                                 PM10\n",
      "43                                  ng_pipelength_10000\n",
      "39                                                OZONE\n",
      "46                                  ng_pipelength_50000\n",
      "48                                      tropomi_o3_mean\n",
      "19                                    LULC_Mixed.Forest\n",
      "37                                        NN_Distance_m\n",
      "41                                                PM2.5\n",
      "15                                LULC_Cultivated.Crops\n",
      "18                                       LULC_Grassland\n",
      "23                           LULC_deciduous_forest_perc\n",
      "17                                    LULC_Dev..Med.Int\n",
      "44                                      ng_pipelength_2\n",
      "20                                      LULC_Open.Water\n",
      "11               EmitterType_Oil.and.Gas.Field.Boundary\n",
      "8                       EmitterType_Natural.Gas.Station\n",
      "14                                 EmitterType_Refinery\n",
      "5                                  EmitterType_Landfill\n",
      "36                             LULC_woody_wetlands_perc\n",
      "12                         EmitterType_Oil.and.Gas.Well\n",
      "1     EmitterType_Compressed.Natural.Gas.Fueling.Sta...\n",
      "10            EmitterType_Oil.and.Gas.Facility.Boundary\n",
      "6     EmitterType_Liquefied.Natural.Gas.Fueling.Station\n",
      "9                 EmitterType_Natural.Gas.Storage.Field\n",
      "25                          LULC_developed_low_int_perc\n",
      "24                         LULC_developed_high_int_perc\n",
      "31                               LULC_mixed_forest_perc\n",
      "3                                  EmitterType_Digester\n",
      "34                                LULC_shrub_scrub_perc\n",
      "13                              EmitterType_Power.Plant\n",
      "32                                 LULC_open_water_perc\n",
      "22                           LULC_cultivated_crops_perc\n",
      "38                                                  NO2\n",
      "30                       LULC_grassland_herbaceous_perc\n",
      "29                           LULC_evergreen_forest_perc\n",
      "27                       LULC_developed_open_space_perc\n",
      "26                          LULC_developed_med_int_perc\n",
      "28               LULC_emergent_herbaceous_wetlands_perc\n",
      "33                                LULC_pasture_hay_perc\n",
      "Name: index, dtype: object\n"
     ]
    }
   ],
   "source": [
    "print(\"Features for model  (based on AIC): \\n\", vars_to_add.iloc[:np.argmin(AIC_results)])"
   ]
  },
  {
   "cell_type": "markdown",
   "metadata": {},
   "source": [
    "We can re-run our model based on that to get our best quality model."
   ]
  },
  {
   "cell_type": "code",
   "execution_count": 29,
   "metadata": {},
   "outputs": [
    {
     "data": {
      "text/html": [
       "<div>\n",
       "<style scoped>\n",
       "    .dataframe tbody tr th:only-of-type {\n",
       "        vertical-align: middle;\n",
       "    }\n",
       "\n",
       "    .dataframe tbody tr th {\n",
       "        vertical-align: top;\n",
       "    }\n",
       "\n",
       "    .dataframe thead th {\n",
       "        text-align: right;\n",
       "    }\n",
       "</style>\n",
       "<table border=\"1\" class=\"dataframe\">\n",
       "  <thead>\n",
       "    <tr style=\"text-align: right;\">\n",
       "      <th></th>\n",
       "      <th>ng_pipelength_5000</th>\n",
       "      <th>tropomi_so2_mean</th>\n",
       "      <th>tropomi_no2_mean</th>\n",
       "      <th>PM10</th>\n",
       "      <th>ng_pipelength_10000</th>\n",
       "      <th>OZONE</th>\n",
       "      <th>ng_pipelength_50000</th>\n",
       "      <th>tropomi_o3_mean</th>\n",
       "      <th>LULC_Mixed.Forest</th>\n",
       "      <th>NN_Distance_m</th>\n",
       "      <th>...</th>\n",
       "      <th>EmitterType_Power.Plant</th>\n",
       "      <th>LULC_open_water_perc</th>\n",
       "      <th>LULC_cultivated_crops_perc</th>\n",
       "      <th>NO2</th>\n",
       "      <th>LULC_grassland_herbaceous_perc</th>\n",
       "      <th>LULC_evergreen_forest_perc</th>\n",
       "      <th>LULC_developed_open_space_perc</th>\n",
       "      <th>LULC_developed_med_int_perc</th>\n",
       "      <th>LULC_emergent_herbaceous_wetlands_perc</th>\n",
       "      <th>LULC_pasture_hay_perc</th>\n",
       "    </tr>\n",
       "  </thead>\n",
       "  <tbody>\n",
       "    <tr>\n",
       "      <th>10229</th>\n",
       "      <td>108152.6572</td>\n",
       "      <td>0.3846</td>\n",
       "      <td>0.0000</td>\n",
       "      <td>44.252134</td>\n",
       "      <td>140722.2749</td>\n",
       "      <td>62.341167</td>\n",
       "      <td>601778.1429</td>\n",
       "      <td>2.6855</td>\n",
       "      <td>0</td>\n",
       "      <td>9.1216</td>\n",
       "      <td>...</td>\n",
       "      <td>0</td>\n",
       "      <td>0.0002</td>\n",
       "      <td>0.0020</td>\n",
       "      <td>6.955166</td>\n",
       "      <td>0.7588</td>\n",
       "      <td>0.0000</td>\n",
       "      <td>0.1021</td>\n",
       "      <td>0.0170</td>\n",
       "      <td>0.0003</td>\n",
       "      <td>0.0000</td>\n",
       "    </tr>\n",
       "    <tr>\n",
       "      <th>5341</th>\n",
       "      <td>38259.2494</td>\n",
       "      <td>0.3545</td>\n",
       "      <td>0.0000</td>\n",
       "      <td>50.315139</td>\n",
       "      <td>87642.4858</td>\n",
       "      <td>53.920130</td>\n",
       "      <td>456859.0182</td>\n",
       "      <td>2.5068</td>\n",
       "      <td>0</td>\n",
       "      <td>0.7167</td>\n",
       "      <td>...</td>\n",
       "      <td>0</td>\n",
       "      <td>0.0010</td>\n",
       "      <td>0.3824</td>\n",
       "      <td>5.152299</td>\n",
       "      <td>0.4766</td>\n",
       "      <td>0.0000</td>\n",
       "      <td>0.1024</td>\n",
       "      <td>0.0022</td>\n",
       "      <td>0.0001</td>\n",
       "      <td>0.0005</td>\n",
       "    </tr>\n",
       "    <tr>\n",
       "      <th>40655</th>\n",
       "      <td>154828.5964</td>\n",
       "      <td>0.3519</td>\n",
       "      <td>0.0000</td>\n",
       "      <td>61.950983</td>\n",
       "      <td>203813.1822</td>\n",
       "      <td>65.343013</td>\n",
       "      <td>923810.8788</td>\n",
       "      <td>2.6971</td>\n",
       "      <td>0</td>\n",
       "      <td>28.0355</td>\n",
       "      <td>...</td>\n",
       "      <td>0</td>\n",
       "      <td>0.0035</td>\n",
       "      <td>0.0255</td>\n",
       "      <td>11.056380</td>\n",
       "      <td>0.5447</td>\n",
       "      <td>0.0000</td>\n",
       "      <td>0.1294</td>\n",
       "      <td>0.1480</td>\n",
       "      <td>0.0034</td>\n",
       "      <td>0.0071</td>\n",
       "    </tr>\n",
       "    <tr>\n",
       "      <th>14223</th>\n",
       "      <td>116268.6768</td>\n",
       "      <td>0.3578</td>\n",
       "      <td>0.0000</td>\n",
       "      <td>92.058187</td>\n",
       "      <td>181552.8333</td>\n",
       "      <td>66.150266</td>\n",
       "      <td>885904.6768</td>\n",
       "      <td>2.6954</td>\n",
       "      <td>0</td>\n",
       "      <td>19.0752</td>\n",
       "      <td>...</td>\n",
       "      <td>0</td>\n",
       "      <td>0.0019</td>\n",
       "      <td>0.0470</td>\n",
       "      <td>9.893962</td>\n",
       "      <td>0.6220</td>\n",
       "      <td>0.0000</td>\n",
       "      <td>0.1267</td>\n",
       "      <td>0.0942</td>\n",
       "      <td>0.0045</td>\n",
       "      <td>0.0064</td>\n",
       "    </tr>\n",
       "    <tr>\n",
       "      <th>42425</th>\n",
       "      <td>134636.7302</td>\n",
       "      <td>0.3127</td>\n",
       "      <td>0.0001</td>\n",
       "      <td>51.798751</td>\n",
       "      <td>209358.0074</td>\n",
       "      <td>51.037877</td>\n",
       "      <td>646393.4777</td>\n",
       "      <td>2.6977</td>\n",
       "      <td>0</td>\n",
       "      <td>1.7608</td>\n",
       "      <td>...</td>\n",
       "      <td>0</td>\n",
       "      <td>0.3811</td>\n",
       "      <td>0.0007</td>\n",
       "      <td>20.620934</td>\n",
       "      <td>0.0130</td>\n",
       "      <td>0.0001</td>\n",
       "      <td>0.0347</td>\n",
       "      <td>0.2880</td>\n",
       "      <td>0.0109</td>\n",
       "      <td>0.0124</td>\n",
       "    </tr>\n",
       "    <tr>\n",
       "      <th>...</th>\n",
       "      <td>...</td>\n",
       "      <td>...</td>\n",
       "      <td>...</td>\n",
       "      <td>...</td>\n",
       "      <td>...</td>\n",
       "      <td>...</td>\n",
       "      <td>...</td>\n",
       "      <td>...</td>\n",
       "      <td>...</td>\n",
       "      <td>...</td>\n",
       "      <td>...</td>\n",
       "      <td>...</td>\n",
       "      <td>...</td>\n",
       "      <td>...</td>\n",
       "      <td>...</td>\n",
       "      <td>...</td>\n",
       "      <td>...</td>\n",
       "      <td>...</td>\n",
       "      <td>...</td>\n",
       "      <td>...</td>\n",
       "      <td>...</td>\n",
       "    </tr>\n",
       "    <tr>\n",
       "      <th>35483</th>\n",
       "      <td>132635.9771</td>\n",
       "      <td>0.3500</td>\n",
       "      <td>0.0000</td>\n",
       "      <td>59.145893</td>\n",
       "      <td>181880.3130</td>\n",
       "      <td>60.239961</td>\n",
       "      <td>950809.0099</td>\n",
       "      <td>2.5041</td>\n",
       "      <td>0</td>\n",
       "      <td>55.8804</td>\n",
       "      <td>...</td>\n",
       "      <td>0</td>\n",
       "      <td>0.0023</td>\n",
       "      <td>0.1898</td>\n",
       "      <td>6.493642</td>\n",
       "      <td>0.3960</td>\n",
       "      <td>0.0000</td>\n",
       "      <td>0.1329</td>\n",
       "      <td>0.1427</td>\n",
       "      <td>0.0034</td>\n",
       "      <td>0.0064</td>\n",
       "    </tr>\n",
       "    <tr>\n",
       "      <th>39296</th>\n",
       "      <td>85861.2109</td>\n",
       "      <td>0.3247</td>\n",
       "      <td>0.0000</td>\n",
       "      <td>40.747207</td>\n",
       "      <td>117742.2949</td>\n",
       "      <td>52.088547</td>\n",
       "      <td>288722.0217</td>\n",
       "      <td>2.6979</td>\n",
       "      <td>0</td>\n",
       "      <td>38.0675</td>\n",
       "      <td>...</td>\n",
       "      <td>0</td>\n",
       "      <td>0.0011</td>\n",
       "      <td>0.2753</td>\n",
       "      <td>10.099150</td>\n",
       "      <td>0.1281</td>\n",
       "      <td>0.0237</td>\n",
       "      <td>0.0634</td>\n",
       "      <td>0.0688</td>\n",
       "      <td>0.0172</td>\n",
       "      <td>0.0249</td>\n",
       "    </tr>\n",
       "    <tr>\n",
       "      <th>2693</th>\n",
       "      <td>145165.2760</td>\n",
       "      <td>0.3591</td>\n",
       "      <td>0.0000</td>\n",
       "      <td>106.750935</td>\n",
       "      <td>209865.5421</td>\n",
       "      <td>66.150266</td>\n",
       "      <td>966801.5143</td>\n",
       "      <td>2.6956</td>\n",
       "      <td>0</td>\n",
       "      <td>20.3718</td>\n",
       "      <td>...</td>\n",
       "      <td>0</td>\n",
       "      <td>0.0029</td>\n",
       "      <td>0.0697</td>\n",
       "      <td>9.893962</td>\n",
       "      <td>0.3843</td>\n",
       "      <td>0.0000</td>\n",
       "      <td>0.1308</td>\n",
       "      <td>0.2227</td>\n",
       "      <td>0.0015</td>\n",
       "      <td>0.0064</td>\n",
       "    </tr>\n",
       "    <tr>\n",
       "      <th>8076</th>\n",
       "      <td>149717.9188</td>\n",
       "      <td>0.3543</td>\n",
       "      <td>0.0000</td>\n",
       "      <td>89.686209</td>\n",
       "      <td>203852.6402</td>\n",
       "      <td>66.150266</td>\n",
       "      <td>929427.6544</td>\n",
       "      <td>2.6970</td>\n",
       "      <td>0</td>\n",
       "      <td>25.5245</td>\n",
       "      <td>...</td>\n",
       "      <td>0</td>\n",
       "      <td>0.0026</td>\n",
       "      <td>0.0231</td>\n",
       "      <td>11.056380</td>\n",
       "      <td>0.5250</td>\n",
       "      <td>0.0000</td>\n",
       "      <td>0.1308</td>\n",
       "      <td>0.1615</td>\n",
       "      <td>0.0034</td>\n",
       "      <td>0.0064</td>\n",
       "    </tr>\n",
       "    <tr>\n",
       "      <th>7624</th>\n",
       "      <td>111262.5761</td>\n",
       "      <td>0.3831</td>\n",
       "      <td>0.0000</td>\n",
       "      <td>44.252134</td>\n",
       "      <td>145452.3093</td>\n",
       "      <td>62.341167</td>\n",
       "      <td>620676.0495</td>\n",
       "      <td>2.6861</td>\n",
       "      <td>0</td>\n",
       "      <td>19.6021</td>\n",
       "      <td>...</td>\n",
       "      <td>0</td>\n",
       "      <td>0.0002</td>\n",
       "      <td>0.0019</td>\n",
       "      <td>6.955166</td>\n",
       "      <td>0.7478</td>\n",
       "      <td>0.0000</td>\n",
       "      <td>0.1051</td>\n",
       "      <td>0.0171</td>\n",
       "      <td>0.0002</td>\n",
       "      <td>0.0000</td>\n",
       "    </tr>\n",
       "  </tbody>\n",
       "</table>\n",
       "<p>38708 rows × 42 columns</p>\n",
       "</div>"
      ],
      "text/plain": [
       "       ng_pipelength_5000  tropomi_so2_mean  tropomi_no2_mean        PM10  \\\n",
       "10229         108152.6572            0.3846            0.0000   44.252134   \n",
       "5341           38259.2494            0.3545            0.0000   50.315139   \n",
       "40655         154828.5964            0.3519            0.0000   61.950983   \n",
       "14223         116268.6768            0.3578            0.0000   92.058187   \n",
       "42425         134636.7302            0.3127            0.0001   51.798751   \n",
       "...                   ...               ...               ...         ...   \n",
       "35483         132635.9771            0.3500            0.0000   59.145893   \n",
       "39296          85861.2109            0.3247            0.0000   40.747207   \n",
       "2693          145165.2760            0.3591            0.0000  106.750935   \n",
       "8076          149717.9188            0.3543            0.0000   89.686209   \n",
       "7624          111262.5761            0.3831            0.0000   44.252134   \n",
       "\n",
       "       ng_pipelength_10000      OZONE  ng_pipelength_50000  tropomi_o3_mean  \\\n",
       "10229          140722.2749  62.341167          601778.1429           2.6855   \n",
       "5341            87642.4858  53.920130          456859.0182           2.5068   \n",
       "40655          203813.1822  65.343013          923810.8788           2.6971   \n",
       "14223          181552.8333  66.150266          885904.6768           2.6954   \n",
       "42425          209358.0074  51.037877          646393.4777           2.6977   \n",
       "...                    ...        ...                  ...              ...   \n",
       "35483          181880.3130  60.239961          950809.0099           2.5041   \n",
       "39296          117742.2949  52.088547          288722.0217           2.6979   \n",
       "2693           209865.5421  66.150266          966801.5143           2.6956   \n",
       "8076           203852.6402  66.150266          929427.6544           2.6970   \n",
       "7624           145452.3093  62.341167          620676.0495           2.6861   \n",
       "\n",
       "       LULC_Mixed.Forest  NN_Distance_m  ...  EmitterType_Power.Plant  \\\n",
       "10229                  0         9.1216  ...                        0   \n",
       "5341                   0         0.7167  ...                        0   \n",
       "40655                  0        28.0355  ...                        0   \n",
       "14223                  0        19.0752  ...                        0   \n",
       "42425                  0         1.7608  ...                        0   \n",
       "...                  ...            ...  ...                      ...   \n",
       "35483                  0        55.8804  ...                        0   \n",
       "39296                  0        38.0675  ...                        0   \n",
       "2693                   0        20.3718  ...                        0   \n",
       "8076                   0        25.5245  ...                        0   \n",
       "7624                   0        19.6021  ...                        0   \n",
       "\n",
       "       LULC_open_water_perc  LULC_cultivated_crops_perc        NO2  \\\n",
       "10229                0.0002                      0.0020   6.955166   \n",
       "5341                 0.0010                      0.3824   5.152299   \n",
       "40655                0.0035                      0.0255  11.056380   \n",
       "14223                0.0019                      0.0470   9.893962   \n",
       "42425                0.3811                      0.0007  20.620934   \n",
       "...                     ...                         ...        ...   \n",
       "35483                0.0023                      0.1898   6.493642   \n",
       "39296                0.0011                      0.2753  10.099150   \n",
       "2693                 0.0029                      0.0697   9.893962   \n",
       "8076                 0.0026                      0.0231  11.056380   \n",
       "7624                 0.0002                      0.0019   6.955166   \n",
       "\n",
       "       LULC_grassland_herbaceous_perc  LULC_evergreen_forest_perc  \\\n",
       "10229                          0.7588                      0.0000   \n",
       "5341                           0.4766                      0.0000   \n",
       "40655                          0.5447                      0.0000   \n",
       "14223                          0.6220                      0.0000   \n",
       "42425                          0.0130                      0.0001   \n",
       "...                               ...                         ...   \n",
       "35483                          0.3960                      0.0000   \n",
       "39296                          0.1281                      0.0237   \n",
       "2693                           0.3843                      0.0000   \n",
       "8076                           0.5250                      0.0000   \n",
       "7624                           0.7478                      0.0000   \n",
       "\n",
       "       LULC_developed_open_space_perc  LULC_developed_med_int_perc  \\\n",
       "10229                          0.1021                       0.0170   \n",
       "5341                           0.1024                       0.0022   \n",
       "40655                          0.1294                       0.1480   \n",
       "14223                          0.1267                       0.0942   \n",
       "42425                          0.0347                       0.2880   \n",
       "...                               ...                          ...   \n",
       "35483                          0.1329                       0.1427   \n",
       "39296                          0.0634                       0.0688   \n",
       "2693                           0.1308                       0.2227   \n",
       "8076                           0.1308                       0.1615   \n",
       "7624                           0.1051                       0.0171   \n",
       "\n",
       "       LULC_emergent_herbaceous_wetlands_perc  LULC_pasture_hay_perc  \n",
       "10229                                  0.0003                 0.0000  \n",
       "5341                                   0.0001                 0.0005  \n",
       "40655                                  0.0034                 0.0071  \n",
       "14223                                  0.0045                 0.0064  \n",
       "42425                                  0.0109                 0.0124  \n",
       "...                                       ...                    ...  \n",
       "35483                                  0.0034                 0.0064  \n",
       "39296                                  0.0172                 0.0249  \n",
       "2693                                   0.0015                 0.0064  \n",
       "8076                                   0.0034                 0.0064  \n",
       "7624                                   0.0002                 0.0000  \n",
       "\n",
       "[38708 rows x 42 columns]"
      ]
     },
     "execution_count": 29,
     "metadata": {},
     "output_type": "execute_result"
    }
   ],
   "source": [
    "X_train[list(np.array(vars_to_add.iloc[:np.argmin(AIC_results)]))]"
   ]
  },
  {
   "cell_type": "code",
   "execution_count": 30,
   "metadata": {
    "scrolled": true
   },
   "outputs": [
    {
     "name": "stdout",
     "output_type": "stream",
     "text": [
      "Training MSE:  1.9962637043240612e-09\n",
      "Test MSE:  1.8702256648536652e-09\n"
     ]
    }
   ],
   "source": [
    "ols_train_mse_2, ols_test_mse_2 = OLS(X_train[list(np.array(vars_to_add.iloc[:np.argmin(AIC_results)]))], y_train,\n",
    "                                  X_test[list(np.array(vars_to_add.iloc[:np.argmin(AIC_results)]))], y_test)\n",
    "print(\"Training MSE: \", ols_train_mse_2)\n",
    "print(\"Test MSE: \", ols_test_mse_2)"
   ]
  },
  {
   "cell_type": "markdown",
   "metadata": {},
   "source": [
    "Compared with our prior train/test MSE from our model with all the features: "
   ]
  },
  {
   "cell_type": "code",
   "execution_count": 31,
   "metadata": {},
   "outputs": [
    {
     "name": "stdout",
     "output_type": "stream",
     "text": [
      "Training MSE Improvement: -1.7429322031162137e-13\n",
      "Test MSE Improvement: 6.173356129004699e-13\n"
     ]
    }
   ],
   "source": [
    "#Calculate difference \n",
    "print('Training MSE Improvement:', ols_train_mse - ols_train_mse_2)\n",
    "print('Test MSE Improvement:', ols_test_mse - ols_test_mse_2)"
   ]
  },
  {
   "cell_type": "markdown",
   "metadata": {},
   "source": [
    "A very small improvement for our test MSE, but an improvement nonetheless!"
   ]
  },
  {
   "cell_type": "markdown",
   "metadata": {},
   "source": [
    "#### Model 2: Ridge Regression\n",
    "Since we have a large number of features in our model, we'll also want to try regularization methods; namely Ridge and Lasso Regression. These methods are computationally faster than subset selection, and can help reduce model variance associated with a large number of features.\n",
    "\n",
    "We saw that in the OLS, our AIC was very large when we created the first version of our model including all of the features we had originally gathered. We can take advantage or Ridge here since it shrinks our coefficients toward zero, without ever fully eliminating them."
   ]
  },
  {
   "cell_type": "markdown",
   "metadata": {},
   "source": [
    "We'll begin by creating a function that fits the model, including tuning the hyperparameters, using K-fold cross validation. Considering the large size of our dataset, K-fold cross-validation will save a significant amount of computing time, as opposed to Leave One Out Cross Validation. In our case, we'll use 10 folds, following convention. \n",
    "\n",
    "In the case of Ridge and Lasso, the only hyperparameter we need to tune is our shrinkage penalty, which we'll denote here as `alpha`. \n",
    "\n",
    "To see how different alpha values perform, we'll also define a model to calculate the MSE for a range of alpha values during the KFold cross validation process on our training data. This way, we can visualize the MSEs for different alpha values to ensure we are choosing the optimal value. "
   ]
  },
  {
   "cell_type": "code",
   "execution_count": 32,
   "metadata": {},
   "outputs": [],
   "source": [
    "#First, we can define a model to get the MSE on our training data for a range of alpha values \n",
    "def model_mse_cv(Model, X_train, y_train, alphas, k):\n",
    "    \"\"\"\n",
    "    Calculates the MSE resulting from k-fold CV using Lasso or Ridge regression performed on X_train and \n",
    "    y_train for a range of values of alpha.\n",
    "    Inputs: \n",
    "        Model (sklearn model): the type of sklearn model with which to fit the data: Ridge, or Lasso\n",
    "        X_train: the set of features used to fit the model\n",
    "        y_train: the set of response variable observations\n",
    "        alphas: a list of alpha values\n",
    "        k: number of folds in k-fold cross-validation\n",
    "    Returns:\n",
    "        mses: a list containing the mean squared cross-validation error corresponding to each value of alpha\n",
    "    \"\"\"\n",
    "    #Initialize MSE array\n",
    "    mses = np.full((k, len(alphas)), np.nan) \n",
    "    \n",
    "    #Kfold split\n",
    "    kf = KFold(n_splits = k, shuffle = True, random_state = 15) \n",
    "    \n",
    "    fold = 0\n",
    "    for train_i, val_i in kf.split(X_train):\n",
    "        \n",
    "        # get training and validation values\n",
    "        X_f_train = X_train[train_i]\n",
    "        X_f_val = X_train[val_i]\n",
    "        y_f_train = np.array(y_train)[train_i]\n",
    "        y_f_val = np.array(y_train)[val_i]\n",
    "        \n",
    "        for i in range(len(alphas)): \n",
    "            model = Model(alpha = alphas[i]) \n",
    "\n",
    "            model.fit(X_f_train, y_f_train) \n",
    "            \n",
    "            y_pred = model.predict(X_f_val) \n",
    "            \n",
    "            # save MSE for this fold and alpha value\n",
    "            mses[fold, i] = mean_squared_error(y_pred, y_f_val)\n",
    "        \n",
    "        fold += 1\n",
    "    \n",
    "    # get average MSE for each alpha value across folds\n",
    "    average_mses = np.zeros(len(alphas)) \n",
    "    for i in range(len(alphas)):\n",
    "        average_mses[i] = np.mean(mses[:, i])\n",
    "    \n",
    "    return average_mses"
   ]
  },
  {
   "cell_type": "markdown",
   "metadata": {},
   "source": [
    "We'll test this function on a range of alphas, and plot the MSE for each alpha value. "
   ]
  },
  {
   "cell_type": "code",
   "execution_count": 33,
   "metadata": {},
   "outputs": [],
   "source": [
    "#Define list of alpha values \n",
    "ridge_alphas = np.linspace(0.01, 200, 100)"
   ]
  },
  {
   "cell_type": "code",
   "execution_count": 34,
   "metadata": {},
   "outputs": [
    {
     "data": {
      "text/plain": [
       "<matplotlib.legend.Legend at 0x7fccb3cbed00>"
      ]
     },
     "execution_count": 34,
     "metadata": {},
     "output_type": "execute_result"
    },
    {
     "data": {
      "image/png": "[encoded data removed]",
      "text/plain": [
       "<Figure size 720x504 with 1 Axes>"
      ]
     },
     "metadata": {
      "needs_background": "light"
     },
     "output_type": "display_data"
    }
   ],
   "source": [
    "plt.figure(figsize = (10, 7))\n",
    "\n",
    "#Get MSEs for training data using Ridge Regression\n",
    "mse_ridge = model_mse_cv(Ridge, X_std_train, y_std_train, ridge_alphas, 10)\n",
    "plt.plot(ridge_alphas, mse_ridge)\n",
    "plt.plot(ridge_alphas[np.argmin(mse_ridge)], min(mse_ridge), 'ro', label = 'minimized MSE, alpha= ' + \n",
    "         str(ridge_alphas[np.argmin(mse_ridge)]))\n",
    "plt.title(\"Ridge Regression MSE by alpha value\")\n",
    "plt.xlabel('Alpha')\n",
    "plt.ylabel('MSE')\n",
    "plt.legend()"
   ]
  },
  {
   "cell_type": "markdown",
   "metadata": {},
   "source": [
    "From this graph, we can see that we reach our minimum alpha value at approximately 75. The graph has a clear minimum, with the MSE increasing substantially on either side of this minimum. \n",
    "\n",
    "Now, we can fit the model and see how it performs on our test data. "
   ]
  },
  {
   "cell_type": "code",
   "execution_count": 35,
   "metadata": {},
   "outputs": [],
   "source": [
    "#Define model for Ridge and Lasso Cross Validation\n",
    "def fit_model_cv(Model, X_train, y_train, X_test, y_test, kf, alphas):\n",
    "    \"\"\"Fits a Ridge or Lasso model with K-fold cross-validation on the training set of X and y, \n",
    "    and finds the MSE of the training and test set. \n",
    "    Arguments:\n",
    "        Model: The type of Model to use, RidgeCV or LassoCV.\n",
    "        X_train: An ndarray containing the set of features used to train the model.\n",
    "        y_train: A list/array containing the set of response variable observations used to train the model. \n",
    "        X_test: An ndarray containing the set of features used to test the model. \n",
    "        y_test: A list/array containing the set of response variable observations used to test the model. \n",
    "        kf: a KFold cross-validation selector object.\n",
    "            [Note: This should have n_splits, shuffle, and random_state specified]. \n",
    "        alphas: a list of alpha values to test during the cross-validation process\n",
    "    Returns:\n",
    "        train_mse: the MSE for the training data\n",
    "        test_mse: the MSE for the test data\n",
    "        opt_alpha: the optimal alpha value\"\"\"\n",
    "    \n",
    "    #Fit model\n",
    "    modelcv = Model(cv = kf, alphas = alphas)\n",
    "    modelcv.fit(X_train, y_train)\n",
    "    \n",
    "    #Get optimal alpha value\n",
    "    opt_alpha = modelcv.alpha_\n",
    "    \n",
    "    #Get training MSE\n",
    "    train_mse = mean_squared_error(y_train, modelcv.predict(X_train))\n",
    "    \n",
    "    #Get test MSE\n",
    "    test_mse = mean_squared_error(y_test, modelcv.predict(X_test))\n",
    "    \n",
    "    #Get coefficients\n",
    "    coefficients = modelcv.coef_\n",
    "\n",
    "    return train_mse, test_mse, opt_alpha, coefficients   "
   ]
  },
  {
   "cell_type": "markdown",
   "metadata": {},
   "source": [
    "We'll define a KFold cross validation selector object, and use the list of alphas we defined above. "
   ]
  },
  {
   "cell_type": "code",
   "execution_count": 36,
   "metadata": {},
   "outputs": [],
   "source": [
    "#Define K-Fold cross-validation object\n",
    "kf = KFold(n_splits = 10, shuffle = True, random_state = 15)"
   ]
  },
  {
   "cell_type": "markdown",
   "metadata": {},
   "source": [
    "Now, we can utilize our function to find the optimal model using Ridge Regression. "
   ]
  },
  {
   "cell_type": "code",
   "execution_count": 37,
   "metadata": {},
   "outputs": [
    {
     "name": "stdout",
     "output_type": "stream",
     "text": [
      "Training MSE:  1.996351453815777e-09\n",
      "Test MSE:  1.8719063046215905e-09\n",
      "Optimal Alpha Value:  78.7939393939394\n"
     ]
    }
   ],
   "source": [
    "#Fit model\n",
    "r_train_mse, r_test_mse, r_alpha, r_coef = fit_model_cv(RidgeCV, \n",
    "                                                X_std_train, \n",
    "                                                y_std_train, \n",
    "                                                X_std_test, \n",
    "                                                y_std_test, \n",
    "                                                kf, \n",
    "                                                ridge_alphas)\n",
    "print(\"Training MSE: \", r_train_mse)\n",
    "print(\"Test MSE: \", r_test_mse)\n",
    "print(\"Optimal Alpha Value: \", r_alpha)"
   ]
  },
  {
   "cell_type": "markdown",
   "metadata": {},
   "source": [
    "We can compare how the test MSE for our ridge regression performs against both versions of our OLS model. "
   ]
  },
  {
   "cell_type": "code",
   "execution_count": 38,
   "metadata": {},
   "outputs": [
    {
     "data": {
      "text/plain": [
       "1"
      ]
     },
     "execution_count": 38,
     "metadata": {},
     "output_type": "execute_result"
    }
   ],
   "source": [
    "#Compare test MSE between models\n",
    "np.argmin([r_test_mse, ols_test_mse_2, ols_test_mse])"
   ]
  },
  {
   "cell_type": "markdown",
   "metadata": {},
   "source": [
    "Between the Ridge, OLS with subset selection using AIC, and OLS with all of our features, the OLS with subset selection performed the best. \n",
    "\n",
    "We are also interested in seeing how our coefficients change with Ridge regression. "
   ]
  },
  {
   "cell_type": "code",
   "execution_count": 39,
   "metadata": {},
   "outputs": [],
   "source": [
    "#Create dataframe with coefficients\n",
    "coef = pd.DataFrame({'Feature': X.columns, 'Index': np.arange(X.shape[1]), \n",
    "                    'Ridge': r_coef})"
   ]
  },
  {
   "cell_type": "code",
   "execution_count": 40,
   "metadata": {},
   "outputs": [
    {
     "data": {
      "text/plain": [
       "Text(0.5, 1.0, 'Ridge Coefficients')"
      ]
     },
     "execution_count": 40,
     "metadata": {},
     "output_type": "execute_result"
    },
    {
     "data": {
      "image/png": "[encoded data removed]",
      "text/plain": [
       "<Figure size 720x504 with 1 Axes>"
      ]
     },
     "metadata": {
      "needs_background": "light"
     },
     "output_type": "display_data"
    }
   ],
   "source": [
    "#Plot Coefficients\n",
    "plt.figure(figsize = (10,7))\n",
    "plt.bar(x = coef['Index'], height = coef['Ridge'])\n",
    "plt.axhline(0, color = 'black')\n",
    "plt.xlabel('Coefficient Number') \n",
    "plt.ylabel('Coefficient')\n",
    "plt.title('Ridge Coefficients')"
   ]
  },
  {
   "cell_type": "markdown",
   "metadata": {},
   "source": [
    "Let's look at which coefficients were the most significant for our Ridge regression. "
   ]
  },
  {
   "cell_type": "code",
   "execution_count": 41,
   "metadata": {},
   "outputs": [
    {
     "data": {
      "text/html": [
       "<div>\n",
       "<style scoped>\n",
       "    .dataframe tbody tr th:only-of-type {\n",
       "        vertical-align: middle;\n",
       "    }\n",
       "\n",
       "    .dataframe tbody tr th {\n",
       "        vertical-align: top;\n",
       "    }\n",
       "\n",
       "    .dataframe thead th {\n",
       "        text-align: right;\n",
       "    }\n",
       "</style>\n",
       "<table border=\"1\" class=\"dataframe\">\n",
       "  <thead>\n",
       "    <tr style=\"text-align: right;\">\n",
       "      <th></th>\n",
       "      <th>Feature</th>\n",
       "      <th>Index</th>\n",
       "      <th>Ridge</th>\n",
       "    </tr>\n",
       "  </thead>\n",
       "  <tbody>\n",
       "    <tr>\n",
       "      <th>45</th>\n",
       "      <td>ng_pipelength_5000</td>\n",
       "      <td>45</td>\n",
       "      <td>-1.333920e-05</td>\n",
       "    </tr>\n",
       "    <tr>\n",
       "      <th>43</th>\n",
       "      <td>ng_pipelength_10000</td>\n",
       "      <td>43</td>\n",
       "      <td>7.594676e-06</td>\n",
       "    </tr>\n",
       "    <tr>\n",
       "      <th>24</th>\n",
       "      <td>LULC_developed_high_int_perc</td>\n",
       "      <td>24</td>\n",
       "      <td>7.357818e-06</td>\n",
       "    </tr>\n",
       "    <tr>\n",
       "      <th>26</th>\n",
       "      <td>LULC_developed_med_int_perc</td>\n",
       "      <td>26</td>\n",
       "      <td>-6.311913e-06</td>\n",
       "    </tr>\n",
       "    <tr>\n",
       "      <th>44</th>\n",
       "      <td>ng_pipelength_2</td>\n",
       "      <td>44</td>\n",
       "      <td>5.881006e-06</td>\n",
       "    </tr>\n",
       "    <tr>\n",
       "      <th>18</th>\n",
       "      <td>LULC_Grassland</td>\n",
       "      <td>18</td>\n",
       "      <td>5.230250e-06</td>\n",
       "    </tr>\n",
       "    <tr>\n",
       "      <th>47</th>\n",
       "      <td>tropomi_no2_mean</td>\n",
       "      <td>47</td>\n",
       "      <td>-5.159556e-06</td>\n",
       "    </tr>\n",
       "    <tr>\n",
       "      <th>25</th>\n",
       "      <td>LULC_developed_low_int_perc</td>\n",
       "      <td>25</td>\n",
       "      <td>4.398804e-06</td>\n",
       "    </tr>\n",
       "    <tr>\n",
       "      <th>34</th>\n",
       "      <td>LULC_shrub_scrub_perc</td>\n",
       "      <td>34</td>\n",
       "      <td>4.237135e-06</td>\n",
       "    </tr>\n",
       "    <tr>\n",
       "      <th>36</th>\n",
       "      <td>LULC_woody_wetlands_perc</td>\n",
       "      <td>36</td>\n",
       "      <td>3.794435e-06</td>\n",
       "    </tr>\n",
       "    <tr>\n",
       "      <th>46</th>\n",
       "      <td>ng_pipelength_50000</td>\n",
       "      <td>46</td>\n",
       "      <td>-3.524783e-06</td>\n",
       "    </tr>\n",
       "    <tr>\n",
       "      <th>49</th>\n",
       "      <td>tropomi_so2_mean</td>\n",
       "      <td>49</td>\n",
       "      <td>-3.142158e-06</td>\n",
       "    </tr>\n",
       "    <tr>\n",
       "      <th>12</th>\n",
       "      <td>EmitterType_Oil.and.Gas.Well</td>\n",
       "      <td>12</td>\n",
       "      <td>-2.661267e-06</td>\n",
       "    </tr>\n",
       "    <tr>\n",
       "      <th>15</th>\n",
       "      <td>LULC_Cultivated.Crops</td>\n",
       "      <td>15</td>\n",
       "      <td>2.644364e-06</td>\n",
       "    </tr>\n",
       "    <tr>\n",
       "      <th>39</th>\n",
       "      <td>OZONE</td>\n",
       "      <td>39</td>\n",
       "      <td>2.615763e-06</td>\n",
       "    </tr>\n",
       "    <tr>\n",
       "      <th>40</th>\n",
       "      <td>PM10</td>\n",
       "      <td>40</td>\n",
       "      <td>-2.553931e-06</td>\n",
       "    </tr>\n",
       "    <tr>\n",
       "      <th>42</th>\n",
       "      <td>ng_pipelength_1000</td>\n",
       "      <td>42</td>\n",
       "      <td>2.271749e-06</td>\n",
       "    </tr>\n",
       "    <tr>\n",
       "      <th>48</th>\n",
       "      <td>tropomi_o3_mean</td>\n",
       "      <td>48</td>\n",
       "      <td>-2.109900e-06</td>\n",
       "    </tr>\n",
       "    <tr>\n",
       "      <th>17</th>\n",
       "      <td>LULC_Dev..Med.Int</td>\n",
       "      <td>17</td>\n",
       "      <td>1.942669e-06</td>\n",
       "    </tr>\n",
       "    <tr>\n",
       "      <th>30</th>\n",
       "      <td>LULC_grassland_herbaceous_perc</td>\n",
       "      <td>30</td>\n",
       "      <td>-1.682642e-06</td>\n",
       "    </tr>\n",
       "    <tr>\n",
       "      <th>10</th>\n",
       "      <td>EmitterType_Oil.and.Gas.Facility.Boundary</td>\n",
       "      <td>10</td>\n",
       "      <td>-1.458717e-06</td>\n",
       "    </tr>\n",
       "    <tr>\n",
       "      <th>19</th>\n",
       "      <td>LULC_Mixed.Forest</td>\n",
       "      <td>19</td>\n",
       "      <td>1.379277e-06</td>\n",
       "    </tr>\n",
       "    <tr>\n",
       "      <th>27</th>\n",
       "      <td>LULC_developed_open_space_perc</td>\n",
       "      <td>27</td>\n",
       "      <td>-1.235561e-06</td>\n",
       "    </tr>\n",
       "    <tr>\n",
       "      <th>37</th>\n",
       "      <td>NN_Distance_m</td>\n",
       "      <td>37</td>\n",
       "      <td>1.133811e-06</td>\n",
       "    </tr>\n",
       "    <tr>\n",
       "      <th>41</th>\n",
       "      <td>PM2.5</td>\n",
       "      <td>41</td>\n",
       "      <td>1.129335e-06</td>\n",
       "    </tr>\n",
       "    <tr>\n",
       "      <th>21</th>\n",
       "      <td>LULC_barren_land_perc</td>\n",
       "      <td>21</td>\n",
       "      <td>-1.093767e-06</td>\n",
       "    </tr>\n",
       "    <tr>\n",
       "      <th>32</th>\n",
       "      <td>LULC_open_water_perc</td>\n",
       "      <td>32</td>\n",
       "      <td>9.872421e-07</td>\n",
       "    </tr>\n",
       "    <tr>\n",
       "      <th>8</th>\n",
       "      <td>EmitterType_Natural.Gas.Station</td>\n",
       "      <td>8</td>\n",
       "      <td>-9.635033e-07</td>\n",
       "    </tr>\n",
       "    <tr>\n",
       "      <th>1</th>\n",
       "      <td>EmitterType_Compressed.Natural.Gas.Fueling.Sta...</td>\n",
       "      <td>1</td>\n",
       "      <td>-9.036676e-07</td>\n",
       "    </tr>\n",
       "    <tr>\n",
       "      <th>20</th>\n",
       "      <td>LULC_Open.Water</td>\n",
       "      <td>20</td>\n",
       "      <td>8.390043e-07</td>\n",
       "    </tr>\n",
       "    <tr>\n",
       "      <th>11</th>\n",
       "      <td>EmitterType_Oil.and.Gas.Field.Boundary</td>\n",
       "      <td>11</td>\n",
       "      <td>-7.654495e-07</td>\n",
       "    </tr>\n",
       "    <tr>\n",
       "      <th>22</th>\n",
       "      <td>LULC_cultivated_crops_perc</td>\n",
       "      <td>22</td>\n",
       "      <td>7.203726e-07</td>\n",
       "    </tr>\n",
       "    <tr>\n",
       "      <th>5</th>\n",
       "      <td>EmitterType_Landfill</td>\n",
       "      <td>5</td>\n",
       "      <td>-6.516867e-07</td>\n",
       "    </tr>\n",
       "    <tr>\n",
       "      <th>23</th>\n",
       "      <td>LULC_deciduous_forest_perc</td>\n",
       "      <td>23</td>\n",
       "      <td>6.292292e-07</td>\n",
       "    </tr>\n",
       "    <tr>\n",
       "      <th>50</th>\n",
       "      <td>weighted_cow_density</td>\n",
       "      <td>50</td>\n",
       "      <td>6.107679e-07</td>\n",
       "    </tr>\n",
       "    <tr>\n",
       "      <th>33</th>\n",
       "      <td>LULC_pasture_hay_perc</td>\n",
       "      <td>33</td>\n",
       "      <td>-6.059741e-07</td>\n",
       "    </tr>\n",
       "    <tr>\n",
       "      <th>28</th>\n",
       "      <td>LULC_emergent_herbaceous_wetlands_perc</td>\n",
       "      <td>28</td>\n",
       "      <td>-5.097314e-07</td>\n",
       "    </tr>\n",
       "    <tr>\n",
       "      <th>31</th>\n",
       "      <td>LULC_mixed_forest_perc</td>\n",
       "      <td>31</td>\n",
       "      <td>4.975006e-07</td>\n",
       "    </tr>\n",
       "    <tr>\n",
       "      <th>38</th>\n",
       "      <td>NO2</td>\n",
       "      <td>38</td>\n",
       "      <td>4.497954e-07</td>\n",
       "    </tr>\n",
       "    <tr>\n",
       "      <th>14</th>\n",
       "      <td>EmitterType_Refinery</td>\n",
       "      <td>14</td>\n",
       "      <td>-3.937767e-07</td>\n",
       "    </tr>\n",
       "    <tr>\n",
       "      <th>29</th>\n",
       "      <td>LULC_evergreen_forest_perc</td>\n",
       "      <td>29</td>\n",
       "      <td>-3.197741e-07</td>\n",
       "    </tr>\n",
       "    <tr>\n",
       "      <th>2</th>\n",
       "      <td>EmitterType_Dairy</td>\n",
       "      <td>2</td>\n",
       "      <td>2.695776e-07</td>\n",
       "    </tr>\n",
       "    <tr>\n",
       "      <th>13</th>\n",
       "      <td>EmitterType_Power.Plant</td>\n",
       "      <td>13</td>\n",
       "      <td>-2.574866e-07</td>\n",
       "    </tr>\n",
       "    <tr>\n",
       "      <th>6</th>\n",
       "      <td>EmitterType_Liquefied.Natural.Gas.Fueling.Station</td>\n",
       "      <td>6</td>\n",
       "      <td>-2.465506e-07</td>\n",
       "    </tr>\n",
       "    <tr>\n",
       "      <th>3</th>\n",
       "      <td>EmitterType_Digester</td>\n",
       "      <td>3</td>\n",
       "      <td>-1.848690e-07</td>\n",
       "    </tr>\n",
       "    <tr>\n",
       "      <th>9</th>\n",
       "      <td>EmitterType_Natural.Gas.Storage.Field</td>\n",
       "      <td>9</td>\n",
       "      <td>-1.764563e-07</td>\n",
       "    </tr>\n",
       "    <tr>\n",
       "      <th>16</th>\n",
       "      <td>LULC_Dev..Low.Int</td>\n",
       "      <td>16</td>\n",
       "      <td>-1.510065e-07</td>\n",
       "    </tr>\n",
       "    <tr>\n",
       "      <th>7</th>\n",
       "      <td>EmitterType_Natural.Gas.Processing.Plants</td>\n",
       "      <td>7</td>\n",
       "      <td>-4.097668e-08</td>\n",
       "    </tr>\n",
       "    <tr>\n",
       "      <th>0</th>\n",
       "      <td>EmitterType_Composting.Sites</td>\n",
       "      <td>0</td>\n",
       "      <td>-2.194273e-08</td>\n",
       "    </tr>\n",
       "    <tr>\n",
       "      <th>4</th>\n",
       "      <td>EmitterType_Feed.Lot</td>\n",
       "      <td>4</td>\n",
       "      <td>-2.138883e-09</td>\n",
       "    </tr>\n",
       "    <tr>\n",
       "      <th>35</th>\n",
       "      <td>LULC_total_perc</td>\n",
       "      <td>35</td>\n",
       "      <td>0.000000e+00</td>\n",
       "    </tr>\n",
       "  </tbody>\n",
       "</table>\n",
       "</div>"
      ],
      "text/plain": [
       "                                              Feature  Index         Ridge\n",
       "45                                 ng_pipelength_5000     45 -1.333920e-05\n",
       "43                                ng_pipelength_10000     43  7.594676e-06\n",
       "24                       LULC_developed_high_int_perc     24  7.357818e-06\n",
       "26                        LULC_developed_med_int_perc     26 -6.311913e-06\n",
       "44                                    ng_pipelength_2     44  5.881006e-06\n",
       "18                                     LULC_Grassland     18  5.230250e-06\n",
       "47                                   tropomi_no2_mean     47 -5.159556e-06\n",
       "25                        LULC_developed_low_int_perc     25  4.398804e-06\n",
       "34                              LULC_shrub_scrub_perc     34  4.237135e-06\n",
       "36                           LULC_woody_wetlands_perc     36  3.794435e-06\n",
       "46                                ng_pipelength_50000     46 -3.524783e-06\n",
       "49                                   tropomi_so2_mean     49 -3.142158e-06\n",
       "12                       EmitterType_Oil.and.Gas.Well     12 -2.661267e-06\n",
       "15                              LULC_Cultivated.Crops     15  2.644364e-06\n",
       "39                                              OZONE     39  2.615763e-06\n",
       "40                                               PM10     40 -2.553931e-06\n",
       "42                                 ng_pipelength_1000     42  2.271749e-06\n",
       "48                                    tropomi_o3_mean     48 -2.109900e-06\n",
       "17                                  LULC_Dev..Med.Int     17  1.942669e-06\n",
       "30                     LULC_grassland_herbaceous_perc     30 -1.682642e-06\n",
       "10          EmitterType_Oil.and.Gas.Facility.Boundary     10 -1.458717e-06\n",
       "19                                  LULC_Mixed.Forest     19  1.379277e-06\n",
       "27                     LULC_developed_open_space_perc     27 -1.235561e-06\n",
       "37                                      NN_Distance_m     37  1.133811e-06\n",
       "41                                              PM2.5     41  1.129335e-06\n",
       "21                              LULC_barren_land_perc     21 -1.093767e-06\n",
       "32                               LULC_open_water_perc     32  9.872421e-07\n",
       "8                     EmitterType_Natural.Gas.Station      8 -9.635033e-07\n",
       "1   EmitterType_Compressed.Natural.Gas.Fueling.Sta...      1 -9.036676e-07\n",
       "20                                    LULC_Open.Water     20  8.390043e-07\n",
       "11             EmitterType_Oil.and.Gas.Field.Boundary     11 -7.654495e-07\n",
       "22                         LULC_cultivated_crops_perc     22  7.203726e-07\n",
       "5                                EmitterType_Landfill      5 -6.516867e-07\n",
       "23                         LULC_deciduous_forest_perc     23  6.292292e-07\n",
       "50                               weighted_cow_density     50  6.107679e-07\n",
       "33                              LULC_pasture_hay_perc     33 -6.059741e-07\n",
       "28             LULC_emergent_herbaceous_wetlands_perc     28 -5.097314e-07\n",
       "31                             LULC_mixed_forest_perc     31  4.975006e-07\n",
       "38                                                NO2     38  4.497954e-07\n",
       "14                               EmitterType_Refinery     14 -3.937767e-07\n",
       "29                         LULC_evergreen_forest_perc     29 -3.197741e-07\n",
       "2                                   EmitterType_Dairy      2  2.695776e-07\n",
       "13                            EmitterType_Power.Plant     13 -2.574866e-07\n",
       "6   EmitterType_Liquefied.Natural.Gas.Fueling.Station      6 -2.465506e-07\n",
       "3                                EmitterType_Digester      3 -1.848690e-07\n",
       "9               EmitterType_Natural.Gas.Storage.Field      9 -1.764563e-07\n",
       "16                                  LULC_Dev..Low.Int     16 -1.510065e-07\n",
       "7           EmitterType_Natural.Gas.Processing.Plants      7 -4.097668e-08\n",
       "0                        EmitterType_Composting.Sites      0 -2.194273e-08\n",
       "4                                EmitterType_Feed.Lot      4 -2.138883e-09\n",
       "35                                    LULC_total_perc     35  0.000000e+00"
      ]
     },
     "execution_count": 41,
     "metadata": {},
     "output_type": "execute_result"
    }
   ],
   "source": [
    "#Sort coefficients from largest in absolute value to smallest\n",
    "coef.iloc[(-coef['Ridge'].abs()).argsort()]"
   ]
  },
  {
   "cell_type": "markdown",
   "metadata": {},
   "source": [
    "In line with our OLS model, `ng_pipeline_5000` was still our most significant feature. This time, however, `ng_pipelength_10000` was also significant, followed by `LULC_developed_high_int_perc` and `LULC_developed_med_int_perc`. \n",
    "\n",
    "Interestingly, although Ridge does not typically push coefficients to zero, it did so in our case, likely because our coefficients were so small to begin with. While `LULC_Dev..Open.Space` and `LULC_Evergreen.Forest` were significant in our OLS model, they were pushed to zero in our Ridge model. "
   ]
  },
  {
   "cell_type": "markdown",
   "metadata": {},
   "source": [
    "#### Model 3: Lasso Regression\n",
    "Lasso, similar to Ridge, will shrink our coefficients; however, Lasso has the benefit of also performing subset selection, since some coefficients can be shrunk to zero. We'll try this model next, and see if we can achieve a better performance. \n",
    "\n",
    "Lasso has an advantage over Ridge when a small number of predictors that have large coefficients. So far, this doesn't seem to be the case with our model; however, we'll still want to try this model to compare performance. \n",
    "\n",
    "For our Lasso model, we'll use the same K-Fold cross validation. However, we'll define a new set of alpha values, since optimal Lasso alpha values tend to have a smaller range than Ridge alpha values. "
   ]
  },
  {
   "cell_type": "code",
   "execution_count": 42,
   "metadata": {},
   "outputs": [],
   "source": [
    "#Define lasso alpha values\n",
    "lasso_alphas = np.linspace(1e-5, 10, 100)"
   ]
  },
  {
   "cell_type": "code",
   "execution_count": 43,
   "metadata": {
    "scrolled": false
   },
   "outputs": [
    {
     "data": {
      "text/plain": [
       "<matplotlib.legend.Legend at 0x7fccce3bab20>"
      ]
     },
     "execution_count": 43,
     "metadata": {},
     "output_type": "execute_result"
    },
    {
     "data": {
      "image/png": "[encoded data removed]",
      "text/plain": [
       "<Figure size 720x504 with 1 Axes>"
      ]
     },
     "metadata": {
      "needs_background": "light"
     },
     "output_type": "display_data"
    }
   ],
   "source": [
    "plt.figure(figsize = (10, 7))\n",
    "\n",
    "#Get MSEs for training data using Ridge Regression\n",
    "mse_lasso = model_mse_cv(Lasso, X_std_train, y_std_train, lasso_alphas, 10)\n",
    "plt.plot(lasso_alphas, mse_lasso)\n",
    "plt.plot(lasso_alphas[np.argmin(mse_lasso)], min(mse_lasso), 'ro', label = 'minimized MSE, alpha= ' + \n",
    "         str(lasso_alphas[np.argmin(mse_lasso)]))\n",
    "plt.title(\"Lasso Regression MSE by alpha value\")\n",
    "plt.xlabel('Alpha')\n",
    "plt.ylabel('MSE')\n",
    "plt.legend()"
   ]
  },
  {
   "cell_type": "markdown",
   "metadata": {},
   "source": [
    "The plot above gives us strange results. It seems that the MSE is the same regardless of the alpha value. This may be because Lasso shrinks all our coefficients to zero. Let's see if this is the case. "
   ]
  },
  {
   "cell_type": "code",
   "execution_count": 44,
   "metadata": {},
   "outputs": [
    {
     "name": "stdout",
     "output_type": "stream",
     "text": [
      "Training MSE:  2.0517149255242138e-09\n",
      "Test MSE:  1.9027884194795224e-09\n",
      "Optimal Alpha Value:  10.0\n"
     ]
    }
   ],
   "source": [
    "#Fit model\n",
    "l_train_mse, l_test_mse, l_alpha, l_coef = fit_model_cv(LassoCV, \n",
    "                                                X_std_train, \n",
    "                                                y_std_train, \n",
    "                                                X_std_test, \n",
    "                                                y_std_test, \n",
    "                                                kf, \n",
    "                                                lasso_alphas)\n",
    "print(\"Training MSE: \", l_train_mse)\n",
    "print(\"Test MSE: \", l_test_mse)\n",
    "print(\"Optimal Alpha Value: \", l_alpha)"
   ]
  },
  {
   "cell_type": "code",
   "execution_count": 45,
   "metadata": {},
   "outputs": [
    {
     "data": {
      "text/plain": [
       "array([ 0., -0.,  0.,  0.,  0.,  0.,  0.,  0.,  0., -0.,  0., -0., -0.,\n",
       "        0., -0.,  0., -0., -0., -0.,  0.,  0., -0., -0.,  0.,  0.,  0.,\n",
       "        0., -0.,  0.,  0., -0.,  0.,  0.,  0.,  0.,  0.,  0.,  0.,  0.,\n",
       "        0., -0.,  0.,  0.,  0.,  0.,  0.,  0.,  0., -0., -0.,  0.])"
      ]
     },
     "execution_count": 45,
     "metadata": {},
     "output_type": "execute_result"
    }
   ],
   "source": [
    "l_coef"
   ]
  },
  {
   "cell_type": "markdown",
   "metadata": {},
   "source": [
    "The results show us that Lasso did indeed shrink all our coefficients to zero. We'll try an even smaller starting range of alpha values to see if this changes anything. Unfortunately, we can't start too small, or `scikitlearn` will give an error since the alpha values need to be greater than zero. We'll try one order of magnitude smaller. "
   ]
  },
  {
   "cell_type": "code",
   "execution_count": 46,
   "metadata": {},
   "outputs": [
    {
     "data": {
      "text/plain": [
       "<matplotlib.legend.Legend at 0x7fccb39948e0>"
      ]
     },
     "execution_count": 46,
     "metadata": {},
     "output_type": "execute_result"
    },
    {
     "data": {
      "image/png": "[encoded data removed]",
      "text/plain": [
       "<Figure size 720x504 with 1 Axes>"
      ]
     },
     "metadata": {
      "needs_background": "light"
     },
     "output_type": "display_data"
    }
   ],
   "source": [
    "#Define lasso alpha values\n",
    "lasso_alphas = np.linspace(1e-6, 10, 100)\n",
    "\n",
    "plt.figure(figsize = (10, 7))\n",
    "\n",
    "#Get MSEs for training data using Ridge Regression\n",
    "mse_lasso = model_mse_cv(Lasso, X_std_train, y_std_train, lasso_alphas, 10)\n",
    "plt.plot(lasso_alphas, mse_lasso)\n",
    "plt.plot(lasso_alphas[np.argmin(mse_lasso)], min(mse_lasso), 'ro', label = 'minimized MSE, alpha= ' + \n",
    "         str(lasso_alphas[np.argmin(mse_lasso)]))\n",
    "plt.title(\"Lasso Regression MSE by alpha value\")\n",
    "plt.xlabel('Alpha')\n",
    "plt.ylabel('MSE')\n",
    "plt.legend()"
   ]
  },
  {
   "cell_type": "markdown",
   "metadata": {},
   "source": [
    "We managed to get a minimum MSE value with a very small Lasso value. Now we can run the model again to see the results. "
   ]
  },
  {
   "cell_type": "code",
   "execution_count": 47,
   "metadata": {},
   "outputs": [
    {
     "name": "stdout",
     "output_type": "stream",
     "text": [
      "Training MSE:  2.0235635238291385e-09\n",
      "Test MSE:  1.881754027372002e-09\n",
      "Optimal Alpha Value:  1e-06\n"
     ]
    }
   ],
   "source": [
    "#Fit model\n",
    "l_train_mse, l_test_mse, l_alpha, l_coef = fit_model_cv(LassoCV, \n",
    "                                                X_std_train, \n",
    "                                                y_std_train, \n",
    "                                                X_std_test, \n",
    "                                                y_std_test, \n",
    "                                                kf, \n",
    "                                                lasso_alphas)\n",
    "print(\"Training MSE: \", l_train_mse)\n",
    "print(\"Test MSE: \", l_test_mse)\n",
    "print(\"Optimal Alpha Value: \", l_alpha)"
   ]
  },
  {
   "cell_type": "markdown",
   "metadata": {},
   "source": [
    "Let's take a look at the coeffiicients, and how they compare to Ridge."
   ]
  },
  {
   "cell_type": "code",
   "execution_count": 48,
   "metadata": {
    "scrolled": true
   },
   "outputs": [],
   "source": [
    "coef['Lasso'] = l_coef"
   ]
  },
  {
   "cell_type": "code",
   "execution_count": 49,
   "metadata": {},
   "outputs": [
    {
     "data": {
      "text/plain": [
       "Text(0.5, 1.0, 'Lasso & Ridge Coefficients')"
      ]
     },
     "execution_count": 49,
     "metadata": {},
     "output_type": "execute_result"
    },
    {
     "data": {
      "image/png": "[encoded data removed]",
      "text/plain": [
       "<Figure size 720x504 with 1 Axes>"
      ]
     },
     "metadata": {
      "needs_background": "light"
     },
     "output_type": "display_data"
    }
   ],
   "source": [
    "#Plot Coefficients\n",
    "ind = np.arange(coef.shape[0])\n",
    "width = 0.4\n",
    "pos = np.array([ind-width, ind])\n",
    "\n",
    "plt.figure(figsize = (10,7))\n",
    "\n",
    "for i in np.arange(2):\n",
    "    plt.bar(x = pos[i], height = coef.iloc[:, i + 2], width = width, label = coef.columns[i+2])\n",
    "plt.legend()\n",
    "plt.axhline(0, color = 'black')\n",
    "plt.xlabel('Coefficient Number') \n",
    "plt.ylabel('Coefficient')\n",
    "plt.title('Lasso & Ridge Coefficients')"
   ]
  },
  {
   "cell_type": "markdown",
   "metadata": {},
   "source": [
    "Our Lasso model substantially reduced our number of features, leaving us with 7 features. Let's take a look at which feature coefficients are greater than 0. "
   ]
  },
  {
   "cell_type": "code",
   "execution_count": 50,
   "metadata": {
    "scrolled": true
   },
   "outputs": [
    {
     "data": {
      "text/html": [
       "<div>\n",
       "<style scoped>\n",
       "    .dataframe tbody tr th:only-of-type {\n",
       "        vertical-align: middle;\n",
       "    }\n",
       "\n",
       "    .dataframe tbody tr th {\n",
       "        vertical-align: top;\n",
       "    }\n",
       "\n",
       "    .dataframe thead th {\n",
       "        text-align: right;\n",
       "    }\n",
       "</style>\n",
       "<table border=\"1\" class=\"dataframe\">\n",
       "  <thead>\n",
       "    <tr style=\"text-align: right;\">\n",
       "      <th></th>\n",
       "      <th>Feature</th>\n",
       "      <th>Index</th>\n",
       "      <th>Ridge</th>\n",
       "      <th>Lasso</th>\n",
       "    </tr>\n",
       "  </thead>\n",
       "  <tbody>\n",
       "    <tr>\n",
       "      <th>36</th>\n",
       "      <td>LULC_woody_wetlands_perc</td>\n",
       "      <td>36</td>\n",
       "      <td>3.794435e-06</td>\n",
       "      <td>2.213243e-06</td>\n",
       "    </tr>\n",
       "    <tr>\n",
       "      <th>34</th>\n",
       "      <td>LULC_shrub_scrub_perc</td>\n",
       "      <td>34</td>\n",
       "      <td>4.237135e-06</td>\n",
       "      <td>1.360941e-06</td>\n",
       "    </tr>\n",
       "    <tr>\n",
       "      <th>2</th>\n",
       "      <td>EmitterType_Dairy</td>\n",
       "      <td>2</td>\n",
       "      <td>2.695776e-07</td>\n",
       "      <td>1.184980e-06</td>\n",
       "    </tr>\n",
       "    <tr>\n",
       "      <th>37</th>\n",
       "      <td>NN_Distance_m</td>\n",
       "      <td>37</td>\n",
       "      <td>1.133811e-06</td>\n",
       "      <td>1.062914e-06</td>\n",
       "    </tr>\n",
       "    <tr>\n",
       "      <th>49</th>\n",
       "      <td>tropomi_so2_mean</td>\n",
       "      <td>49</td>\n",
       "      <td>-3.142158e-06</td>\n",
       "      <td>-1.019307e-06</td>\n",
       "    </tr>\n",
       "    <tr>\n",
       "      <th>19</th>\n",
       "      <td>LULC_Mixed.Forest</td>\n",
       "      <td>19</td>\n",
       "      <td>1.379277e-06</td>\n",
       "      <td>5.647842e-07</td>\n",
       "    </tr>\n",
       "    <tr>\n",
       "      <th>44</th>\n",
       "      <td>ng_pipelength_2</td>\n",
       "      <td>44</td>\n",
       "      <td>5.881006e-06</td>\n",
       "      <td>5.353923e-07</td>\n",
       "    </tr>\n",
       "  </tbody>\n",
       "</table>\n",
       "</div>"
      ],
      "text/plain": [
       "                     Feature  Index         Ridge         Lasso\n",
       "36  LULC_woody_wetlands_perc     36  3.794435e-06  2.213243e-06\n",
       "34     LULC_shrub_scrub_perc     34  4.237135e-06  1.360941e-06\n",
       "2          EmitterType_Dairy      2  2.695776e-07  1.184980e-06\n",
       "37             NN_Distance_m     37  1.133811e-06  1.062914e-06\n",
       "49          tropomi_so2_mean     49 -3.142158e-06 -1.019307e-06\n",
       "19         LULC_Mixed.Forest     19  1.379277e-06  5.647842e-07\n",
       "44           ng_pipelength_2     44  5.881006e-06  5.353923e-07"
      ]
     },
     "execution_count": 50,
     "metadata": {},
     "output_type": "execute_result"
    }
   ],
   "source": [
    "#subset by Lasso coefficients not equal to 0\n",
    "lasso = coef[coef['Lasso'] != 0]\n",
    "\n",
    "#Sort coefficients from largest in absolute value to smallest\n",
    "lasso.iloc[(-lasso['Lasso'].abs()).argsort()]"
   ]
  },
  {
   "cell_type": "markdown",
   "metadata": {},
   "source": [
    "Interestingly, for our Lasso model, the most significant feature was not the same as our Ridge and OLS models. Here, we have `LULC_woody_wetlands_perc`, `LULC_shrub_scrub_perc`, `EmitterType_Dairy` as our three most significant features. \n",
    "\n",
    "The `tropomi_so2_mean` has consistently stayed in the top range of most significant features in all of our models. "
   ]
  },
  {
   "cell_type": "markdown",
   "metadata": {},
   "source": [
    "#### Model Comparison: OLS, Ridge, and Lasso"
   ]
  },
  {
   "cell_type": "markdown",
   "metadata": {},
   "source": [
    "Below, we'll compare the test MSE for all our models. "
   ]
  },
  {
   "cell_type": "code",
   "execution_count": 51,
   "metadata": {
    "scrolled": true
   },
   "outputs": [
    {
     "name": "stdout",
     "output_type": "stream",
     "text": [
      "OLS Test MSE:  1.8708430004665657e-09\n",
      "OLS Test MSE feature selection using AIC:  1.8702256648536652e-09\n",
      "Ridge Test MSE:  1.8719063046215905e-09\n",
      "Lasso Test MSE:  1.881754027372002e-09\n"
     ]
    }
   ],
   "source": [
    "#Print OLS\n",
    "print(\"OLS Test MSE: \", ols_test_mse)\n",
    "print(\"OLS Test MSE feature selection using AIC: \", ols_test_mse_2)\n",
    "\n",
    "#Print Ridge Values\n",
    "print(\"Ridge Test MSE: \", r_test_mse)\n",
    "\n",
    "#Print Lasso Values\n",
    "print(\"Lasso Test MSE: \", l_test_mse)"
   ]
  },
  {
   "cell_type": "code",
   "execution_count": 52,
   "metadata": {},
   "outputs": [
    {
     "name": "stdout",
     "output_type": "stream",
     "text": [
      "Lowest Test MSE: 1.8702256648536652e-09\n",
      "1.8702256648536652e-09\n"
     ]
    }
   ],
   "source": [
    "#Find the index of the lowest MSE\n",
    "all_mses = np.array([ols_test_mse, ols_test_mse_2, r_test_mse, l_test_mse])\n",
    "print(\"Lowest Test MSE:\", np.min(all_mses))\n",
    "print(all_mses[np.argmin(all_mses)])"
   ]
  },
  {
   "cell_type": "markdown",
   "metadata": {},
   "source": [
    "With our predictions we can map our results from each model. If we had more time, we could have predicted methane at locations that aren't in the Vista dataset. But for this exercise let's just use the testing subset and see how those predictions differ from our response variable.\n",
    "\n",
    "Let's first set up a function that gives us the predicted value for our model"
   ]
  },
  {
   "cell_type": "code",
   "execution_count": 163,
   "metadata": {},
   "outputs": [],
   "source": [
    "def fit_model_predict(Model, X_train, X_test, y_train, y_test, alpha = 1):\n",
    "    \"\"\"\n",
    "    This function fits a model of type Model to the data in the training set of X and y,\n",
    "    and returns the predicted values\n",
    "    Inputs: \n",
    "        Model (sklearn model): the type of sklearn model with which to fit the data - LinearRegression, Ridge, or Lasso\n",
    "        X_train: the set of features used to train the model\n",
    "        y_train: the set of response variable observations used to train the model\n",
    "        X_test: the set of features used to test the model\n",
    "        y_test: the set of response variable observations used to test the model\n",
    "        alpha: the penalty parameter, to be used with Ridge and Lasso models only\n",
    "    \"\"\"    \n",
    "    \n",
    "    if Model == LinearRegression:\n",
    "        model = Model()\n",
    "    else:\n",
    "        model = Model(alpha = alpha)\n",
    "        \n",
    "    model.fit(X_train, y_train)\n",
    "    \n",
    "    return model.predict(X_test)"
   ]
  },
  {
   "cell_type": "markdown",
   "metadata": {},
   "source": [
    "And now let's use the above function to find the predicted values off of the test portion of our data"
   ]
  },
  {
   "cell_type": "code",
   "execution_count": 165,
   "metadata": {},
   "outputs": [
    {
     "data": {
      "text/html": [
       "<div>\n",
       "<style scoped>\n",
       "    .dataframe tbody tr th:only-of-type {\n",
       "        vertical-align: middle;\n",
       "    }\n",
       "\n",
       "    .dataframe tbody tr th {\n",
       "        vertical-align: top;\n",
       "    }\n",
       "\n",
       "    .dataframe thead th {\n",
       "        text-align: right;\n",
       "    }\n",
       "</style>\n",
       "<table border=\"1\" class=\"dataframe\">\n",
       "  <thead>\n",
       "    <tr style=\"text-align: right;\">\n",
       "      <th></th>\n",
       "      <th>Vista_ID</th>\n",
       "      <th>AVIRIS_CH4_median_date</th>\n",
       "      <th>AVIRIS_CH4_pxcount</th>\n",
       "      <th>CH4_Mass_kg</th>\n",
       "      <th>LULC_majority_class</th>\n",
       "      <th>geometry</th>\n",
       "      <th>ols</th>\n",
       "      <th>ridge</th>\n",
       "      <th>lasso</th>\n",
       "    </tr>\n",
       "  </thead>\n",
       "  <tbody>\n",
       "    <tr>\n",
       "      <th>4039</th>\n",
       "      <td>OGW104152</td>\n",
       "      <td>2017-09-06</td>\n",
       "      <td>484.5517</td>\n",
       "      <td>0.0001</td>\n",
       "      <td>Grassland</td>\n",
       "      <td>MULTIPOLYGON (((93473.881 -287304.443, 93473.0...</td>\n",
       "      <td>0.000120</td>\n",
       "      <td>0.000120</td>\n",
       "      <td>0.000116</td>\n",
       "    </tr>\n",
       "    <tr>\n",
       "      <th>18693</th>\n",
       "      <td>OGW076542</td>\n",
       "      <td>2017-10-10</td>\n",
       "      <td>1527.4000</td>\n",
       "      <td>0.0001</td>\n",
       "      <td>Grassland</td>\n",
       "      <td>MULTIPOLYGON (((54687.648 -304351.272, 54686.8...</td>\n",
       "      <td>0.000121</td>\n",
       "      <td>0.000122</td>\n",
       "      <td>0.000115</td>\n",
       "    </tr>\n",
       "    <tr>\n",
       "      <th>4973</th>\n",
       "      <td>OGW105331</td>\n",
       "      <td>2017-09-05</td>\n",
       "      <td>743.3333</td>\n",
       "      <td>0.0001</td>\n",
       "      <td>Grassland</td>\n",
       "      <td>MULTIPOLYGON (((94342.214 -285248.417, 94341.3...</td>\n",
       "      <td>0.000117</td>\n",
       "      <td>0.000117</td>\n",
       "      <td>0.000118</td>\n",
       "    </tr>\n",
       "    <tr>\n",
       "      <th>33518</th>\n",
       "      <td>OGW179513</td>\n",
       "      <td>2017-10-03</td>\n",
       "      <td>1190.6667</td>\n",
       "      <td>0.0001</td>\n",
       "      <td>Grassland</td>\n",
       "      <td>MULTIPOLYGON (((100454.618 -280232.376, 100453...</td>\n",
       "      <td>0.000120</td>\n",
       "      <td>0.000120</td>\n",
       "      <td>0.000121</td>\n",
       "    </tr>\n",
       "    <tr>\n",
       "      <th>31681</th>\n",
       "      <td>OGW135655</td>\n",
       "      <td>2017-09-02</td>\n",
       "      <td>1730.7500</td>\n",
       "      <td>0.0001</td>\n",
       "      <td>Grassland</td>\n",
       "      <td>MULTIPOLYGON (((-34848.114 -198266.117, -34848...</td>\n",
       "      <td>0.000109</td>\n",
       "      <td>0.000109</td>\n",
       "      <td>0.000111</td>\n",
       "    </tr>\n",
       "  </tbody>\n",
       "</table>\n",
       "</div>"
      ],
      "text/plain": [
       "        Vista_ID AVIRIS_CH4_median_date  AVIRIS_CH4_pxcount  CH4_Mass_kg  \\\n",
       "4039   OGW104152             2017-09-06            484.5517       0.0001   \n",
       "18693  OGW076542             2017-10-10           1527.4000       0.0001   \n",
       "4973   OGW105331             2017-09-05            743.3333       0.0001   \n",
       "33518  OGW179513             2017-10-03           1190.6667       0.0001   \n",
       "31681  OGW135655             2017-09-02           1730.7500       0.0001   \n",
       "\n",
       "      LULC_majority_class                                           geometry  \\\n",
       "4039            Grassland  MULTIPOLYGON (((93473.881 -287304.443, 93473.0...   \n",
       "18693           Grassland  MULTIPOLYGON (((54687.648 -304351.272, 54686.8...   \n",
       "4973            Grassland  MULTIPOLYGON (((94342.214 -285248.417, 94341.3...   \n",
       "33518           Grassland  MULTIPOLYGON (((100454.618 -280232.376, 100453...   \n",
       "31681           Grassland  MULTIPOLYGON (((-34848.114 -198266.117, -34848...   \n",
       "\n",
       "            ols     ridge     lasso  \n",
       "4039   0.000120  0.000120  0.000116  \n",
       "18693  0.000121  0.000122  0.000115  \n",
       "4973   0.000117  0.000117  0.000118  \n",
       "33518  0.000120  0.000120  0.000121  \n",
       "31681  0.000109  0.000109  0.000111  "
      ]
     },
     "execution_count": 165,
     "metadata": {},
     "output_type": "execute_result"
    }
   ],
   "source": [
    "# Combine tested results from our three models and actual\n",
    "compare_gdf = gdf.iloc[y_test.index][['Vista_ID', 'AVIRIS_CH4_median_date','AVIRIS_CH4_pxcount', 'CH4_Mass_kg','LULC_majority_class','geometry']]\n",
    "# Predict OLS\n",
    "results = sm.OLS(y_train, X_train[list(np.array(vars_to_add.iloc[:np.argmin(AIC_results)]))]).fit()\n",
    "compare_gdf['ols'] = results.predict(X_test[list(np.array(vars_to_add.iloc[:np.argmin(AIC_results)]))])\n",
    "\n",
    "# Predict Lasso\n",
    "compare_gdf['ridge'] = fit_model_predict(Ridge, X_std_train, X_std_test, y_std_train, y_std_test, alpha = r_alpha)\n",
    "\n",
    "# Predict lasso\n",
    "compare_gdf['lasso'] = fit_model_predict(Lasso, X_std_train, X_std_test, y_std_train, y_std_test,alpha = l_alpha)\n",
    "\n",
    "compare_gdf.head()"
   ]
  },
  {
   "cell_type": "markdown",
   "metadata": {},
   "source": [
    "And now let's plot!"
   ]
  },
  {
   "cell_type": "code",
   "execution_count": 166,
   "metadata": {},
   "outputs": [
    {
     "name": "stdout",
     "output_type": "stream",
     "text": [
      "7.72879764498059e-05 0.0009\n"
     ]
    }
   ],
   "source": [
    "# find vmin and vmax for plotting colorbar extent\n",
    "vmin = compare_gdf[['CH4_Mass_kg','ols','ridge','lasso']].min().min()\n",
    "vmax = compare_gdf[['CH4_Mass_kg','ols','ridge','lasso']].max().max()\n",
    "print(vmin,vmax)"
   ]
  },
  {
   "cell_type": "code",
   "execution_count": 167,
   "metadata": {},
   "outputs": [],
   "source": [
    "# bring in california outline\n",
    "ca_boundary = gpd.read_file('zip://data/ca-state-boundary.zip')\n",
    "ca_boundary.to_crs(compare_gdf.crs, inplace=True)"
   ]
  },
  {
   "cell_type": "code",
   "execution_count": 170,
   "metadata": {},
   "outputs": [],
   "source": [
    "def comparison_maps(vmin,vmax,xmin=None, xmax=None, ymin=None, ymax=None):\n",
    "    '''\n",
    "    Plots results from OLS, Ridge, Lasso with actual values\n",
    "    If x lim and y lim values are specified they will be used \n",
    "    '''\n",
    "    \n",
    "    fig, ax = plt.subplots(2,2, figsize=(10,10))\n",
    "\n",
    "    plt_titles = ['CH$_4$ measurement','OLS','Ridge','Lasso']\n",
    "\n",
    "    ax_ravel = ax.ravel().tolist()\n",
    "\n",
    "    for i, col in enumerate(['CH4_Mass_kg','ols','ridge','lasso']):\n",
    "\n",
    "        # add california outline\n",
    "        ca_boundary.plot(color='lightgrey', ax=ax_ravel[i])\n",
    "\n",
    "        # Plot CH4 values\n",
    "        plt_ch4 = compare_gdf.plot(column=col, ax=ax_ravel[i], vmin=vmin,vmax=vmax)\n",
    "\n",
    "        # Remove tick marks and frame\n",
    "        ax_ravel[i].set_frame_on(False)\n",
    "        plt.setp(ax_ravel[i].get_xticklabels(), visible=False)\n",
    "        plt.setp(ax_ravel[i].get_yticklabels(), visible=False)\n",
    "        ax_ravel[i].set_xticks([])\n",
    "        ax_ravel[i].set_yticks([])\n",
    "\n",
    "        ax_ravel[i].set_title(plt_titles[i])\n",
    "        \n",
    "        if xmin!=None and xmax!=None and ymin!=None and ymax!=None:\n",
    "            ax_ravel[i].set_xlim(xmin, xmax)\n",
    "            ax_ravel[i].set_ylim(ymin,ymax)\n",
    "\n",
    "    fig.tight_layout()\n",
    "    # Note: since colorbar is manu`enter code here`ally added, tight_layout must be called before\n",
    "    # rendering colorbar\n",
    "    plt.colorbar(plt_ch4.collections[-1], ax=ax.ravel().tolist(), label='Ch$_4$ (kg)')\n",
    "    plt.show()"
   ]
  },
  {
   "cell_type": "code",
   "execution_count": 171,
   "metadata": {},
   "outputs": [
    {
     "data": {
      "image/png": "[encoded data removed]",
      "text/plain": [
       "<Figure size 720x720 with 5 Axes>"
      ]
     },
     "metadata": {
      "needs_background": "light"
     },
     "output_type": "display_data"
    }
   ],
   "source": [
    "comparison_maps(vmin=vmin, vmax=vmax)"
   ]
  },
  {
   "cell_type": "markdown",
   "metadata": {},
   "source": [
    "Since it's pretty hard to tell from this zoomed our version, let's zoom into where we see a cluster of predictions."
   ]
  },
  {
   "cell_type": "code",
   "execution_count": 175,
   "metadata": {},
   "outputs": [
    {
     "data": {
      "image/png": "[encoded data removed]",
      "text/plain": [
       "<Figure size 720x720 with 5 Axes>"
      ]
     },
     "metadata": {
      "needs_background": "light"
     },
     "output_type": "display_data"
    }
   ],
   "source": [
    "comparison_maps(vmin=vmin, vmax=0.000225, xmin=30000,xmax=100000,ymin=-320000,ymax=-270000)"
   ]
  },
  {
   "cell_type": "markdown",
   "metadata": {},
   "source": [
    "<font color='purple'><b> add explanation of differences if we see any once we see if we update the response variable</b>\n",
    "    probably note clear that we have any clear reasons that are associated spatially with what we currently have."
   ]
  },
  {
   "cell_type": "markdown",
   "metadata": {},
   "source": [
    "Our **OLS model with feature selection using AIC** performed the best. \n",
    "\n",
    "The variation in most significant features throughout all of our models show us that there are **no features or groups of features that are consistently good predictors of methane emissions from the emitters included in our dataset**. Our `ng_pipelength_5000` came closest, as it had a coefficient that was significant in both our OLS and Ridge models. \n",
    "\n",
    "To improve our model in the future, we'll want to include additional features that can enhance our model performance. Since such a high percentage of our emitter types are oil and gas wells, we would likely want to identify features related to characteristics of these facilities that might be linked to the quantity of methane emissions. In the future, we may want to see if we could acquire enough data from Tropomi CH4 measurements to include it as a feature in our model. "
   ]
  },
  {
   "cell_type": "markdown",
   "metadata": {},
   "source": [
    "### Question 3: [Subsetting]"
   ]
  },
  {
   "cell_type": "markdown",
   "metadata": {},
   "source": [
    "## Interpretation and Conclusions (20 points)\n",
    "In this section you must relate your modeling and forecasting results to your original prediction question.  You must:\n",
    "1. Address a resource allocation question.  What do the answers mean? What advice would you give a decision maker on the basis of your results?  How might they allocate their resources differently with the results of your model?  Why should the reader care about your results?\n",
    "2. Discuss caveats and / or reasons your results might be flawed.  No model is perfect, and understanding a model's imperfections is extremely important for the purpose of knowing how to interpret your results.  Often, we know the model output is wrong but we can assign a direction for its bias.  This helps to understand whether or not your answers are conservative.  \n",
    "\n",
    "Shoot for 500-1000 words for this section."
   ]
  },
  {
   "cell_type": "code",
   "execution_count": null,
   "metadata": {},
   "outputs": [],
   "source": []
  }
 ],
 "metadata": {
  "kernelspec": {
   "display_name": "Python 3",
   "language": "python",
   "name": "python3"
  },
  "language_info": {
   "codemirror_mode": {
    "name": "ipython",
    "version": 3
   },
   "file_extension": ".py",
   "mimetype": "text/x-python",
   "name": "python",
   "nbconvert_exporter": "python",
   "pygments_lexer": "ipython3",
   "version": "3.8.3"
  }
 },
 "nbformat": 4,
 "nbformat_minor": 2
}
