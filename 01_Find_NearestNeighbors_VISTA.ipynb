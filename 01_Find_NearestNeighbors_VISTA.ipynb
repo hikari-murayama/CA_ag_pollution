{
 "metadata": {
  "language_info": {
   "codemirror_mode": {
    "name": "ipython",
    "version": 3
   },
   "file_extension": ".py",
   "mimetype": "text/x-python",
   "name": "python",
   "nbconvert_exporter": "python",
   "pygments_lexer": "ipython3",
   "version": "3.8.2-final"
  },
  "orig_nbformat": 2,
  "kernelspec": {
   "name": "python3",
   "display_name": "Python 3",
   "language": "python"
  }
 },
 "nbformat": 4,
 "nbformat_minor": 2,
 "cells": [
  {
   "source": [
    "# Find the Nearest Neighboring Emitter to Each Emitter\n",
    "\n",
    "## ER 131 Project | Group 4\n",
    "**Author: ** ['Marshall Worsham'] <br>\n",
    "**Date: ** 11-24-2020"
   ],
   "cell_type": "markdown",
   "metadata": {}
  },
  {
   "source": [
    "## Front matter"
   ],
   "cell_type": "markdown",
   "metadata": {}
  },
  {
   "cell_type": "code",
   "execution_count": 7,
   "metadata": {},
   "outputs": [],
   "source": [
    "# import libraries\n",
    "import numpy as np\n",
    "import pandas as pd\n",
    "import geopandas as gpd\n",
    "import os\n",
    "import glob\n",
    "import time\n",
    "import matplotlib.pyplot as plt"
   ]
  },
  {
   "cell_type": "code",
   "execution_count": 8,
   "metadata": {},
   "outputs": [],
   "source": [
    "# set data directory and out directory\n",
    "datadir = os.sep.join(['/Volumes', 'Brain', 'GIS', 'ER131', 'Project', 'Data'])\n",
    "outdir = os.sep.join(['/Volumes', 'Brain', 'GIS', 'ER131', 'Project', 'Output'])"
   ]
  },
  {
   "source": [
    "## Import VISTA points"
   ],
   "cell_type": "markdown",
   "metadata": {}
  },
  {
   "cell_type": "code",
   "execution_count": 10,
   "metadata": {},
   "outputs": [],
   "source": [
    "vistadir = os.sep.join([outdir, 'CH4_Emitters'])\n",
    "vista = gpd.read_file(os.sep.join([vistadir, 'CH4_Emitters_All.geojson']))"
   ]
  },
  {
   "cell_type": "code",
   "execution_count": 11,
   "metadata": {},
   "outputs": [
    {
     "output_type": "stream",
     "name": "stdout",
     "text": [
      "(234576, 12)\n"
     ]
    },
    {
     "output_type": "execute_result",
     "data": {
      "text/plain": [
       "   Latitude  Longitude                              Vista_IPCC  \\\n",
       "0  37.72799 -120.89865  4B Biological Treatment of Solid Waste   \n",
       "1  33.70999 -117.32864  4B Biological Treatment of Solid Waste   \n",
       "2  38.01667 -122.13333  4B Biological Treatment of Solid Waste   \n",
       "3  34.03281 -118.35424  4B Biological Treatment of Solid Waste   \n",
       "4  34.44517 -117.29007  4B Biological Treatment of Solid Waste   \n",
       "\n",
       "                                 Vista_Name       Vista_SType   Vista_ID  \\\n",
       "0                                3D Ag, LLC  Composting Sites  CMP000001   \n",
       "1                    A. Lua Recycling, Inc.  Composting Sites  CMP000002   \n",
       "2          Acme Composting Compost Facility  Composting Sites  CMP000003   \n",
       "3                       Adams Garden Supply  Composting Sites  CMP000004   \n",
       "4  Advance Disposal Center for the Environm  Composting Sites  CMP000005   \n",
       "\n",
       "   Vista_Date State                City      Source County  \\\n",
       "0  2019-08-20    CA             Oakdale  CalRecycle   None   \n",
       "1  2019-08-20    CA       Lake Elsinore  CalRecycle   None   \n",
       "2  2019-08-20    CA            Martinez  CalRecycle   None   \n",
       "3  2019-08-20    CA  Los Angeles (City)  CalRecycle   None   \n",
       "4  2019-08-20    CA            Hesperia  CalRecycle   None   \n",
       "\n",
       "                                            geometry  \n",
       "0  POLYGON ((-120.89865 37.72808, -120.89863 37.7...  \n",
       "1  POLYGON ((-117.32864 33.71008, -117.32862 33.7...  \n",
       "2  POLYGON ((-122.13333 38.01676, -122.13331 38.0...  \n",
       "3  POLYGON ((-118.35424 34.03290, -118.35422 34.0...  \n",
       "4  POLYGON ((-117.29007 34.44526, -117.29005 34.4...  "
      ],
      "text/html": "<div>\n<style scoped>\n    .dataframe tbody tr th:only-of-type {\n        vertical-align: middle;\n    }\n\n    .dataframe tbody tr th {\n        vertical-align: top;\n    }\n\n    .dataframe thead th {\n        text-align: right;\n    }\n</style>\n<table border=\"1\" class=\"dataframe\">\n  <thead>\n    <tr style=\"text-align: right;\">\n      <th></th>\n      <th>Latitude</th>\n      <th>Longitude</th>\n      <th>Vista_IPCC</th>\n      <th>Vista_Name</th>\n      <th>Vista_SType</th>\n      <th>Vista_ID</th>\n      <th>Vista_Date</th>\n      <th>State</th>\n      <th>City</th>\n      <th>Source</th>\n      <th>County</th>\n      <th>geometry</th>\n    </tr>\n  </thead>\n  <tbody>\n    <tr>\n      <th>0</th>\n      <td>37.72799</td>\n      <td>-120.89865</td>\n      <td>4B Biological Treatment of Solid Waste</td>\n      <td>3D Ag, LLC</td>\n      <td>Composting Sites</td>\n      <td>CMP000001</td>\n      <td>2019-08-20</td>\n      <td>CA</td>\n      <td>Oakdale</td>\n      <td>CalRecycle</td>\n      <td>None</td>\n      <td>POLYGON ((-120.89865 37.72808, -120.89863 37.7...</td>\n    </tr>\n    <tr>\n      <th>1</th>\n      <td>33.70999</td>\n      <td>-117.32864</td>\n      <td>4B Biological Treatment of Solid Waste</td>\n      <td>A. Lua Recycling, Inc.</td>\n      <td>Composting Sites</td>\n      <td>CMP000002</td>\n      <td>2019-08-20</td>\n      <td>CA</td>\n      <td>Lake Elsinore</td>\n      <td>CalRecycle</td>\n      <td>None</td>\n      <td>POLYGON ((-117.32864 33.71008, -117.32862 33.7...</td>\n    </tr>\n    <tr>\n      <th>2</th>\n      <td>38.01667</td>\n      <td>-122.13333</td>\n      <td>4B Biological Treatment of Solid Waste</td>\n      <td>Acme Composting Compost Facility</td>\n      <td>Composting Sites</td>\n      <td>CMP000003</td>\n      <td>2019-08-20</td>\n      <td>CA</td>\n      <td>Martinez</td>\n      <td>CalRecycle</td>\n      <td>None</td>\n      <td>POLYGON ((-122.13333 38.01676, -122.13331 38.0...</td>\n    </tr>\n    <tr>\n      <th>3</th>\n      <td>34.03281</td>\n      <td>-118.35424</td>\n      <td>4B Biological Treatment of Solid Waste</td>\n      <td>Adams Garden Supply</td>\n      <td>Composting Sites</td>\n      <td>CMP000004</td>\n      <td>2019-08-20</td>\n      <td>CA</td>\n      <td>Los Angeles (City)</td>\n      <td>CalRecycle</td>\n      <td>None</td>\n      <td>POLYGON ((-118.35424 34.03290, -118.35422 34.0...</td>\n    </tr>\n    <tr>\n      <th>4</th>\n      <td>34.44517</td>\n      <td>-117.29007</td>\n      <td>4B Biological Treatment of Solid Waste</td>\n      <td>Advance Disposal Center for the Environm</td>\n      <td>Composting Sites</td>\n      <td>CMP000005</td>\n      <td>2019-08-20</td>\n      <td>CA</td>\n      <td>Hesperia</td>\n      <td>CalRecycle</td>\n      <td>None</td>\n      <td>POLYGON ((-117.29007 34.44526, -117.29005 34.4...</td>\n    </tr>\n  </tbody>\n</table>\n</div>"
     },
     "metadata": {},
     "execution_count": 11
    }
   ],
   "source": [
    "print(vista.shape)\n",
    "vista.head()"
   ]
  },
  {
   "source": [
    "## Get a sample of VISTA points"
   ],
   "cell_type": "markdown",
   "metadata": {}
  },
  {
   "cell_type": "code",
   "execution_count": 7,
   "metadata": {},
   "outputs": [],
   "source": [
    "def get_sample(gpdf, p, seed):\n",
    "    '''\n",
    "    Takes in p (a float representing the sample proportion) and seed (any number) and returns the VISTA dataframe\n",
    "    filtered to include a sample of pN locations, randomly selected by proportional stratified sampling of each emitter\n",
    "    type.\n",
    "    '''\n",
    "    \n",
    "    sampdata = gpdf.groupby('Vista_SType').sample(frac = p, random_state = seed)\n",
    "\n",
    "    return sampdata"
   ]
  },
  {
   "cell_type": "code",
   "execution_count": 8,
   "metadata": {},
   "outputs": [],
   "source": [
    "vista_samp = get_sample(vista, 0.05, 999)"
   ]
  },
  {
   "cell_type": "code",
   "execution_count": 9,
   "metadata": {},
   "outputs": [
    {
     "output_type": "stream",
     "name": "stdout",
     "text": [
      "(11730, 17)\n"
     ]
    },
    {
     "output_type": "execute_result",
     "data": {
      "text/plain": [
       "           City  Latitude  Longitude      Source State  Vista_Date  \\\n",
       "140      Marina  36.71600 -121.77222  CalRecycle    CA  2019-08-20   \n",
       "40    Los Banos  37.04268 -120.96817  CalRecycle    CA  2019-08-20   \n",
       "246  San Rafael  37.95416 -122.50517  CalRecycle    CA  2019-08-20   \n",
       "391       Heber  32.71850 -115.51890  CalRecycle    CA  2019-08-20   \n",
       "333   Inglewood  33.97452 -118.33643  CalRecycle    CA  2019-08-20   \n",
       "\n",
       "                                 Vista_IPCC  \\\n",
       "140  4B Biological Treatment of Solid Waste   \n",
       "40   4B Biological Treatment of Solid Waste   \n",
       "246  4B Biological Treatment of Solid Waste   \n",
       "391  4B Biological Treatment of Solid Waste   \n",
       "333  4B Biological Treatment of Solid Waste   \n",
       "\n",
       "                                  Vista_Name       Vista_SType   Vista_ID  \\\n",
       "140                      Gabilan Ag Services  Composting Sites  CMP000141   \n",
       "40          Billy Wright Composting Facility  Composting Sites  CMP000041   \n",
       "246  Marin Sanitary Service Transfer Station  Composting Sites  CMP000247   \n",
       "391              TruSource LLC- El Toro Yard  Composting Sites  CMP000392   \n",
       "333     RJ`s Chipping and Grinding Operation  Composting Sites  CMP000334   \n",
       "\n",
       "     TROPOMI_CH4_Min  TROPOMI_CH4_Max  TROPOMI_CH4_Mean  TROPOMI_CH4_Count  \\\n",
       "140      1868.018443      1870.914246       1869.466344                  2   \n",
       "40       1870.707528      1881.189352       1875.702961                  4   \n",
       "246              NaN              NaN               NaN                  0   \n",
       "391      1885.213989      1896.025464       1889.500953                  3   \n",
       "333      1854.870680      1890.234865       1872.552773                  2   \n",
       "\n",
       "     TROPOMI_CH4_MEDIAN County  \\\n",
       "140         1869.466344   None   \n",
       "40          1875.457481   None   \n",
       "246                 NaN   None   \n",
       "391         1887.263406   None   \n",
       "333         1872.552773   None   \n",
       "\n",
       "                                              geometry  \n",
       "140  POLYGON ((-121.77925 36.81584, -121.76519 36.8...  \n",
       "40   POLYGON ((-120.97517 37.14253, -120.96117 37.1...  \n",
       "246  POLYGON ((-122.51208 38.05401, -122.49826 38.0...  \n",
       "391  POLYGON ((-115.52628 32.81832, -115.51890 32.8...  \n",
       "333  POLYGON ((-118.34370 34.07435, -118.32916 34.0...  "
      ],
      "text/html": "<div>\n<style scoped>\n    .dataframe tbody tr th:only-of-type {\n        vertical-align: middle;\n    }\n\n    .dataframe tbody tr th {\n        vertical-align: top;\n    }\n\n    .dataframe thead th {\n        text-align: right;\n    }\n</style>\n<table border=\"1\" class=\"dataframe\">\n  <thead>\n    <tr style=\"text-align: right;\">\n      <th></th>\n      <th>City</th>\n      <th>Latitude</th>\n      <th>Longitude</th>\n      <th>Source</th>\n      <th>State</th>\n      <th>Vista_Date</th>\n      <th>Vista_IPCC</th>\n      <th>Vista_Name</th>\n      <th>Vista_SType</th>\n      <th>Vista_ID</th>\n      <th>TROPOMI_CH4_Min</th>\n      <th>TROPOMI_CH4_Max</th>\n      <th>TROPOMI_CH4_Mean</th>\n      <th>TROPOMI_CH4_Count</th>\n      <th>TROPOMI_CH4_MEDIAN</th>\n      <th>County</th>\n      <th>geometry</th>\n    </tr>\n  </thead>\n  <tbody>\n    <tr>\n      <th>140</th>\n      <td>Marina</td>\n      <td>36.71600</td>\n      <td>-121.77222</td>\n      <td>CalRecycle</td>\n      <td>CA</td>\n      <td>2019-08-20</td>\n      <td>4B Biological Treatment of Solid Waste</td>\n      <td>Gabilan Ag Services</td>\n      <td>Composting Sites</td>\n      <td>CMP000141</td>\n      <td>1868.018443</td>\n      <td>1870.914246</td>\n      <td>1869.466344</td>\n      <td>2</td>\n      <td>1869.466344</td>\n      <td>None</td>\n      <td>POLYGON ((-121.77925 36.81584, -121.76519 36.8...</td>\n    </tr>\n    <tr>\n      <th>40</th>\n      <td>Los Banos</td>\n      <td>37.04268</td>\n      <td>-120.96817</td>\n      <td>CalRecycle</td>\n      <td>CA</td>\n      <td>2019-08-20</td>\n      <td>4B Biological Treatment of Solid Waste</td>\n      <td>Billy Wright Composting Facility</td>\n      <td>Composting Sites</td>\n      <td>CMP000041</td>\n      <td>1870.707528</td>\n      <td>1881.189352</td>\n      <td>1875.702961</td>\n      <td>4</td>\n      <td>1875.457481</td>\n      <td>None</td>\n      <td>POLYGON ((-120.97517 37.14253, -120.96117 37.1...</td>\n    </tr>\n    <tr>\n      <th>246</th>\n      <td>San Rafael</td>\n      <td>37.95416</td>\n      <td>-122.50517</td>\n      <td>CalRecycle</td>\n      <td>CA</td>\n      <td>2019-08-20</td>\n      <td>4B Biological Treatment of Solid Waste</td>\n      <td>Marin Sanitary Service Transfer Station</td>\n      <td>Composting Sites</td>\n      <td>CMP000247</td>\n      <td>NaN</td>\n      <td>NaN</td>\n      <td>NaN</td>\n      <td>0</td>\n      <td>NaN</td>\n      <td>None</td>\n      <td>POLYGON ((-122.51208 38.05401, -122.49826 38.0...</td>\n    </tr>\n    <tr>\n      <th>391</th>\n      <td>Heber</td>\n      <td>32.71850</td>\n      <td>-115.51890</td>\n      <td>CalRecycle</td>\n      <td>CA</td>\n      <td>2019-08-20</td>\n      <td>4B Biological Treatment of Solid Waste</td>\n      <td>TruSource LLC- El Toro Yard</td>\n      <td>Composting Sites</td>\n      <td>CMP000392</td>\n      <td>1885.213989</td>\n      <td>1896.025464</td>\n      <td>1889.500953</td>\n      <td>3</td>\n      <td>1887.263406</td>\n      <td>None</td>\n      <td>POLYGON ((-115.52628 32.81832, -115.51890 32.8...</td>\n    </tr>\n    <tr>\n      <th>333</th>\n      <td>Inglewood</td>\n      <td>33.97452</td>\n      <td>-118.33643</td>\n      <td>CalRecycle</td>\n      <td>CA</td>\n      <td>2019-08-20</td>\n      <td>4B Biological Treatment of Solid Waste</td>\n      <td>RJ`s Chipping and Grinding Operation</td>\n      <td>Composting Sites</td>\n      <td>CMP000334</td>\n      <td>1854.870680</td>\n      <td>1890.234865</td>\n      <td>1872.552773</td>\n      <td>2</td>\n      <td>1872.552773</td>\n      <td>None</td>\n      <td>POLYGON ((-118.34370 34.07435, -118.32916 34.0...</td>\n    </tr>\n  </tbody>\n</table>\n</div>"
     },
     "metadata": {},
     "execution_count": 9
    }
   ],
   "source": [
    "print(vista_samp.shape)\n",
    "vista_samp.head()"
   ]
  },
  {
   "source": [
    "## Find euclidean distance"
   ],
   "cell_type": "markdown",
   "metadata": {}
  },
  {
   "cell_type": "code",
   "execution_count": 10,
   "metadata": {},
   "outputs": [],
   "source": [
    "def find_distance(x, y, a, b):  \n",
    "    '''Returns a one-dimensional array containing the distances between the point (a,b) and a series of \n",
    "    points whose x-coordinates are represented as the one-dimensional array x, and whose y-coordinates \n",
    "    are represented by the one-dimensional array y'''\n",
    "    \n",
    "    euclid = np.sqrt((np.subtract(a, x))**2 + (np.subtract(b, y))**2)\n",
    "    \n",
    "    return euclid"
   ]
  },
  {
   "source": [
    "## Find nearest neighbor"
   ],
   "cell_type": "markdown",
   "metadata": {}
  },
  {
   "cell_type": "code",
   "execution_count": 11,
   "metadata": {},
   "outputs": [],
   "source": [
    "def nearest_neighbor(gpdf):\n",
    "    '''\n",
    "    Takes in a gpdf and calculates the Euclidean distance from each observation to its nearest neighbor. Returns the    \n",
    "    float distance (km) and the ID and type of the nearest neighboring emitter.\n",
    "    '''\n",
    "\n",
    "    # get the crs into CA Albers, NAD1983 meters\n",
    "    gpdf = gpdf.to_crs(epsg=3310)\n",
    "\n",
    "    # find the lat and long of the centroid in new projection and add to gpdf\n",
    "    gpdf['Cent_Long_TA83m'] = gpdf.centroid.x\n",
    "    gpdf['Cent_Lat_TA83m'] = gpdf.centroid.y\n",
    "\n",
    "    # make sure the index is full and ordered\n",
    "    gpdf.index = range(len(gpdf))\n",
    "\n",
    "    # intialize empty columns to store results\n",
    "    gpdf['NearestNeighbor'] = ''\n",
    "    gpdf['NN_Distance_m'] = np.nan\n",
    "    gpdf['NN_Type'] = ''\n",
    "\n",
    "    for i in range(len(gpdf)):\n",
    "        a = gpdf.iloc[i,:]['Cent_Long_TA83m']\n",
    "        b = gpdf.iloc[i,:]['Cent_Lat_TA83m']\n",
    "        #restos = gpdf.drop(i, axis = 0)\n",
    "        x = gpdf['Cent_Long_TA83m']\n",
    "        y = gpdf['Cent_Lat_TA83m']\n",
    "        dist = find_distance(x,y,a,b)\n",
    "        dist[dist==0] = np.nan\n",
    "        nn = dist.argmin()\n",
    "        mindist = dist.min()\n",
    "\n",
    "        if nn != -1:\n",
    "           nn_ID = gpdf['Vista_ID'][nn]\n",
    "           nn_type = gpdf['Vista_SType'][nn]\n",
    "        else:\n",
    "            nn_ID = ''\n",
    "            nn_type = ''\n",
    "        gpdf['NearestNeighbor'][i] = nn_ID\n",
    "        gpdf['NN_Distance_m'][i] = mindist\n",
    "        gpdf['NN_Type'][i] = nn_type\n",
    "    \n",
    "    return gpdf"
   ]
  },
  {
   "cell_type": "code",
   "execution_count": 12,
   "metadata": {},
   "outputs": [
    {
     "output_type": "stream",
     "name": "stdout",
     "text": [
      "Runtime: 4340.113498210907 seconds\n"
     ]
    }
   ],
   "source": [
    "start = time.time()\n",
    "print(start)\n",
    "vista_nn = nearest_neighbor(vista)\n",
    "end = time.time()\n",
    "print(f'Runtime: {end - start} seconds')"
   ]
  },
  {
   "cell_type": "code",
   "execution_count": 27,
   "metadata": {},
   "outputs": [
    {
     "output_type": "execute_result",
     "data": {
      "text/plain": [
       "               City   Latitude   Longitude     Source State Vista_Date  \\\n",
       "132407  San Joaquin  37.829213 -121.292317  CEC DOGGR    CA  7/12/2019   \n",
       "\n",
       "                     Vista_IPCC        Vista_Name       Vista_SType  \\\n",
       "132407  1B2 Oil and Natural Gas  \"G.B. Unit 22\" 1  Oil and Gas Well   \n",
       "\n",
       "         Vista_ID  ...  TROPOMI_CH4_Mean  TROPOMI_CH4_Count  \\\n",
       "132407  OGW192803  ...       1873.519901                  2   \n",
       "\n",
       "        TROPOMI_CH4_MEDIAN  County  \\\n",
       "132407         1873.519901    None   \n",
       "\n",
       "                                                 geometry Cent_Long_TA83m  \\\n",
       "132407  POLYGON ((-104799.816 -20146.156, -104855.846 ...  -113588.920535   \n",
       "\n",
       "       Cent_Lat_TA83m  NearestNeighbor  NN_Distance_m           NN_Type  \n",
       "132407  -20033.509374        OGW218373    1821.959329  Oil and Gas Well  \n",
       "\n",
       "[1 rows x 22 columns]"
      ],
      "text/html": "<div>\n<style scoped>\n    .dataframe tbody tr th:only-of-type {\n        vertical-align: middle;\n    }\n\n    .dataframe tbody tr th {\n        vertical-align: top;\n    }\n\n    .dataframe thead th {\n        text-align: right;\n    }\n</style>\n<table border=\"1\" class=\"dataframe\">\n  <thead>\n    <tr style=\"text-align: right;\">\n      <th></th>\n      <th>City</th>\n      <th>Latitude</th>\n      <th>Longitude</th>\n      <th>Source</th>\n      <th>State</th>\n      <th>Vista_Date</th>\n      <th>Vista_IPCC</th>\n      <th>Vista_Name</th>\n      <th>Vista_SType</th>\n      <th>Vista_ID</th>\n      <th>...</th>\n      <th>TROPOMI_CH4_Mean</th>\n      <th>TROPOMI_CH4_Count</th>\n      <th>TROPOMI_CH4_MEDIAN</th>\n      <th>County</th>\n      <th>geometry</th>\n      <th>Cent_Long_TA83m</th>\n      <th>Cent_Lat_TA83m</th>\n      <th>NearestNeighbor</th>\n      <th>NN_Distance_m</th>\n      <th>NN_Type</th>\n    </tr>\n  </thead>\n  <tbody>\n    <tr>\n      <th>132407</th>\n      <td>San Joaquin</td>\n      <td>37.829213</td>\n      <td>-121.292317</td>\n      <td>CEC DOGGR</td>\n      <td>CA</td>\n      <td>7/12/2019</td>\n      <td>1B2 Oil and Natural Gas</td>\n      <td>\"G.B. Unit 22\" 1</td>\n      <td>Oil and Gas Well</td>\n      <td>OGW192803</td>\n      <td>...</td>\n      <td>1873.519901</td>\n      <td>2</td>\n      <td>1873.519901</td>\n      <td>None</td>\n      <td>POLYGON ((-104799.816 -20146.156, -104855.846 ...</td>\n      <td>-113588.920535</td>\n      <td>-20033.509374</td>\n      <td>OGW218373</td>\n      <td>1821.959329</td>\n      <td>Oil and Gas Well</td>\n    </tr>\n  </tbody>\n</table>\n<p>1 rows × 22 columns</p>\n</div>"
     },
     "metadata": {},
     "execution_count": 27
    }
   ],
   "source": [
    "vista_nn[vista_nn['Vista_ID'] == 'OGW192803']"
   ]
  },
  {
   "cell_type": "code",
   "execution_count": 13,
   "metadata": {},
   "outputs": [
    {
     "output_type": "execute_result",
     "data": {
      "text/plain": [
       "            City  Latitude  Longitude      Source State  Vista_Date  \\\n",
       "0        Oakdale  37.72799 -120.89865  CalRecycle    CA  2019-08-20   \n",
       "1  Lake Elsinore  33.70999 -117.32864  CalRecycle    CA  2019-08-20   \n",
       "2       Martinez  38.01667 -122.13333  CalRecycle    CA  2019-08-20   \n",
       "\n",
       "                               Vista_IPCC                        Vista_Name  \\\n",
       "0  4B Biological Treatment of Solid Waste                        3D Ag, LLC   \n",
       "1  4B Biological Treatment of Solid Waste            A. Lua Recycling, Inc.   \n",
       "2  4B Biological Treatment of Solid Waste  Acme Composting Compost Facility   \n",
       "\n",
       "        Vista_SType   Vista_ID  ...  TROPOMI_CH4_Mean  TROPOMI_CH4_Count  \\\n",
       "0  Composting Sites  CMP000001  ...       1867.685878                  2   \n",
       "1  Composting Sites  CMP000002  ...       1877.675215                  2   \n",
       "2  Composting Sites  CMP000003  ...       1844.040570                  2   \n",
       "\n",
       "   TROPOMI_CH4_MEDIAN  County  \\\n",
       "0         1867.685878    None   \n",
       "1         1877.675215    None   \n",
       "2         1844.040570    None   \n",
       "\n",
       "                                            geometry Cent_Long_TA83m  \\\n",
       "0  POLYGON ((-79599.335 -20577.676, -78380.719 -2...   -79095.261295   \n",
       "1  POLYGON ((246679.581 -463794.602, 248029.681 -...   247666.543658   \n",
       "2  POLYGON ((-187385.989 13249.108, -186177.082 1...  -187031.341105   \n",
       "\n",
       "  Cent_Lat_TA83m  NearestNeighbor  NN_Distance_m              NN_Type  \n",
       "0  -31685.429251        CMP000064     473.383614     Composting Sites  \n",
       "1 -474842.654463        OGW169487    3414.947497     Oil and Gas Well  \n",
       "2    2135.619288        COM000435    1382.420940  Natural Gas Station  \n",
       "\n",
       "[3 rows x 22 columns]"
      ],
      "text/html": "<div>\n<style scoped>\n    .dataframe tbody tr th:only-of-type {\n        vertical-align: middle;\n    }\n\n    .dataframe tbody tr th {\n        vertical-align: top;\n    }\n\n    .dataframe thead th {\n        text-align: right;\n    }\n</style>\n<table border=\"1\" class=\"dataframe\">\n  <thead>\n    <tr style=\"text-align: right;\">\n      <th></th>\n      <th>City</th>\n      <th>Latitude</th>\n      <th>Longitude</th>\n      <th>Source</th>\n      <th>State</th>\n      <th>Vista_Date</th>\n      <th>Vista_IPCC</th>\n      <th>Vista_Name</th>\n      <th>Vista_SType</th>\n      <th>Vista_ID</th>\n      <th>...</th>\n      <th>TROPOMI_CH4_Mean</th>\n      <th>TROPOMI_CH4_Count</th>\n      <th>TROPOMI_CH4_MEDIAN</th>\n      <th>County</th>\n      <th>geometry</th>\n      <th>Cent_Long_TA83m</th>\n      <th>Cent_Lat_TA83m</th>\n      <th>NearestNeighbor</th>\n      <th>NN_Distance_m</th>\n      <th>NN_Type</th>\n    </tr>\n  </thead>\n  <tbody>\n    <tr>\n      <th>0</th>\n      <td>Oakdale</td>\n      <td>37.72799</td>\n      <td>-120.89865</td>\n      <td>CalRecycle</td>\n      <td>CA</td>\n      <td>2019-08-20</td>\n      <td>4B Biological Treatment of Solid Waste</td>\n      <td>3D Ag, LLC</td>\n      <td>Composting Sites</td>\n      <td>CMP000001</td>\n      <td>...</td>\n      <td>1867.685878</td>\n      <td>2</td>\n      <td>1867.685878</td>\n      <td>None</td>\n      <td>POLYGON ((-79599.335 -20577.676, -78380.719 -2...</td>\n      <td>-79095.261295</td>\n      <td>-31685.429251</td>\n      <td>CMP000064</td>\n      <td>473.383614</td>\n      <td>Composting Sites</td>\n    </tr>\n    <tr>\n      <th>1</th>\n      <td>Lake Elsinore</td>\n      <td>33.70999</td>\n      <td>-117.32864</td>\n      <td>CalRecycle</td>\n      <td>CA</td>\n      <td>2019-08-20</td>\n      <td>4B Biological Treatment of Solid Waste</td>\n      <td>A. Lua Recycling, Inc.</td>\n      <td>Composting Sites</td>\n      <td>CMP000002</td>\n      <td>...</td>\n      <td>1877.675215</td>\n      <td>2</td>\n      <td>1877.675215</td>\n      <td>None</td>\n      <td>POLYGON ((246679.581 -463794.602, 248029.681 -...</td>\n      <td>247666.543658</td>\n      <td>-474842.654463</td>\n      <td>OGW169487</td>\n      <td>3414.947497</td>\n      <td>Oil and Gas Well</td>\n    </tr>\n    <tr>\n      <th>2</th>\n      <td>Martinez</td>\n      <td>38.01667</td>\n      <td>-122.13333</td>\n      <td>CalRecycle</td>\n      <td>CA</td>\n      <td>2019-08-20</td>\n      <td>4B Biological Treatment of Solid Waste</td>\n      <td>Acme Composting Compost Facility</td>\n      <td>Composting Sites</td>\n      <td>CMP000003</td>\n      <td>...</td>\n      <td>1844.040570</td>\n      <td>2</td>\n      <td>1844.040570</td>\n      <td>None</td>\n      <td>POLYGON ((-187385.989 13249.108, -186177.082 1...</td>\n      <td>-187031.341105</td>\n      <td>2135.619288</td>\n      <td>COM000435</td>\n      <td>1382.420940</td>\n      <td>Natural Gas Station</td>\n    </tr>\n  </tbody>\n</table>\n<p>3 rows × 22 columns</p>\n</div>"
     },
     "metadata": {},
     "execution_count": 13
    }
   ],
   "source": [
    "vista_nn.head(3)"
   ]
  },
  {
   "cell_type": "code",
   "execution_count": 20,
   "metadata": {},
   "outputs": [],
   "source": [
    "vista_nn.to_file(os.sep.join([vistadir, 'CH4_Emitters_All.shp']))\n",
    "vista_nn.to_file(os.sep.join([vistadir, 'CH4_Emitters_All.geojson']), driver = 'GeoJSON')"
   ]
  },
  {
   "source": [
    "## Plot histogram"
   ],
   "cell_type": "markdown",
   "metadata": {}
  },
  {
   "cell_type": "code",
   "execution_count": 1,
   "metadata": {},
   "outputs": [
    {
     "output_type": "error",
     "ename": "NameError",
     "evalue": "name 'plt' is not defined",
     "traceback": [
      "\u001b[0;31m---------------------------------------------------------------------------\u001b[0m",
      "\u001b[0;31mNameError\u001b[0m                                 Traceback (most recent call last)",
      "\u001b[0;32m<ipython-input-1-592d9e71e534>\u001b[0m in \u001b[0;36m<module>\u001b[0;34m\u001b[0m\n\u001b[0;32m----> 1\u001b[0;31m \u001b[0mplt\u001b[0m\u001b[0;34m.\u001b[0m\u001b[0mhist\u001b[0m\u001b[0;34m(\u001b[0m\u001b[0mvista\u001b[0m\u001b[0;34m.\u001b[0m\u001b[0mNN_Distance_m\u001b[0m\u001b[0;34m,\u001b[0m \u001b[0mbins\u001b[0m \u001b[0;34m=\u001b[0m \u001b[0;36m12\u001b[0m\u001b[0;34m,\u001b[0m \u001b[0mcolor\u001b[0m \u001b[0;34m=\u001b[0m \u001b[0;34m'aquamarine'\u001b[0m\u001b[0;34m,\u001b[0m \u001b[0medgecolor\u001b[0m \u001b[0;34m=\u001b[0m \u001b[0;34m'grey'\u001b[0m\u001b[0;34m)\u001b[0m\u001b[0;34m\u001b[0m\u001b[0;34m\u001b[0m\u001b[0m\n\u001b[0m\u001b[1;32m      2\u001b[0m \u001b[0mplt\u001b[0m\u001b[0;34m.\u001b[0m\u001b[0mtitle\u001b[0m\u001b[0;34m(\u001b[0m\u001b[0;34m'Frequency distribution of distance between nearest neighboring emitters'\u001b[0m\u001b[0;34m)\u001b[0m\u001b[0;34m\u001b[0m\u001b[0;34m\u001b[0m\u001b[0m\n\u001b[1;32m      3\u001b[0m \u001b[0mplt\u001b[0m\u001b[0;34m.\u001b[0m\u001b[0mxlabel\u001b[0m\u001b[0;34m(\u001b[0m\u001b[0;34m'Distance between nearest neighbors'\u001b[0m\u001b[0;34m)\u001b[0m\u001b[0;34m\u001b[0m\u001b[0;34m\u001b[0m\u001b[0m\n\u001b[1;32m      4\u001b[0m \u001b[0mplt\u001b[0m\u001b[0;34m.\u001b[0m\u001b[0mylabel\u001b[0m\u001b[0;34m(\u001b[0m\u001b[0;34m'Log of number of emitters'\u001b[0m\u001b[0;34m)\u001b[0m\u001b[0;34m\u001b[0m\u001b[0;34m\u001b[0m\u001b[0m\n\u001b[1;32m      5\u001b[0m \u001b[0mplt\u001b[0m\u001b[0;34m.\u001b[0m\u001b[0myscale\u001b[0m\u001b[0;34m(\u001b[0m\u001b[0;34m'log'\u001b[0m\u001b[0;34m)\u001b[0m\u001b[0;34m\u001b[0m\u001b[0;34m\u001b[0m\u001b[0m\n",
      "\u001b[0;31mNameError\u001b[0m: name 'plt' is not defined"
     ]
    }
   ],
   "source": [
    "plt.hist(vista_nn.NN_Distance_m, bins = 12, color = 'aquamarine', edgecolor = 'grey')\n",
    "plt.title('Frequency distribution of distance between nearest neighboring emitters')\n",
    "plt.xlabel('Distance between nearest neighbors')\n",
    "plt.ylabel('Log of number of emitters')\n",
    "plt.yscale('log')"
   ]
  }
 ]
}