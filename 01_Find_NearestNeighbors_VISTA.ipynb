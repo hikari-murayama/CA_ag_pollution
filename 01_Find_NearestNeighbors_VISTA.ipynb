{
 "metadata": {
  "language_info": {
   "codemirror_mode": {
    "name": "ipython",
    "version": 3
   },
   "file_extension": ".py",
   "mimetype": "text/x-python",
   "name": "python",
   "nbconvert_exporter": "python",
   "pygments_lexer": "ipython3",
   "version": "3.8.2-final"
  },
  "orig_nbformat": 2,
  "kernelspec": {
   "name": "python3",
   "display_name": "Python 3"
  }
 },
 "nbformat": 4,
 "nbformat_minor": 2,
 "cells": [
  {
   "source": [
    "# Extract AVIRIS CH4 Plume Estimates at VISTA Points\n",
    "\n",
    "## ER 131 Project | Group 4\n",
    "**Author: ** ['Marshall Worsham'] <br>\n",
    "**Date: ** 11-24-2020"
   ],
   "cell_type": "markdown",
   "metadata": {}
  },
  {
   "source": [
    "## Front matter"
   ],
   "cell_type": "markdown",
   "metadata": {}
  },
  {
   "cell_type": "code",
   "execution_count": 1,
   "metadata": {},
   "outputs": [],
   "source": [
    "# import libraries\n",
    "import numpy as np\n",
    "import pandas as pd\n",
    "import geopandas as gpd\n",
    "import os\n",
    "import glob\n",
    "import time\n",
    "import matplotlib.pyplot as plt"
   ]
  },
  {
   "cell_type": "code",
   "execution_count": 2,
   "metadata": {},
   "outputs": [],
   "source": [
    "# set data directory and out directory\n",
    "datadir = os.sep.join(['/Volumes', 'Brain', 'GIS', 'ER131', 'Project', 'Data'])\n",
    "outdir = os.sep.join(['/Volumes', 'Brain', 'GIS', 'ER131', 'Project', 'Output'])"
   ]
  },
  {
   "cell_type": "code",
   "execution_count": null,
   "metadata": {},
   "outputs": [],
   "source": [
    "## Import VISTA points"
   ]
  },
  {
   "cell_type": "code",
   "execution_count": 3,
   "metadata": {},
   "outputs": [],
   "source": [
    "vistadir = os.sep.join([outdir, 'CH4_Emitters'])\n",
    "vista = gpd.read_file(os.sep.join([vistadir, 'CH4_Emitters_All.geojson']))"
   ]
  },
  {
   "cell_type": "code",
   "execution_count": 6,
   "metadata": {},
   "outputs": [
    {
     "output_type": "stream",
     "name": "stdout",
     "text": [
      "(234576, 17)\n"
     ]
    },
    {
     "output_type": "execute_result",
     "data": {
      "text/plain": [
       "                 City  Latitude  Longitude      Source State  Vista_Date  \\\n",
       "0             Oakdale  37.72799 -120.89865  CalRecycle    CA  2019-08-20   \n",
       "1       Lake Elsinore  33.70999 -117.32864  CalRecycle    CA  2019-08-20   \n",
       "2            Martinez  38.01667 -122.13333  CalRecycle    CA  2019-08-20   \n",
       "3  Los Angeles (City)  34.03281 -118.35424  CalRecycle    CA  2019-08-20   \n",
       "4            Hesperia  34.44517 -117.29007  CalRecycle    CA  2019-08-20   \n",
       "\n",
       "                               Vista_IPCC  \\\n",
       "0  4B Biological Treatment of Solid Waste   \n",
       "1  4B Biological Treatment of Solid Waste   \n",
       "2  4B Biological Treatment of Solid Waste   \n",
       "3  4B Biological Treatment of Solid Waste   \n",
       "4  4B Biological Treatment of Solid Waste   \n",
       "\n",
       "                                 Vista_Name       Vista_SType   Vista_ID  \\\n",
       "0                                3D Ag, LLC  Composting Sites  CMP000001   \n",
       "1                    A. Lua Recycling, Inc.  Composting Sites  CMP000002   \n",
       "2          Acme Composting Compost Facility  Composting Sites  CMP000003   \n",
       "3                       Adams Garden Supply  Composting Sites  CMP000004   \n",
       "4  Advance Disposal Center for the Environm  Composting Sites  CMP000005   \n",
       "\n",
       "   TROPOMI_CH4_Min  TROPOMI_CH4_Max  TROPOMI_CH4_Mean  TROPOMI_CH4_Count  \\\n",
       "0      1866.219667      1869.152088       1867.685878                  2   \n",
       "1      1875.187369      1880.163061       1877.675215                  2   \n",
       "2      1842.263902      1845.817238       1844.040570                  2   \n",
       "3      1854.870680      1895.935669       1880.347071                  3   \n",
       "4      1867.374578      1868.685923       1868.030250                  2   \n",
       "\n",
       "   TROPOMI_CH4_MEDIAN County  \\\n",
       "0         1867.685878   None   \n",
       "1         1877.675215   None   \n",
       "2         1844.040570   None   \n",
       "3         1890.234865   None   \n",
       "4         1868.030250   None   \n",
       "\n",
       "                                            geometry  \n",
       "0  POLYGON ((-120.90558 37.82784, -120.89172 37.8...  \n",
       "1  POLYGON ((-117.33593 33.80981, -117.32135 33.8...  \n",
       "2  POLYGON ((-122.14023 38.11652, -122.12643 38.1...  \n",
       "3  POLYGON ((-118.36150 34.13264, -118.34698 34.1...  \n",
       "4  POLYGON ((-117.29730 34.54500, -117.28284 34.5...  "
      ],
      "text/html": "<div>\n<style scoped>\n    .dataframe tbody tr th:only-of-type {\n        vertical-align: middle;\n    }\n\n    .dataframe tbody tr th {\n        vertical-align: top;\n    }\n\n    .dataframe thead th {\n        text-align: right;\n    }\n</style>\n<table border=\"1\" class=\"dataframe\">\n  <thead>\n    <tr style=\"text-align: right;\">\n      <th></th>\n      <th>City</th>\n      <th>Latitude</th>\n      <th>Longitude</th>\n      <th>Source</th>\n      <th>State</th>\n      <th>Vista_Date</th>\n      <th>Vista_IPCC</th>\n      <th>Vista_Name</th>\n      <th>Vista_SType</th>\n      <th>Vista_ID</th>\n      <th>TROPOMI_CH4_Min</th>\n      <th>TROPOMI_CH4_Max</th>\n      <th>TROPOMI_CH4_Mean</th>\n      <th>TROPOMI_CH4_Count</th>\n      <th>TROPOMI_CH4_MEDIAN</th>\n      <th>County</th>\n      <th>geometry</th>\n    </tr>\n  </thead>\n  <tbody>\n    <tr>\n      <th>0</th>\n      <td>Oakdale</td>\n      <td>37.72799</td>\n      <td>-120.89865</td>\n      <td>CalRecycle</td>\n      <td>CA</td>\n      <td>2019-08-20</td>\n      <td>4B Biological Treatment of Solid Waste</td>\n      <td>3D Ag, LLC</td>\n      <td>Composting Sites</td>\n      <td>CMP000001</td>\n      <td>1866.219667</td>\n      <td>1869.152088</td>\n      <td>1867.685878</td>\n      <td>2</td>\n      <td>1867.685878</td>\n      <td>None</td>\n      <td>POLYGON ((-120.90558 37.82784, -120.89172 37.8...</td>\n    </tr>\n    <tr>\n      <th>1</th>\n      <td>Lake Elsinore</td>\n      <td>33.70999</td>\n      <td>-117.32864</td>\n      <td>CalRecycle</td>\n      <td>CA</td>\n      <td>2019-08-20</td>\n      <td>4B Biological Treatment of Solid Waste</td>\n      <td>A. Lua Recycling, Inc.</td>\n      <td>Composting Sites</td>\n      <td>CMP000002</td>\n      <td>1875.187369</td>\n      <td>1880.163061</td>\n      <td>1877.675215</td>\n      <td>2</td>\n      <td>1877.675215</td>\n      <td>None</td>\n      <td>POLYGON ((-117.33593 33.80981, -117.32135 33.8...</td>\n    </tr>\n    <tr>\n      <th>2</th>\n      <td>Martinez</td>\n      <td>38.01667</td>\n      <td>-122.13333</td>\n      <td>CalRecycle</td>\n      <td>CA</td>\n      <td>2019-08-20</td>\n      <td>4B Biological Treatment of Solid Waste</td>\n      <td>Acme Composting Compost Facility</td>\n      <td>Composting Sites</td>\n      <td>CMP000003</td>\n      <td>1842.263902</td>\n      <td>1845.817238</td>\n      <td>1844.040570</td>\n      <td>2</td>\n      <td>1844.040570</td>\n      <td>None</td>\n      <td>POLYGON ((-122.14023 38.11652, -122.12643 38.1...</td>\n    </tr>\n    <tr>\n      <th>3</th>\n      <td>Los Angeles (City)</td>\n      <td>34.03281</td>\n      <td>-118.35424</td>\n      <td>CalRecycle</td>\n      <td>CA</td>\n      <td>2019-08-20</td>\n      <td>4B Biological Treatment of Solid Waste</td>\n      <td>Adams Garden Supply</td>\n      <td>Composting Sites</td>\n      <td>CMP000004</td>\n      <td>1854.870680</td>\n      <td>1895.935669</td>\n      <td>1880.347071</td>\n      <td>3</td>\n      <td>1890.234865</td>\n      <td>None</td>\n      <td>POLYGON ((-118.36150 34.13264, -118.34698 34.1...</td>\n    </tr>\n    <tr>\n      <th>4</th>\n      <td>Hesperia</td>\n      <td>34.44517</td>\n      <td>-117.29007</td>\n      <td>CalRecycle</td>\n      <td>CA</td>\n      <td>2019-08-20</td>\n      <td>4B Biological Treatment of Solid Waste</td>\n      <td>Advance Disposal Center for the Environm</td>\n      <td>Composting Sites</td>\n      <td>CMP000005</td>\n      <td>1867.374578</td>\n      <td>1868.685923</td>\n      <td>1868.030250</td>\n      <td>2</td>\n      <td>1868.030250</td>\n      <td>None</td>\n      <td>POLYGON ((-117.29730 34.54500, -117.28284 34.5...</td>\n    </tr>\n  </tbody>\n</table>\n</div>"
     },
     "metadata": {},
     "execution_count": 6
    }
   ],
   "source": [
    "print(vista.shape)\n",
    "vista.head()"
   ]
  },
  {
   "source": [
    "## Get a sample of VISTA points"
   ],
   "cell_type": "markdown",
   "metadata": {}
  },
  {
   "cell_type": "code",
   "execution_count": 7,
   "metadata": {},
   "outputs": [],
   "source": [
    "def get_sample(gpdf, p, seed):\n",
    "    '''\n",
    "    Takes in p (a float representing the sample proportion) and seed (any number) and returns the VISTA dataframe\n",
    "    filtered to include a sample of pN locations, randomly selected by proportional stratified sampling of each emitter\n",
    "    type.\n",
    "    '''\n",
    "    \n",
    "    sampdata = gpdf.groupby('Vista_SType').sample(frac = p, random_state = seed)\n",
    "\n",
    "    return sampdata"
   ]
  },
  {
   "cell_type": "code",
   "execution_count": 8,
   "metadata": {},
   "outputs": [],
   "source": [
    "vista_samp = get_sample(vista, 0.05, 999)"
   ]
  },
  {
   "cell_type": "code",
   "execution_count": 9,
   "metadata": {},
   "outputs": [
    {
     "output_type": "stream",
     "name": "stdout",
     "text": [
      "(11730, 17)\n"
     ]
    },
    {
     "output_type": "execute_result",
     "data": {
      "text/plain": [
       "           City  Latitude  Longitude      Source State  Vista_Date  \\\n",
       "140      Marina  36.71600 -121.77222  CalRecycle    CA  2019-08-20   \n",
       "40    Los Banos  37.04268 -120.96817  CalRecycle    CA  2019-08-20   \n",
       "246  San Rafael  37.95416 -122.50517  CalRecycle    CA  2019-08-20   \n",
       "391       Heber  32.71850 -115.51890  CalRecycle    CA  2019-08-20   \n",
       "333   Inglewood  33.97452 -118.33643  CalRecycle    CA  2019-08-20   \n",
       "\n",
       "                                 Vista_IPCC  \\\n",
       "140  4B Biological Treatment of Solid Waste   \n",
       "40   4B Biological Treatment of Solid Waste   \n",
       "246  4B Biological Treatment of Solid Waste   \n",
       "391  4B Biological Treatment of Solid Waste   \n",
       "333  4B Biological Treatment of Solid Waste   \n",
       "\n",
       "                                  Vista_Name       Vista_SType   Vista_ID  \\\n",
       "140                      Gabilan Ag Services  Composting Sites  CMP000141   \n",
       "40          Billy Wright Composting Facility  Composting Sites  CMP000041   \n",
       "246  Marin Sanitary Service Transfer Station  Composting Sites  CMP000247   \n",
       "391              TruSource LLC- El Toro Yard  Composting Sites  CMP000392   \n",
       "333     RJ`s Chipping and Grinding Operation  Composting Sites  CMP000334   \n",
       "\n",
       "     TROPOMI_CH4_Min  TROPOMI_CH4_Max  TROPOMI_CH4_Mean  TROPOMI_CH4_Count  \\\n",
       "140      1868.018443      1870.914246       1869.466344                  2   \n",
       "40       1870.707528      1881.189352       1875.702961                  4   \n",
       "246              NaN              NaN               NaN                  0   \n",
       "391      1885.213989      1896.025464       1889.500953                  3   \n",
       "333      1854.870680      1890.234865       1872.552773                  2   \n",
       "\n",
       "     TROPOMI_CH4_MEDIAN County  \\\n",
       "140         1869.466344   None   \n",
       "40          1875.457481   None   \n",
       "246                 NaN   None   \n",
       "391         1887.263406   None   \n",
       "333         1872.552773   None   \n",
       "\n",
       "                                              geometry  \n",
       "140  POLYGON ((-121.77925 36.81584, -121.76519 36.8...  \n",
       "40   POLYGON ((-120.97517 37.14253, -120.96117 37.1...  \n",
       "246  POLYGON ((-122.51208 38.05401, -122.49826 38.0...  \n",
       "391  POLYGON ((-115.52628 32.81832, -115.51890 32.8...  \n",
       "333  POLYGON ((-118.34370 34.07435, -118.32916 34.0...  "
      ],
      "text/html": "<div>\n<style scoped>\n    .dataframe tbody tr th:only-of-type {\n        vertical-align: middle;\n    }\n\n    .dataframe tbody tr th {\n        vertical-align: top;\n    }\n\n    .dataframe thead th {\n        text-align: right;\n    }\n</style>\n<table border=\"1\" class=\"dataframe\">\n  <thead>\n    <tr style=\"text-align: right;\">\n      <th></th>\n      <th>City</th>\n      <th>Latitude</th>\n      <th>Longitude</th>\n      <th>Source</th>\n      <th>State</th>\n      <th>Vista_Date</th>\n      <th>Vista_IPCC</th>\n      <th>Vista_Name</th>\n      <th>Vista_SType</th>\n      <th>Vista_ID</th>\n      <th>TROPOMI_CH4_Min</th>\n      <th>TROPOMI_CH4_Max</th>\n      <th>TROPOMI_CH4_Mean</th>\n      <th>TROPOMI_CH4_Count</th>\n      <th>TROPOMI_CH4_MEDIAN</th>\n      <th>County</th>\n      <th>geometry</th>\n    </tr>\n  </thead>\n  <tbody>\n    <tr>\n      <th>140</th>\n      <td>Marina</td>\n      <td>36.71600</td>\n      <td>-121.77222</td>\n      <td>CalRecycle</td>\n      <td>CA</td>\n      <td>2019-08-20</td>\n      <td>4B Biological Treatment of Solid Waste</td>\n      <td>Gabilan Ag Services</td>\n      <td>Composting Sites</td>\n      <td>CMP000141</td>\n      <td>1868.018443</td>\n      <td>1870.914246</td>\n      <td>1869.466344</td>\n      <td>2</td>\n      <td>1869.466344</td>\n      <td>None</td>\n      <td>POLYGON ((-121.77925 36.81584, -121.76519 36.8...</td>\n    </tr>\n    <tr>\n      <th>40</th>\n      <td>Los Banos</td>\n      <td>37.04268</td>\n      <td>-120.96817</td>\n      <td>CalRecycle</td>\n      <td>CA</td>\n      <td>2019-08-20</td>\n      <td>4B Biological Treatment of Solid Waste</td>\n      <td>Billy Wright Composting Facility</td>\n      <td>Composting Sites</td>\n      <td>CMP000041</td>\n      <td>1870.707528</td>\n      <td>1881.189352</td>\n      <td>1875.702961</td>\n      <td>4</td>\n      <td>1875.457481</td>\n      <td>None</td>\n      <td>POLYGON ((-120.97517 37.14253, -120.96117 37.1...</td>\n    </tr>\n    <tr>\n      <th>246</th>\n      <td>San Rafael</td>\n      <td>37.95416</td>\n      <td>-122.50517</td>\n      <td>CalRecycle</td>\n      <td>CA</td>\n      <td>2019-08-20</td>\n      <td>4B Biological Treatment of Solid Waste</td>\n      <td>Marin Sanitary Service Transfer Station</td>\n      <td>Composting Sites</td>\n      <td>CMP000247</td>\n      <td>NaN</td>\n      <td>NaN</td>\n      <td>NaN</td>\n      <td>0</td>\n      <td>NaN</td>\n      <td>None</td>\n      <td>POLYGON ((-122.51208 38.05401, -122.49826 38.0...</td>\n    </tr>\n    <tr>\n      <th>391</th>\n      <td>Heber</td>\n      <td>32.71850</td>\n      <td>-115.51890</td>\n      <td>CalRecycle</td>\n      <td>CA</td>\n      <td>2019-08-20</td>\n      <td>4B Biological Treatment of Solid Waste</td>\n      <td>TruSource LLC- El Toro Yard</td>\n      <td>Composting Sites</td>\n      <td>CMP000392</td>\n      <td>1885.213989</td>\n      <td>1896.025464</td>\n      <td>1889.500953</td>\n      <td>3</td>\n      <td>1887.263406</td>\n      <td>None</td>\n      <td>POLYGON ((-115.52628 32.81832, -115.51890 32.8...</td>\n    </tr>\n    <tr>\n      <th>333</th>\n      <td>Inglewood</td>\n      <td>33.97452</td>\n      <td>-118.33643</td>\n      <td>CalRecycle</td>\n      <td>CA</td>\n      <td>2019-08-20</td>\n      <td>4B Biological Treatment of Solid Waste</td>\n      <td>RJ`s Chipping and Grinding Operation</td>\n      <td>Composting Sites</td>\n      <td>CMP000334</td>\n      <td>1854.870680</td>\n      <td>1890.234865</td>\n      <td>1872.552773</td>\n      <td>2</td>\n      <td>1872.552773</td>\n      <td>None</td>\n      <td>POLYGON ((-118.34370 34.07435, -118.32916 34.0...</td>\n    </tr>\n  </tbody>\n</table>\n</div>"
     },
     "metadata": {},
     "execution_count": 9
    }
   ],
   "source": [
    "print(vista_samp.shape)\n",
    "vista_samp.head()"
   ]
  },
  {
   "source": [
    "## Find euclidean distance"
   ],
   "cell_type": "markdown",
   "metadata": {}
  },
  {
   "cell_type": "code",
   "execution_count": 10,
   "metadata": {},
   "outputs": [],
   "source": [
    "def find_distance(x, y, a, b):  \n",
    "    '''Returns a one-dimensional array containing the distances between the point (a,b) and a series of \n",
    "    points whose x-coordinates are represented as the one-dimensional array x, and whose y-coordinates \n",
    "    are represented by the one-dimensional array y'''\n",
    "    \n",
    "    euclid = np.sqrt((np.subtract(a, x))**2 + (np.subtract(b, y))**2)\n",
    "    \n",
    "    return euclid"
   ]
  },
  {
   "source": [
    "## Find nearest neighbor"
   ],
   "cell_type": "markdown",
   "metadata": {}
  },
  {
   "cell_type": "code",
   "execution_count": 11,
   "metadata": {},
   "outputs": [],
   "source": [
    "def nearest_neighbor(gpdf):\n",
    "    '''\n",
    "    Takes in a gpdf and calculates the Euclidean distance from each observation to its nearest neighbor. Returns the    \n",
    "    float distance (km) and the ID and type of the nearest neighboring emitter.\n",
    "    '''\n",
    "\n",
    "    # get the crs into CA Albers, NAD1983 meters\n",
    "    gpdf = gpdf.to_crs(epsg=3310)\n",
    "\n",
    "    # find the lat and long of the centroid in new projection and add to gpdf\n",
    "    gpdf['Cent_Long_TA83m'] = gpdf.centroid.x\n",
    "    gpdf['Cent_Lat_TA83m'] = gpdf.centroid.y\n",
    "\n",
    "    # make sure the index is full and ordered\n",
    "    gpdf.index = range(len(gpdf))\n",
    "\n",
    "    # intialize empty columns to store results\n",
    "    gpdf['NearestNeighbor'] = ''\n",
    "    gpdf['NN_Distance_m'] = np.nan\n",
    "    gpdf['NN_Type'] = ''\n",
    "\n",
    "    for i in range(len(gpdf)):\n",
    "        a = gpdf.iloc[i,:]['Cent_Long_TA83m']\n",
    "        b = gpdf.iloc[i,:]['Cent_Lat_TA83m']\n",
    "        #restos = gpdf.drop(i, axis = 0)\n",
    "        x = gpdf['Cent_Long_TA83m']\n",
    "        y = gpdf['Cent_Lat_TA83m']\n",
    "        dist = find_distance(x,y,a,b)\n",
    "        dist[dist==0] = np.nan\n",
    "        nn = dist.argmin()\n",
    "        mindist = dist.min()\n",
    "\n",
    "        if nn != -1:\n",
    "           nn_ID = gpdf['Vista_ID'][nn]\n",
    "           nn_type = gpdf['Vista_SType'][nn]\n",
    "        else:\n",
    "            nn_ID = ''\n",
    "            nn_type = ''\n",
    "        gpdf['NearestNeighbor'][i] = nn_ID\n",
    "        gpdf['NN_Distance_m'][i] = mindist\n",
    "        gpdf['NN_Type'][i] = nn_type\n",
    "    \n",
    "    return gpdf"
   ]
  },
  {
   "cell_type": "code",
   "execution_count": 12,
   "metadata": {},
   "outputs": [
    {
     "output_type": "stream",
     "name": "stdout",
     "text": [
      "Runtime: 4340.113498210907 seconds\n"
     ]
    }
   ],
   "source": [
    "start = time.time()\n",
    "print(start)\n",
    "vista_nn = nearest_neighbor(vista)\n",
    "end = time.time()\n",
    "print(f'Runtime: {end - start} seconds')"
   ]
  },
  {
   "cell_type": "code",
   "execution_count": 27,
   "metadata": {},
   "outputs": [
    {
     "output_type": "execute_result",
     "data": {
      "text/plain": [
       "               City   Latitude   Longitude     Source State Vista_Date  \\\n",
       "132407  San Joaquin  37.829213 -121.292317  CEC DOGGR    CA  7/12/2019   \n",
       "\n",
       "                     Vista_IPCC        Vista_Name       Vista_SType  \\\n",
       "132407  1B2 Oil and Natural Gas  \"G.B. Unit 22\" 1  Oil and Gas Well   \n",
       "\n",
       "         Vista_ID  ...  TROPOMI_CH4_Mean  TROPOMI_CH4_Count  \\\n",
       "132407  OGW192803  ...       1873.519901                  2   \n",
       "\n",
       "        TROPOMI_CH4_MEDIAN  County  \\\n",
       "132407         1873.519901    None   \n",
       "\n",
       "                                                 geometry Cent_Long_TA83m  \\\n",
       "132407  POLYGON ((-104799.816 -20146.156, -104855.846 ...  -113588.920535   \n",
       "\n",
       "       Cent_Lat_TA83m  NearestNeighbor  NN_Distance_m           NN_Type  \n",
       "132407  -20033.509374        OGW218373    1821.959329  Oil and Gas Well  \n",
       "\n",
       "[1 rows x 22 columns]"
      ],
      "text/html": "<div>\n<style scoped>\n    .dataframe tbody tr th:only-of-type {\n        vertical-align: middle;\n    }\n\n    .dataframe tbody tr th {\n        vertical-align: top;\n    }\n\n    .dataframe thead th {\n        text-align: right;\n    }\n</style>\n<table border=\"1\" class=\"dataframe\">\n  <thead>\n    <tr style=\"text-align: right;\">\n      <th></th>\n      <th>City</th>\n      <th>Latitude</th>\n      <th>Longitude</th>\n      <th>Source</th>\n      <th>State</th>\n      <th>Vista_Date</th>\n      <th>Vista_IPCC</th>\n      <th>Vista_Name</th>\n      <th>Vista_SType</th>\n      <th>Vista_ID</th>\n      <th>...</th>\n      <th>TROPOMI_CH4_Mean</th>\n      <th>TROPOMI_CH4_Count</th>\n      <th>TROPOMI_CH4_MEDIAN</th>\n      <th>County</th>\n      <th>geometry</th>\n      <th>Cent_Long_TA83m</th>\n      <th>Cent_Lat_TA83m</th>\n      <th>NearestNeighbor</th>\n      <th>NN_Distance_m</th>\n      <th>NN_Type</th>\n    </tr>\n  </thead>\n  <tbody>\n    <tr>\n      <th>132407</th>\n      <td>San Joaquin</td>\n      <td>37.829213</td>\n      <td>-121.292317</td>\n      <td>CEC DOGGR</td>\n      <td>CA</td>\n      <td>7/12/2019</td>\n      <td>1B2 Oil and Natural Gas</td>\n      <td>\"G.B. Unit 22\" 1</td>\n      <td>Oil and Gas Well</td>\n      <td>OGW192803</td>\n      <td>...</td>\n      <td>1873.519901</td>\n      <td>2</td>\n      <td>1873.519901</td>\n      <td>None</td>\n      <td>POLYGON ((-104799.816 -20146.156, -104855.846 ...</td>\n      <td>-113588.920535</td>\n      <td>-20033.509374</td>\n      <td>OGW218373</td>\n      <td>1821.959329</td>\n      <td>Oil and Gas Well</td>\n    </tr>\n  </tbody>\n</table>\n<p>1 rows × 22 columns</p>\n</div>"
     },
     "metadata": {},
     "execution_count": 27
    }
   ],
   "source": [
    "vista_nn[vista_nn['Vista_ID'] == 'OGW192803']"
   ]
  },
  {
   "cell_type": "code",
   "execution_count": 13,
   "metadata": {},
   "outputs": [
    {
     "output_type": "execute_result",
     "data": {
      "text/plain": [
       "            City  Latitude  Longitude      Source State  Vista_Date  \\\n",
       "0        Oakdale  37.72799 -120.89865  CalRecycle    CA  2019-08-20   \n",
       "1  Lake Elsinore  33.70999 -117.32864  CalRecycle    CA  2019-08-20   \n",
       "2       Martinez  38.01667 -122.13333  CalRecycle    CA  2019-08-20   \n",
       "\n",
       "                               Vista_IPCC                        Vista_Name  \\\n",
       "0  4B Biological Treatment of Solid Waste                        3D Ag, LLC   \n",
       "1  4B Biological Treatment of Solid Waste            A. Lua Recycling, Inc.   \n",
       "2  4B Biological Treatment of Solid Waste  Acme Composting Compost Facility   \n",
       "\n",
       "        Vista_SType   Vista_ID  ...  TROPOMI_CH4_Mean  TROPOMI_CH4_Count  \\\n",
       "0  Composting Sites  CMP000001  ...       1867.685878                  2   \n",
       "1  Composting Sites  CMP000002  ...       1877.675215                  2   \n",
       "2  Composting Sites  CMP000003  ...       1844.040570                  2   \n",
       "\n",
       "   TROPOMI_CH4_MEDIAN  County  \\\n",
       "0         1867.685878    None   \n",
       "1         1877.675215    None   \n",
       "2         1844.040570    None   \n",
       "\n",
       "                                            geometry Cent_Long_TA83m  \\\n",
       "0  POLYGON ((-79599.335 -20577.676, -78380.719 -2...   -79095.261295   \n",
       "1  POLYGON ((246679.581 -463794.602, 248029.681 -...   247666.543658   \n",
       "2  POLYGON ((-187385.989 13249.108, -186177.082 1...  -187031.341105   \n",
       "\n",
       "  Cent_Lat_TA83m  NearestNeighbor  NN_Distance_m              NN_Type  \n",
       "0  -31685.429251        CMP000064     473.383614     Composting Sites  \n",
       "1 -474842.654463        OGW169487    3414.947497     Oil and Gas Well  \n",
       "2    2135.619288        COM000435    1382.420940  Natural Gas Station  \n",
       "\n",
       "[3 rows x 22 columns]"
      ],
      "text/html": "<div>\n<style scoped>\n    .dataframe tbody tr th:only-of-type {\n        vertical-align: middle;\n    }\n\n    .dataframe tbody tr th {\n        vertical-align: top;\n    }\n\n    .dataframe thead th {\n        text-align: right;\n    }\n</style>\n<table border=\"1\" class=\"dataframe\">\n  <thead>\n    <tr style=\"text-align: right;\">\n      <th></th>\n      <th>City</th>\n      <th>Latitude</th>\n      <th>Longitude</th>\n      <th>Source</th>\n      <th>State</th>\n      <th>Vista_Date</th>\n      <th>Vista_IPCC</th>\n      <th>Vista_Name</th>\n      <th>Vista_SType</th>\n      <th>Vista_ID</th>\n      <th>...</th>\n      <th>TROPOMI_CH4_Mean</th>\n      <th>TROPOMI_CH4_Count</th>\n      <th>TROPOMI_CH4_MEDIAN</th>\n      <th>County</th>\n      <th>geometry</th>\n      <th>Cent_Long_TA83m</th>\n      <th>Cent_Lat_TA83m</th>\n      <th>NearestNeighbor</th>\n      <th>NN_Distance_m</th>\n      <th>NN_Type</th>\n    </tr>\n  </thead>\n  <tbody>\n    <tr>\n      <th>0</th>\n      <td>Oakdale</td>\n      <td>37.72799</td>\n      <td>-120.89865</td>\n      <td>CalRecycle</td>\n      <td>CA</td>\n      <td>2019-08-20</td>\n      <td>4B Biological Treatment of Solid Waste</td>\n      <td>3D Ag, LLC</td>\n      <td>Composting Sites</td>\n      <td>CMP000001</td>\n      <td>...</td>\n      <td>1867.685878</td>\n      <td>2</td>\n      <td>1867.685878</td>\n      <td>None</td>\n      <td>POLYGON ((-79599.335 -20577.676, -78380.719 -2...</td>\n      <td>-79095.261295</td>\n      <td>-31685.429251</td>\n      <td>CMP000064</td>\n      <td>473.383614</td>\n      <td>Composting Sites</td>\n    </tr>\n    <tr>\n      <th>1</th>\n      <td>Lake Elsinore</td>\n      <td>33.70999</td>\n      <td>-117.32864</td>\n      <td>CalRecycle</td>\n      <td>CA</td>\n      <td>2019-08-20</td>\n      <td>4B Biological Treatment of Solid Waste</td>\n      <td>A. Lua Recycling, Inc.</td>\n      <td>Composting Sites</td>\n      <td>CMP000002</td>\n      <td>...</td>\n      <td>1877.675215</td>\n      <td>2</td>\n      <td>1877.675215</td>\n      <td>None</td>\n      <td>POLYGON ((246679.581 -463794.602, 248029.681 -...</td>\n      <td>247666.543658</td>\n      <td>-474842.654463</td>\n      <td>OGW169487</td>\n      <td>3414.947497</td>\n      <td>Oil and Gas Well</td>\n    </tr>\n    <tr>\n      <th>2</th>\n      <td>Martinez</td>\n      <td>38.01667</td>\n      <td>-122.13333</td>\n      <td>CalRecycle</td>\n      <td>CA</td>\n      <td>2019-08-20</td>\n      <td>4B Biological Treatment of Solid Waste</td>\n      <td>Acme Composting Compost Facility</td>\n      <td>Composting Sites</td>\n      <td>CMP000003</td>\n      <td>...</td>\n      <td>1844.040570</td>\n      <td>2</td>\n      <td>1844.040570</td>\n      <td>None</td>\n      <td>POLYGON ((-187385.989 13249.108, -186177.082 1...</td>\n      <td>-187031.341105</td>\n      <td>2135.619288</td>\n      <td>COM000435</td>\n      <td>1382.420940</td>\n      <td>Natural Gas Station</td>\n    </tr>\n  </tbody>\n</table>\n<p>3 rows × 22 columns</p>\n</div>"
     },
     "metadata": {},
     "execution_count": 13
    }
   ],
   "source": [
    "vista_nn.head(3)"
   ]
  },
  {
   "cell_type": "code",
   "execution_count": 20,
   "metadata": {},
   "outputs": [],
   "source": [
    "vista_nn.to_file(os.sep.join([vistadir, 'CH4_Emitters_All.shp']))\n",
    "vista_nn.to_file(os.sep.join([vistadir, 'CH4_Emitters_All.geojson']), driver = 'GeoJSON')"
   ]
  },
  {
   "source": [
    "## Scratch"
   ],
   "cell_type": "markdown",
   "metadata": {}
  },
  {
   "cell_type": "code",
   "execution_count": 14,
   "metadata": {},
   "outputs": [
    {
     "output_type": "error",
     "ename": "KeyError",
     "evalue": "289",
     "traceback": [
      "\u001b[0;31m---------------------------------------------------------------------------\u001b[0m",
      "\u001b[0;31mKeyError\u001b[0m                                  Traceback (most recent call last)",
      "\u001b[0;32m~/.pyenv/versions/er131/lib/python3.8/site-packages/pandas/core/indexes/base.py\u001b[0m in \u001b[0;36mget_loc\u001b[0;34m(self, key, method, tolerance)\u001b[0m\n\u001b[1;32m   2888\u001b[0m             \u001b[0;32mtry\u001b[0m\u001b[0;34m:\u001b[0m\u001b[0;34m\u001b[0m\u001b[0;34m\u001b[0m\u001b[0m\n\u001b[0;32m-> 2889\u001b[0;31m                 \u001b[0;32mreturn\u001b[0m \u001b[0mself\u001b[0m\u001b[0;34m.\u001b[0m\u001b[0m_engine\u001b[0m\u001b[0;34m.\u001b[0m\u001b[0mget_loc\u001b[0m\u001b[0;34m(\u001b[0m\u001b[0mcasted_key\u001b[0m\u001b[0;34m)\u001b[0m\u001b[0;34m\u001b[0m\u001b[0;34m\u001b[0m\u001b[0m\n\u001b[0m\u001b[1;32m   2890\u001b[0m             \u001b[0;32mexcept\u001b[0m \u001b[0mKeyError\u001b[0m \u001b[0;32mas\u001b[0m \u001b[0merr\u001b[0m\u001b[0;34m:\u001b[0m\u001b[0;34m\u001b[0m\u001b[0;34m\u001b[0m\u001b[0m\n",
      "\u001b[0;32mpandas/_libs/index.pyx\u001b[0m in \u001b[0;36mpandas._libs.index.IndexEngine.get_loc\u001b[0;34m()\u001b[0m\n",
      "\u001b[0;32mpandas/_libs/index.pyx\u001b[0m in \u001b[0;36mpandas._libs.index.IndexEngine.get_loc\u001b[0;34m()\u001b[0m\n",
      "\u001b[0;32mpandas/_libs/hashtable_class_helper.pxi\u001b[0m in \u001b[0;36mpandas._libs.hashtable.Int64HashTable.get_item\u001b[0;34m()\u001b[0m\n",
      "\u001b[0;32mpandas/_libs/hashtable_class_helper.pxi\u001b[0m in \u001b[0;36mpandas._libs.hashtable.Int64HashTable.get_item\u001b[0;34m()\u001b[0m\n",
      "\u001b[0;31mKeyError\u001b[0m: 289",
      "\nThe above exception was the direct cause of the following exception:\n",
      "\u001b[0;31mKeyError\u001b[0m                                  Traceback (most recent call last)",
      "\u001b[0;32m<ipython-input-14-1b3d48eb44f3>\u001b[0m in \u001b[0;36m<module>\u001b[0;34m\u001b[0m\n\u001b[1;32m      8\u001b[0m     \u001b[0mdist\u001b[0m \u001b[0;34m=\u001b[0m \u001b[0mfind_distance\u001b[0m\u001b[0;34m(\u001b[0m\u001b[0mx\u001b[0m\u001b[0;34m,\u001b[0m\u001b[0my\u001b[0m\u001b[0;34m,\u001b[0m\u001b[0ma\u001b[0m\u001b[0;34m,\u001b[0m\u001b[0mb\u001b[0m\u001b[0;34m)\u001b[0m\u001b[0;34m\u001b[0m\u001b[0;34m\u001b[0m\u001b[0m\n\u001b[1;32m      9\u001b[0m     \u001b[0mdist\u001b[0m \u001b[0;34m=\u001b[0m \u001b[0mdist\u001b[0m\u001b[0;34m[\u001b[0m\u001b[0mdist\u001b[0m\u001b[0;34m!=\u001b[0m\u001b[0;36m0\u001b[0m\u001b[0;34m]\u001b[0m\u001b[0;34m\u001b[0m\u001b[0;34m\u001b[0m\u001b[0m\n\u001b[0;32m---> 10\u001b[0;31m     \u001b[0mmindist\u001b[0m \u001b[0;34m=\u001b[0m \u001b[0mhurp\u001b[0m\u001b[0;34m[\u001b[0m\u001b[0;34m'Vista_ID'\u001b[0m\u001b[0;34m]\u001b[0m\u001b[0;34m[\u001b[0m\u001b[0mdist\u001b[0m\u001b[0;34m.\u001b[0m\u001b[0margmin\u001b[0m\u001b[0;34m(\u001b[0m\u001b[0;34m)\u001b[0m\u001b[0;34m]\u001b[0m\u001b[0;34m\u001b[0m\u001b[0;34m\u001b[0m\u001b[0m\n\u001b[0m\u001b[1;32m     11\u001b[0m     \u001b[0mnntype\u001b[0m \u001b[0;34m=\u001b[0m \u001b[0mhurp\u001b[0m\u001b[0;34m[\u001b[0m\u001b[0;34m'Vista_SType'\u001b[0m\u001b[0;34m]\u001b[0m\u001b[0;34m[\u001b[0m\u001b[0mdist\u001b[0m\u001b[0;34m.\u001b[0m\u001b[0margmin\u001b[0m\u001b[0;34m(\u001b[0m\u001b[0;34m)\u001b[0m\u001b[0;34m]\u001b[0m\u001b[0;34m\u001b[0m\u001b[0;34m\u001b[0m\u001b[0m\n\u001b[1;32m     12\u001b[0m     \u001b[0mprint\u001b[0m\u001b[0;34m(\u001b[0m\u001b[0mnntype\u001b[0m\u001b[0;34m)\u001b[0m\u001b[0;34m\u001b[0m\u001b[0;34m\u001b[0m\u001b[0m\n",
      "\u001b[0;32m~/.pyenv/versions/er131/lib/python3.8/site-packages/pandas/core/series.py\u001b[0m in \u001b[0;36m__getitem__\u001b[0;34m(self, key)\u001b[0m\n\u001b[1;32m    880\u001b[0m \u001b[0;34m\u001b[0m\u001b[0m\n\u001b[1;32m    881\u001b[0m         \u001b[0;32melif\u001b[0m \u001b[0mkey_is_scalar\u001b[0m\u001b[0;34m:\u001b[0m\u001b[0;34m\u001b[0m\u001b[0;34m\u001b[0m\u001b[0m\n\u001b[0;32m--> 882\u001b[0;31m             \u001b[0;32mreturn\u001b[0m \u001b[0mself\u001b[0m\u001b[0;34m.\u001b[0m\u001b[0m_get_value\u001b[0m\u001b[0;34m(\u001b[0m\u001b[0mkey\u001b[0m\u001b[0;34m)\u001b[0m\u001b[0;34m\u001b[0m\u001b[0;34m\u001b[0m\u001b[0m\n\u001b[0m\u001b[1;32m    883\u001b[0m \u001b[0;34m\u001b[0m\u001b[0m\n\u001b[1;32m    884\u001b[0m         if (\n",
      "\u001b[0;32m~/.pyenv/versions/er131/lib/python3.8/site-packages/pandas/core/series.py\u001b[0m in \u001b[0;36m_get_value\u001b[0;34m(self, label, takeable)\u001b[0m\n\u001b[1;32m    989\u001b[0m \u001b[0;34m\u001b[0m\u001b[0m\n\u001b[1;32m    990\u001b[0m         \u001b[0;31m# Similar to Index.get_value, but we do not fall back to positional\u001b[0m\u001b[0;34m\u001b[0m\u001b[0;34m\u001b[0m\u001b[0;34m\u001b[0m\u001b[0m\n\u001b[0;32m--> 991\u001b[0;31m         \u001b[0mloc\u001b[0m \u001b[0;34m=\u001b[0m \u001b[0mself\u001b[0m\u001b[0;34m.\u001b[0m\u001b[0mindex\u001b[0m\u001b[0;34m.\u001b[0m\u001b[0mget_loc\u001b[0m\u001b[0;34m(\u001b[0m\u001b[0mlabel\u001b[0m\u001b[0;34m)\u001b[0m\u001b[0;34m\u001b[0m\u001b[0;34m\u001b[0m\u001b[0m\n\u001b[0m\u001b[1;32m    992\u001b[0m         \u001b[0;32mreturn\u001b[0m \u001b[0mself\u001b[0m\u001b[0;34m.\u001b[0m\u001b[0mindex\u001b[0m\u001b[0;34m.\u001b[0m\u001b[0m_get_values_for_loc\u001b[0m\u001b[0;34m(\u001b[0m\u001b[0mself\u001b[0m\u001b[0;34m,\u001b[0m \u001b[0mloc\u001b[0m\u001b[0;34m,\u001b[0m \u001b[0mlabel\u001b[0m\u001b[0;34m)\u001b[0m\u001b[0;34m\u001b[0m\u001b[0;34m\u001b[0m\u001b[0m\n\u001b[1;32m    993\u001b[0m \u001b[0;34m\u001b[0m\u001b[0m\n",
      "\u001b[0;32m~/.pyenv/versions/er131/lib/python3.8/site-packages/pandas/core/indexes/base.py\u001b[0m in \u001b[0;36mget_loc\u001b[0;34m(self, key, method, tolerance)\u001b[0m\n\u001b[1;32m   2889\u001b[0m                 \u001b[0;32mreturn\u001b[0m \u001b[0mself\u001b[0m\u001b[0;34m.\u001b[0m\u001b[0m_engine\u001b[0m\u001b[0;34m.\u001b[0m\u001b[0mget_loc\u001b[0m\u001b[0;34m(\u001b[0m\u001b[0mcasted_key\u001b[0m\u001b[0;34m)\u001b[0m\u001b[0;34m\u001b[0m\u001b[0;34m\u001b[0m\u001b[0m\n\u001b[1;32m   2890\u001b[0m             \u001b[0;32mexcept\u001b[0m \u001b[0mKeyError\u001b[0m \u001b[0;32mas\u001b[0m \u001b[0merr\u001b[0m\u001b[0;34m:\u001b[0m\u001b[0;34m\u001b[0m\u001b[0;34m\u001b[0m\u001b[0m\n\u001b[0;32m-> 2891\u001b[0;31m                 \u001b[0;32mraise\u001b[0m \u001b[0mKeyError\u001b[0m\u001b[0;34m(\u001b[0m\u001b[0mkey\u001b[0m\u001b[0;34m)\u001b[0m \u001b[0;32mfrom\u001b[0m \u001b[0merr\u001b[0m\u001b[0;34m\u001b[0m\u001b[0;34m\u001b[0m\u001b[0m\n\u001b[0m\u001b[1;32m   2892\u001b[0m \u001b[0;34m\u001b[0m\u001b[0m\n\u001b[1;32m   2893\u001b[0m         \u001b[0;32mif\u001b[0m \u001b[0mtolerance\u001b[0m \u001b[0;32mis\u001b[0m \u001b[0;32mnot\u001b[0m \u001b[0;32mNone\u001b[0m\u001b[0;34m:\u001b[0m\u001b[0;34m\u001b[0m\u001b[0;34m\u001b[0m\u001b[0m\n",
      "\u001b[0;31mKeyError\u001b[0m: 289"
     ]
    }
   ],
   "source": [
    "# just messin around\n",
    "distvec = np.full(len(hurp)-1, np.nan)\n",
    "for i in list(hurp.index):\n",
    "    a = hurp.iloc[i,:]['Longitude']\n",
    "    b = hurp.iloc[i,:]['Latitude']\n",
    "    x = hurp['Longitude']\n",
    "    y = hurp['Latitude']\n",
    "    dist = find_distance(x,y,a,b)\n",
    "    dist = dist[dist!=0]\n",
    "    mindist = hurp['Vista_ID'][dist.argmin()]\n",
    "    nntype = hurp['Vista_SType'][dist.argmin()]\n",
    "    print(nntype)"
   ]
  },
  {
   "cell_type": "code",
   "execution_count": 12,
   "metadata": {},
   "outputs": [
    {
     "output_type": "stream",
     "name": "stdout",
     "text": [
      "350       23394\n220          16\n158       11913\n0            94\n144       23400\n          ...  \n234523    11731\n234442      424\n234478      267\n234555    19827\n234515    22353\nLength: 23458, dtype: int64\n0.1644865412397051\n23446\n11067    0\ndtype: int64\n"
     ]
    }
   ],
   "source": [
    "# just messin around\n",
    "\n",
    "hurp = get_sample(vista, 0.1, 33)\n",
    "durp = hurp.iloc[0,:]\n",
    "lurp = hurp.iloc[1:,:]\n",
    "distarray = find_distance(lurp['Longitude'], lurp['Latitude'], durp['Longitude'], durp['Latitude'])\n",
    "#distarray.index = range(len(distarray))\n",
    "distsort = np.argsort(distarray, axis = 0)\n",
    "print(distsort)\n",
    "print(distarray.min())\n",
    "print(distarray.argmin())\n",
    "print(distsort[distsort == 0])\n",
    "#print(hurp.shape)\n",
    "#hurp.iloc[-1,:]"
   ]
  }
 ]
}