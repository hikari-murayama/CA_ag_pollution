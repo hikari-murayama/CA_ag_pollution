{
 "metadata": {
  "language_info": {
   "codemirror_mode": {
    "name": "ipython",
    "version": 3
   },
   "file_extension": ".py",
   "mimetype": "text/x-python",
   "name": "python",
   "nbconvert_exporter": "python",
   "pygments_lexer": "ipython3",
   "version": "3.8.2-final"
  },
  "orig_nbformat": 2,
  "kernelspec": {
   "name": "python3",
   "display_name": "Python 3"
  }
 },
 "nbformat": 4,
 "nbformat_minor": 2,
 "cells": [
  {
   "source": [
    "## Front Matter"
   ],
   "cell_type": "markdown",
   "metadata": {}
  },
  {
   "cell_type": "code",
   "execution_count": null,
   "metadata": {},
   "outputs": [],
   "source": [
    "# import libraries\n",
    "import numpy as np\n",
    "import pandas as pd\n",
    "import geopandas as gpd\n",
    "import os\n",
    "import glob\n",
    "import time\n",
    "import matplotlib.pyplot as plt"
   ]
  },
  {
   "cell_type": "code",
   "execution_count": null,
   "metadata": {},
   "outputs": [],
   "source": [
    "# set data directory and out directory\n",
    "datadir = os.sep.join(['/Volumes', 'Brain', 'GIS', 'ER131', 'Project', 'Data'])\n",
    "outdir = os.sep.join(['/Volumes', 'Brain', 'GIS', 'ER131', 'Project', 'Output'])"
   ]
  },
  {
   "source": [
    "## Import AQI"
   ],
   "cell_type": "markdown",
   "metadata": {}
  },
  {
   "cell_type": "code",
   "execution_count": null,
   "metadata": {},
   "outputs": [],
   "source": [
    "aqidir = os.sep.join([datadir, 'AQI'])\n",
    "aqi = gpd.read_file(os.sep.join([aqidir, 'AQI.csv']))"
   ]
  },
  {
   "cell_type": "code",
   "execution_count": null,
   "metadata": {},
   "outputs": [],
   "source": [
    "print(aqi.shape)\n",
    "aqi.head()"
   ]
  },
  {
   "source": [
    "## Import VISTA points"
   ],
   "cell_type": "markdown",
   "metadata": {}
  },
  {
   "cell_type": "code",
   "execution_count": null,
   "metadata": {},
   "outputs": [],
   "source": [
    "vistadir = os.sep.join([outdir, 'CH4_Emitters'])\n",
    "vista = gpd.read_file(os.sep.join([vistadir, 'CH4_Emitters_All.geojson']))"
   ]
  },
  {
   "cell_type": "code",
   "execution_count": null,
   "metadata": {},
   "outputs": [],
   "source": [
    "print(vista.shape)\n",
    "vista.head()"
   ]
  },
  {
   "source": [
    "## Get sample for testing"
   ],
   "cell_type": "markdown",
   "metadata": {}
  },
  {
   "cell_type": "code",
   "execution_count": null,
   "metadata": {},
   "outputs": [],
   "source": [
    "def get_sample(gpdf, p, seed):\n",
    "    '''\n",
    "    Takes in p (a float representing the sample proportion) and seed (any number) and returns the VISTA dataframe\n",
    "    filtered to include a sample of pN locations, randomly selected by proportional stratified sampling of each emitter\n",
    "    type.\n",
    "    '''\n",
    "    \n",
    "    sampdata = gpdf.groupby('Vista_SType').sample(frac = p, random_state = seed)\n",
    "\n",
    "    return sampdata"
   ]
  },
  {
   "source": [
    "## Find Euclidean distance"
   ],
   "cell_type": "markdown",
   "metadata": {}
  },
  {
   "cell_type": "code",
   "execution_count": null,
   "metadata": {},
   "outputs": [],
   "source": [
    "def find_distance(x, y, a, b):  \n",
    "    '''Returns a one-dimensional array containing the distances between the point (a,b) and a series of \n",
    "    points whose x-coordinates are represented as the one-dimensional array x, and whose y-coordinates \n",
    "    are represented by the one-dimensional array y'''\n",
    "    \n",
    "    euclid = np.sqrt((np.subtract(a, x))**2 + (np.subtract(b, y))**2)\n",
    "    \n",
    "    return euclid"
   ]
  },
  {
   "source": [
    "## Find nearest neighbors"
   ],
   "cell_type": "markdown",
   "metadata": {}
  },
  {
   "cell_type": "code",
   "execution_count": null,
   "metadata": {},
   "outputs": [],
   "source": [
    "def nearest_neighbor(target_gpdf, aqi_gpdf):\n",
    "    '''\n",
    "    Takes in a gpdf and calculates the Euclidean distance from each observation to its nearest neighbor. \n",
    "    Returns: a numpy array with N rows (for each emitter location in the target (VISTA) dataset) and M columns, \n",
    "    where M is equal to the number of rows in the aqi dataframe (i.e. the number of observed measurements across the\n",
    "    state).\n",
    "    '''\n",
    "\n",
    "    # get the crs into CA Albers, NAD1983 meters\n",
    "    target_gpdf = target_gpdf.to_crs(epsg=3310)\n",
    "\n",
    "    # find the lat and long of the centroid in new projection and add to gpdf\n",
    "    target_gpdf['Cent_Long_TA83m'] = target_gpdf.centroid.x\n",
    "    target_gpdf['Cent_Lat_TA83m'] = target_gpdf.centroid.y\n",
    "\n",
    "    # make sure the index is full and ordered\n",
    "    target_gpdf.index = range(len(target_gpdf))\n",
    "\n",
    "    # intialize empty columns to store results\n",
    "    dist_array = np.full((len(target_gpdf), len(aqi_gpdf)), np.nan) # initialize an array of size NxM, filled with NaN \n",
    "    \n",
    "    for i in range(len(target_gpdf)): # loop through VISTA points\n",
    "        \n",
    "        # set x and y for Euclidean distance\n",
    "        aqi_x = aqi['Longitude'] # set x as aqi obs long\n",
    "        aqi_y = aqi['Latitude'] # set y as aqi obs lat\n",
    "        \n",
    "        #set ca_sample index to standard list\n",
    "        target_tmp = target_gpdf.copy()\n",
    "        target_tmp.index = range(0, len(target_gpdf))\n",
    "        \n",
    "        # set a and b for Euclidean distance\n",
    "        loc_x = target_tmp['Longitude'][i] # set a\n",
    "        loc_y = target_tmp['Latitude'][i] # set b\n",
    "        elements = find_distance(pm25_x, pm25_y, loc_x, loc_y) # calculate distances on {[x,y],[a,b]}\n",
    "        dist_array[i,:] = elements # add to array row\n",
    "    \n",
    "    return dist_array"
   ]
  },
  {
   "cell_type": "code",
   "execution_count": null,
   "metadata": {},
   "outputs": [],
   "source": [
    "def predict_PM25(target_gpdf, aqi_gpdf, K):\n",
    "    '''\n",
    "    Takes in as parameters the target emitters (VISTA) dataframe, the AQI dataframe, and an integer value for K \n",
    "    (number of nearest neighbors). Returns the target_gpdf dataframe with a new 'Value' column, whose elements are the\n",
    "    predicted AQI concentrations for each emitter point, calculated based on the mean of the K nearest Sample\n",
    "    Measurements to that city or town.\n",
    "    '''\n",
    "    \n",
    "    # add empty vector to ca_sample to store predictions\n",
    "    target_gpdf['AQI_Value'] = np.full(len(target_gpdf), np.nan)\n",
    "    \n",
    "    # get distances between emitter points and measurement locations\n",
    "    for i in range(len(target_gpdf)):\n",
    "        distarr = np.argsort(nearest_neighbor(target_gpdf, aqi_gpdf)[i], axis = 0)\n",
    "        K_near = distarr[:K]\n",
    "        aqi_obs = list(aqi_gpdf.iloc[K_near]['AQI_Value'])\n",
    "        \n",
    "        # for each emitter, get the average value of the K nearest AQI measurement locations\n",
    "        pm25_pred = (1/K) * np.sum(aqi_obs)\n",
    "        \n",
    "        # add predicted values to ca_sample\n",
    "        target_gpdf['AQI_Value'][i] = pm25_pred\n",
    "\n",
    "    return target_gpdf"
   ]
  },
  {
   "source": [
    "## Test"
   ],
   "cell_type": "markdown",
   "metadata": {}
  },
  {
   "cell_type": "code",
   "execution_count": null,
   "metadata": {},
   "outputs": [],
   "source": [
    "# Test with samples from VISTA and AQI obs\n",
    "target_samp = get_sample(vista, 0.02, 999)\n",
    "aqi_samp = get_sample(aqi, 0.02, 999)\n",
    "test = predict_PM25(target_samp, aqi_samp, 2)"
   ]
  },
  {
   "cell_type": "code",
   "execution_count": null,
   "metadata": {},
   "outputs": [],
   "source": [
    "test.head(10)"
   ]
  },
  {
   "source": [
    "## Implement"
   ],
   "cell_type": "markdown",
   "metadata": {}
  },
  {
   "cell_type": "code",
   "execution_count": null,
   "metadata": {},
   "outputs": [],
   "source": [
    "# Run on full datasets\n",
    "target_gpdf = vista\n",
    "aqi_gpdf = aqi_gpdf\n",
    "knn_predictions = predict_PM25(target_gpdf, aqi_gpdf, 6)"
   ]
  },
  {
   "cell_type": "code",
   "execution_count": null,
   "metadata": {},
   "outputs": [],
   "source": [
    "knn_predictions.head(10)"
   ]
  },
  {
   "source": [
    "## Histogram"
   ],
   "cell_type": "markdown",
   "metadata": {}
  },
  {
   "cell_type": "code",
   "execution_count": null,
   "metadata": {},
   "outputs": [],
   "source": [
    "plt.hist(test.AQI_value, bins = 12, color = 'coral', edgecolor = 'grey')\n",
    "plt.title('Frequency distribution of AQI values estimated through KNN on 6 neighbors')\n",
    "plt.xlabel('AQI value')\n",
    "plt.ylabel('Log of frequency')\n",
    "plt.yscale('log')"
   ]
  },
  {
   "source": [
    "## To file"
   ],
   "cell_type": "markdown",
   "metadata": {}
  },
  {
   "cell_type": "code",
   "execution_count": null,
   "metadata": {},
   "outputs": [],
   "source": [
    "# to geojson\n",
    "knn_predictions.to_file(os.sep.join([vistadir, 'CH4_Emitters_All.geojson']), driver = 'GeoJSON')\n",
    "\n",
    "# to shapefile\n",
    "#knn_predictions.to_file(os.sep.join([vistadir, 'CH4_Emitters_All.shp']))"
   ]
  }
 ]
}