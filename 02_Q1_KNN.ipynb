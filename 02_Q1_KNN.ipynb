{
 "cells": [
  {
   "cell_type": "markdown",
   "metadata": {},
   "source": [
    "# Question 1: Predicting air quality measurements near methane emitter sources\n",
    "\n",
    "##### **To use as a feature for prediction questions 2 & 3**\n",
    "We'd like to use air quality as a feature in our model; however, we don't have air quality measurements at the exact location of our emitter points. Therefore, we'll use a K Nearest Neighbors model to predict the monthly average air quality at our emitter points, and use these predictions as a feature for our other prediction questions. "
   ]
  },
  {
   "cell_type": "code",
   "execution_count": 88,
   "metadata": {},
   "outputs": [],
   "source": [
    "#Import modules\n",
    "import numpy as np\n",
    "import pandas as pd\n",
    "import geopandas as gpd\n",
    "import matplotlib.pyplot as plt\n",
    "from sklearn.model_selection import train_test_split\n",
    "from sklearn.model_selection import KFold\n",
    "from sklearn.metrics import mean_squared_error\n",
    "from sklearn.neighbors import KNeighborsRegressor\n",
    "from sklearn.model_selection import GridSearchCV\n",
    "import seaborn as sns"
   ]
  },
  {
   "cell_type": "markdown",
   "metadata": {},
   "source": [
    "#### Prepare data for model\n",
    "\n",
    "First, we'll load in and take a look at our air quality data and the rest of our features/response. "
   ]
  },
  {
   "cell_type": "code",
   "execution_count": 38,
   "metadata": {},
   "outputs": [],
   "source": [
    "#Load data\n",
    "airnow = gpd.read_file('Data/airnow_monthly_averages.json/airnow_monthly_averages.shp')\n",
    "ch4 = gpd.read_file('Data/target_and_features.geojson')"
   ]
  },
  {
   "cell_type": "code",
   "execution_count": 28,
   "metadata": {},
   "outputs": [
    {
     "data": {
      "text/html": [
       "<div>\n",
       "<style scoped>\n",
       "    .dataframe tbody tr th:only-of-type {\n",
       "        vertical-align: middle;\n",
       "    }\n",
       "\n",
       "    .dataframe tbody tr th {\n",
       "        vertical-align: top;\n",
       "    }\n",
       "\n",
       "    .dataframe thead th {\n",
       "        text-align: right;\n",
       "    }\n",
       "</style>\n",
       "<table border=\"1\" class=\"dataframe\">\n",
       "  <thead>\n",
       "    <tr style=\"text-align: right;\">\n",
       "      <th></th>\n",
       "      <th>Latitude</th>\n",
       "      <th>Longitude</th>\n",
       "      <th>Parameter</th>\n",
       "      <th>Unit</th>\n",
       "      <th>Category</th>\n",
       "      <th>SiteName</th>\n",
       "      <th>AgencyName</th>\n",
       "      <th>FullAQSCod</th>\n",
       "      <th>IntlAQSCod</th>\n",
       "      <th>year</th>\n",
       "      <th>month</th>\n",
       "      <th>Value_mean</th>\n",
       "      <th>Value_coun</th>\n",
       "      <th>RawConcent</th>\n",
       "      <th>RawConce_1</th>\n",
       "      <th>AQI_mean</th>\n",
       "      <th>AQI_count</th>\n",
       "      <th>geometry</th>\n",
       "    </tr>\n",
       "  </thead>\n",
       "  <tbody>\n",
       "    <tr>\n",
       "      <th>0</th>\n",
       "      <td>32.7355</td>\n",
       "      <td>-116.3454</td>\n",
       "      <td>PM10</td>\n",
       "      <td>UG/M3</td>\n",
       "      <td>0</td>\n",
       "      <td>Manzanita Tribe 1</td>\n",
       "      <td>Manzanita Band of the Kumeyaay Nation</td>\n",
       "      <td>60732000</td>\n",
       "      <td>840060732000</td>\n",
       "      <td>2016</td>\n",
       "      <td>1</td>\n",
       "      <td>-0.1500000000</td>\n",
       "      <td>2</td>\n",
       "      <td>0.0000000000</td>\n",
       "      <td>2</td>\n",
       "      <td>NaN</td>\n",
       "      <td>0</td>\n",
       "      <td>POINT (-116.34540 32.73550)</td>\n",
       "    </tr>\n",
       "    <tr>\n",
       "      <th>1</th>\n",
       "      <td>32.7355</td>\n",
       "      <td>-116.3454</td>\n",
       "      <td>PM10</td>\n",
       "      <td>UG/M3</td>\n",
       "      <td>1</td>\n",
       "      <td>Manzanita Tribe 1</td>\n",
       "      <td>Manzanita Band of the Kumeyaay Nation</td>\n",
       "      <td>60732000</td>\n",
       "      <td>840060732000</td>\n",
       "      <td>2016</td>\n",
       "      <td>1</td>\n",
       "      <td>2.9335149864</td>\n",
       "      <td>734</td>\n",
       "      <td>2.9221311475</td>\n",
       "      <td>732</td>\n",
       "      <td>2.7506811989</td>\n",
       "      <td>734</td>\n",
       "      <td>POINT (-116.34540 32.73550)</td>\n",
       "    </tr>\n",
       "    <tr>\n",
       "      <th>2</th>\n",
       "      <td>32.7355</td>\n",
       "      <td>-116.3454</td>\n",
       "      <td>PM10</td>\n",
       "      <td>UG/M3</td>\n",
       "      <td>1</td>\n",
       "      <td>Manzanita Tribe 1</td>\n",
       "      <td>Manzanita Band of the Kumeyaay Nation</td>\n",
       "      <td>60732000</td>\n",
       "      <td>840060732000</td>\n",
       "      <td>2016</td>\n",
       "      <td>2</td>\n",
       "      <td>5.7252906977</td>\n",
       "      <td>3440</td>\n",
       "      <td>5.8673469388</td>\n",
       "      <td>3430</td>\n",
       "      <td>5.3066860465</td>\n",
       "      <td>3440</td>\n",
       "      <td>POINT (-116.34540 32.73550)</td>\n",
       "    </tr>\n",
       "    <tr>\n",
       "      <th>3</th>\n",
       "      <td>32.7355</td>\n",
       "      <td>-116.3454</td>\n",
       "      <td>PM10</td>\n",
       "      <td>UG/M3</td>\n",
       "      <td>1</td>\n",
       "      <td>Manzanita Tribe 1</td>\n",
       "      <td>Manzanita Band of the Kumeyaay Nation</td>\n",
       "      <td>60732000</td>\n",
       "      <td>840060732000</td>\n",
       "      <td>2016</td>\n",
       "      <td>3</td>\n",
       "      <td>7.5774456522</td>\n",
       "      <td>2944</td>\n",
       "      <td>7.5869565217</td>\n",
       "      <td>2944</td>\n",
       "      <td>7.0095108696</td>\n",
       "      <td>2944</td>\n",
       "      <td>POINT (-116.34540 32.73550)</td>\n",
       "    </tr>\n",
       "    <tr>\n",
       "      <th>4</th>\n",
       "      <td>32.7355</td>\n",
       "      <td>-116.3454</td>\n",
       "      <td>PM10</td>\n",
       "      <td>UG/M3</td>\n",
       "      <td>1</td>\n",
       "      <td>Manzanita Tribe 1</td>\n",
       "      <td>Manzanita Band of the Kumeyaay Nation</td>\n",
       "      <td>60732000</td>\n",
       "      <td>840060732000</td>\n",
       "      <td>2016</td>\n",
       "      <td>4</td>\n",
       "      <td>11.3661991585</td>\n",
       "      <td>2139</td>\n",
       "      <td>11.4044943820</td>\n",
       "      <td>2136</td>\n",
       "      <td>10.5315568022</td>\n",
       "      <td>2139</td>\n",
       "      <td>POINT (-116.34540 32.73550)</td>\n",
       "    </tr>\n",
       "  </tbody>\n",
       "</table>\n",
       "</div>"
      ],
      "text/plain": [
       "   Latitude  Longitude Parameter   Unit  Category           SiteName  \\\n",
       "0   32.7355  -116.3454      PM10  UG/M3         0  Manzanita Tribe 1   \n",
       "1   32.7355  -116.3454      PM10  UG/M3         1  Manzanita Tribe 1   \n",
       "2   32.7355  -116.3454      PM10  UG/M3         1  Manzanita Tribe 1   \n",
       "3   32.7355  -116.3454      PM10  UG/M3         1  Manzanita Tribe 1   \n",
       "4   32.7355  -116.3454      PM10  UG/M3         1  Manzanita Tribe 1   \n",
       "\n",
       "                              AgencyName FullAQSCod    IntlAQSCod  year  \\\n",
       "0  Manzanita Band of the Kumeyaay Nation   60732000  840060732000  2016   \n",
       "1  Manzanita Band of the Kumeyaay Nation   60732000  840060732000  2016   \n",
       "2  Manzanita Band of the Kumeyaay Nation   60732000  840060732000  2016   \n",
       "3  Manzanita Band of the Kumeyaay Nation   60732000  840060732000  2016   \n",
       "4  Manzanita Band of the Kumeyaay Nation   60732000  840060732000  2016   \n",
       "\n",
       "   month     Value_mean  Value_coun     RawConcent  RawConce_1       AQI_mean  \\\n",
       "0      1  -0.1500000000           2   0.0000000000           2            NaN   \n",
       "1      1   2.9335149864         734   2.9221311475         732   2.7506811989   \n",
       "2      2   5.7252906977        3440   5.8673469388        3430   5.3066860465   \n",
       "3      3   7.5774456522        2944   7.5869565217        2944   7.0095108696   \n",
       "4      4  11.3661991585        2139  11.4044943820        2136  10.5315568022   \n",
       "\n",
       "   AQI_count                     geometry  \n",
       "0          0  POINT (-116.34540 32.73550)  \n",
       "1        734  POINT (-116.34540 32.73550)  \n",
       "2       3440  POINT (-116.34540 32.73550)  \n",
       "3       2944  POINT (-116.34540 32.73550)  \n",
       "4       2139  POINT (-116.34540 32.73550)  "
      ]
     },
     "execution_count": 28,
     "metadata": {},
     "output_type": "execute_result"
    }
   ],
   "source": [
    "#Check data\n",
    "airnow.head()"
   ]
  },
  {
   "cell_type": "code",
   "execution_count": 29,
   "metadata": {},
   "outputs": [
    {
     "data": {
      "text/plain": [
       "(17348, 18)"
      ]
     },
     "execution_count": 29,
     "metadata": {},
     "output_type": "execute_result"
    }
   ],
   "source": [
    "airnow.shape"
   ]
  },
  {
   "cell_type": "code",
   "execution_count": 30,
   "metadata": {
    "scrolled": false
   },
   "outputs": [
    {
     "data": {
      "text/html": [
       "<div>\n",
       "<style scoped>\n",
       "    .dataframe tbody tr th:only-of-type {\n",
       "        vertical-align: middle;\n",
       "    }\n",
       "\n",
       "    .dataframe tbody tr th {\n",
       "        vertical-align: top;\n",
       "    }\n",
       "\n",
       "    .dataframe thead th {\n",
       "        text-align: right;\n",
       "    }\n",
       "</style>\n",
       "<table border=\"1\" class=\"dataframe\">\n",
       "  <thead>\n",
       "    <tr style=\"text-align: right;\">\n",
       "      <th></th>\n",
       "      <th>Vista_ID</th>\n",
       "      <th>AVIRIS_CH4_median_ppmm</th>\n",
       "      <th>AVIRIS_CH4_median_date</th>\n",
       "      <th>AVIRIS_CH4_pxcount</th>\n",
       "      <th>CH4_Mass_kg</th>\n",
       "      <th>ng_pipelength_2</th>\n",
       "      <th>ng_pipelength_1000</th>\n",
       "      <th>ng_pipelength_5000</th>\n",
       "      <th>ng_pipelength_10000</th>\n",
       "      <th>ng_pipelength_50000</th>\n",
       "      <th>...</th>\n",
       "      <th>EmitterType_Refinery</th>\n",
       "      <th>EmitterType_Wastewater.Treatment.Plant</th>\n",
       "      <th>NearestNeighbor</th>\n",
       "      <th>NN_Distance_m</th>\n",
       "      <th>NN_Type</th>\n",
       "      <th>aviris_month</th>\n",
       "      <th>tropomi_no2_mean</th>\n",
       "      <th>tropomi_o3_mean</th>\n",
       "      <th>tropomi_so2_mean</th>\n",
       "      <th>geometry</th>\n",
       "    </tr>\n",
       "  </thead>\n",
       "  <tbody>\n",
       "    <tr>\n",
       "      <th>0</th>\n",
       "      <td>DAF001852</td>\n",
       "      <td>152.0039</td>\n",
       "      <td>2016-09-11</td>\n",
       "      <td>835.7500</td>\n",
       "      <td>0.0001</td>\n",
       "      <td>6392.1007</td>\n",
       "      <td>7391.6466</td>\n",
       "      <td>16539.2553</td>\n",
       "      <td>57707.9384</td>\n",
       "      <td>667538.8408</td>\n",
       "      <td>...</td>\n",
       "      <td>0</td>\n",
       "      <td>0</td>\n",
       "      <td>DAF000658</td>\n",
       "      <td>2466.0455</td>\n",
       "      <td>Dairy</td>\n",
       "      <td>9</td>\n",
       "      <td>0.0</td>\n",
       "      <td>2.7501</td>\n",
       "      <td>0.3199</td>\n",
       "      <td>MULTIPOLYGON (((-82488.739 -16790.579, -82489....</td>\n",
       "    </tr>\n",
       "    <tr>\n",
       "      <th>1</th>\n",
       "      <td>DAF001876</td>\n",
       "      <td>111.8814</td>\n",
       "      <td>2016-09-12</td>\n",
       "      <td>1670.0000</td>\n",
       "      <td>0.0001</td>\n",
       "      <td>85884.6586</td>\n",
       "      <td>94127.2287</td>\n",
       "      <td>127492.1839</td>\n",
       "      <td>170899.8068</td>\n",
       "      <td>842878.1810</td>\n",
       "      <td>...</td>\n",
       "      <td>0</td>\n",
       "      <td>0</td>\n",
       "      <td>COM000219</td>\n",
       "      <td>781.9825</td>\n",
       "      <td>Natural Gas Station</td>\n",
       "      <td>9</td>\n",
       "      <td>0.0</td>\n",
       "      <td>2.7094</td>\n",
       "      <td>0.4187</td>\n",
       "      <td>MULTIPOLYGON (((260247.391 -342212.585, 260246...</td>\n",
       "    </tr>\n",
       "    <tr>\n",
       "      <th>2</th>\n",
       "      <td>DAF001759</td>\n",
       "      <td>244.1223</td>\n",
       "      <td>2016-09-12</td>\n",
       "      <td>3346.0000</td>\n",
       "      <td>0.0002</td>\n",
       "      <td>18873.8279</td>\n",
       "      <td>21161.2918</td>\n",
       "      <td>29954.3051</td>\n",
       "      <td>43939.1783</td>\n",
       "      <td>334243.8826</td>\n",
       "      <td>...</td>\n",
       "      <td>0</td>\n",
       "      <td>0</td>\n",
       "      <td>DAF000910</td>\n",
       "      <td>4638.2693</td>\n",
       "      <td>Dairy</td>\n",
       "      <td>9</td>\n",
       "      <td>0.0</td>\n",
       "      <td>2.6972</td>\n",
       "      <td>0.3413</td>\n",
       "      <td>MULTIPOLYGON (((61647.033 -234595.348, 61646.1...</td>\n",
       "    </tr>\n",
       "    <tr>\n",
       "      <th>3</th>\n",
       "      <td>DAF001767</td>\n",
       "      <td>112.7884</td>\n",
       "      <td>2016-09-12</td>\n",
       "      <td>1114.6667</td>\n",
       "      <td>0.0001</td>\n",
       "      <td>0.0000</td>\n",
       "      <td>0.0000</td>\n",
       "      <td>0.0000</td>\n",
       "      <td>6753.5702</td>\n",
       "      <td>336951.9840</td>\n",
       "      <td>...</td>\n",
       "      <td>0</td>\n",
       "      <td>0</td>\n",
       "      <td>OGW166989</td>\n",
       "      <td>1181.9761</td>\n",
       "      <td>Oil and Gas Well</td>\n",
       "      <td>9</td>\n",
       "      <td>0.0</td>\n",
       "      <td>2.6981</td>\n",
       "      <td>0.3361</td>\n",
       "      <td>MULTIPOLYGON (((45304.763 -224578.476, 45303.9...</td>\n",
       "    </tr>\n",
       "    <tr>\n",
       "      <th>4</th>\n",
       "      <td>DAF001776</td>\n",
       "      <td>105.4107</td>\n",
       "      <td>2016-09-12</td>\n",
       "      <td>1216.2727</td>\n",
       "      <td>0.0001</td>\n",
       "      <td>0.0000</td>\n",
       "      <td>0.0000</td>\n",
       "      <td>0.0000</td>\n",
       "      <td>0.0000</td>\n",
       "      <td>264800.5901</td>\n",
       "      <td>...</td>\n",
       "      <td>0</td>\n",
       "      <td>0</td>\n",
       "      <td>FDL000024</td>\n",
       "      <td>1901.1757</td>\n",
       "      <td>Feed Lot</td>\n",
       "      <td>9</td>\n",
       "      <td>0.0</td>\n",
       "      <td>2.7004</td>\n",
       "      <td>0.3429</td>\n",
       "      <td>MULTIPOLYGON (((39551.942 -203816.734, 39551.1...</td>\n",
       "    </tr>\n",
       "  </tbody>\n",
       "</table>\n",
       "<p>5 rows × 65 columns</p>\n",
       "</div>"
      ],
      "text/plain": [
       "    Vista_ID  AVIRIS_CH4_median_ppmm AVIRIS_CH4_median_date  \\\n",
       "0  DAF001852                152.0039             2016-09-11   \n",
       "1  DAF001876                111.8814             2016-09-12   \n",
       "2  DAF001759                244.1223             2016-09-12   \n",
       "3  DAF001767                112.7884             2016-09-12   \n",
       "4  DAF001776                105.4107             2016-09-12   \n",
       "\n",
       "   AVIRIS_CH4_pxcount  CH4_Mass_kg  ng_pipelength_2  ng_pipelength_1000  \\\n",
       "0            835.7500       0.0001        6392.1007           7391.6466   \n",
       "1           1670.0000       0.0001       85884.6586          94127.2287   \n",
       "2           3346.0000       0.0002       18873.8279          21161.2918   \n",
       "3           1114.6667       0.0001           0.0000              0.0000   \n",
       "4           1216.2727       0.0001           0.0000              0.0000   \n",
       "\n",
       "   ng_pipelength_5000  ng_pipelength_10000  ng_pipelength_50000  ...  \\\n",
       "0          16539.2553           57707.9384          667538.8408  ...   \n",
       "1         127492.1839          170899.8068          842878.1810  ...   \n",
       "2          29954.3051           43939.1783          334243.8826  ...   \n",
       "3              0.0000            6753.5702          336951.9840  ...   \n",
       "4              0.0000               0.0000          264800.5901  ...   \n",
       "\n",
       "   EmitterType_Refinery  EmitterType_Wastewater.Treatment.Plant  \\\n",
       "0                     0                                       0   \n",
       "1                     0                                       0   \n",
       "2                     0                                       0   \n",
       "3                     0                                       0   \n",
       "4                     0                                       0   \n",
       "\n",
       "   NearestNeighbor  NN_Distance_m              NN_Type  aviris_month  \\\n",
       "0        DAF000658      2466.0455                Dairy             9   \n",
       "1        COM000219       781.9825  Natural Gas Station             9   \n",
       "2        DAF000910      4638.2693                Dairy             9   \n",
       "3        OGW166989      1181.9761     Oil and Gas Well             9   \n",
       "4        FDL000024      1901.1757             Feed Lot             9   \n",
       "\n",
       "   tropomi_no2_mean  tropomi_o3_mean  tropomi_so2_mean  \\\n",
       "0               0.0           2.7501            0.3199   \n",
       "1               0.0           2.7094            0.4187   \n",
       "2               0.0           2.6972            0.3413   \n",
       "3               0.0           2.6981            0.3361   \n",
       "4               0.0           2.7004            0.3429   \n",
       "\n",
       "                                            geometry  \n",
       "0  MULTIPOLYGON (((-82488.739 -16790.579, -82489....  \n",
       "1  MULTIPOLYGON (((260247.391 -342212.585, 260246...  \n",
       "2  MULTIPOLYGON (((61647.033 -234595.348, 61646.1...  \n",
       "3  MULTIPOLYGON (((45304.763 -224578.476, 45303.9...  \n",
       "4  MULTIPOLYGON (((39551.942 -203816.734, 39551.1...  \n",
       "\n",
       "[5 rows x 65 columns]"
      ]
     },
     "execution_count": 30,
     "metadata": {},
     "output_type": "execute_result"
    }
   ],
   "source": [
    "#Check data\n",
    "ch4.head()"
   ]
  },
  {
   "cell_type": "code",
   "execution_count": 31,
   "metadata": {},
   "outputs": [
    {
     "data": {
      "text/plain": [
       "(48386, 65)"
      ]
     },
     "execution_count": 31,
     "metadata": {},
     "output_type": "execute_result"
    }
   ],
   "source": [
    "ch4.shape"
   ]
  },
  {
   "cell_type": "markdown",
   "metadata": {},
   "source": [
    "As we saw in our EDA of our AirNow data, we have the fewest monitors for SO2 and CO. This might lead to inaccurate predictions for these two parameters, since we have so few data to train on, and since our emitters will likely be located quite far from these few monitor locations. \n",
    "\n",
    "We can take a closer look to see what this will mean with regard to the number of observations for each of these parameters. "
   ]
  },
  {
   "cell_type": "code",
   "execution_count": 32,
   "metadata": {
    "scrolled": true
   },
   "outputs": [
    {
     "name": "stdout",
     "output_type": "stream",
     "text": [
      "(4944, 18)\n",
      "(2504, 18)\n",
      "(7008, 18)\n",
      "(952, 18)\n",
      "(1550, 18)\n",
      "(390, 18)\n"
     ]
    }
   ],
   "source": [
    "#Let's see how many observations there are for each parameter\n",
    "print(airnow[airnow['Parameter'] == 'PM2.5'].shape)\n",
    "print(airnow[airnow['Parameter'] == 'PM10'].shape)\n",
    "print(airnow[airnow['Parameter'] == 'OZONE'].shape)\n",
    "print(airnow[airnow['Parameter'] == 'CO'].shape)\n",
    "print(airnow[airnow['Parameter'] == 'NO2'].shape)\n",
    "print(airnow[airnow['Parameter'] == 'SO2'].shape)"
   ]
  },
  {
   "cell_type": "code",
   "execution_count": 33,
   "metadata": {
    "scrolled": true
   },
   "outputs": [
    {
     "name": "stdout",
     "output_type": "stream",
     "text": [
      "(26, 18)\n",
      "(13, 18)\n",
      "(161, 18)\n",
      "(107, 18)\n",
      "(45, 18)\n",
      "(316, 18)\n"
     ]
    }
   ],
   "source": [
    "#Let's see how many measurements there for one year and month\n",
    "print(airnow[(airnow['Parameter'] == 'CO') & (airnow['month'] == 10) & (airnow['year'] == 2016)].shape)\n",
    "print(airnow[(airnow['Parameter'] == 'SO2') & (airnow['month'] == 10) & (airnow['year'] == 2016)].shape)\n",
    "print(airnow[(airnow['Parameter'] == 'PM2.5') & (airnow['month'] == 10) & (airnow['year'] == 2016)].shape)\n",
    "print(airnow[(airnow['Parameter'] == 'PM10') & (airnow['month'] == 10) & (airnow['year'] == 2016)].shape)\n",
    "print(airnow[(airnow['Parameter'] == 'NO2') & (airnow['month'] == 10) & (airnow['year'] == 2016)].shape)\n",
    "print(airnow[(airnow['Parameter'] == 'OZONE') & (airnow['month'] == 10) & (airnow['year'] == 2016)].shape)"
   ]
  },
  {
   "cell_type": "markdown",
   "metadata": {},
   "source": [
    "For a given month/year, we only have 13 observations for SO2 and 26 observations for CO. As such, our predictions for these two parameters could end up being quite meaningless, as they will likely be averaging measures that were taken from hundreds of miles away from each other. We'll drop these two parameters and focus on the other four for our KNN model. \n",
    "\n",
    "Next, we'll want to make sure that our datasets are in the same CRS. "
   ]
  },
  {
   "cell_type": "code",
   "execution_count": 36,
   "metadata": {},
   "outputs": [
    {
     "data": {
      "text/plain": [
       "{'init': 'epsg:4326'}"
      ]
     },
     "execution_count": 36,
     "metadata": {},
     "output_type": "execute_result"
    }
   ],
   "source": [
    "airnow.crs"
   ]
  },
  {
   "cell_type": "code",
   "execution_count": 39,
   "metadata": {},
   "outputs": [
    {
     "data": {
      "text/plain": [
       "{'init': 'epsg:4326'}"
      ]
     },
     "execution_count": 39,
     "metadata": {},
     "output_type": "execute_result"
    }
   ],
   "source": [
    "ch4.crs"
   ]
  },
  {
   "cell_type": "markdown",
   "metadata": {},
   "source": [
    "Our emitter data is showing the the CRS is WGS84, but we know this is not correct by looking at the geometries. We'll have to manually reset the CRS, which we know is in CA Albers from our other data cleaning. "
   ]
  },
  {
   "cell_type": "code",
   "execution_count": 40,
   "metadata": {},
   "outputs": [],
   "source": [
    "#Note: gpd is reading the incorrect CRS. Reset to CA Albers, NAD1983 meters\n",
    "ch4.crs = {'init': 'epsg:3310'}"
   ]
  },
  {
   "cell_type": "markdown",
   "metadata": {},
   "source": [
    "A projected CRS is preferred when calculating distances. We'll reproject our AirNow data to CA ALbers. "
   ]
  },
  {
   "cell_type": "code",
   "execution_count": 41,
   "metadata": {},
   "outputs": [
    {
     "name": "stderr",
     "output_type": "stream",
     "text": [
      "/Users/michellesims/opt/anaconda3/envs/pp275/lib/python3.8/site-packages/pyproj/crs/crs.py:53: FutureWarning: '+init=<authority>:<code>' syntax is deprecated. '<authority>:<code>' is the preferred initialization method. When making the change, be mindful of axis order changes: https://pyproj4.github.io/pyproj/stable/gotchas.html#axis-order-changes-in-proj-6\n",
      "  return _prepare_from_string(\" \".join(pjargs))\n"
     ]
    }
   ],
   "source": [
    "#Since our CH4 emitter points are in the CA Albers projection, we'll need to change the CRS of our airnow dataframe\n",
    "airnow = airnow.to_crs(epsg=3310)"
   ]
  },
  {
   "cell_type": "markdown",
   "metadata": {},
   "source": [
    "We can make sure that our two datasets line up by plotting the data. "
   ]
  },
  {
   "cell_type": "code",
   "execution_count": 47,
   "metadata": {},
   "outputs": [
    {
     "data": {
      "text/plain": [
       "<AxesSubplot:>"
      ]
     },
     "execution_count": 47,
     "metadata": {},
     "output_type": "execute_result"
    },
    {
     "data": {
      "image/png": "[encoded data removed]",
      "text/plain": [
       "<Figure size 432x288 with 1 Axes>"
      ]
     },
     "metadata": {
      "needs_background": "light"
     },
     "output_type": "display_data"
    }
   ],
   "source": [
    "fig, ax = plt.subplots()\n",
    "airnow.plot(ax = ax, color = 'red')\n",
    "ch4.boundary.plot(ax = ax, color = 'blue')"
   ]
  },
  {
   "cell_type": "markdown",
   "metadata": {},
   "source": [
    "The two datasets line up. \n",
    "\n",
    "Finally, we'll want to check the dates of our AVIRIS flights. These are the months we'll want want to use when fitting our model, since we want the AirNow monthly mean measurements to line up with the months of our AVIRIS flights. "
   ]
  },
  {
   "cell_type": "code",
   "execution_count": 39,
   "metadata": {},
   "outputs": [
    {
     "data": {
      "text/plain": [
       "array(['2016-09-11', '2016-09-12', '2016-09-13', '2016-09-14',\n",
       "       '2016-09-15', '2016-09-16', '2016-09-17', '2016-09-10',\n",
       "       '2016-09-22', '2016-09-25', '2016-09-30', '2016-10-01',\n",
       "       '2016-09-19', '2016-10-03', '2016-10-08', '2016-10-05',\n",
       "       '2016-10-06', '2016-10-11', '2016-10-25', '2016-10-29',\n",
       "       '2016-11-03', '2017-03-09', '2017-06-15', '2016-10-26',\n",
       "       '2017-06-16', '2016-11-04', '2016-11-02', '2017-06-18',\n",
       "       '2017-06-20', '2017-08-30', '2017-08-31', '2017-09-01',\n",
       "       '2017-09-05', '2017-09-06', '2017-09-07', '2017-09-08',\n",
       "       '2017-09-09', '2017-09-10', '2017-09-13', '2017-09-15',\n",
       "       '2017-09-16', '2017-09-11', '2017-09-20', '2017-09-26',\n",
       "       '2017-09-28', '2017-06-17', '2017-10-05', '2017-09-30',\n",
       "       '2017-06-19', '2017-10-06', '2017-10-07', '2017-10-10',\n",
       "       '2017-09-02', '2017-10-12', '2017-10-03', '2017-10-13',\n",
       "       '2017-09-18', '2017-10-16', '2017-10-23', '2017-09-19',\n",
       "       '2017-10-24', '2017-09-25', '2017-09-22', '2017-11-13',\n",
       "       '2017-10-26', '2017-11-08', '2017-08-28', '2016-10-12'],\n",
       "      dtype=object)"
      ]
     },
     "execution_count": 39,
     "metadata": {},
     "output_type": "execute_result"
    }
   ],
   "source": [
    "#check dates; these are the month/date combos we'll use in the predictions\n",
    "ch4['AVIRIS_CH4_median_date'].unique()"
   ]
  },
  {
   "cell_type": "code",
   "execution_count": 48,
   "metadata": {},
   "outputs": [
    {
     "data": {
      "text/plain": [
       "Index(['Vista_ID', 'AVIRIS_CH4_median_ppmm', 'AVIRIS_CH4_median_date',\n",
       "       'AVIRIS_CH4_pxcount', 'CH4_Mass_kg', 'ng_pipelength_2',\n",
       "       'ng_pipelength_1000', 'ng_pipelength_5000', 'ng_pipelength_10000',\n",
       "       'ng_pipelength_50000', 'weighted_cow_density', 'LULC_open_water_perc',\n",
       "       'LULC_ice_snow_perc', 'LULC_developed_open_space_perc',\n",
       "       'LULC_developed_low_int_perc', 'LULC_developed_med_int_perc',\n",
       "       'LULC_developed_high_int_perc', 'LULC_barren_land_perc',\n",
       "       'LULC_deciduous_forest_perc', 'LULC_evergreen_forest_perc',\n",
       "       'LULC_mixed_forest_perc', 'LULC_shrub_scrub_perc',\n",
       "       'LULC_grassland_herbaceous_perc', 'LULC_pasture_hay_perc',\n",
       "       'LULC_cultivated_crops_perc', 'LULC_woody_wetlands_perc',\n",
       "       'LULC_emergent_herbaceous_wetlands_perc', 'LULC_total_perc',\n",
       "       'LULC_majority_class', 'LULC_Barren.Land', 'LULC_Cultivated.Crops',\n",
       "       'LULC_Dev..Low.Int', 'LULC_Dev..Med.Int', 'LULC_Dev..Open.Space',\n",
       "       'LULC_Evergreen.Forest', 'LULC_Grassland', 'LULC_Herbaceous.Wetlands',\n",
       "       'LULC_Mixed.Forest', 'LULC_Open.Water', 'LULC_Pasture.Hay',\n",
       "       'LULC_Shrub.Scrub', 'EmitterType_Composting.Sites',\n",
       "       'EmitterType_Compressed.Natural.Gas.Fueling.Station',\n",
       "       'EmitterType_Dairy', 'EmitterType_Digester', 'EmitterType_Feed.Lot',\n",
       "       'EmitterType_Landfill',\n",
       "       'EmitterType_Liquefied.Natural.Gas.Fueling.Station',\n",
       "       'EmitterType_Natural.Gas.Processing.Plants',\n",
       "       'EmitterType_Natural.Gas.Station',\n",
       "       'EmitterType_Natural.Gas.Storage.Field',\n",
       "       'EmitterType_Oil.and.Gas.Facility.Boundary',\n",
       "       'EmitterType_Oil.and.Gas.Field.Boundary',\n",
       "       'EmitterType_Oil.and.Gas.Well', 'EmitterType_Power.Plant',\n",
       "       'EmitterType_Refinery', 'EmitterType_Wastewater.Treatment.Plant',\n",
       "       'NearestNeighbor', 'NN_Distance_m', 'NN_Type', 'aviris_month',\n",
       "       'tropomi_no2_mean', 'tropomi_o3_mean', 'tropomi_so2_mean', 'geometry'],\n",
       "      dtype='object')"
      ]
     },
     "execution_count": 48,
     "metadata": {},
     "output_type": "execute_result"
    }
   ],
   "source": [
    "#Check columns\n",
    "ch4.columns"
   ]
  },
  {
   "cell_type": "markdown",
   "metadata": {},
   "source": [
    "Finally, while we have a column called `aviris_month` for the month the AVIRIS flight was taken, we'll want a column for the year, as this will make it easier to subset our data for the model. "
   ]
  },
  {
   "cell_type": "code",
   "execution_count": 68,
   "metadata": {},
   "outputs": [],
   "source": [
    "#add column for aviris_year\n",
    "ch4['aviris_year'] = 0\n",
    "\n",
    "for i in range(len(ch4)):\n",
    "    s = ch4['AVIRIS_CH4_median_date'][i]\n",
    "    ch4.loc[i,'aviris_year']= int(s[0:4])"
   ]
  },
  {
   "cell_type": "markdown",
   "metadata": {},
   "source": [
    "#### KNN Model\n",
    "\n",
    "Because the variation in air quality measurements between locations might vary by month and year (due to wildfires and other events that might impact air quality), we'll want to subset our data by month, year, and parameter before training our model. In other words, we want to fit a model using the measurements for a given parameter, month, and year, and then use that model to predict the air quality measurement at our emitter locations for that same month and year. \n",
    "\n",
    "For our model, we'll use `scikitlearn`'s KNN regression, which is used for continuous data, and is computed based on the mean of the K Nearest Neighbors. Because `scikitlearn`'s KNN regression finds the nearest neighbor in **feature space**, and our goal is to find the nearest neighbor in **physical space**, we will train our model with only the lat/lon coordinates, so that the model is finding the nearest neighbor in physical space. \n",
    "\n",
    "The hyperparameter we'll want to test is the k value that gives us the lowest error, as measured by Root Mean Squared Error. We can us `scikitlearn`'s `GridSearchCV` to find the optimal k value for each month/year/parameter combo. Another parameter that we can test for KNN regression is `weights`: scikitlearn gives us the option to specify the weight function used in prediction; either uniform weights, or inverse distance weighting. \n",
    "\n",
    "Below, we'll create a function where we input the AirNow dataframe, parameter, year, month, and an array of K values, and we'll use `scikitlearn` to fit the model and return the model (which we can then use to predict the air quality measurements at the emitter location for that month, year, and parameter), the parameter specifications, and the RMSE. Note: `GridSearchCV` allows us to specify which scoring parameter we'd like to use. Since it follows the convention that higher return values are better than lower return values, MSE & RMSE are available as negated values, which is why these values will be negative. \n",
    "\n",
    "We'll use **Kfold cross validation with 10 folds** to test the performance of our model, following convention (note: we tried 5 folds as well, and did not see a significant change in the performance of our model). Since we are not testing between different types of models, just tuning the hyperparameters, we will not set aside a separate test set. \n",
    "\n",
    "For our **K values**, we'll try an array of 1-10. We will not go higher than 10, because we know based on our EDA that the AirNow monitors are not located too close to each other; therefore, if we average more than 10, we're covering a very large area of California! We want to restrain the model so that it's not averaging air quality measurements over too large a portion of the state, otherwise our prediction becomes meaningless and many of our predictions will end up taking the same value. "
   ]
  },
  {
   "cell_type": "code",
   "execution_count": 50,
   "metadata": {},
   "outputs": [],
   "source": [
    "#Define a function to train the model and find the optimal hyperparameters. \n",
    "\n",
    "def KNN(df, parameter, year, month, k):\n",
    "    \"\"\"Fits a KNN model for a specific air quality parameter, averaged over a given month, in a given year. \n",
    "    Arguments:\n",
    "        dataframe: the Air Now dataframe. \n",
    "        parameter (string): Air quality measurement parameter: PM10, OZONE, PM2.5, CO, NO2, SO2\n",
    "        year: year to use to fit model, 2016 or 2017\n",
    "        month: month to use to fit model (1-12)\n",
    "        k: an array of k values to test for fitting model\n",
    "    Returns:\n",
    "        model: the trained model\n",
    "        opt_k: the optimal k value\n",
    "        opt_score: the mean MSE of the optimal k value\n",
    "        \"\"\"\n",
    "    \n",
    "    #Filter data to month, year, and parameter\n",
    "    data = df[(df['Parameter'] == parameter) & (df['year'] == year) & (df['month'] == month)]\n",
    "    lat = data.geometry.y\n",
    "    lon  = data.geometry.x\n",
    "    X = pd.DataFrame({'lat': lat, 'lon': lon})\n",
    "    y = data['Value_mean']\n",
    "    \n",
    "    #knn model object\n",
    "    knn = KNeighborsRegressor()\n",
    "    \n",
    "    #create dictionary of parameter values\n",
    "    param_grid = {'n_neighbors': k, 'weights': ['uniform', 'distance']}\n",
    "    \n",
    "    #specify hyperparameters\n",
    "    knn_cv = GridSearchCV(knn, param_grid, scoring = 'neg_root_mean_squared_error', cv = 10)\n",
    "    \n",
    "    #fit model\n",
    "    model = knn_cv.fit(X,y)\n",
    "    \n",
    "    return model, model.best_params_, model.best_score_\n",
    "    "
   ]
  },
  {
   "cell_type": "markdown",
   "metadata": {},
   "source": [
    "For our methane emitters, we have data from the following dates: Sept, Oct, and Nov 2016, & March, June, Aug, Sept, Oct, & Nov 2017. Let's fit a model and see how our KNN model performs for each of these combinations. "
   ]
  },
  {
   "cell_type": "code",
   "execution_count": 51,
   "metadata": {},
   "outputs": [],
   "source": [
    "#Set up parameters to run through the loop\n",
    "parameters = ['PM10', 'OZONE', 'PM2.5', 'NO2'] #Remove SO2 & CO since there are so few values\n",
    "dates = np.array([[9, 2016], [10, 2016], [11, 2016], [3, 2017], [6, 2017], [8, 2017], [9, 2017], [10, 2017], [11, 2017]])"
   ]
  },
  {
   "cell_type": "code",
   "execution_count": 52,
   "metadata": {
    "scrolled": false
   },
   "outputs": [
    {
     "name": "stdout",
     "output_type": "stream",
     "text": [
      "9/2016 PM10 parameters: {'n_neighbors': 6, 'weights': 'uniform'}\n",
      "9/2016 PM10 RMSE: -44.94134313586436\n",
      "10/2016 PM10 parameters: {'n_neighbors': 9, 'weights': 'uniform'}\n",
      "10/2016 PM10 RMSE: -115.61168042715697\n",
      "11/2016 PM10 parameters: {'n_neighbors': 10, 'weights': 'distance'}\n",
      "11/2016 PM10 RMSE: -101.96174176110728\n",
      "3/2017 PM10 parameters: {'n_neighbors': 9, 'weights': 'uniform'}\n",
      "3/2017 PM10 RMSE: -186.6893641953879\n",
      "6/2017 PM10 parameters: {'n_neighbors': 10, 'weights': 'uniform'}\n",
      "6/2017 PM10 RMSE: -25.78616320329217\n",
      "8/2017 PM10 parameters: {'n_neighbors': 10, 'weights': 'uniform'}\n",
      "8/2017 PM10 RMSE: -23.99469161265189\n",
      "9/2017 PM10 parameters: {'n_neighbors': 10, 'weights': 'uniform'}\n",
      "9/2017 PM10 RMSE: -113.5316094895948\n",
      "10/2017 PM10 parameters: {'n_neighbors': 3, 'weights': 'uniform'}\n",
      "10/2017 PM10 RMSE: -106.70685916665772\n",
      "11/2017 PM10 parameters: {'n_neighbors': 8, 'weights': 'uniform'}\n",
      "11/2017 PM10 RMSE: -135.45521801580122\n",
      "9/2016 OZONE parameters: {'n_neighbors': 6, 'weights': 'uniform'}\n",
      "9/2016 OZONE RMSE: -18.491231256427515\n",
      "10/2016 OZONE parameters: {'n_neighbors': 10, 'weights': 'uniform'}\n",
      "10/2016 OZONE RMSE: -18.84797011083649\n",
      "11/2016 OZONE parameters: {'n_neighbors': 10, 'weights': 'uniform'}\n",
      "11/2016 OZONE RMSE: -15.640668403805881\n",
      "3/2017 OZONE parameters: {'n_neighbors': 10, 'weights': 'uniform'}\n",
      "3/2017 OZONE RMSE: -14.96872841731707\n",
      "6/2017 OZONE parameters: {'n_neighbors': 10, 'weights': 'uniform'}\n",
      "6/2017 OZONE RMSE: -19.807176065976584\n",
      "8/2017 OZONE parameters: {'n_neighbors': 10, 'weights': 'uniform'}\n",
      "8/2017 OZONE RMSE: -20.494398243881243\n",
      "9/2017 OZONE parameters: {'n_neighbors': 10, 'weights': 'uniform'}\n",
      "9/2017 OZONE RMSE: -20.588011156666663\n",
      "10/2017 OZONE parameters: {'n_neighbors': 8, 'weights': 'uniform'}\n",
      "10/2017 OZONE RMSE: -18.213539778444577\n",
      "11/2017 OZONE parameters: {'n_neighbors': 9, 'weights': 'uniform'}\n",
      "11/2017 OZONE RMSE: -13.00041664398179\n",
      "9/2016 PM2.5 parameters: {'n_neighbors': 2, 'weights': 'uniform'}\n",
      "9/2016 PM2.5 RMSE: -9.448019259222946\n",
      "10/2016 PM2.5 parameters: {'n_neighbors': 10, 'weights': 'uniform'}\n",
      "10/2016 PM2.5 RMSE: -8.558290371581517\n",
      "11/2016 PM2.5 parameters: {'n_neighbors': 10, 'weights': 'uniform'}\n",
      "11/2016 PM2.5 RMSE: -10.493236593786483\n",
      "3/2017 PM2.5 parameters: {'n_neighbors': 2, 'weights': 'uniform'}\n",
      "3/2017 PM2.5 RMSE: -14.448415535321098\n",
      "6/2017 PM2.5 parameters: {'n_neighbors': 9, 'weights': 'uniform'}\n",
      "6/2017 PM2.5 RMSE: -6.071275016419314\n",
      "8/2017 PM2.5 parameters: {'n_neighbors': 4, 'weights': 'uniform'}\n",
      "8/2017 PM2.5 RMSE: -24.32110960563154\n",
      "9/2017 PM2.5 parameters: {'n_neighbors': 6, 'weights': 'uniform'}\n",
      "9/2017 PM2.5 RMSE: -38.92183198685096\n",
      "10/2017 PM2.5 parameters: {'n_neighbors': 9, 'weights': 'uniform'}\n",
      "10/2017 PM2.5 RMSE: -20.853120078459064\n",
      "11/2017 PM2.5 parameters: {'n_neighbors': 3, 'weights': 'uniform'}\n",
      "11/2017 PM2.5 RMSE: -16.77967976573735\n",
      "9/2016 NO2 parameters: {'n_neighbors': 10, 'weights': 'uniform'}\n",
      "9/2016 NO2 RMSE: -15.388588673043092\n",
      "10/2016 NO2 parameters: {'n_neighbors': 10, 'weights': 'uniform'}\n",
      "10/2016 NO2 RMSE: -10.796752836211851\n",
      "11/2016 NO2 parameters: {'n_neighbors': 8, 'weights': 'uniform'}\n",
      "11/2016 NO2 RMSE: -16.360174363625056\n",
      "3/2017 NO2 parameters: {'n_neighbors': 6, 'weights': 'uniform'}\n",
      "3/2017 NO2 RMSE: -11.300954419670854\n",
      "6/2017 NO2 parameters: {'n_neighbors': 10, 'weights': 'distance'}\n",
      "6/2017 NO2 RMSE: -10.33460080453079\n",
      "8/2017 NO2 parameters: {'n_neighbors': 1, 'weights': 'uniform'}\n",
      "8/2017 NO2 RMSE: -9.943393443046922\n",
      "9/2017 NO2 parameters: {'n_neighbors': 1, 'weights': 'uniform'}\n",
      "9/2017 NO2 RMSE: -21.9287671685939\n",
      "10/2017 NO2 parameters: {'n_neighbors': 9, 'weights': 'uniform'}\n",
      "10/2017 NO2 RMSE: -22.37218022883787\n",
      "11/2017 NO2 parameters: {'n_neighbors': 6, 'weights': 'uniform'}\n",
      "11/2017 NO2 RMSE: -19.593379622021153\n"
     ]
    }
   ],
   "source": [
    "#Run through loop for to fit model each date/time/parameter combo\n",
    "RMSE_array = np.zeros((4, 9))\n",
    "for i in range(len(parameters)):\n",
    "    for j in range(len(dates)):\n",
    "        _, params, RMSE = KNN(airnow, parameters[i], dates[j, 1], dates[j, 0], np.arange(1, 11))\n",
    "        print(str(dates[j, 0]) + '/' + str(dates[j, 1]) + ' ' + str(parameters[i]) + ' parameters:', params)\n",
    "        print(str(dates[j, 0]) + '/' + str(dates[j, 1]) + ' ' + str(parameters[i]) + ' RMSE:', RMSE)  \n",
    "        RMSE_array[i, j] = RMSE"
   ]
  },
  {
   "cell_type": "markdown",
   "metadata": {},
   "source": [
    "Interestingly, most of our models took the uniform weight. Our K values varied widely! \n",
    "\n",
    "To get a better sense of how our model performed, we'll plot the RMSEs. "
   ]
  },
  {
   "cell_type": "code",
   "execution_count": 61,
   "metadata": {},
   "outputs": [
    {
     "name": "stderr",
     "output_type": "stream",
     "text": [
      "<ipython-input-61-c32efe0ccda1>:10: UserWarning: FixedFormatter should only be used together with FixedLocator\n",
      "  ax.set_xticklabels([0, '9/16', '10/16', '11/16', '3/17', '6/17', '8/17', '9/17', '10/17', '11/17'])\n"
     ]
    },
    {
     "data": {
      "text/plain": [
       "<matplotlib.legend.Legend at 0x7fdabd78a550>"
      ]
     },
     "execution_count": 61,
     "metadata": {},
     "output_type": "execute_result"
    },
    {
     "data": {
      "image/png": "[encoded data removed]",
      "text/plain": [
       "<Figure size 720x504 with 1 Axes>"
      ]
     },
     "metadata": {
      "needs_background": "light"
     },
     "output_type": "display_data"
    }
   ],
   "source": [
    "#Plot RMSEs\n",
    "fig, ax = plt.subplots(figsize = (10, 7))\n",
    "plt.title('Performance of KNN Model', size = 20, fontweight = 'bold')\n",
    "plt.ylabel('RMSE', size = 20)\n",
    "plt.xlabel('Date', size = 20)\n",
    "ax.plot(np.arange(1,10), abs(RMSE_array[0, :]), label = 'PM10', color = 'orangered')\n",
    "ax.plot(np.arange(1,10), abs(RMSE_array[1,:]), label = 'OZONE', color = 'indigo')\n",
    "ax.plot(np.arange(1,10), abs(RMSE_array[2,:]), label = 'PM2.5', color = 'darkcyan')\n",
    "ax.plot(np.arange(1,10), abs(RMSE_array[3,:]), label = 'NO2', color = 'green')\n",
    "ax.set_xticklabels([0, '9/16', '10/16', '11/16', '3/17', '6/17', '8/17', '9/17', '10/17', '11/17'])\n",
    "plt.legend(fontsize = 'large')"
   ]
  },
  {
   "cell_type": "markdown",
   "metadata": {},
   "source": [
    "While our Ozone, NO2, and PM2.5 model seemed to perform within a consistent range, our PM10 model performance varied widely! This is likely because PM10 settles quickly compared to PM2.5, leading to wider variation in measurements. \n",
    "\n",
    "Since our air quality measures are in different units, we'll separate our parameters by those that are measured in the same units to better understand the RMSE: PM2.5 & PM10 (ug/m3) and NO2 and Ozone (ppb)."
   ]
  },
  {
   "cell_type": "code",
   "execution_count": 65,
   "metadata": {
    "scrolled": false
   },
   "outputs": [
    {
     "name": "stderr",
     "output_type": "stream",
     "text": [
      "<ipython-input-65-27485e638639>:8: UserWarning: FixedFormatter should only be used together with FixedLocator\n",
      "  ax[0].set_xticklabels([0, '9/16', '10/16', '11/16', '3/17', '6/17', '8/17', '9/17', '10/17', '11/17'])\n",
      "<ipython-input-65-27485e638639>:16: UserWarning: FixedFormatter should only be used together with FixedLocator\n",
      "  ax[1].set_xticklabels([0, '9/16', '10/16', '11/16', '3/17', '6/17', '8/17', '9/17', '10/17', '11/17'])\n"
     ]
    },
    {
     "data": {
      "image/png": "[encoded data removed]",
      "text/plain": [
       "<Figure size 1440x504 with 2 Axes>"
      ]
     },
     "metadata": {
      "needs_background": "light"
     },
     "output_type": "display_data"
    }
   ],
   "source": [
    "#Plot RMSEs\n",
    "fig, ax = plt.subplots(ncols = 2, figsize = (20, 7))\n",
    "ax[0].set_title('Performance of KNN Model: Particulate Matter (ug/m$^{3})$', size = 15, fontweight = 'bold')\n",
    "ax[0].set_ylabel('RMSE', size = 20)\n",
    "ax[0].set_xlabel('Date', size = 20)\n",
    "ax[0].plot(np.arange(1,10), abs(RMSE_array[0, :]), label = 'PM10', color = 'orangered')\n",
    "ax[0].plot(np.arange(1,10), abs(RMSE_array[2,:]), label = 'PM2.5', color = 'darkcyan')\n",
    "ax[0].set_xticklabels([0, '9/16', '10/16', '11/16', '3/17', '6/17', '8/17', '9/17', '10/17', '11/17'])\n",
    "ax[0].legend(fontsize = 'large')\n",
    "\n",
    "ax[1].set_title('Performance of KNN Model: NO2 and Ozone (ppb)', size = 15, fontweight = 'bold')\n",
    "ax[1].set_ylabel('RMSE', size = 20)\n",
    "ax[1].set_xlabel('Date', size = 20)\n",
    "ax[1].plot(np.arange(1,10), abs(RMSE_array[1,:]), label = 'OZONE', color = 'indigo')\n",
    "ax[1].plot(np.arange(1,10), abs(RMSE_array[3,:]), label = 'NO2', color = 'green')\n",
    "ax[1].set_xticklabels([0, '9/16', '10/16', '11/16', '3/17', '6/17', '8/17', '9/17', '10/17', '11/17'])\n",
    "ax[1].legend(fontsize = 'large')\n",
    "plt.savefig('Data/KNN_byunit.png')"
   ]
  },
  {
   "cell_type": "markdown",
   "metadata": {},
   "source": [
    "From this graph, we can better disaggregate the performances of our various models. "
   ]
  },
  {
   "cell_type": "markdown",
   "metadata": {},
   "source": [
    "Let's also see how our model performs if we don't subset by time, but do subset by air quality parameter. "
   ]
  },
  {
   "cell_type": "code",
   "execution_count": 86,
   "metadata": {},
   "outputs": [],
   "source": [
    "#Define a function to train the model and find the optimal hyperparameters. \n",
    "\n",
    "def KNN_param(df, parameter, k):\n",
    "    \"\"\"Fits a KNN model for a specific air quality parameter. \n",
    "    Arguments:\n",
    "        dataframe: the Air Now dataframe. \n",
    "        parameter (string): Air quality measurement parameter: PM10, OZONE, PM2.5, CO, NO2, SO2\n",
    "        k: an array of k values to test for fitting model\n",
    "    Returns:\n",
    "        model: the trained model\n",
    "        opt_k: the optimal k value\n",
    "        opt_score: the mean MSE of the optimal k value\n",
    "        \"\"\"\n",
    "    \n",
    "    #Filter data to parameter\n",
    "    data = df[df['Parameter'] == parameter]\n",
    "    lat = data.geometry.y\n",
    "    lon  = data.geometry.x\n",
    "    X = pd.DataFrame({'lat': lat, 'lon': lon})\n",
    "    y = data['Value_mean']\n",
    "    \n",
    "    #knn model object\n",
    "    knn = KNeighborsRegressor()\n",
    "    \n",
    "    #create dictionary of parameter values\n",
    "    param_grid = {'n_neighbors': k, 'weights': ['uniform', 'distance']}\n",
    "    \n",
    "    #specify hyperparameters\n",
    "    knn_cv = GridSearchCV(knn, param_grid, scoring = 'neg_root_mean_squared_error', cv = 10)\n",
    "    \n",
    "    #fit model\n",
    "    model = knn_cv.fit(X,y)\n",
    "    \n",
    "    return model, model.best_params_, model.best_score_"
   ]
  },
  {
   "cell_type": "code",
   "execution_count": 87,
   "metadata": {},
   "outputs": [
    {
     "name": "stdout",
     "output_type": "stream",
     "text": [
      "PM10 parameters: {'n_neighbors': 10, 'weights': 'uniform'}\n",
      "PM10 RMSE: -142.9438988532488\n",
      "OZONE parameters: {'n_neighbors': 10, 'weights': 'uniform'}\n",
      "OZONE RMSE: -25.990251597365805\n",
      "PM2.5 parameters: {'n_neighbors': 9, 'weights': 'uniform'}\n",
      "PM2.5 RMSE: -21.784386795952454\n",
      "NO2 parameters: {'n_neighbors': 10, 'weights': 'uniform'}\n",
      "NO2 RMSE: -20.085822237127946\n",
      "CO parameters: {'n_neighbors': 10, 'weights': 'distance'}\n",
      "CO RMSE: -0.1972710641912063\n",
      "SO2 parameters: {'n_neighbors': 1, 'weights': 'uniform'}\n",
      "SO2 RMSE: -12.321879922002108\n"
     ]
    }
   ],
   "source": [
    "#Run through loop for to fit model for each parameter \n",
    "parameters_2 = np.array(['PM10', 'OZONE', 'PM2.5','NO2', 'CO','SO2']) #Return SO2 & CO\n",
    "for i in range(len(parameters_2)):\n",
    "    _, params, RMSE = KNN_param(airnow, parameters_2[i], np.arange(1, 11))\n",
    "    print(str(parameters_2[i]) + ' parameters:', params)\n",
    "    print(str(parameters_2[i]) + ' RMSE:', RMSE)  "
   ]
  },
  {
   "cell_type": "markdown",
   "metadata": {},
   "source": [
    "Now, that we've taken a look at how the model performs, we'll create a function to use the fitted optimal model for any given month/year/parameter to predict that air quality parameter value for the corresponding month/year of each observation in our dataset, using the latitudes and longitudes of the emitter points. We'll append this prediction as a column with the predicted values. "
   ]
  },
  {
   "cell_type": "code",
   "execution_count": 66,
   "metadata": {},
   "outputs": [],
   "source": [
    "def predict_AQ(airnow, emitter, parameter, dates, k):\n",
    "    \"\"\"Fits a KNN model for a specific air quality parameter averaged over a given month, in a given year. \n",
    "    Uses that model to predict the air quality measure at the emitter point location in that month and year \n",
    "    and appends the prediction to the dataframe.\n",
    "    Arguments:\n",
    "        airnow: the Air Now dataframe. \n",
    "        emitter: the methane emitter dataframe\n",
    "        parameter: an nd.array of air quality measurement parameters: PM10, OZONE, PM2.5, NO2\n",
    "        dates: an 2darray of the month/year combos to fit; the year/month combos that appear in the emitter dataset.\n",
    "            Should follow format [month (1-12), year (2016 or 2017)]\n",
    "        k: an array of k values to test for fitting model\n",
    "    Returns:\n",
    "        model: the trained model\n",
    "        opt_k: the optimal k value\n",
    "        opt_score: the mean MSE of the optimal k value\n",
    "        \"\"\"\n",
    "    \n",
    "    #add column to store predicted air quality measure\n",
    "    for z in range(len(parameter)):\n",
    "        emitter[parameter[z]] = 0\n",
    "    \n",
    "        #Fit model & get prediction for every year/month combo \n",
    "        for i in range(len(dates)): \n",
    "            #fit the model for each month/date combo in dates\n",
    "            model, _, _ = KNN(airnow, parameter[z], dates[i, 1], dates[i, 0], np.arange(1, 11)) \n",
    "            #For any corresponding observations with that same date/month combo, predict the air quality value and append\n",
    "            for j in range(len(emitter)):\n",
    "                if (emitter['aviris_month'][j] == dates[i,0]) & (emitter['aviris_year'][j] == dates[i,1]):\n",
    "                    X = np.array([emitter['geometry'][j].centroid.y, emitter['geometry'][j].centroid.x]).reshape(1,-1)\n",
    "                    y_pred = model.predict(X)\n",
    "                    emitter.loc[j, parameter[z]] = y_pred\n",
    "    \n",
    "    return emitter"
   ]
  },
  {
   "cell_type": "code",
   "execution_count": 69,
   "metadata": {},
   "outputs": [],
   "source": [
    "#Now, we can predict for PM10, Ozone, PM2.5, and NO2\n",
    "predictions = predict_AQ(airnow, ch4, parameters, dates, np.arange(1,11))"
   ]
  },
  {
   "cell_type": "code",
   "execution_count": 70,
   "metadata": {
    "scrolled": false
   },
   "outputs": [
    {
     "data": {
      "text/html": [
       "<div>\n",
       "<style scoped>\n",
       "    .dataframe tbody tr th:only-of-type {\n",
       "        vertical-align: middle;\n",
       "    }\n",
       "\n",
       "    .dataframe tbody tr th {\n",
       "        vertical-align: top;\n",
       "    }\n",
       "\n",
       "    .dataframe thead th {\n",
       "        text-align: right;\n",
       "    }\n",
       "</style>\n",
       "<table border=\"1\" class=\"dataframe\">\n",
       "  <thead>\n",
       "    <tr style=\"text-align: right;\">\n",
       "      <th></th>\n",
       "      <th>Vista_ID</th>\n",
       "      <th>AVIRIS_CH4_median_ppmm</th>\n",
       "      <th>AVIRIS_CH4_median_date</th>\n",
       "      <th>AVIRIS_CH4_pxcount</th>\n",
       "      <th>CH4_Mass_kg</th>\n",
       "      <th>ng_pipelength_2</th>\n",
       "      <th>ng_pipelength_1000</th>\n",
       "      <th>ng_pipelength_5000</th>\n",
       "      <th>ng_pipelength_10000</th>\n",
       "      <th>ng_pipelength_50000</th>\n",
       "      <th>...</th>\n",
       "      <th>aviris_month</th>\n",
       "      <th>tropomi_no2_mean</th>\n",
       "      <th>tropomi_o3_mean</th>\n",
       "      <th>tropomi_so2_mean</th>\n",
       "      <th>geometry</th>\n",
       "      <th>PM10</th>\n",
       "      <th>aviris_year</th>\n",
       "      <th>OZONE</th>\n",
       "      <th>PM2.5</th>\n",
       "      <th>NO2</th>\n",
       "    </tr>\n",
       "  </thead>\n",
       "  <tbody>\n",
       "    <tr>\n",
       "      <th>0</th>\n",
       "      <td>DAF001852</td>\n",
       "      <td>152.0039</td>\n",
       "      <td>2016-09-11</td>\n",
       "      <td>835.7500</td>\n",
       "      <td>0.0001</td>\n",
       "      <td>6392.1007</td>\n",
       "      <td>7391.6466</td>\n",
       "      <td>16539.2553</td>\n",
       "      <td>57707.9384</td>\n",
       "      <td>667538.8408</td>\n",
       "      <td>...</td>\n",
       "      <td>9</td>\n",
       "      <td>0.0</td>\n",
       "      <td>2.7501</td>\n",
       "      <td>0.3199</td>\n",
       "      <td>MULTIPOLYGON (((-82488.739 -16790.579, -82489....</td>\n",
       "      <td>51.7243771960</td>\n",
       "      <td>2016</td>\n",
       "      <td>54.5756497435</td>\n",
       "      <td>12.1100081377</td>\n",
       "      <td>12.3527753832</td>\n",
       "    </tr>\n",
       "    <tr>\n",
       "      <th>1</th>\n",
       "      <td>DAF001876</td>\n",
       "      <td>111.8814</td>\n",
       "      <td>2016-09-12</td>\n",
       "      <td>1670.0000</td>\n",
       "      <td>0.0001</td>\n",
       "      <td>85884.6586</td>\n",
       "      <td>94127.2287</td>\n",
       "      <td>127492.1839</td>\n",
       "      <td>170899.8068</td>\n",
       "      <td>842878.1810</td>\n",
       "      <td>...</td>\n",
       "      <td>9</td>\n",
       "      <td>0.0</td>\n",
       "      <td>2.7094</td>\n",
       "      <td>0.4187</td>\n",
       "      <td>MULTIPOLYGON (((260247.391 -342212.585, 260246...</td>\n",
       "      <td>123.7548698424</td>\n",
       "      <td>2016</td>\n",
       "      <td>54.6354415671</td>\n",
       "      <td>12.0162907594</td>\n",
       "      <td>17.4469380755</td>\n",
       "    </tr>\n",
       "    <tr>\n",
       "      <th>2</th>\n",
       "      <td>DAF001759</td>\n",
       "      <td>244.1223</td>\n",
       "      <td>2016-09-12</td>\n",
       "      <td>3346.0000</td>\n",
       "      <td>0.0002</td>\n",
       "      <td>18873.8279</td>\n",
       "      <td>21161.2918</td>\n",
       "      <td>29954.3051</td>\n",
       "      <td>43939.1783</td>\n",
       "      <td>334243.8826</td>\n",
       "      <td>...</td>\n",
       "      <td>9</td>\n",
       "      <td>0.0</td>\n",
       "      <td>2.6972</td>\n",
       "      <td>0.3413</td>\n",
       "      <td>MULTIPOLYGON (((61647.033 -234595.348, 61646.1...</td>\n",
       "      <td>122.0858984460</td>\n",
       "      <td>2016</td>\n",
       "      <td>58.8677224619</td>\n",
       "      <td>12.2105853674</td>\n",
       "      <td>17.8956749846</td>\n",
       "    </tr>\n",
       "    <tr>\n",
       "      <th>3</th>\n",
       "      <td>DAF001767</td>\n",
       "      <td>112.7884</td>\n",
       "      <td>2016-09-12</td>\n",
       "      <td>1114.6667</td>\n",
       "      <td>0.0001</td>\n",
       "      <td>0.0000</td>\n",
       "      <td>0.0000</td>\n",
       "      <td>0.0000</td>\n",
       "      <td>6753.5702</td>\n",
       "      <td>336951.9840</td>\n",
       "      <td>...</td>\n",
       "      <td>9</td>\n",
       "      <td>0.0</td>\n",
       "      <td>2.6981</td>\n",
       "      <td>0.3361</td>\n",
       "      <td>MULTIPOLYGON (((45304.763 -224578.476, 45303.9...</td>\n",
       "      <td>101.7198903007</td>\n",
       "      <td>2016</td>\n",
       "      <td>54.9329847097</td>\n",
       "      <td>13.7132122547</td>\n",
       "      <td>23.5387321492</td>\n",
       "    </tr>\n",
       "    <tr>\n",
       "      <th>4</th>\n",
       "      <td>DAF001776</td>\n",
       "      <td>105.4107</td>\n",
       "      <td>2016-09-12</td>\n",
       "      <td>1216.2727</td>\n",
       "      <td>0.0001</td>\n",
       "      <td>0.0000</td>\n",
       "      <td>0.0000</td>\n",
       "      <td>0.0000</td>\n",
       "      <td>0.0000</td>\n",
       "      <td>264800.5901</td>\n",
       "      <td>...</td>\n",
       "      <td>9</td>\n",
       "      <td>0.0</td>\n",
       "      <td>2.7004</td>\n",
       "      <td>0.3429</td>\n",
       "      <td>MULTIPOLYGON (((39551.942 -203816.734, 39551.1...</td>\n",
       "      <td>101.7198903007</td>\n",
       "      <td>2016</td>\n",
       "      <td>54.9329847097</td>\n",
       "      <td>13.7132122547</td>\n",
       "      <td>23.3134271682</td>\n",
       "    </tr>\n",
       "  </tbody>\n",
       "</table>\n",
       "<p>5 rows × 70 columns</p>\n",
       "</div>"
      ],
      "text/plain": [
       "    Vista_ID  AVIRIS_CH4_median_ppmm AVIRIS_CH4_median_date  \\\n",
       "0  DAF001852                152.0039             2016-09-11   \n",
       "1  DAF001876                111.8814             2016-09-12   \n",
       "2  DAF001759                244.1223             2016-09-12   \n",
       "3  DAF001767                112.7884             2016-09-12   \n",
       "4  DAF001776                105.4107             2016-09-12   \n",
       "\n",
       "   AVIRIS_CH4_pxcount  CH4_Mass_kg  ng_pipelength_2  ng_pipelength_1000  \\\n",
       "0            835.7500       0.0001        6392.1007           7391.6466   \n",
       "1           1670.0000       0.0001       85884.6586          94127.2287   \n",
       "2           3346.0000       0.0002       18873.8279          21161.2918   \n",
       "3           1114.6667       0.0001           0.0000              0.0000   \n",
       "4           1216.2727       0.0001           0.0000              0.0000   \n",
       "\n",
       "   ng_pipelength_5000  ng_pipelength_10000  ng_pipelength_50000  ...  \\\n",
       "0          16539.2553           57707.9384          667538.8408  ...   \n",
       "1         127492.1839          170899.8068          842878.1810  ...   \n",
       "2          29954.3051           43939.1783          334243.8826  ...   \n",
       "3              0.0000            6753.5702          336951.9840  ...   \n",
       "4              0.0000               0.0000          264800.5901  ...   \n",
       "\n",
       "   aviris_month  tropomi_no2_mean  tropomi_o3_mean  tropomi_so2_mean  \\\n",
       "0             9               0.0           2.7501            0.3199   \n",
       "1             9               0.0           2.7094            0.4187   \n",
       "2             9               0.0           2.6972            0.3413   \n",
       "3             9               0.0           2.6981            0.3361   \n",
       "4             9               0.0           2.7004            0.3429   \n",
       "\n",
       "                                            geometry            PM10  \\\n",
       "0  MULTIPOLYGON (((-82488.739 -16790.579, -82489....   51.7243771960   \n",
       "1  MULTIPOLYGON (((260247.391 -342212.585, 260246...  123.7548698424   \n",
       "2  MULTIPOLYGON (((61647.033 -234595.348, 61646.1...  122.0858984460   \n",
       "3  MULTIPOLYGON (((45304.763 -224578.476, 45303.9...  101.7198903007   \n",
       "4  MULTIPOLYGON (((39551.942 -203816.734, 39551.1...  101.7198903007   \n",
       "\n",
       "   aviris_year          OZONE          PM2.5            NO2  \n",
       "0         2016  54.5756497435  12.1100081377  12.3527753832  \n",
       "1         2016  54.6354415671  12.0162907594  17.4469380755  \n",
       "2         2016  58.8677224619  12.2105853674  17.8956749846  \n",
       "3         2016  54.9329847097  13.7132122547  23.5387321492  \n",
       "4         2016  54.9329847097  13.7132122547  23.3134271682  \n",
       "\n",
       "[5 rows x 70 columns]"
      ]
     },
     "execution_count": 70,
     "metadata": {},
     "output_type": "execute_result"
    }
   ],
   "source": [
    "predictions.head()"
   ]
  },
  {
   "cell_type": "code",
   "execution_count": 156,
   "metadata": {},
   "outputs": [],
   "source": [
    "#predictions.to_file('target_and_features_AQ.geojson', driver = 'GeoJSON')"
   ]
  },
  {
   "cell_type": "markdown",
   "metadata": {},
   "source": [
    "To see our predictions, we'll plot a histogram of each parameter. "
   ]
  },
  {
   "cell_type": "code",
   "execution_count": 71,
   "metadata": {
    "scrolled": false
   },
   "outputs": [
    {
     "data": {
      "image/png": "[encoded data removed]",
      "text/plain": [
       "<Figure size 1080x720 with 4 Axes>"
      ]
     },
     "metadata": {
      "needs_background": "light"
     },
     "output_type": "display_data"
    }
   ],
   "source": [
    "#Plot predicted values\n",
    "fig, ax = plt.subplots(ncols = 2, nrows = 2, figsize = (15, 10))\n",
    "ax[0,0].hist(predictions['PM2.5'], edgecolor = 'white', color = 'royalblue', bins = 20)\n",
    "ax[0,0].set_xlabel('UG/M3', size = 15)\n",
    "ax[0,0].set_ylabel('Count', size = 15)\n",
    "ax[0,0].set_title('Mean PM2.5 Predictions', fontweight = 'bold', size = 15)\n",
    "\n",
    "ax[0,1].hist(predictions['PM10'], edgecolor = 'white', color = 'lightseagreen', bins = 20)\n",
    "ax[0,1].set_xlabel('UG/M3', size = 15)\n",
    "ax[0,1].set_ylabel('Count', size = 15)\n",
    "ax[0,1].set_title('Mean PM10 Predictions', fontweight = 'bold', size = 15)\n",
    "\n",
    "ax[1,0].hist(predictions['OZONE'], edgecolor = 'white', color = 'tomato', bins = 20)\n",
    "ax[1,0].set_xlabel('PPB', size = 15)\n",
    "ax[1,0].set_ylabel('Count', size = 15)\n",
    "ax[1,0].set_title('Mean Ozone Predictions', fontweight = 'bold', size = 15)\n",
    "\n",
    "ax[1,1].hist(predictions['NO2'], edgecolor = 'white', color = 'mediumseagreen', bins = 20)\n",
    "ax[1,1].set_xlabel('PPB', size = 15)\n",
    "ax[1,1].set_ylabel('Count', size = 15)\n",
    "ax[1,1].set_title('Mean NO2 Predictions', fontweight = 'bold', size = 15)\n",
    "plt.tight_layout()\n",
    "#plt.savefig('Data/AQ_Predictions.png')"
   ]
  },
  {
   "cell_type": "markdown",
   "metadata": {},
   "source": [
    "We can also see how these histograms compare with the AirNow values. "
   ]
  },
  {
   "cell_type": "code",
   "execution_count": 81,
   "metadata": {},
   "outputs": [],
   "source": [
    "#Filter AirNow for months that we used in our models\n",
    "plot = airnow[(airnow['month'] == 3) | (airnow['month'] == 6) | \n",
    "       (airnow['month'] == 9) | (airnow['month'] == 10) | \n",
    "      (airnow['month'] == 11) | (airnow['month'] == 8)]"
   ]
  },
  {
   "cell_type": "code",
   "execution_count": 106,
   "metadata": {},
   "outputs": [
    {
     "data": {
      "image/png": "[encoded data removed]",
      "text/plain": [
       "<Figure size 1080x720 with 4 Axes>"
      ]
     },
     "metadata": {
      "needs_background": "light"
     },
     "output_type": "display_data"
    }
   ],
   "source": [
    "#Plot AirNow distribution\n",
    "fig, ax = plt.subplots(ncols = 2, nrows = 2, figsize = (15, 10))\n",
    "ax[0,0].hist(plot[plot['Parameter'] == 'PM2.5']['Value_mean'], edgecolor = 'white', color = 'royalblue', bins = 20)\n",
    "ax[0,0].set_xlabel('UG/M3', size = 15)\n",
    "ax[0,0].set_ylabel('Count', size = 15)\n",
    "ax[0,0].set_title('AirNow PM2.5 Distribution', fontweight = 'bold', size = 15)\n",
    "\n",
    "ax[0,1].hist(plot[plot['Parameter'] == 'PM10']['Value_mean'], edgecolor = 'white', color = 'lightseagreen', bins = 20)\n",
    "ax[0,1].set_xlabel('UG/M3', size = 15)\n",
    "ax[0,1].set_ylabel('Count', size = 15)\n",
    "ax[0,1].set_title('AirNow PM10 Distribution', fontweight = 'bold', size = 15)\n",
    "\n",
    "ax[1,0].hist(plot[plot['Parameter'] == 'OZONE']['Value_mean'], edgecolor = 'white', color = 'tomato', bins = 20)\n",
    "ax[1,0].set_xlabel('PPB', size = 15)\n",
    "ax[1,0].set_ylabel('Count', size = 15)\n",
    "ax[1,0].set_title('AirNow Ozone Distribution', fontweight = 'bold', size = 15)\n",
    "\n",
    "ax[1,1].hist(plot[plot['Parameter'] == 'NO2']['Value_mean'], edgecolor = 'white', color = 'mediumseagreen', bins = 20)\n",
    "ax[1,1].set_xlabel('PPB', size = 15)\n",
    "ax[1,1].set_ylabel('Count', size = 15)\n",
    "ax[1,1].set_title('AirNow NO2 Distribution', fontweight = 'bold', size = 15)\n",
    "plt.tight_layout()"
   ]
  },
  {
   "cell_type": "markdown",
   "metadata": {},
   "source": [
    "Fiinaly, we're also interested in seeing how the Ozone and NO2 measures correlate with our Tropomi measures. "
   ]
  },
  {
   "cell_type": "code",
   "execution_count": 105,
   "metadata": {
    "scrolled": false
   },
   "outputs": [
    {
     "data": {
      "image/png": "[encoded data removed]",
      "text/plain": [
       "<Figure size 1080x432 with 2 Axes>"
      ]
     },
     "metadata": {
      "needs_background": "light"
     },
     "output_type": "display_data"
    }
   ],
   "source": [
    "#Plot AirNow predictions vs. Tropomi\n",
    "fig, ax = plt.subplots(ncols = 2, figsize = (15, 6))\n",
    "ax[0].scatter(predictions['NO2'], predictions['tropomi_no2_mean'], color = 'royalblue')\n",
    "ax[0].set_xlabel('AirNow Prediction', size = 15)\n",
    "ax[0].set_ylabel('Tropomi', size = 15)\n",
    "ax[0].set_title('NO$^{2}$ Predictions vs. Tropomi', fontweight = 'bold', size = 15)\n",
    "z = np.polyfit(predictions['NO2'], predictions['tropomi_no2_mean'], 1)\n",
    "p = np.poly1d(z)\n",
    "ax[0].plot(predictions['NO2'], p(predictions['NO2']), color = 'gray')\n",
    "\n",
    "ax[1].scatter(predictions['OZONE'], predictions['tropomi_o3_mean'], color = 'lightseagreen')\n",
    "ax[1].set_xlabel('AirNow Prediction', size = 15)\n",
    "ax[1].set_ylabel('Tropomi', size = 15)\n",
    "ax[1].set_title('Ozone Predictions vs. Tropomi', fontweight = 'bold', size = 15)\n",
    "z = np.polyfit(predictions['OZONE'], predictions['tropomi_o3_mean'], 1)\n",
    "p = np.poly1d(z)\n",
    "ax[1].plot(predictions['OZONE'], p(predictions['OZONE']), color = 'gray')\n",
    "#plt.savefig('Data/AirNow_tropomi.png')"
   ]
  },
  {
   "cell_type": "markdown",
   "metadata": {},
   "source": [
    "There seems to be a very slight positive correlation between Tropomi mol/m2 and AirNow prediction ppb, which is what we would expect to see. The negatve correlation between Tropomi Ozone measurements and the AirNow prediction is surprising. "
   ]
  },
  {
   "cell_type": "code",
   "execution_count": 175,
   "metadata": {},
   "outputs": [
    {
     "data": {
      "text/html": [
       "<div>\n",
       "<style scoped>\n",
       "    .dataframe tbody tr th:only-of-type {\n",
       "        vertical-align: middle;\n",
       "    }\n",
       "\n",
       "    .dataframe tbody tr th {\n",
       "        vertical-align: top;\n",
       "    }\n",
       "\n",
       "    .dataframe thead th {\n",
       "        text-align: right;\n",
       "    }\n",
       "</style>\n",
       "<table border=\"1\" class=\"dataframe\">\n",
       "  <thead>\n",
       "    <tr style=\"text-align: right;\">\n",
       "      <th></th>\n",
       "      <th>Latitude</th>\n",
       "      <th>Longitude</th>\n",
       "      <th>Parameter</th>\n",
       "      <th>Unit</th>\n",
       "      <th>Category</th>\n",
       "      <th>SiteName</th>\n",
       "      <th>AgencyName</th>\n",
       "      <th>FullAQSCod</th>\n",
       "      <th>IntlAQSCod</th>\n",
       "      <th>year</th>\n",
       "      <th>month</th>\n",
       "      <th>Value_mean</th>\n",
       "      <th>Value_coun</th>\n",
       "      <th>RawConcent</th>\n",
       "      <th>RawConce_1</th>\n",
       "      <th>AQI_mean</th>\n",
       "      <th>AQI_count</th>\n",
       "      <th>geometry</th>\n",
       "    </tr>\n",
       "  </thead>\n",
       "  <tbody>\n",
       "    <tr>\n",
       "      <th>102</th>\n",
       "      <td>32.791700</td>\n",
       "      <td>-115.561700</td>\n",
       "      <td>NO2</td>\n",
       "      <td>PPB</td>\n",
       "      <td>1</td>\n",
       "      <td>El Centro - 9th Street</td>\n",
       "      <td>Imperial County Air Pollution Control District</td>\n",
       "      <td>060251003</td>\n",
       "      <td>840060251003</td>\n",
       "      <td>2017</td>\n",
       "      <td>11</td>\n",
       "      <td>9.310294</td>\n",
       "      <td>1360</td>\n",
       "      <td>9.776176</td>\n",
       "      <td>1360</td>\n",
       "      <td>8.872059</td>\n",
       "      <td>1360</td>\n",
       "      <td>POINT (416149.028 -570353.757)</td>\n",
       "    </tr>\n",
       "    <tr>\n",
       "      <th>1162</th>\n",
       "      <td>33.676535</td>\n",
       "      <td>-117.331027</td>\n",
       "      <td>NO2</td>\n",
       "      <td>PPB</td>\n",
       "      <td>1</td>\n",
       "      <td>Lake Elsinore - W. Flint Street</td>\n",
       "      <td>South Coast AQMD</td>\n",
       "      <td>60659001</td>\n",
       "      <td>840060659001</td>\n",
       "      <td>2017</td>\n",
       "      <td>11</td>\n",
       "      <td>12.920228</td>\n",
       "      <td>1404</td>\n",
       "      <td>13.362678</td>\n",
       "      <td>1404</td>\n",
       "      <td>12.205128</td>\n",
       "      <td>1404</td>\n",
       "      <td>POINT (247549.665 -478555.246)</td>\n",
       "    </tr>\n",
       "    <tr>\n",
       "      <th>1503</th>\n",
       "      <td>33.819305</td>\n",
       "      <td>-117.918759</td>\n",
       "      <td>NO2</td>\n",
       "      <td>PPB</td>\n",
       "      <td>1</td>\n",
       "      <td>Anaheim Near Road</td>\n",
       "      <td>South Coast AQMD</td>\n",
       "      <td>60590008</td>\n",
       "      <td>840060590008</td>\n",
       "      <td>2017</td>\n",
       "      <td>11</td>\n",
       "      <td>27.110778</td>\n",
       "      <td>1336</td>\n",
       "      <td>27.565868</td>\n",
       "      <td>1336</td>\n",
       "      <td>25.564371</td>\n",
       "      <td>1336</td>\n",
       "      <td>POINT (192699.470 -464092.900)</td>\n",
       "    </tr>\n",
       "    <tr>\n",
       "      <th>1510</th>\n",
       "      <td>33.819305</td>\n",
       "      <td>-117.918759</td>\n",
       "      <td>NO2</td>\n",
       "      <td>PPB</td>\n",
       "      <td>2</td>\n",
       "      <td>Anaheim Near Road</td>\n",
       "      <td>South Coast AQMD</td>\n",
       "      <td>60590008</td>\n",
       "      <td>840060590008</td>\n",
       "      <td>2017</td>\n",
       "      <td>11</td>\n",
       "      <td>63.935484</td>\n",
       "      <td>62</td>\n",
       "      <td>64.390323</td>\n",
       "      <td>62</td>\n",
       "      <td>61.483871</td>\n",
       "      <td>62</td>\n",
       "      <td>POINT (192699.470 -464092.900)</td>\n",
       "    </tr>\n",
       "    <tr>\n",
       "      <th>1535</th>\n",
       "      <td>33.830586</td>\n",
       "      <td>-117.938509</td>\n",
       "      <td>NO2</td>\n",
       "      <td>PPB</td>\n",
       "      <td>1</td>\n",
       "      <td>Anaheim</td>\n",
       "      <td>South Coast AQMD</td>\n",
       "      <td>60590007</td>\n",
       "      <td>840060590007</td>\n",
       "      <td>2017</td>\n",
       "      <td>11</td>\n",
       "      <td>23.543575</td>\n",
       "      <td>1354</td>\n",
       "      <td>24.008991</td>\n",
       "      <td>1354</td>\n",
       "      <td>22.221566</td>\n",
       "      <td>1354</td>\n",
       "      <td>POINT (190843.931 -462882.080)</td>\n",
       "    </tr>\n",
       "    <tr>\n",
       "      <th>...</th>\n",
       "      <td>...</td>\n",
       "      <td>...</td>\n",
       "      <td>...</td>\n",
       "      <td>...</td>\n",
       "      <td>...</td>\n",
       "      <td>...</td>\n",
       "      <td>...</td>\n",
       "      <td>...</td>\n",
       "      <td>...</td>\n",
       "      <td>...</td>\n",
       "      <td>...</td>\n",
       "      <td>...</td>\n",
       "      <td>...</td>\n",
       "      <td>...</td>\n",
       "      <td>...</td>\n",
       "      <td>...</td>\n",
       "      <td>...</td>\n",
       "      <td>...</td>\n",
       "    </tr>\n",
       "    <tr>\n",
       "      <th>14903</th>\n",
       "      <td>38.712090</td>\n",
       "      <td>-121.381090</td>\n",
       "      <td>NO2</td>\n",
       "      <td>PPB</td>\n",
       "      <td>2</td>\n",
       "      <td>Antelope - North Highlands</td>\n",
       "      <td>Sacramento Metro. AQMD</td>\n",
       "      <td>60670002</td>\n",
       "      <td>840060670002</td>\n",
       "      <td>2017</td>\n",
       "      <td>11</td>\n",
       "      <td>70.000000</td>\n",
       "      <td>6</td>\n",
       "      <td>70.000000</td>\n",
       "      <td>6</td>\n",
       "      <td>68.000000</td>\n",
       "      <td>6</td>\n",
       "      <td>POINT (-119961.483 78211.963)</td>\n",
       "    </tr>\n",
       "    <tr>\n",
       "      <th>15024</th>\n",
       "      <td>38.746430</td>\n",
       "      <td>-121.264980</td>\n",
       "      <td>NO2</td>\n",
       "      <td>PPB</td>\n",
       "      <td>1</td>\n",
       "      <td>Roseville - N.Sunrise/Douglas</td>\n",
       "      <td>California Air Resources Board</td>\n",
       "      <td>60610006</td>\n",
       "      <td>840060610006</td>\n",
       "      <td>2017</td>\n",
       "      <td>11</td>\n",
       "      <td>8.540862</td>\n",
       "      <td>1346</td>\n",
       "      <td>9.005646</td>\n",
       "      <td>1346</td>\n",
       "      <td>8.133730</td>\n",
       "      <td>1346</td>\n",
       "      <td>POINT (-109825.867 81887.922)</td>\n",
       "    </tr>\n",
       "    <tr>\n",
       "      <th>15579</th>\n",
       "      <td>39.138680</td>\n",
       "      <td>-121.618840</td>\n",
       "      <td>NO2</td>\n",
       "      <td>PPB</td>\n",
       "      <td>1</td>\n",
       "      <td>Yuba City</td>\n",
       "      <td>California Air Resources Board</td>\n",
       "      <td>061010003</td>\n",
       "      <td>840061010003</td>\n",
       "      <td>2017</td>\n",
       "      <td>11</td>\n",
       "      <td>7.197037</td>\n",
       "      <td>1350</td>\n",
       "      <td>7.654963</td>\n",
       "      <td>1350</td>\n",
       "      <td>6.900741</td>\n",
       "      <td>1350</td>\n",
       "      <td>POINT (-139801.036 125946.167)</td>\n",
       "    </tr>\n",
       "    <tr>\n",
       "      <th>16497</th>\n",
       "      <td>39.761680</td>\n",
       "      <td>-121.840470</td>\n",
       "      <td>NO2</td>\n",
       "      <td>PPB</td>\n",
       "      <td>1</td>\n",
       "      <td>Chico -  East</td>\n",
       "      <td>California Air Resources Board</td>\n",
       "      <td>060070008</td>\n",
       "      <td>840060070008</td>\n",
       "      <td>2017</td>\n",
       "      <td>11</td>\n",
       "      <td>6.422680</td>\n",
       "      <td>1358</td>\n",
       "      <td>6.882327</td>\n",
       "      <td>1358</td>\n",
       "      <td>6.170839</td>\n",
       "      <td>1358</td>\n",
       "      <td>POINT (-157594.638 195511.828)</td>\n",
       "    </tr>\n",
       "    <tr>\n",
       "      <th>17273</th>\n",
       "      <td>40.776943</td>\n",
       "      <td>-124.177498</td>\n",
       "      <td>NO2</td>\n",
       "      <td>PPB</td>\n",
       "      <td>1</td>\n",
       "      <td>Jacobs</td>\n",
       "      <td>North Coast Unified Air Quality Management Dis...</td>\n",
       "      <td>060231004</td>\n",
       "      <td>840060231004</td>\n",
       "      <td>2017</td>\n",
       "      <td>11</td>\n",
       "      <td>2.199067</td>\n",
       "      <td>1286</td>\n",
       "      <td>2.637760</td>\n",
       "      <td>1286</td>\n",
       "      <td>2.166407</td>\n",
       "      <td>1286</td>\n",
       "      <td>POINT (-352648.143 314511.405)</td>\n",
       "    </tr>\n",
       "  </tbody>\n",
       "</table>\n",
       "<p>96 rows × 18 columns</p>\n",
       "</div>"
      ],
      "text/plain": [
       "        Latitude   Longitude Parameter Unit  Category  \\\n",
       "102    32.791700 -115.561700       NO2  PPB         1   \n",
       "1162   33.676535 -117.331027       NO2  PPB         1   \n",
       "1503   33.819305 -117.918759       NO2  PPB         1   \n",
       "1510   33.819305 -117.918759       NO2  PPB         2   \n",
       "1535   33.830586 -117.938509       NO2  PPB         1   \n",
       "...          ...         ...       ...  ...       ...   \n",
       "14903  38.712090 -121.381090       NO2  PPB         2   \n",
       "15024  38.746430 -121.264980       NO2  PPB         1   \n",
       "15579  39.138680 -121.618840       NO2  PPB         1   \n",
       "16497  39.761680 -121.840470       NO2  PPB         1   \n",
       "17273  40.776943 -124.177498       NO2  PPB         1   \n",
       "\n",
       "                              SiteName  \\\n",
       "102             El Centro - 9th Street   \n",
       "1162   Lake Elsinore - W. Flint Street   \n",
       "1503                 Anaheim Near Road   \n",
       "1510                 Anaheim Near Road   \n",
       "1535                           Anaheim   \n",
       "...                                ...   \n",
       "14903       Antelope - North Highlands   \n",
       "15024    Roseville - N.Sunrise/Douglas   \n",
       "15579                        Yuba City   \n",
       "16497                    Chico -  East   \n",
       "17273                           Jacobs   \n",
       "\n",
       "                                              AgencyName FullAQSCod  \\\n",
       "102       Imperial County Air Pollution Control District  060251003   \n",
       "1162                                    South Coast AQMD   60659001   \n",
       "1503                                    South Coast AQMD   60590008   \n",
       "1510                                    South Coast AQMD   60590008   \n",
       "1535                                    South Coast AQMD   60590007   \n",
       "...                                                  ...        ...   \n",
       "14903                             Sacramento Metro. AQMD   60670002   \n",
       "15024                     California Air Resources Board   60610006   \n",
       "15579                     California Air Resources Board  061010003   \n",
       "16497                     California Air Resources Board  060070008   \n",
       "17273  North Coast Unified Air Quality Management Dis...  060231004   \n",
       "\n",
       "         IntlAQSCod  year  month  Value_mean  Value_coun  RawConcent  \\\n",
       "102    840060251003  2017     11    9.310294        1360    9.776176   \n",
       "1162   840060659001  2017     11   12.920228        1404   13.362678   \n",
       "1503   840060590008  2017     11   27.110778        1336   27.565868   \n",
       "1510   840060590008  2017     11   63.935484          62   64.390323   \n",
       "1535   840060590007  2017     11   23.543575        1354   24.008991   \n",
       "...             ...   ...    ...         ...         ...         ...   \n",
       "14903  840060670002  2017     11   70.000000           6   70.000000   \n",
       "15024  840060610006  2017     11    8.540862        1346    9.005646   \n",
       "15579  840061010003  2017     11    7.197037        1350    7.654963   \n",
       "16497  840060070008  2017     11    6.422680        1358    6.882327   \n",
       "17273  840060231004  2017     11    2.199067        1286    2.637760   \n",
       "\n",
       "       RawConce_1   AQI_mean  AQI_count                        geometry  \n",
       "102          1360   8.872059       1360  POINT (416149.028 -570353.757)  \n",
       "1162         1404  12.205128       1404  POINT (247549.665 -478555.246)  \n",
       "1503         1336  25.564371       1336  POINT (192699.470 -464092.900)  \n",
       "1510           62  61.483871         62  POINT (192699.470 -464092.900)  \n",
       "1535         1354  22.221566       1354  POINT (190843.931 -462882.080)  \n",
       "...           ...        ...        ...                             ...  \n",
       "14903           6  68.000000          6   POINT (-119961.483 78211.963)  \n",
       "15024        1346   8.133730       1346   POINT (-109825.867 81887.922)  \n",
       "15579        1350   6.900741       1350  POINT (-139801.036 125946.167)  \n",
       "16497        1358   6.170839       1358  POINT (-157594.638 195511.828)  \n",
       "17273        1286   2.166407       1286  POINT (-352648.143 314511.405)  \n",
       "\n",
       "[96 rows x 18 columns]"
      ]
     },
     "execution_count": 175,
     "metadata": {},
     "output_type": "execute_result"
    }
   ],
   "source": [
    "#Compare with airnow to ensure range of values seems reasonable\n",
    "airnow[(airnow['Parameter'] == 'NO2') & (airnow['month'] == 11) & (airnow['year'] == 2017)]"
   ]
  },
  {
   "cell_type": "markdown",
   "metadata": {},
   "source": [
    "If we want AQI Values, we can use the function below. "
   ]
  },
  {
   "cell_type": "code",
   "execution_count": 113,
   "metadata": {},
   "outputs": [],
   "source": [
    "#For AQI, note NAN observations need to be removed beforehand, since scikitlearn gives an error with NAN\n",
    "\n",
    "def KNN_AQI(df, year, month, k):\n",
    "    \"\"\"Fits a KNN model for AQI, averaged over a given month, in a given year. \n",
    "    Arguments:\n",
    "        dataframe: the Air Now dataframe. \n",
    "        year: year to use to fit model, 2016 or 2017\n",
    "        month: month to use to fit model (1-12)\n",
    "        k: an array of k values to test for fitting model\n",
    "    Returns:\n",
    "        model: the trained model\n",
    "        opt_k: the optimal k value\n",
    "        opt_score: the mean MSE of the optimal k value\n",
    "        \"\"\"\n",
    "    \n",
    "    #Filter data to month, year, and parameter\n",
    "    data = df[(df['year'] == year) & (df['month'] == month)]\n",
    "    X = data.iloc[:, 0:2].copy()\n",
    "    y = data['AQI_mean']\n",
    "    \n",
    "    #knn model object\n",
    "    knn = KNeighborsRegressor()\n",
    "    \n",
    "    #create dictionary of parameter values\n",
    "    param_grid = {'n_neighbors': k, 'weights': ['uniform', 'distance']}\n",
    "    \n",
    "    #specifu hyperparameters\n",
    "    knn_cv = GridSearchCV(knn, param_grid, scoring = 'neg_root_mean_squared_error', cv = 10)\n",
    "    \n",
    "    #fit model\n",
    "    model = knn_cv.fit(X,y)\n",
    "    \n",
    "    return model, model.best_params_, model.best_score_"
   ]
  }
 ],
 "metadata": {
  "kernelspec": {
   "display_name": "Python 3",
   "language": "python",
   "name": "python3"
  },
  "language_info": {
   "codemirror_mode": {
    "name": "ipython",
    "version": 3
   },
   "file_extension": ".py",
   "mimetype": "text/x-python",
   "name": "python",
   "nbconvert_exporter": "python",
   "pygments_lexer": "ipython3",
   "version": "3.8.2"
  }
 },
 "nbformat": 4,
 "nbformat_minor": 4
}
