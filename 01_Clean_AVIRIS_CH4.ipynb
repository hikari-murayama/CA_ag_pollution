{
 "metadata": {
  "language_info": {
   "codemirror_mode": {
    "name": "ipython",
    "version": 3
   },
   "file_extension": ".py",
   "mimetype": "text/x-python",
   "name": "python",
   "nbconvert_exporter": "python",
   "pygments_lexer": "ipython3",
   "version": "3.8.2-final"
  },
  "orig_nbformat": 2,
  "kernelspec": {
   "name": "python3",
   "display_name": "Python 3",
   "language": "python"
  }
 },
 "nbformat": 4,
 "nbformat_minor": 2,
 "cells": [
  {
   "source": [
    "# Clean AVIRIS CH4 Plume Estimates at VISTA Points\n",
    "\n",
    "## ER 131 Project | Group 4\n",
    "**Author: ** ['Marshall Worsham'] <br>\n",
    "**Date: ** 12-14-2020"
   ],
   "cell_type": "markdown",
   "metadata": {}
  },
  {
   "source": [
    "## Libraries"
   ],
   "cell_type": "markdown",
   "metadata": {}
  },
  {
   "cell_type": "code",
   "execution_count": 2,
   "metadata": {},
   "outputs": [],
   "source": [
    "import numpy as np\n",
    "import pandas as pd\n",
    "import geopandas as gpd\n",
    "import os\n",
    "import re\n",
    "import time\n",
    "from matplotlib import pyplot as plt"
   ]
  },
  {
   "source": [
    "## Set working directories"
   ],
   "cell_type": "markdown",
   "metadata": {}
  },
  {
   "cell_type": "code",
   "execution_count": 3,
   "metadata": {},
   "outputs": [],
   "source": [
    "datadir = os.sep.join(['/Volumes', 'Brain', 'GIS', 'ER131', 'Project', 'Data'])\n",
    "outdir = os.sep.join(['/Volumes', 'Brain', 'GIS', 'ER131', 'Project', 'Output'])"
   ]
  },
  {
   "source": [
    "#### Steps 1 and 2. \n",
    "We did the buffering and mean CH$_4$ calculations in QGIS (see `01_Extract_Aviris_CH4.ipynb` in our Git repository for a valiant attempt in Python).\n",
    "\n",
    "To complete the remaining cleaning steps, we first imported the geojsons exported from QGIS. These contain polygon buffers of 100m radius around the original VISTA points and polygons. Each object stores an estimate of the mean CH$_4$ enhancement in a 1m-high column above the buffer (ppm m), count of pixels that went into calculating the mean, and the standard deviation. In QGIS, we had to process point and polygon geometries separately; we imported the two geojsons here and made a final merge at the end of this module.\n"
   ],
   "cell_type": "markdown",
   "metadata": {}
  },
  {
   "cell_type": "code",
   "execution_count": 4,
   "metadata": {},
   "outputs": [],
   "source": [
    "aviris_points_path = os.sep.join([outdir, 'CH4_Emitters', 'CH4_Emitters_Pts_Buff100.geojson'])\n",
    "aviris_poly_path = os.sep.join([outdir, 'CH4_Emitters', 'CH4_Emitters_Poly_Buff100.geojson'])"
   ]
  },
  {
   "cell_type": "code",
   "execution_count": 9,
   "metadata": {},
   "outputs": [
    {
     "output_type": "error",
     "ename": "KeyboardInterrupt",
     "evalue": "",
     "traceback": [
      "\u001b[0;31m---------------------------------------------------------------------------\u001b[0m",
      "\u001b[0;31mKeyboardInterrupt\u001b[0m                         Traceback (most recent call last)",
      "\u001b[0;32m<ipython-input-9-07364dd96699>\u001b[0m in \u001b[0;36m<module>\u001b[0;34m\u001b[0m\n\u001b[0;32m----> 1\u001b[0;31m \u001b[0maviris_points\u001b[0m \u001b[0;34m=\u001b[0m \u001b[0mgpd\u001b[0m\u001b[0;34m.\u001b[0m\u001b[0mread_file\u001b[0m\u001b[0;34m(\u001b[0m\u001b[0maviris_points_path\u001b[0m\u001b[0;34m,\u001b[0m \u001b[0mlow_memory\u001b[0m \u001b[0;34m=\u001b[0m \u001b[0;32mFalse\u001b[0m\u001b[0;34m)\u001b[0m\u001b[0;34m\u001b[0m\u001b[0;34m\u001b[0m\u001b[0m\n\u001b[0m",
      "\u001b[0;32m~/.pyenv/versions/er131project/lib/python3.8/site-packages/geopandas/io/file.py\u001b[0m in \u001b[0;36m_read_file\u001b[0;34m(filename, bbox, mask, rows, **kwargs)\u001b[0m\n\u001b[1;32m    137\u001b[0m                 )\n\u001b[1;32m    138\u001b[0m \u001b[0;34m\u001b[0m\u001b[0m\n\u001b[0;32m--> 139\u001b[0;31m             return GeoDataFrame.from_features(\n\u001b[0m\u001b[1;32m    140\u001b[0m                 \u001b[0mf_filt\u001b[0m\u001b[0;34m,\u001b[0m \u001b[0mcrs\u001b[0m\u001b[0;34m=\u001b[0m\u001b[0mcrs\u001b[0m\u001b[0;34m,\u001b[0m \u001b[0mcolumns\u001b[0m\u001b[0;34m=\u001b[0m\u001b[0mcolumns\u001b[0m \u001b[0;34m+\u001b[0m \u001b[0;34m[\u001b[0m\u001b[0;34m\"geometry\"\u001b[0m\u001b[0;34m]\u001b[0m\u001b[0;34m\u001b[0m\u001b[0;34m\u001b[0m\u001b[0m\n\u001b[1;32m    141\u001b[0m             )\n",
      "\u001b[0;32m~/.pyenv/versions/er131project/lib/python3.8/site-packages/geopandas/geodataframe.py\u001b[0m in \u001b[0;36mfrom_features\u001b[0;34m(cls, features, crs, columns)\u001b[0m\n\u001b[1;32m    420\u001b[0m \u001b[0;34m\u001b[0m\u001b[0m\n\u001b[1;32m    421\u001b[0m         \u001b[0mrows\u001b[0m \u001b[0;34m=\u001b[0m \u001b[0;34m[\u001b[0m\u001b[0;34m]\u001b[0m\u001b[0;34m\u001b[0m\u001b[0;34m\u001b[0m\u001b[0m\n\u001b[0;32m--> 422\u001b[0;31m         \u001b[0;32mfor\u001b[0m \u001b[0mfeature\u001b[0m \u001b[0;32min\u001b[0m \u001b[0mfeatures_lst\u001b[0m\u001b[0;34m:\u001b[0m\u001b[0;34m\u001b[0m\u001b[0;34m\u001b[0m\u001b[0m\n\u001b[0m\u001b[1;32m    423\u001b[0m             \u001b[0;31m# load geometry\u001b[0m\u001b[0;34m\u001b[0m\u001b[0;34m\u001b[0m\u001b[0;34m\u001b[0m\u001b[0m\n\u001b[1;32m    424\u001b[0m             \u001b[0;32mif\u001b[0m \u001b[0mhasattr\u001b[0m\u001b[0;34m(\u001b[0m\u001b[0mfeature\u001b[0m\u001b[0;34m,\u001b[0m \u001b[0;34m\"__geo_interface__\"\u001b[0m\u001b[0;34m)\u001b[0m\u001b[0;34m:\u001b[0m\u001b[0;34m\u001b[0m\u001b[0;34m\u001b[0m\u001b[0m\n",
      "\u001b[0;31mKeyboardInterrupt\u001b[0m: "
     ]
    }
   ],
   "source": [
    "aviris_points = gpd.read_file(aviris_points_path, low_memory = False)"
   ]
  },
  {
   "cell_type": "code",
   "execution_count": 5,
   "metadata": {},
   "outputs": [],
   "source": [
    "aviris_poly = gpd.read_file(aviris_poly_path, low_memory = False)"
   ]
  },
  {
   "cell_type": "code",
   "execution_count": 6,
   "metadata": {},
   "outputs": [],
   "source": [
    "# drop a few extraneous columns from aviris_poly\n",
    "aviris_poly = aviris_poly.drop(columns=['_count', '_mean', '_median', '_stdev', '_min', '_max', 'OUT_count', 'OUT_mean', 'OUT_median', 'OUT_stdev'])"
   ]
  },
  {
   "source": [
    "Here's a summary of the points geodataframe."
   ],
   "cell_type": "markdown",
   "metadata": {}
  },
  {
   "cell_type": "code",
   "execution_count": 7,
   "metadata": {},
   "outputs": [
    {
     "output_type": "error",
     "ename": "NameError",
     "evalue": "name 'aviris_points' is not defined",
     "traceback": [
      "\u001b[0;31m---------------------------------------------------------------------------\u001b[0m",
      "\u001b[0;31mNameError\u001b[0m                                 Traceback (most recent call last)",
      "\u001b[0;32m<ipython-input-7-d245d4cf6d30>\u001b[0m in \u001b[0;36m<module>\u001b[0;34m\u001b[0m\n\u001b[0;32m----> 1\u001b[0;31m \u001b[0mprint\u001b[0m\u001b[0;34m(\u001b[0m\u001b[0maviris_points\u001b[0m\u001b[0;34m.\u001b[0m\u001b[0mshape\u001b[0m\u001b[0;34m)\u001b[0m\u001b[0;34m\u001b[0m\u001b[0;34m\u001b[0m\u001b[0m\n\u001b[0m\u001b[1;32m      2\u001b[0m \u001b[0maviris_points\u001b[0m\u001b[0;34m.\u001b[0m\u001b[0mhead\u001b[0m\u001b[0;34m(\u001b[0m\u001b[0;34m)\u001b[0m\u001b[0;34m\u001b[0m\u001b[0;34m\u001b[0m\u001b[0m\n",
      "\u001b[0;31mNameError\u001b[0m: name 'aviris_points' is not defined"
     ]
    }
   ],
   "source": [
    "print(aviris_points.shape)\n",
    "aviris_points.head()"
   ]
  },
  {
   "source": [
    "Here's a summary of the polygons geodataframe."
   ],
   "cell_type": "markdown",
   "metadata": {}
  },
  {
   "cell_type": "code",
   "execution_count": 8,
   "metadata": {},
   "outputs": [
    {
     "output_type": "stream",
     "name": "stdout",
     "text": [
      "(5903, 1798)\n"
     ]
    },
    {
     "output_type": "execute_result",
     "data": {
      "text/plain": [
       "   Latitude  Longitude                              Vista_IPCC  \\\n",
       "0  37.72799 -120.89865  4B Biological Treatment of Solid Waste   \n",
       "1  33.70999 -117.32864  4B Biological Treatment of Solid Waste   \n",
       "2  38.01667 -122.13333  4B Biological Treatment of Solid Waste   \n",
       "3  34.03281 -118.35424  4B Biological Treatment of Solid Waste   \n",
       "4  34.44517 -117.29007  4B Biological Treatment of Solid Waste   \n",
       "\n",
       "                                 Vista_Name       Vista_SType   Vista_ID  \\\n",
       "0                                3D Ag, LLC  Composting Sites  CMP000001   \n",
       "1                    A. Lua Recycling, Inc.  Composting Sites  CMP000002   \n",
       "2          Acme Composting Compost Facility  Composting Sites  CMP000003   \n",
       "3                       Adams Garden Supply  Composting Sites  CMP000004   \n",
       "4  Advance Disposal Center for the Environm  Composting Sites  CMP000005   \n",
       "\n",
       "   Vista_Date State                City      Source  ... CH4_278mean  \\\n",
       "0  2019-08-20    CA             Oakdale  CalRecycle  ...         NaN   \n",
       "1  2019-08-20    CA       Lake Elsinore  CalRecycle  ...         NaN   \n",
       "2  2019-08-20    CA            Martinez  CalRecycle  ...         NaN   \n",
       "3  2019-08-20    CA  Los Angeles (City)  CalRecycle  ...         NaN   \n",
       "4  2019-08-20    CA            Hesperia  CalRecycle  ...         NaN   \n",
       "\n",
       "   CH4_211mean  CH4_288count  CH4_288sum  CH4_288mean  CH4_297count  \\\n",
       "0          NaN           NaN         NaN          NaN           NaN   \n",
       "1          NaN           NaN         NaN          NaN           NaN   \n",
       "2          NaN           NaN         NaN          NaN           NaN   \n",
       "3          NaN           NaN         NaN          NaN           NaN   \n",
       "4          NaN           NaN         NaN          NaN           NaN   \n",
       "\n",
       "   CH4_297sum  CH4_297mean  CH4_556mean  \\\n",
       "0         NaN          NaN          NaN   \n",
       "1         NaN          NaN          NaN   \n",
       "2         NaN          NaN          NaN   \n",
       "3         NaN          NaN          NaN   \n",
       "4         NaN          NaN          NaN   \n",
       "\n",
       "                                            geometry  \n",
       "0  MULTIPOLYGON (((-79102.941 -31573.212, -79085....  \n",
       "1  MULTIPOLYGON (((247654.698 -474731.555, 247672...  \n",
       "2  MULTIPOLYGON (((-187037.557 2247.982, -187020....  \n",
       "3  MULTIPOLYGON (((151961.759 -441099.032, 151979...  \n",
       "4  MULTIPOLYGON (((248898.801 -393109.002, 248916...  \n",
       "\n",
       "[5 rows x 1798 columns]"
      ],
      "text/html": "<div>\n<style scoped>\n    .dataframe tbody tr th:only-of-type {\n        vertical-align: middle;\n    }\n\n    .dataframe tbody tr th {\n        vertical-align: top;\n    }\n\n    .dataframe thead th {\n        text-align: right;\n    }\n</style>\n<table border=\"1\" class=\"dataframe\">\n  <thead>\n    <tr style=\"text-align: right;\">\n      <th></th>\n      <th>Latitude</th>\n      <th>Longitude</th>\n      <th>Vista_IPCC</th>\n      <th>Vista_Name</th>\n      <th>Vista_SType</th>\n      <th>Vista_ID</th>\n      <th>Vista_Date</th>\n      <th>State</th>\n      <th>City</th>\n      <th>Source</th>\n      <th>...</th>\n      <th>CH4_278mean</th>\n      <th>CH4_211mean</th>\n      <th>CH4_288count</th>\n      <th>CH4_288sum</th>\n      <th>CH4_288mean</th>\n      <th>CH4_297count</th>\n      <th>CH4_297sum</th>\n      <th>CH4_297mean</th>\n      <th>CH4_556mean</th>\n      <th>geometry</th>\n    </tr>\n  </thead>\n  <tbody>\n    <tr>\n      <th>0</th>\n      <td>37.72799</td>\n      <td>-120.89865</td>\n      <td>4B Biological Treatment of Solid Waste</td>\n      <td>3D Ag, LLC</td>\n      <td>Composting Sites</td>\n      <td>CMP000001</td>\n      <td>2019-08-20</td>\n      <td>CA</td>\n      <td>Oakdale</td>\n      <td>CalRecycle</td>\n      <td>...</td>\n      <td>NaN</td>\n      <td>NaN</td>\n      <td>NaN</td>\n      <td>NaN</td>\n      <td>NaN</td>\n      <td>NaN</td>\n      <td>NaN</td>\n      <td>NaN</td>\n      <td>NaN</td>\n      <td>MULTIPOLYGON (((-79102.941 -31573.212, -79085....</td>\n    </tr>\n    <tr>\n      <th>1</th>\n      <td>33.70999</td>\n      <td>-117.32864</td>\n      <td>4B Biological Treatment of Solid Waste</td>\n      <td>A. Lua Recycling, Inc.</td>\n      <td>Composting Sites</td>\n      <td>CMP000002</td>\n      <td>2019-08-20</td>\n      <td>CA</td>\n      <td>Lake Elsinore</td>\n      <td>CalRecycle</td>\n      <td>...</td>\n      <td>NaN</td>\n      <td>NaN</td>\n      <td>NaN</td>\n      <td>NaN</td>\n      <td>NaN</td>\n      <td>NaN</td>\n      <td>NaN</td>\n      <td>NaN</td>\n      <td>NaN</td>\n      <td>MULTIPOLYGON (((247654.698 -474731.555, 247672...</td>\n    </tr>\n    <tr>\n      <th>2</th>\n      <td>38.01667</td>\n      <td>-122.13333</td>\n      <td>4B Biological Treatment of Solid Waste</td>\n      <td>Acme Composting Compost Facility</td>\n      <td>Composting Sites</td>\n      <td>CMP000003</td>\n      <td>2019-08-20</td>\n      <td>CA</td>\n      <td>Martinez</td>\n      <td>CalRecycle</td>\n      <td>...</td>\n      <td>NaN</td>\n      <td>NaN</td>\n      <td>NaN</td>\n      <td>NaN</td>\n      <td>NaN</td>\n      <td>NaN</td>\n      <td>NaN</td>\n      <td>NaN</td>\n      <td>NaN</td>\n      <td>MULTIPOLYGON (((-187037.557 2247.982, -187020....</td>\n    </tr>\n    <tr>\n      <th>3</th>\n      <td>34.03281</td>\n      <td>-118.35424</td>\n      <td>4B Biological Treatment of Solid Waste</td>\n      <td>Adams Garden Supply</td>\n      <td>Composting Sites</td>\n      <td>CMP000004</td>\n      <td>2019-08-20</td>\n      <td>CA</td>\n      <td>Los Angeles (City)</td>\n      <td>CalRecycle</td>\n      <td>...</td>\n      <td>NaN</td>\n      <td>NaN</td>\n      <td>NaN</td>\n      <td>NaN</td>\n      <td>NaN</td>\n      <td>NaN</td>\n      <td>NaN</td>\n      <td>NaN</td>\n      <td>NaN</td>\n      <td>MULTIPOLYGON (((151961.759 -441099.032, 151979...</td>\n    </tr>\n    <tr>\n      <th>4</th>\n      <td>34.44517</td>\n      <td>-117.29007</td>\n      <td>4B Biological Treatment of Solid Waste</td>\n      <td>Advance Disposal Center for the Environm</td>\n      <td>Composting Sites</td>\n      <td>CMP000005</td>\n      <td>2019-08-20</td>\n      <td>CA</td>\n      <td>Hesperia</td>\n      <td>CalRecycle</td>\n      <td>...</td>\n      <td>NaN</td>\n      <td>NaN</td>\n      <td>NaN</td>\n      <td>NaN</td>\n      <td>NaN</td>\n      <td>NaN</td>\n      <td>NaN</td>\n      <td>NaN</td>\n      <td>NaN</td>\n      <td>MULTIPOLYGON (((248898.801 -393109.002, 248916...</td>\n    </tr>\n  </tbody>\n</table>\n<p>5 rows × 1798 columns</p>\n</div>"
     },
     "metadata": {},
     "execution_count": 8
    }
   ],
   "source": [
    "print(aviris_poly.shape)\n",
    "aviris_poly.head()"
   ]
  },
  {
   "source": [
    "#### Step 3. Set mean values below threshold to NaN\n",
    "We set mean CH$_4$ values that fell below a mixing-ratio threshold of 100 ppm m (i.e., pixels where [CH$_4$] was less than 100 ppm m above background) to NaN to exclude non-emitting facilities.  First, we defined a function that separates the dataframes by observation type (mean observation, pixel count, and standard deviation) so they're a little more manageable."
   ],
   "cell_type": "markdown",
   "metadata": {}
  },
  {
   "cell_type": "code",
   "execution_count": 5,
   "metadata": {},
   "outputs": [],
   "source": [
    "def split_dfs(df, field):\n",
    "     '''\n",
    "     Takes in a dataframe and a specified observation type and returns a dataframe sliced by that observation type,\n",
    "     while preserving original index order.\n",
    "     '''\n",
    "     field_subset = df[[col for col in df.columns if field in col]]\n",
    "\n",
    "     # isolate the column index number\n",
    "     col_indices = []\n",
    "     cols = list(field_subset.columns)\n",
    "     col_strs = [col[-7:] for col in cols]\n",
    "\n",
    "     #find the index number of the flightpath corresponding to the aviris column\n",
    "     for col in col_strs:\n",
    "          inds = [int(s) for s in re.findall(r'[0-9]+', col)][0]\n",
    "          col_indices.append(inds-1)\n",
    "\n",
    "     # generate the column names\n",
    "     flightids = [fp[3:18] for fp in flightpaths]\n",
    "     flightids = [flightids[i] for i in col_indices]\n",
    "     colnames = ['AVIRIS_CH4_' + field + '_' + fid for fid in flightids]\n",
    "\n",
    "     # rename columns\n",
    "     field_subset.columns = colnames\n",
    "     field_subset.columns = field_subset.columns.sort_values()\n",
    "\n",
    "     return field_subset"
   ]
  },
  {
   "source": [
    "We ran this function on both the point and polygon dataframes."
   ],
   "cell_type": "markdown",
   "metadata": {}
  },
  {
   "cell_type": "code",
   "execution_count": 567,
   "metadata": {},
   "outputs": [],
   "source": [
    "aviris_points_mean = split_dfs(aviris_points, 'mean')\n",
    "aviris_points_count = split_dfs(aviris_points, 'count')\n",
    "aviris_points_std = split_dfs(aviris_points, 'std')"
   ]
  },
  {
   "cell_type": "code",
   "execution_count": null,
   "metadata": {},
   "outputs": [],
   "source": [
    "aviris_poly_mean = split_dfs(aviris_poly, 'mean')\n",
    "aviris_poly_count = split_dfs(aviris_poly, 'count')\n",
    "aviris_poly_std = split_dfs(aviris_poly, 'std')"
   ]
  },
  {
   "cell_type": "code",
   "execution_count": null,
   "metadata": {},
   "outputs": [],
   "source": [
    "aviris_points_mean[aviris_points_mean < 100] = np.nan\n",
    "aviris_poly_mean[aviris_poly_mean < 100] = np.nan"
   ]
  },
  {
   "source": [
    "#### Step 4. Where there are multiple observations, take the median value\n",
    "\n",
    "In some cases, multiple flights were made, and multiple CH$_4$ observations recorded, over the same facility. How many mean observations are there for each facility?"
   ],
   "cell_type": "markdown",
   "metadata": {}
  },
  {
   "source": [
    "print(aviris_points_mean.count(axis = 1).unique())\n",
    "print(aviris_poly_mean.count(axis = 1).unique())"
   ],
   "cell_type": "code",
   "metadata": {},
   "execution_count": null,
   "outputs": []
  },
  {
   "source": [
    "Where there was more than one observation, we took the median value from that facility's distribution."
   ],
   "cell_type": "markdown",
   "metadata": {}
  },
  {
   "cell_type": "code",
   "execution_count": 338,
   "metadata": {},
   "outputs": [],
   "source": [
    "aviris_points_ch4 = aviris_points_mean.median(axis = 1, skipna = True)\n",
    "aviris_poly_ch4 = aviris_poly_mean.median(axis = 1, skipna = True)"
   ]
  },
  {
   "cell_type": "code",
   "execution_count": 344,
   "metadata": {},
   "outputs": [
    {
     "output_type": "execute_result",
     "data": {
      "text/plain": [
       "<AxesSubplot:>"
      ]
     },
     "metadata": {},
     "execution_count": 344
    },
    {
     "output_type": "display_data",
     "data": {
      "text/plain": "<Figure size 432x288 with 1 Axes>",
      "image/svg+xml": "<?xml version=\"1.0\" encoding=\"utf-8\" standalone=\"no\"?>\n<!DOCTYPE svg PUBLIC \"-//W3C//DTD SVG 1.1//EN\"\n  \"http://www.w3.org/Graphics/SVG/1.1/DTD/svg11.dtd\">\n<!-- Created with matplotlib (https://matplotlib.org/) -->\n<svg height=\"248.518125pt\" version=\"1.1\" viewBox=\"0 0 388.0125 248.518125\" width=\"388.0125pt\" xmlns=\"http://www.w3.org/2000/svg\" xmlns:xlink=\"http://www.w3.org/1999/xlink\">\n <metadata>\n  <rdf:RDF xmlns:cc=\"http://creativecommons.org/ns#\" xmlns:dc=\"http://purl.org/dc/elements/1.1/\" xmlns:rdf=\"http://www.w3.org/1999/02/22-rdf-syntax-ns#\">\n   <cc:Work>\n    <dc:type rdf:resource=\"http://purl.org/dc/dcmitype/StillImage\"/>\n    <dc:date>2020-12-09T17:18:26.237605</dc:date>\n    <dc:format>image/svg+xml</dc:format>\n    <dc:creator>\n     <cc:Agent>\n      <dc:title>Matplotlib v3.3.1, https://matplotlib.org/</dc:title>\n     </cc:Agent>\n    </dc:creator>\n   </cc:Work>\n  </rdf:RDF>\n </metadata>\n <defs>\n  <style type=\"text/css\">*{stroke-linecap:butt;stroke-linejoin:round;}</style>\n </defs>\n <g id=\"figure_1\">\n  <g id=\"patch_1\">\n   <path d=\"M 0 248.518125 \nL 388.0125 248.518125 \nL 388.0125 0 \nL 0 0 \nz\n\" style=\"fill:none;\"/>\n  </g>\n  <g id=\"axes_1\">\n   <g id=\"patch_2\">\n    <path d=\"M 46.0125 224.64 \nL 380.8125 224.64 \nL 380.8125 7.2 \nL 46.0125 7.2 \nz\n\" style=\"fill:#ffffff;\"/>\n   </g>\n   <g id=\"patch_3\">\n    <path clip-path=\"url(#p69340954a4)\" d=\"M 61.230682 224.64 \nL 91.667045 224.64 \nL 91.667045 17.554286 \nL 61.230682 17.554286 \nz\n\" style=\"fill:#1f77b4;\"/>\n   </g>\n   <g id=\"patch_4\">\n    <path clip-path=\"url(#p69340954a4)\" d=\"M 91.667045 224.64 \nL 122.103409 224.64 \nL 122.103409 220.139791 \nL 91.667045 220.139791 \nz\n\" style=\"fill:#1f77b4;\"/>\n   </g>\n   <g id=\"patch_5\">\n    <path clip-path=\"url(#p69340954a4)\" d=\"M 122.103409 224.64 \nL 152.539773 224.64 \nL 152.539773 223.914593 \nL 122.103409 223.914593 \nz\n\" style=\"fill:#1f77b4;\"/>\n   </g>\n   <g id=\"patch_6\">\n    <path clip-path=\"url(#p69340954a4)\" d=\"M 152.539773 224.64 \nL 182.976136 224.64 \nL 182.976136 224.425065 \nL 152.539773 224.425065 \nz\n\" style=\"fill:#1f77b4;\"/>\n   </g>\n   <g id=\"patch_7\">\n    <path clip-path=\"url(#p69340954a4)\" d=\"M 182.976136 224.64 \nL 213.4125 224.64 \nL 213.4125 224.581788 \nL 182.976136 224.581788 \nz\n\" style=\"fill:#1f77b4;\"/>\n   </g>\n   <g id=\"patch_8\">\n    <path clip-path=\"url(#p69340954a4)\" d=\"M 213.4125 224.64 \nL 243.848864 224.64 \nL 243.848864 224.622089 \nL 213.4125 224.622089 \nz\n\" style=\"fill:#1f77b4;\"/>\n   </g>\n   <g id=\"patch_9\">\n    <path clip-path=\"url(#p69340954a4)\" d=\"M 243.848864 224.64 \nL 274.285227 224.64 \nL 274.285227 224.622089 \nL 243.848864 224.622089 \nz\n\" style=\"fill:#1f77b4;\"/>\n   </g>\n   <g id=\"patch_10\">\n    <path clip-path=\"url(#p69340954a4)\" d=\"M 274.285227 224.64 \nL 304.721591 224.64 \nL 304.721591 224.64 \nL 274.285227 224.64 \nz\n\" style=\"fill:#1f77b4;\"/>\n   </g>\n   <g id=\"patch_11\">\n    <path clip-path=\"url(#p69340954a4)\" d=\"M 304.721591 224.64 \nL 335.157955 224.64 \nL 335.157955 224.64 \nL 304.721591 224.64 \nz\n\" style=\"fill:#1f77b4;\"/>\n   </g>\n   <g id=\"patch_12\">\n    <path clip-path=\"url(#p69340954a4)\" d=\"M 335.157955 224.64 \nL 365.594318 224.64 \nL 365.594318 224.626567 \nL 335.157955 224.626567 \nz\n\" style=\"fill:#1f77b4;\"/>\n   </g>\n   <g id=\"matplotlib.axis_1\">\n    <g id=\"xtick_1\">\n     <g id=\"line2d_1\">\n      <path clip-path=\"url(#p69340954a4)\" d=\"M 84.555378 224.64 \nL 84.555378 7.2 \n\" style=\"fill:none;stroke:#b0b0b0;stroke-linecap:square;stroke-width:0.8;\"/>\n     </g>\n     <g id=\"line2d_2\">\n      <defs>\n       <path d=\"M 0 0 \nL 0 3.5 \n\" id=\"mc4435d43f3\" style=\"stroke:#000000;stroke-width:0.8;\"/>\n      </defs>\n      <g>\n       <use style=\"stroke:#000000;stroke-width:0.8;\" x=\"84.555378\" xlink:href=\"#mc4435d43f3\" y=\"224.64\"/>\n      </g>\n     </g>\n     <g id=\"text_1\">\n      <!-- 250 -->\n      <g transform=\"translate(75.011628 239.238437)scale(0.1 -0.1)\">\n       <defs>\n        <path d=\"M 19.1875 8.296875 \nL 53.609375 8.296875 \nL 53.609375 0 \nL 7.328125 0 \nL 7.328125 8.296875 \nQ 12.9375 14.109375 22.625 23.890625 \nQ 32.328125 33.6875 34.8125 36.53125 \nQ 39.546875 41.84375 41.421875 45.53125 \nQ 43.3125 49.21875 43.3125 52.78125 \nQ 43.3125 58.59375 39.234375 62.25 \nQ 35.15625 65.921875 28.609375 65.921875 \nQ 23.96875 65.921875 18.8125 64.3125 \nQ 13.671875 62.703125 7.8125 59.421875 \nL 7.8125 69.390625 \nQ 13.765625 71.78125 18.9375 73 \nQ 24.125 74.21875 28.421875 74.21875 \nQ 39.75 74.21875 46.484375 68.546875 \nQ 53.21875 62.890625 53.21875 53.421875 \nQ 53.21875 48.921875 51.53125 44.890625 \nQ 49.859375 40.875 45.40625 35.40625 \nQ 44.1875 33.984375 37.640625 27.21875 \nQ 31.109375 20.453125 19.1875 8.296875 \nz\n\" id=\"DejaVuSans-50\"/>\n        <path d=\"M 10.796875 72.90625 \nL 49.515625 72.90625 \nL 49.515625 64.59375 \nL 19.828125 64.59375 \nL 19.828125 46.734375 \nQ 21.96875 47.46875 24.109375 47.828125 \nQ 26.265625 48.1875 28.421875 48.1875 \nQ 40.625 48.1875 47.75 41.5 \nQ 54.890625 34.8125 54.890625 23.390625 \nQ 54.890625 11.625 47.5625 5.09375 \nQ 40.234375 -1.421875 26.90625 -1.421875 \nQ 22.3125 -1.421875 17.546875 -0.640625 \nQ 12.796875 0.140625 7.71875 1.703125 \nL 7.71875 11.625 \nQ 12.109375 9.234375 16.796875 8.0625 \nQ 21.484375 6.890625 26.703125 6.890625 \nQ 35.15625 6.890625 40.078125 11.328125 \nQ 45.015625 15.765625 45.015625 23.390625 \nQ 45.015625 31 40.078125 35.4375 \nQ 35.15625 39.890625 26.703125 39.890625 \nQ 22.75 39.890625 18.8125 39.015625 \nQ 14.890625 38.140625 10.796875 36.28125 \nz\n\" id=\"DejaVuSans-53\"/>\n        <path d=\"M 31.78125 66.40625 \nQ 24.171875 66.40625 20.328125 58.90625 \nQ 16.5 51.421875 16.5 36.375 \nQ 16.5 21.390625 20.328125 13.890625 \nQ 24.171875 6.390625 31.78125 6.390625 \nQ 39.453125 6.390625 43.28125 13.890625 \nQ 47.125 21.390625 47.125 36.375 \nQ 47.125 51.421875 43.28125 58.90625 \nQ 39.453125 66.40625 31.78125 66.40625 \nz\nM 31.78125 74.21875 \nQ 44.046875 74.21875 50.515625 64.515625 \nQ 56.984375 54.828125 56.984375 36.375 \nQ 56.984375 17.96875 50.515625 8.265625 \nQ 44.046875 -1.421875 31.78125 -1.421875 \nQ 19.53125 -1.421875 13.0625 8.265625 \nQ 6.59375 17.96875 6.59375 36.375 \nQ 6.59375 54.828125 13.0625 64.515625 \nQ 19.53125 74.21875 31.78125 74.21875 \nz\n\" id=\"DejaVuSans-48\"/>\n       </defs>\n       <use xlink:href=\"#DejaVuSans-50\"/>\n       <use x=\"63.623047\" xlink:href=\"#DejaVuSans-53\"/>\n       <use x=\"127.246094\" xlink:href=\"#DejaVuSans-48\"/>\n      </g>\n     </g>\n    </g>\n    <g id=\"xtick_2\">\n     <g id=\"line2d_3\">\n      <path clip-path=\"url(#p69340954a4)\" d=\"M 123.430334 224.64 \nL 123.430334 7.2 \n\" style=\"fill:none;stroke:#b0b0b0;stroke-linecap:square;stroke-width:0.8;\"/>\n     </g>\n     <g id=\"line2d_4\">\n      <g>\n       <use style=\"stroke:#000000;stroke-width:0.8;\" x=\"123.430334\" xlink:href=\"#mc4435d43f3\" y=\"224.64\"/>\n      </g>\n     </g>\n     <g id=\"text_2\">\n      <!-- 500 -->\n      <g transform=\"translate(113.886584 239.238437)scale(0.1 -0.1)\">\n       <use xlink:href=\"#DejaVuSans-53\"/>\n       <use x=\"63.623047\" xlink:href=\"#DejaVuSans-48\"/>\n       <use x=\"127.246094\" xlink:href=\"#DejaVuSans-48\"/>\n      </g>\n     </g>\n    </g>\n    <g id=\"xtick_3\">\n     <g id=\"line2d_5\">\n      <path clip-path=\"url(#p69340954a4)\" d=\"M 162.305289 224.64 \nL 162.305289 7.2 \n\" style=\"fill:none;stroke:#b0b0b0;stroke-linecap:square;stroke-width:0.8;\"/>\n     </g>\n     <g id=\"line2d_6\">\n      <g>\n       <use style=\"stroke:#000000;stroke-width:0.8;\" x=\"162.305289\" xlink:href=\"#mc4435d43f3\" y=\"224.64\"/>\n      </g>\n     </g>\n     <g id=\"text_3\">\n      <!-- 750 -->\n      <g transform=\"translate(152.761539 239.238437)scale(0.1 -0.1)\">\n       <defs>\n        <path d=\"M 8.203125 72.90625 \nL 55.078125 72.90625 \nL 55.078125 68.703125 \nL 28.609375 0 \nL 18.3125 0 \nL 43.21875 64.59375 \nL 8.203125 64.59375 \nz\n\" id=\"DejaVuSans-55\"/>\n       </defs>\n       <use xlink:href=\"#DejaVuSans-55\"/>\n       <use x=\"63.623047\" xlink:href=\"#DejaVuSans-53\"/>\n       <use x=\"127.246094\" xlink:href=\"#DejaVuSans-48\"/>\n      </g>\n     </g>\n    </g>\n    <g id=\"xtick_4\">\n     <g id=\"line2d_7\">\n      <path clip-path=\"url(#p69340954a4)\" d=\"M 201.180244 224.64 \nL 201.180244 7.2 \n\" style=\"fill:none;stroke:#b0b0b0;stroke-linecap:square;stroke-width:0.8;\"/>\n     </g>\n     <g id=\"line2d_8\">\n      <g>\n       <use style=\"stroke:#000000;stroke-width:0.8;\" x=\"201.180244\" xlink:href=\"#mc4435d43f3\" y=\"224.64\"/>\n      </g>\n     </g>\n     <g id=\"text_4\">\n      <!-- 1000 -->\n      <g transform=\"translate(188.455244 239.238437)scale(0.1 -0.1)\">\n       <defs>\n        <path d=\"M 12.40625 8.296875 \nL 28.515625 8.296875 \nL 28.515625 63.921875 \nL 10.984375 60.40625 \nL 10.984375 69.390625 \nL 28.421875 72.90625 \nL 38.28125 72.90625 \nL 38.28125 8.296875 \nL 54.390625 8.296875 \nL 54.390625 0 \nL 12.40625 0 \nz\n\" id=\"DejaVuSans-49\"/>\n       </defs>\n       <use xlink:href=\"#DejaVuSans-49\"/>\n       <use x=\"63.623047\" xlink:href=\"#DejaVuSans-48\"/>\n       <use x=\"127.246094\" xlink:href=\"#DejaVuSans-48\"/>\n       <use x=\"190.869141\" xlink:href=\"#DejaVuSans-48\"/>\n      </g>\n     </g>\n    </g>\n    <g id=\"xtick_5\">\n     <g id=\"line2d_9\">\n      <path clip-path=\"url(#p69340954a4)\" d=\"M 240.055199 224.64 \nL 240.055199 7.2 \n\" style=\"fill:none;stroke:#b0b0b0;stroke-linecap:square;stroke-width:0.8;\"/>\n     </g>\n     <g id=\"line2d_10\">\n      <g>\n       <use style=\"stroke:#000000;stroke-width:0.8;\" x=\"240.055199\" xlink:href=\"#mc4435d43f3\" y=\"224.64\"/>\n      </g>\n     </g>\n     <g id=\"text_5\">\n      <!-- 1250 -->\n      <g transform=\"translate(227.330199 239.238437)scale(0.1 -0.1)\">\n       <use xlink:href=\"#DejaVuSans-49\"/>\n       <use x=\"63.623047\" xlink:href=\"#DejaVuSans-50\"/>\n       <use x=\"127.246094\" xlink:href=\"#DejaVuSans-53\"/>\n       <use x=\"190.869141\" xlink:href=\"#DejaVuSans-48\"/>\n      </g>\n     </g>\n    </g>\n    <g id=\"xtick_6\">\n     <g id=\"line2d_11\">\n      <path clip-path=\"url(#p69340954a4)\" d=\"M 278.930154 224.64 \nL 278.930154 7.2 \n\" style=\"fill:none;stroke:#b0b0b0;stroke-linecap:square;stroke-width:0.8;\"/>\n     </g>\n     <g id=\"line2d_12\">\n      <g>\n       <use style=\"stroke:#000000;stroke-width:0.8;\" x=\"278.930154\" xlink:href=\"#mc4435d43f3\" y=\"224.64\"/>\n      </g>\n     </g>\n     <g id=\"text_6\">\n      <!-- 1500 -->\n      <g transform=\"translate(266.205154 239.238437)scale(0.1 -0.1)\">\n       <use xlink:href=\"#DejaVuSans-49\"/>\n       <use x=\"63.623047\" xlink:href=\"#DejaVuSans-53\"/>\n       <use x=\"127.246094\" xlink:href=\"#DejaVuSans-48\"/>\n       <use x=\"190.869141\" xlink:href=\"#DejaVuSans-48\"/>\n      </g>\n     </g>\n    </g>\n    <g id=\"xtick_7\">\n     <g id=\"line2d_13\">\n      <path clip-path=\"url(#p69340954a4)\" d=\"M 317.805109 224.64 \nL 317.805109 7.2 \n\" style=\"fill:none;stroke:#b0b0b0;stroke-linecap:square;stroke-width:0.8;\"/>\n     </g>\n     <g id=\"line2d_14\">\n      <g>\n       <use style=\"stroke:#000000;stroke-width:0.8;\" x=\"317.805109\" xlink:href=\"#mc4435d43f3\" y=\"224.64\"/>\n      </g>\n     </g>\n     <g id=\"text_7\">\n      <!-- 1750 -->\n      <g transform=\"translate(305.080109 239.238437)scale(0.1 -0.1)\">\n       <use xlink:href=\"#DejaVuSans-49\"/>\n       <use x=\"63.623047\" xlink:href=\"#DejaVuSans-55\"/>\n       <use x=\"127.246094\" xlink:href=\"#DejaVuSans-53\"/>\n       <use x=\"190.869141\" xlink:href=\"#DejaVuSans-48\"/>\n      </g>\n     </g>\n    </g>\n    <g id=\"xtick_8\">\n     <g id=\"line2d_15\">\n      <path clip-path=\"url(#p69340954a4)\" d=\"M 356.680064 224.64 \nL 356.680064 7.2 \n\" style=\"fill:none;stroke:#b0b0b0;stroke-linecap:square;stroke-width:0.8;\"/>\n     </g>\n     <g id=\"line2d_16\">\n      <g>\n       <use style=\"stroke:#000000;stroke-width:0.8;\" x=\"356.680064\" xlink:href=\"#mc4435d43f3\" y=\"224.64\"/>\n      </g>\n     </g>\n     <g id=\"text_8\">\n      <!-- 2000 -->\n      <g transform=\"translate(343.955064 239.238437)scale(0.1 -0.1)\">\n       <use xlink:href=\"#DejaVuSans-50\"/>\n       <use x=\"63.623047\" xlink:href=\"#DejaVuSans-48\"/>\n       <use x=\"127.246094\" xlink:href=\"#DejaVuSans-48\"/>\n       <use x=\"190.869141\" xlink:href=\"#DejaVuSans-48\"/>\n      </g>\n     </g>\n    </g>\n   </g>\n   <g id=\"matplotlib.axis_2\">\n    <g id=\"ytick_1\">\n     <g id=\"line2d_17\">\n      <path clip-path=\"url(#p69340954a4)\" d=\"M 46.0125 224.64 \nL 380.8125 224.64 \n\" style=\"fill:none;stroke:#b0b0b0;stroke-linecap:square;stroke-width:0.8;\"/>\n     </g>\n     <g id=\"line2d_18\">\n      <defs>\n       <path d=\"M 0 0 \nL -3.5 0 \n\" id=\"m4c9adaab6a\" style=\"stroke:#000000;stroke-width:0.8;\"/>\n      </defs>\n      <g>\n       <use style=\"stroke:#000000;stroke-width:0.8;\" x=\"46.0125\" xlink:href=\"#m4c9adaab6a\" y=\"224.64\"/>\n      </g>\n     </g>\n     <g id=\"text_9\">\n      <!-- 0 -->\n      <g transform=\"translate(32.65 228.439219)scale(0.1 -0.1)\">\n       <use xlink:href=\"#DejaVuSans-48\"/>\n      </g>\n     </g>\n    </g>\n    <g id=\"ytick_2\">\n     <g id=\"line2d_19\">\n      <path clip-path=\"url(#p69340954a4)\" d=\"M 46.0125 179.861806 \nL 380.8125 179.861806 \n\" style=\"fill:none;stroke:#b0b0b0;stroke-linecap:square;stroke-width:0.8;\"/>\n     </g>\n     <g id=\"line2d_20\">\n      <g>\n       <use style=\"stroke:#000000;stroke-width:0.8;\" x=\"46.0125\" xlink:href=\"#m4c9adaab6a\" y=\"179.861806\"/>\n      </g>\n     </g>\n     <g id=\"text_10\">\n      <!-- 10000 -->\n      <g transform=\"translate(7.2 183.661025)scale(0.1 -0.1)\">\n       <use xlink:href=\"#DejaVuSans-49\"/>\n       <use x=\"63.623047\" xlink:href=\"#DejaVuSans-48\"/>\n       <use x=\"127.246094\" xlink:href=\"#DejaVuSans-48\"/>\n       <use x=\"190.869141\" xlink:href=\"#DejaVuSans-48\"/>\n       <use x=\"254.492188\" xlink:href=\"#DejaVuSans-48\"/>\n      </g>\n     </g>\n    </g>\n    <g id=\"ytick_3\">\n     <g id=\"line2d_21\">\n      <path clip-path=\"url(#p69340954a4)\" d=\"M 46.0125 135.083612 \nL 380.8125 135.083612 \n\" style=\"fill:none;stroke:#b0b0b0;stroke-linecap:square;stroke-width:0.8;\"/>\n     </g>\n     <g id=\"line2d_22\">\n      <g>\n       <use style=\"stroke:#000000;stroke-width:0.8;\" x=\"46.0125\" xlink:href=\"#m4c9adaab6a\" y=\"135.083612\"/>\n      </g>\n     </g>\n     <g id=\"text_11\">\n      <!-- 20000 -->\n      <g transform=\"translate(7.2 138.882831)scale(0.1 -0.1)\">\n       <use xlink:href=\"#DejaVuSans-50\"/>\n       <use x=\"63.623047\" xlink:href=\"#DejaVuSans-48\"/>\n       <use x=\"127.246094\" xlink:href=\"#DejaVuSans-48\"/>\n       <use x=\"190.869141\" xlink:href=\"#DejaVuSans-48\"/>\n       <use x=\"254.492188\" xlink:href=\"#DejaVuSans-48\"/>\n      </g>\n     </g>\n    </g>\n    <g id=\"ytick_4\">\n     <g id=\"line2d_23\">\n      <path clip-path=\"url(#p69340954a4)\" d=\"M 46.0125 90.305418 \nL 380.8125 90.305418 \n\" style=\"fill:none;stroke:#b0b0b0;stroke-linecap:square;stroke-width:0.8;\"/>\n     </g>\n     <g id=\"line2d_24\">\n      <g>\n       <use style=\"stroke:#000000;stroke-width:0.8;\" x=\"46.0125\" xlink:href=\"#m4c9adaab6a\" y=\"90.305418\"/>\n      </g>\n     </g>\n     <g id=\"text_12\">\n      <!-- 30000 -->\n      <g transform=\"translate(7.2 94.104636)scale(0.1 -0.1)\">\n       <defs>\n        <path d=\"M 40.578125 39.3125 \nQ 47.65625 37.796875 51.625 33 \nQ 55.609375 28.21875 55.609375 21.1875 \nQ 55.609375 10.40625 48.1875 4.484375 \nQ 40.765625 -1.421875 27.09375 -1.421875 \nQ 22.515625 -1.421875 17.65625 -0.515625 \nQ 12.796875 0.390625 7.625 2.203125 \nL 7.625 11.71875 \nQ 11.71875 9.328125 16.59375 8.109375 \nQ 21.484375 6.890625 26.8125 6.890625 \nQ 36.078125 6.890625 40.9375 10.546875 \nQ 45.796875 14.203125 45.796875 21.1875 \nQ 45.796875 27.640625 41.28125 31.265625 \nQ 36.765625 34.90625 28.71875 34.90625 \nL 20.21875 34.90625 \nL 20.21875 43.015625 \nL 29.109375 43.015625 \nQ 36.375 43.015625 40.234375 45.921875 \nQ 44.09375 48.828125 44.09375 54.296875 \nQ 44.09375 59.90625 40.109375 62.90625 \nQ 36.140625 65.921875 28.71875 65.921875 \nQ 24.65625 65.921875 20.015625 65.03125 \nQ 15.375 64.15625 9.8125 62.3125 \nL 9.8125 71.09375 \nQ 15.4375 72.65625 20.34375 73.4375 \nQ 25.25 74.21875 29.59375 74.21875 \nQ 40.828125 74.21875 47.359375 69.109375 \nQ 53.90625 64.015625 53.90625 55.328125 \nQ 53.90625 49.265625 50.4375 45.09375 \nQ 46.96875 40.921875 40.578125 39.3125 \nz\n\" id=\"DejaVuSans-51\"/>\n       </defs>\n       <use xlink:href=\"#DejaVuSans-51\"/>\n       <use x=\"63.623047\" xlink:href=\"#DejaVuSans-48\"/>\n       <use x=\"127.246094\" xlink:href=\"#DejaVuSans-48\"/>\n       <use x=\"190.869141\" xlink:href=\"#DejaVuSans-48\"/>\n       <use x=\"254.492188\" xlink:href=\"#DejaVuSans-48\"/>\n      </g>\n     </g>\n    </g>\n    <g id=\"ytick_5\">\n     <g id=\"line2d_25\">\n      <path clip-path=\"url(#p69340954a4)\" d=\"M 46.0125 45.527224 \nL 380.8125 45.527224 \n\" style=\"fill:none;stroke:#b0b0b0;stroke-linecap:square;stroke-width:0.8;\"/>\n     </g>\n     <g id=\"line2d_26\">\n      <g>\n       <use style=\"stroke:#000000;stroke-width:0.8;\" x=\"46.0125\" xlink:href=\"#m4c9adaab6a\" y=\"45.527224\"/>\n      </g>\n     </g>\n     <g id=\"text_13\">\n      <!-- 40000 -->\n      <g transform=\"translate(7.2 49.326442)scale(0.1 -0.1)\">\n       <defs>\n        <path d=\"M 37.796875 64.3125 \nL 12.890625 25.390625 \nL 37.796875 25.390625 \nz\nM 35.203125 72.90625 \nL 47.609375 72.90625 \nL 47.609375 25.390625 \nL 58.015625 25.390625 \nL 58.015625 17.1875 \nL 47.609375 17.1875 \nL 47.609375 0 \nL 37.796875 0 \nL 37.796875 17.1875 \nL 4.890625 17.1875 \nL 4.890625 26.703125 \nz\n\" id=\"DejaVuSans-52\"/>\n       </defs>\n       <use xlink:href=\"#DejaVuSans-52\"/>\n       <use x=\"63.623047\" xlink:href=\"#DejaVuSans-48\"/>\n       <use x=\"127.246094\" xlink:href=\"#DejaVuSans-48\"/>\n       <use x=\"190.869141\" xlink:href=\"#DejaVuSans-48\"/>\n       <use x=\"254.492188\" xlink:href=\"#DejaVuSans-48\"/>\n      </g>\n     </g>\n    </g>\n   </g>\n   <g id=\"patch_13\">\n    <path d=\"M 46.0125 224.64 \nL 46.0125 7.2 \n\" style=\"fill:none;stroke:#000000;stroke-linecap:square;stroke-linejoin:miter;stroke-width:0.8;\"/>\n   </g>\n   <g id=\"patch_14\">\n    <path d=\"M 380.8125 224.64 \nL 380.8125 7.2 \n\" style=\"fill:none;stroke:#000000;stroke-linecap:square;stroke-linejoin:miter;stroke-width:0.8;\"/>\n   </g>\n   <g id=\"patch_15\">\n    <path d=\"M 46.0125 224.64 \nL 380.8125 224.64 \n\" style=\"fill:none;stroke:#000000;stroke-linecap:square;stroke-linejoin:miter;stroke-width:0.8;\"/>\n   </g>\n   <g id=\"patch_16\">\n    <path d=\"M 46.0125 7.2 \nL 380.8125 7.2 \n\" style=\"fill:none;stroke:#000000;stroke-linecap:square;stroke-linejoin:miter;stroke-width:0.8;\"/>\n   </g>\n  </g>\n </g>\n <defs>\n  <clipPath id=\"p69340954a4\">\n   <rect height=\"217.44\" width=\"334.8\" x=\"46.0125\" y=\"7.2\"/>\n  </clipPath>\n </defs>\n</svg>\n",
      "image/png": "[encoded data removed]"
     },
     "metadata": {
      "needs_background": "light"
     }
    }
   ],
   "source": [
    "aviris_points_ch4.hist(bins = 12)\n",
    "aviris_poly_ch4.hist(bins = 12)"
   ]
  },
  {
   "source": [
    "When we execute the final data merge before running our regression models, we'll want to select some of the other features' observations according to the year and month for which we have AVIRIS-derived CH$_4$ estimates. To do that, we need the year and month corresponding to each observation in the response. We make that happen here by finding the column of the median $CH_4$ mean observation and matching it to the original AVIRIS raster's name, which contains the flight date."
   ],
   "cell_type": "markdown",
   "metadata": {}
  },
  {
   "cell_type": "code",
   "execution_count": 339,
   "metadata": {},
   "outputs": [],
   "source": [
    "def get_median_index(d):\n",
    "    d = d.transpose()\n",
    "    ranks = d.rank(pct=True)\n",
    "    close_to_median = abs(ranks - 0.5)\n",
    "    med_idx = close_to_median.idxmin()\n",
    "    return med_idx"
   ]
  },
  {
   "cell_type": "code",
   "execution_count": 340,
   "metadata": {},
   "outputs": [],
   "source": [
    "# get indices of medians for points\n",
    "aviris_points_ch4_idx = pd.DataFrame({'aviris_col':get_median_index(aviris_points_mean)})\n",
    "aviris_points_ch4_idx['aviris_col'] = [str(i) for i in aviris_points_ch4_idx['aviris_col']]\n",
    "\n",
    "# get indices of medians for polygons\n",
    "aviris_poly_ch4_idx = pd.DataFrame({'aviris_col':get_median_index(aviris_poly_mean)})\n",
    "aviris_poly_ch4_idx['aviris_col'] = [str(i) for i in aviris_poly_ch4_idx['aviris_col']]"
   ]
  },
  {
   "cell_type": "code",
   "execution_count": 414,
   "metadata": {},
   "outputs": [],
   "source": [
    "# load the list of filenames from the AVIRIS directory\n",
    "flightpaths = pd.read_csv('Data/AVIRIS_Flightpath_Filenames.csv')\n",
    "flightdates = [fid[16:24] for fid in list(aviris_points_mean.columns)]\n",
    "datekey = pd.DataFrame({'aviris_col':aviris_points_mean.columns, 'date':flightdates})"
   ]
  },
  {
   "cell_type": "code",
   "execution_count": null,
   "metadata": {},
   "outputs": [],
   "source": [
    "aviris_points_ch4_dates = aviris_points_ch4_idx.merge(datekey, how = 'left', on = 'aviris_col')\n",
    "aviris_poly_ch4_dates = aviris_poly_ch4_idx.merge(datekey, how = 'left', on = 'aviris_col')"
   ]
  },
  {
   "cell_type": "code",
   "execution_count": 579,
   "metadata": {},
   "outputs": [],
   "source": [
    "aviris_points_ch4_pxcounts = aviris_points_count.mean(axis = 1, skipna = True)\n",
    "aviris_poly_ch4_pxcounts = aviris_points_count.mean(axis = 1, skipna = True)"
   ]
  },
  {
   "source": [
    "Next, we create a final response dataframe by specifying the columns we want to preserve from the steps above and then merging the points and polygons dataframes."
   ],
   "cell_type": "markdown",
   "metadata": {}
  },
  {
   "cell_type": "code",
   "execution_count": 387,
   "metadata": {},
   "outputs": [],
   "source": [
    "aviris_points_base = aviris.loc[:,['Latitude', 'Longitude', 'Vista_IPCC', 'Vista_Name', 'Vista_SType',\n",
    "       'Vista_ID', 'Vista_Date', 'State', 'City', 'Source', 'geometry']]\n",
    "aviris_points_base['AVIRIS_CH4_median_ppmm'] = aviris_points_ch4\n",
    "aviris_points_base['AVIRIS_CH4_median_date'] = aviris_points_ch4_dates['date']\n",
    "aviris_points_base['AVIRIS_CH4_pxcount'] = aviris_points_ch4_pxcounts"
   ]
  },
  {
   "cell_type": "code",
   "execution_count": 777,
   "metadata": {},
   "outputs": [
    {
     "output_type": "execute_result",
     "data": {
      "text/plain": [
       "     Latitude   Longitude                                         Vista_IPCC  \\\n",
       "17  37.861643 -120.939994  3A1 & 3A2 Enteric Fermentation and Manure Mana...   \n",
       "29  34.901523 -117.151102  3A1 & 3A2 Enteric Fermentation and Manure Mana...   \n",
       "54  35.903687 -119.317296  3A1 & 3A2 Enteric Fermentation and Manure Mana...   \n",
       "57  35.994762 -119.497973  3A1 & 3A2 Enteric Fermentation and Manure Mana...   \n",
       "61  36.181868 -119.560789  3A1 & 3A2 Enteric Fermentation and Manure Mana...   \n",
       "\n",
       "            Vista_Name Vista_SType   Vista_ID  Vista_Date State        City  \\\n",
       "17  Dairy Name Unknown       Dairy  DAF001852  2019-11-10    CA  FARMINGTON   \n",
       "29  Dairy Name Unknown       Dairy  DAF001876  2019-11-10    CA     HINKLEY   \n",
       "54  Dairy Name Unknown       Dairy  DAF001759  2019-11-10    CA   EARLIMART   \n",
       "57  Dairy Name Unknown       Dairy  DAF001767  2019-11-10    CA    CORCORAN   \n",
       "61  Dairy Name Unknown       Dairy  DAF001776  2019-11-10    CA     HANFORD   \n",
       "\n",
       "   Source                                           geometry  \\\n",
       "17  RAFIQ  MULTIPOLYGON (((-82488.739 -16790.579, -82489....   \n",
       "29  RAFIQ  MULTIPOLYGON (((260247.391 -342212.585, 260246...   \n",
       "54  RAFIQ  MULTIPOLYGON (((61647.033 -234595.348, 61646.1...   \n",
       "57  RAFIQ  MULTIPOLYGON (((45304.763 -224578.476, 45303.9...   \n",
       "61  RAFIQ  MULTIPOLYGON (((39551.942 -203816.734, 39551.1...   \n",
       "\n",
       "    AVIRIS_CH4_median_ppmm AVIRIS_CH4_median_date  AVIRIS_CH4_pxcount  \n",
       "17              152.003863               20160911          835.750000  \n",
       "29              111.881426               20160912         1670.000000  \n",
       "54              244.122330               20160912         3346.000000  \n",
       "57              112.788443               20160912         1114.666667  \n",
       "61              105.410700               20160912         1216.272727  "
      ],
      "text/html": "<div>\n<style scoped>\n    .dataframe tbody tr th:only-of-type {\n        vertical-align: middle;\n    }\n\n    .dataframe tbody tr th {\n        vertical-align: top;\n    }\n\n    .dataframe thead th {\n        text-align: right;\n    }\n</style>\n<table border=\"1\" class=\"dataframe\">\n  <thead>\n    <tr style=\"text-align: right;\">\n      <th></th>\n      <th>Latitude</th>\n      <th>Longitude</th>\n      <th>Vista_IPCC</th>\n      <th>Vista_Name</th>\n      <th>Vista_SType</th>\n      <th>Vista_ID</th>\n      <th>Vista_Date</th>\n      <th>State</th>\n      <th>City</th>\n      <th>Source</th>\n      <th>geometry</th>\n      <th>AVIRIS_CH4_median_ppmm</th>\n      <th>AVIRIS_CH4_median_date</th>\n      <th>AVIRIS_CH4_pxcount</th>\n    </tr>\n  </thead>\n  <tbody>\n    <tr>\n      <th>17</th>\n      <td>37.861643</td>\n      <td>-120.939994</td>\n      <td>3A1 &amp; 3A2 Enteric Fermentation and Manure Mana...</td>\n      <td>Dairy Name Unknown</td>\n      <td>Dairy</td>\n      <td>DAF001852</td>\n      <td>2019-11-10</td>\n      <td>CA</td>\n      <td>FARMINGTON</td>\n      <td>RAFIQ</td>\n      <td>MULTIPOLYGON (((-82488.739 -16790.579, -82489....</td>\n      <td>152.003863</td>\n      <td>20160911</td>\n      <td>835.750000</td>\n    </tr>\n    <tr>\n      <th>29</th>\n      <td>34.901523</td>\n      <td>-117.151102</td>\n      <td>3A1 &amp; 3A2 Enteric Fermentation and Manure Mana...</td>\n      <td>Dairy Name Unknown</td>\n      <td>Dairy</td>\n      <td>DAF001876</td>\n      <td>2019-11-10</td>\n      <td>CA</td>\n      <td>HINKLEY</td>\n      <td>RAFIQ</td>\n      <td>MULTIPOLYGON (((260247.391 -342212.585, 260246...</td>\n      <td>111.881426</td>\n      <td>20160912</td>\n      <td>1670.000000</td>\n    </tr>\n    <tr>\n      <th>54</th>\n      <td>35.903687</td>\n      <td>-119.317296</td>\n      <td>3A1 &amp; 3A2 Enteric Fermentation and Manure Mana...</td>\n      <td>Dairy Name Unknown</td>\n      <td>Dairy</td>\n      <td>DAF001759</td>\n      <td>2019-11-10</td>\n      <td>CA</td>\n      <td>EARLIMART</td>\n      <td>RAFIQ</td>\n      <td>MULTIPOLYGON (((61647.033 -234595.348, 61646.1...</td>\n      <td>244.122330</td>\n      <td>20160912</td>\n      <td>3346.000000</td>\n    </tr>\n    <tr>\n      <th>57</th>\n      <td>35.994762</td>\n      <td>-119.497973</td>\n      <td>3A1 &amp; 3A2 Enteric Fermentation and Manure Mana...</td>\n      <td>Dairy Name Unknown</td>\n      <td>Dairy</td>\n      <td>DAF001767</td>\n      <td>2019-11-10</td>\n      <td>CA</td>\n      <td>CORCORAN</td>\n      <td>RAFIQ</td>\n      <td>MULTIPOLYGON (((45304.763 -224578.476, 45303.9...</td>\n      <td>112.788443</td>\n      <td>20160912</td>\n      <td>1114.666667</td>\n    </tr>\n    <tr>\n      <th>61</th>\n      <td>36.181868</td>\n      <td>-119.560789</td>\n      <td>3A1 &amp; 3A2 Enteric Fermentation and Manure Mana...</td>\n      <td>Dairy Name Unknown</td>\n      <td>Dairy</td>\n      <td>DAF001776</td>\n      <td>2019-11-10</td>\n      <td>CA</td>\n      <td>HANFORD</td>\n      <td>RAFIQ</td>\n      <td>MULTIPOLYGON (((39551.942 -203816.734, 39551.1...</td>\n      <td>105.410700</td>\n      <td>20160912</td>\n      <td>1216.272727</td>\n    </tr>\n  </tbody>\n</table>\n</div>"
     },
     "metadata": {},
     "execution_count": 777
    }
   ],
   "source": [
    "aviris_base[aviris_base['AVIRIS_CH4_median_ppmm'].notna()].head(5)"
   ]
  },
  {
   "cell_type": "code",
   "execution_count": 613,
   "metadata": {},
   "outputs": [],
   "source": [
    "aviris_poly_base = aviris_poly.loc[:,['Latitude', 'Longitude', 'Vista_IPCC', 'Vista_Name', 'Vista_SType',\n",
    "       'Vista_ID', 'Vista_Date', 'State', 'City', 'Source', 'geometry']]\n",
    "aviris_poly_base['AVIRIS_CH4_median_ppmm'] = aviris_poly_ch4\n",
    "aviris_poly_base['AVIRIS_CH4_median_date'] = aviris_poly_ch4_dates['date']\n",
    "aviris_poly_base['AVIRIS_CH4_pxcount'] = aviris_poly_ch4_pxcounts"
   ]
  },
  {
   "cell_type": "code",
   "execution_count": 595,
   "metadata": {},
   "outputs": [
    {
     "output_type": "execute_result",
     "data": {
      "text/plain": [
       "    Latitude  Longitude                              Vista_IPCC  \\\n",
       "2        NaN        NaN  4B Biological Treatment of Solid Waste   \n",
       "23       NaN        NaN  4B Biological Treatment of Solid Waste   \n",
       "\n",
       "                          Vista_Name       Vista_SType   Vista_ID  Vista_Date  \\\n",
       "2   Acme Composting Compost Facility  Composting Sites  CMP000003  2019-08-20   \n",
       "23          Atlas Tree Service, Inc.  Composting Sites  CMP000024  2019-08-20   \n",
       "\n",
       "   State      City      Source  \\\n",
       "2     CA  Martinez  CalRecycle   \n",
       "23    CA   Concord  CalRecycle   \n",
       "\n",
       "                                             geometry  AVIRIS_CH4_median_ppmm  \\\n",
       "2   MULTIPOLYGON (((-187037.557 2247.982, -187020....              111.085646   \n",
       "23  MULTIPOLYGON (((-177591.083 2522.210, -177573....              316.934235   \n",
       "\n",
       "   AVIRIS_CH4_median_date  AVIRIS_CH4_pxcount  \n",
       "2                20160910         4206.333333  \n",
       "23               20160910         4208.000000  "
      ],
      "text/html": "<div>\n<style scoped>\n    .dataframe tbody tr th:only-of-type {\n        vertical-align: middle;\n    }\n\n    .dataframe tbody tr th {\n        vertical-align: top;\n    }\n\n    .dataframe thead th {\n        text-align: right;\n    }\n</style>\n<table border=\"1\" class=\"dataframe\">\n  <thead>\n    <tr style=\"text-align: right;\">\n      <th></th>\n      <th>Latitude</th>\n      <th>Longitude</th>\n      <th>Vista_IPCC</th>\n      <th>Vista_Name</th>\n      <th>Vista_SType</th>\n      <th>Vista_ID</th>\n      <th>Vista_Date</th>\n      <th>State</th>\n      <th>City</th>\n      <th>Source</th>\n      <th>geometry</th>\n      <th>AVIRIS_CH4_median_ppmm</th>\n      <th>AVIRIS_CH4_median_date</th>\n      <th>AVIRIS_CH4_pxcount</th>\n    </tr>\n  </thead>\n  <tbody>\n    <tr>\n      <th>2</th>\n      <td>NaN</td>\n      <td>NaN</td>\n      <td>4B Biological Treatment of Solid Waste</td>\n      <td>Acme Composting Compost Facility</td>\n      <td>Composting Sites</td>\n      <td>CMP000003</td>\n      <td>2019-08-20</td>\n      <td>CA</td>\n      <td>Martinez</td>\n      <td>CalRecycle</td>\n      <td>MULTIPOLYGON (((-187037.557 2247.982, -187020....</td>\n      <td>111.085646</td>\n      <td>20160910</td>\n      <td>4206.333333</td>\n    </tr>\n    <tr>\n      <th>23</th>\n      <td>NaN</td>\n      <td>NaN</td>\n      <td>4B Biological Treatment of Solid Waste</td>\n      <td>Atlas Tree Service, Inc.</td>\n      <td>Composting Sites</td>\n      <td>CMP000024</td>\n      <td>2019-08-20</td>\n      <td>CA</td>\n      <td>Concord</td>\n      <td>CalRecycle</td>\n      <td>MULTIPOLYGON (((-177591.083 2522.210, -177573....</td>\n      <td>316.934235</td>\n      <td>20160910</td>\n      <td>4208.000000</td>\n    </tr>\n  </tbody>\n</table>\n</div>"
     },
     "metadata": {},
     "execution_count": 595
    }
   ],
   "source": [
    "aviris_poly_base[aviris_poly_base['AVIRIS_CH4_median_ppmm'].notna()].head(5)"
   ]
  },
  {
   "cell_type": "code",
   "execution_count": 601,
   "metadata": {},
   "outputs": [],
   "source": [
    "assert aviris_points_base.columns.all() == aviris_poly_base.columns.all()"
   ]
  },
  {
   "cell_type": "code",
   "execution_count": 765,
   "metadata": {},
   "outputs": [],
   "source": [
    "aviris_ch4_all = pd.concat([aviris_base, aviris_poly_base], axis = 0, ignore_index = True)"
   ]
  },
  {
   "cell_type": "code",
   "execution_count": 946,
   "metadata": {},
   "outputs": [
    {
     "output_type": "execute_result",
     "data": {
      "text/plain": [
       "         Latitude   Longitude  \\\n",
       "17      37.861643 -120.939994   \n",
       "29      34.901523 -117.151102   \n",
       "54      35.903687 -119.317296   \n",
       "57      35.994762 -119.497973   \n",
       "61      36.181868 -119.560789   \n",
       "...           ...         ...   \n",
       "234449        NaN         NaN   \n",
       "234555        NaN         NaN   \n",
       "234558        NaN         NaN   \n",
       "234559        NaN         NaN   \n",
       "234565        NaN         NaN   \n",
       "\n",
       "                                               Vista_IPCC  \\\n",
       "17      3A1 & 3A2 Enteric Fermentation and Manure Mana...   \n",
       "29      3A1 & 3A2 Enteric Fermentation and Manure Mana...   \n",
       "54      3A1 & 3A2 Enteric Fermentation and Manure Mana...   \n",
       "57      3A1 & 3A2 Enteric Fermentation and Manure Mana...   \n",
       "61      3A1 & 3A2 Enteric Fermentation and Manure Mana...   \n",
       "...                                                   ...   \n",
       "234449  4D1 & 4D2 Domestic Wastewater Treatment and Di...   \n",
       "234555  4D1 & 4D2 Domestic Wastewater Treatment and Di...   \n",
       "234558  4D1 & 4D2 Domestic Wastewater Treatment and Di...   \n",
       "234559  4D1 & 4D2 Domestic Wastewater Treatment and Di...   \n",
       "234565  4D1 & 4D2 Domestic Wastewater Treatment and Di...   \n",
       "\n",
       "                          Vista_Name                 Vista_SType   Vista_ID  \\\n",
       "17                Dairy Name Unknown                       Dairy  DAF001852   \n",
       "29                Dairy Name Unknown                       Dairy  DAF001876   \n",
       "54                Dairy Name Unknown                       Dairy  DAF001759   \n",
       "57                Dairy Name Unknown                       Dairy  DAF001767   \n",
       "61                Dairy Name Unknown                       Dairy  DAF001776   \n",
       "...                              ...                         ...        ...   \n",
       "234449             Delta Diablo S.D.  Wastewater Treatment Plant  WWT000027   \n",
       "234555         ORANGE COUNTY S.D. #2  Wastewater Treatment Plant  WWT000087   \n",
       "234558            LACSD Valencia WRP  Wastewater Treatment Plant  WWT000060   \n",
       "234559              LACSD Joint WPCP  Wastewater Treatment Plant  WWT000059   \n",
       "234565  Los Angeles, Terminal Island  Wastewater Treatment Plant  WWT000069   \n",
       "\n",
       "        Vista_Date State              City Source  \\\n",
       "17      2019-11-10    CA        FARMINGTON  RAFIQ   \n",
       "29      2019-11-10    CA           HINKLEY  RAFIQ   \n",
       "54      2019-11-10    CA         EARLIMART  RAFIQ   \n",
       "57      2019-11-10    CA          CORCORAN  RAFIQ   \n",
       "61      2019-11-10    CA           HANFORD  RAFIQ   \n",
       "...            ...   ...               ...    ...   \n",
       "234449  2019-08-20    CA           Antioch   CARB   \n",
       "234555  2019-08-20    CA  Huntington Beach   CARB   \n",
       "234558  2019-08-20    CA          Valencia   CARB   \n",
       "234559  2019-08-20    CA            Carson   CARB   \n",
       "234565  2019-08-20    CA         San Pedro   CARB   \n",
       "\n",
       "                                                 geometry  \\\n",
       "17      MULTIPOLYGON (((-82488.739 -16790.579, -82489....   \n",
       "29      MULTIPOLYGON (((260247.391 -342212.585, 260246...   \n",
       "54      MULTIPOLYGON (((61647.033 -234595.348, 61646.1...   \n",
       "57      MULTIPOLYGON (((45304.763 -224578.476, 45303.9...   \n",
       "61      MULTIPOLYGON (((39551.942 -203816.734, 39551.1...   \n",
       "...                                                   ...   \n",
       "234449  MULTIPOLYGON (((-162518.517 1629.418, -162411....   \n",
       "234555  MULTIPOLYGON (((189558.884 -483604.172, 189625...   \n",
       "234558  MULTIPOLYGON (((129586.403 -397723.721, 129580...   \n",
       "234559  MULTIPOLYGON (((158451.241 -466745.518, 158445...   \n",
       "234565  MULTIPOLYGON (((160812.567 -472751.001, 160814...   \n",
       "\n",
       "        AVIRIS_CH4_median_ppmm AVIRIS_CH4_median_date  AVIRIS_CH4_pxcount  \\\n",
       "17                  152.003863               20160911          835.750000   \n",
       "29                  111.881426               20160912         1670.000000   \n",
       "54                  244.122330               20160912         3346.000000   \n",
       "57                  112.788443               20160912         1114.666667   \n",
       "61                  105.410700               20160912         1216.272727   \n",
       "...                        ...                    ...                 ...   \n",
       "234449              154.098369               20160910        81837.000000   \n",
       "234555              133.962115               20170902        76859.333333   \n",
       "234558              107.186755               20171013        18890.911765   \n",
       "234559              252.101421               20170902       107844.857143   \n",
       "234565              226.176912               20170902        39212.400000   \n",
       "\n",
       "        CH4_Mass_kg  \n",
       "17         0.000107  \n",
       "29         0.000079  \n",
       "54         0.000172  \n",
       "57         0.000080  \n",
       "61         0.000074  \n",
       "...             ...  \n",
       "234449     0.000109  \n",
       "234555     0.000095  \n",
       "234558     0.000076  \n",
       "234559     0.000178  \n",
       "234565     0.000160  \n",
       "\n",
       "[48260 rows x 15 columns]"
      ],
      "text/html": "<div>\n<style scoped>\n    .dataframe tbody tr th:only-of-type {\n        vertical-align: middle;\n    }\n\n    .dataframe tbody tr th {\n        vertical-align: top;\n    }\n\n    .dataframe thead th {\n        text-align: right;\n    }\n</style>\n<table border=\"1\" class=\"dataframe\">\n  <thead>\n    <tr style=\"text-align: right;\">\n      <th></th>\n      <th>Latitude</th>\n      <th>Longitude</th>\n      <th>Vista_IPCC</th>\n      <th>Vista_Name</th>\n      <th>Vista_SType</th>\n      <th>Vista_ID</th>\n      <th>Vista_Date</th>\n      <th>State</th>\n      <th>City</th>\n      <th>Source</th>\n      <th>geometry</th>\n      <th>AVIRIS_CH4_median_ppmm</th>\n      <th>AVIRIS_CH4_median_date</th>\n      <th>AVIRIS_CH4_pxcount</th>\n      <th>CH4_Mass_kg</th>\n    </tr>\n  </thead>\n  <tbody>\n    <tr>\n      <th>17</th>\n      <td>37.861643</td>\n      <td>-120.939994</td>\n      <td>3A1 &amp; 3A2 Enteric Fermentation and Manure Mana...</td>\n      <td>Dairy Name Unknown</td>\n      <td>Dairy</td>\n      <td>DAF001852</td>\n      <td>2019-11-10</td>\n      <td>CA</td>\n      <td>FARMINGTON</td>\n      <td>RAFIQ</td>\n      <td>MULTIPOLYGON (((-82488.739 -16790.579, -82489....</td>\n      <td>152.003863</td>\n      <td>20160911</td>\n      <td>835.750000</td>\n      <td>0.000107</td>\n    </tr>\n    <tr>\n      <th>29</th>\n      <td>34.901523</td>\n      <td>-117.151102</td>\n      <td>3A1 &amp; 3A2 Enteric Fermentation and Manure Mana...</td>\n      <td>Dairy Name Unknown</td>\n      <td>Dairy</td>\n      <td>DAF001876</td>\n      <td>2019-11-10</td>\n      <td>CA</td>\n      <td>HINKLEY</td>\n      <td>RAFIQ</td>\n      <td>MULTIPOLYGON (((260247.391 -342212.585, 260246...</td>\n      <td>111.881426</td>\n      <td>20160912</td>\n      <td>1670.000000</td>\n      <td>0.000079</td>\n    </tr>\n    <tr>\n      <th>54</th>\n      <td>35.903687</td>\n      <td>-119.317296</td>\n      <td>3A1 &amp; 3A2 Enteric Fermentation and Manure Mana...</td>\n      <td>Dairy Name Unknown</td>\n      <td>Dairy</td>\n      <td>DAF001759</td>\n      <td>2019-11-10</td>\n      <td>CA</td>\n      <td>EARLIMART</td>\n      <td>RAFIQ</td>\n      <td>MULTIPOLYGON (((61647.033 -234595.348, 61646.1...</td>\n      <td>244.122330</td>\n      <td>20160912</td>\n      <td>3346.000000</td>\n      <td>0.000172</td>\n    </tr>\n    <tr>\n      <th>57</th>\n      <td>35.994762</td>\n      <td>-119.497973</td>\n      <td>3A1 &amp; 3A2 Enteric Fermentation and Manure Mana...</td>\n      <td>Dairy Name Unknown</td>\n      <td>Dairy</td>\n      <td>DAF001767</td>\n      <td>2019-11-10</td>\n      <td>CA</td>\n      <td>CORCORAN</td>\n      <td>RAFIQ</td>\n      <td>MULTIPOLYGON (((45304.763 -224578.476, 45303.9...</td>\n      <td>112.788443</td>\n      <td>20160912</td>\n      <td>1114.666667</td>\n      <td>0.000080</td>\n    </tr>\n    <tr>\n      <th>61</th>\n      <td>36.181868</td>\n      <td>-119.560789</td>\n      <td>3A1 &amp; 3A2 Enteric Fermentation and Manure Mana...</td>\n      <td>Dairy Name Unknown</td>\n      <td>Dairy</td>\n      <td>DAF001776</td>\n      <td>2019-11-10</td>\n      <td>CA</td>\n      <td>HANFORD</td>\n      <td>RAFIQ</td>\n      <td>MULTIPOLYGON (((39551.942 -203816.734, 39551.1...</td>\n      <td>105.410700</td>\n      <td>20160912</td>\n      <td>1216.272727</td>\n      <td>0.000074</td>\n    </tr>\n    <tr>\n      <th>...</th>\n      <td>...</td>\n      <td>...</td>\n      <td>...</td>\n      <td>...</td>\n      <td>...</td>\n      <td>...</td>\n      <td>...</td>\n      <td>...</td>\n      <td>...</td>\n      <td>...</td>\n      <td>...</td>\n      <td>...</td>\n      <td>...</td>\n      <td>...</td>\n      <td>...</td>\n    </tr>\n    <tr>\n      <th>234449</th>\n      <td>NaN</td>\n      <td>NaN</td>\n      <td>4D1 &amp; 4D2 Domestic Wastewater Treatment and Di...</td>\n      <td>Delta Diablo S.D.</td>\n      <td>Wastewater Treatment Plant</td>\n      <td>WWT000027</td>\n      <td>2019-08-20</td>\n      <td>CA</td>\n      <td>Antioch</td>\n      <td>CARB</td>\n      <td>MULTIPOLYGON (((-162518.517 1629.418, -162411....</td>\n      <td>154.098369</td>\n      <td>20160910</td>\n      <td>81837.000000</td>\n      <td>0.000109</td>\n    </tr>\n    <tr>\n      <th>234555</th>\n      <td>NaN</td>\n      <td>NaN</td>\n      <td>4D1 &amp; 4D2 Domestic Wastewater Treatment and Di...</td>\n      <td>ORANGE COUNTY S.D. #2</td>\n      <td>Wastewater Treatment Plant</td>\n      <td>WWT000087</td>\n      <td>2019-08-20</td>\n      <td>CA</td>\n      <td>Huntington Beach</td>\n      <td>CARB</td>\n      <td>MULTIPOLYGON (((189558.884 -483604.172, 189625...</td>\n      <td>133.962115</td>\n      <td>20170902</td>\n      <td>76859.333333</td>\n      <td>0.000095</td>\n    </tr>\n    <tr>\n      <th>234558</th>\n      <td>NaN</td>\n      <td>NaN</td>\n      <td>4D1 &amp; 4D2 Domestic Wastewater Treatment and Di...</td>\n      <td>LACSD Valencia WRP</td>\n      <td>Wastewater Treatment Plant</td>\n      <td>WWT000060</td>\n      <td>2019-08-20</td>\n      <td>CA</td>\n      <td>Valencia</td>\n      <td>CARB</td>\n      <td>MULTIPOLYGON (((129586.403 -397723.721, 129580...</td>\n      <td>107.186755</td>\n      <td>20171013</td>\n      <td>18890.911765</td>\n      <td>0.000076</td>\n    </tr>\n    <tr>\n      <th>234559</th>\n      <td>NaN</td>\n      <td>NaN</td>\n      <td>4D1 &amp; 4D2 Domestic Wastewater Treatment and Di...</td>\n      <td>LACSD Joint WPCP</td>\n      <td>Wastewater Treatment Plant</td>\n      <td>WWT000059</td>\n      <td>2019-08-20</td>\n      <td>CA</td>\n      <td>Carson</td>\n      <td>CARB</td>\n      <td>MULTIPOLYGON (((158451.241 -466745.518, 158445...</td>\n      <td>252.101421</td>\n      <td>20170902</td>\n      <td>107844.857143</td>\n      <td>0.000178</td>\n    </tr>\n    <tr>\n      <th>234565</th>\n      <td>NaN</td>\n      <td>NaN</td>\n      <td>4D1 &amp; 4D2 Domestic Wastewater Treatment and Di...</td>\n      <td>Los Angeles, Terminal Island</td>\n      <td>Wastewater Treatment Plant</td>\n      <td>WWT000069</td>\n      <td>2019-08-20</td>\n      <td>CA</td>\n      <td>San Pedro</td>\n      <td>CARB</td>\n      <td>MULTIPOLYGON (((160812.567 -472751.001, 160814...</td>\n      <td>226.176912</td>\n      <td>20170902</td>\n      <td>39212.400000</td>\n      <td>0.000160</td>\n    </tr>\n  </tbody>\n</table>\n<p>48260 rows × 15 columns</p>\n</div>"
     },
     "metadata": {},
     "execution_count": 946
    }
   ],
   "source": [
    "aviris_ch4_all[aviris_ch4_all['AVIRIS_CH4_median_date'].notna()].head(5)"
   ]
  },
  {
   "cell_type": "code",
   "execution_count": 767,
   "metadata": {},
   "outputs": [
    {
     "output_type": "execute_result",
     "data": {
      "text/plain": [
       "         Latitude   Longitude  \\\n",
       "17      37.861643 -120.939994   \n",
       "29      34.901523 -117.151102   \n",
       "54      35.903687 -119.317296   \n",
       "57      35.994762 -119.497973   \n",
       "61      36.181868 -119.560789   \n",
       "...           ...         ...   \n",
       "234449        NaN         NaN   \n",
       "234555        NaN         NaN   \n",
       "234558        NaN         NaN   \n",
       "234559        NaN         NaN   \n",
       "234565        NaN         NaN   \n",
       "\n",
       "                                               Vista_IPCC  \\\n",
       "17      3A1 & 3A2 Enteric Fermentation and Manure Mana...   \n",
       "29      3A1 & 3A2 Enteric Fermentation and Manure Mana...   \n",
       "54      3A1 & 3A2 Enteric Fermentation and Manure Mana...   \n",
       "57      3A1 & 3A2 Enteric Fermentation and Manure Mana...   \n",
       "61      3A1 & 3A2 Enteric Fermentation and Manure Mana...   \n",
       "...                                                   ...   \n",
       "234449  4D1 & 4D2 Domestic Wastewater Treatment and Di...   \n",
       "234555  4D1 & 4D2 Domestic Wastewater Treatment and Di...   \n",
       "234558  4D1 & 4D2 Domestic Wastewater Treatment and Di...   \n",
       "234559  4D1 & 4D2 Domestic Wastewater Treatment and Di...   \n",
       "234565  4D1 & 4D2 Domestic Wastewater Treatment and Di...   \n",
       "\n",
       "                          Vista_Name                 Vista_SType   Vista_ID  \\\n",
       "17                Dairy Name Unknown                       Dairy  DAF001852   \n",
       "29                Dairy Name Unknown                       Dairy  DAF001876   \n",
       "54                Dairy Name Unknown                       Dairy  DAF001759   \n",
       "57                Dairy Name Unknown                       Dairy  DAF001767   \n",
       "61                Dairy Name Unknown                       Dairy  DAF001776   \n",
       "...                              ...                         ...        ...   \n",
       "234449             Delta Diablo S.D.  Wastewater Treatment Plant  WWT000027   \n",
       "234555         ORANGE COUNTY S.D. #2  Wastewater Treatment Plant  WWT000087   \n",
       "234558            LACSD Valencia WRP  Wastewater Treatment Plant  WWT000060   \n",
       "234559              LACSD Joint WPCP  Wastewater Treatment Plant  WWT000059   \n",
       "234565  Los Angeles, Terminal Island  Wastewater Treatment Plant  WWT000069   \n",
       "\n",
       "        Vista_Date State              City Source  \\\n",
       "17      2019-11-10    CA        FARMINGTON  RAFIQ   \n",
       "29      2019-11-10    CA           HINKLEY  RAFIQ   \n",
       "54      2019-11-10    CA         EARLIMART  RAFIQ   \n",
       "57      2019-11-10    CA          CORCORAN  RAFIQ   \n",
       "61      2019-11-10    CA           HANFORD  RAFIQ   \n",
       "...            ...   ...               ...    ...   \n",
       "234449  2019-08-20    CA           Antioch   CARB   \n",
       "234555  2019-08-20    CA  Huntington Beach   CARB   \n",
       "234558  2019-08-20    CA          Valencia   CARB   \n",
       "234559  2019-08-20    CA            Carson   CARB   \n",
       "234565  2019-08-20    CA         San Pedro   CARB   \n",
       "\n",
       "                                                 geometry  \\\n",
       "17      MULTIPOLYGON (((-82488.739 -16790.579, -82489....   \n",
       "29      MULTIPOLYGON (((260247.391 -342212.585, 260246...   \n",
       "54      MULTIPOLYGON (((61647.033 -234595.348, 61646.1...   \n",
       "57      MULTIPOLYGON (((45304.763 -224578.476, 45303.9...   \n",
       "61      MULTIPOLYGON (((39551.942 -203816.734, 39551.1...   \n",
       "...                                                   ...   \n",
       "234449  MULTIPOLYGON (((-162518.517 1629.418, -162411....   \n",
       "234555  MULTIPOLYGON (((189558.884 -483604.172, 189625...   \n",
       "234558  MULTIPOLYGON (((129586.403 -397723.721, 129580...   \n",
       "234559  MULTIPOLYGON (((158451.241 -466745.518, 158445...   \n",
       "234565  MULTIPOLYGON (((160812.567 -472751.001, 160814...   \n",
       "\n",
       "        AVIRIS_CH4_median_ppmm AVIRIS_CH4_median_date  AVIRIS_CH4_pxcount  \n",
       "17                  152.003863               20160911          835.750000  \n",
       "29                  111.881426               20160912         1670.000000  \n",
       "54                  244.122330               20160912         3346.000000  \n",
       "57                  112.788443               20160912         1114.666667  \n",
       "61                  105.410700               20160912         1216.272727  \n",
       "...                        ...                    ...                 ...  \n",
       "234449              154.098369               20160910        81837.000000  \n",
       "234555              133.962115               20170902        76859.333333  \n",
       "234558              107.186755               20171013        18890.911765  \n",
       "234559              252.101421               20170902       107844.857143  \n",
       "234565              226.176912               20170902        39212.400000  \n",
       "\n",
       "[48291 rows x 14 columns]"
      ],
      "text/html": "<div>\n<style scoped>\n    .dataframe tbody tr th:only-of-type {\n        vertical-align: middle;\n    }\n\n    .dataframe tbody tr th {\n        vertical-align: top;\n    }\n\n    .dataframe thead th {\n        text-align: right;\n    }\n</style>\n<table border=\"1\" class=\"dataframe\">\n  <thead>\n    <tr style=\"text-align: right;\">\n      <th></th>\n      <th>Latitude</th>\n      <th>Longitude</th>\n      <th>Vista_IPCC</th>\n      <th>Vista_Name</th>\n      <th>Vista_SType</th>\n      <th>Vista_ID</th>\n      <th>Vista_Date</th>\n      <th>State</th>\n      <th>City</th>\n      <th>Source</th>\n      <th>geometry</th>\n      <th>AVIRIS_CH4_median_ppmm</th>\n      <th>AVIRIS_CH4_median_date</th>\n      <th>AVIRIS_CH4_pxcount</th>\n    </tr>\n  </thead>\n  <tbody>\n    <tr>\n      <th>17</th>\n      <td>37.861643</td>\n      <td>-120.939994</td>\n      <td>3A1 &amp; 3A2 Enteric Fermentation and Manure Mana...</td>\n      <td>Dairy Name Unknown</td>\n      <td>Dairy</td>\n      <td>DAF001852</td>\n      <td>2019-11-10</td>\n      <td>CA</td>\n      <td>FARMINGTON</td>\n      <td>RAFIQ</td>\n      <td>MULTIPOLYGON (((-82488.739 -16790.579, -82489....</td>\n      <td>152.003863</td>\n      <td>20160911</td>\n      <td>835.750000</td>\n    </tr>\n    <tr>\n      <th>29</th>\n      <td>34.901523</td>\n      <td>-117.151102</td>\n      <td>3A1 &amp; 3A2 Enteric Fermentation and Manure Mana...</td>\n      <td>Dairy Name Unknown</td>\n      <td>Dairy</td>\n      <td>DAF001876</td>\n      <td>2019-11-10</td>\n      <td>CA</td>\n      <td>HINKLEY</td>\n      <td>RAFIQ</td>\n      <td>MULTIPOLYGON (((260247.391 -342212.585, 260246...</td>\n      <td>111.881426</td>\n      <td>20160912</td>\n      <td>1670.000000</td>\n    </tr>\n    <tr>\n      <th>54</th>\n      <td>35.903687</td>\n      <td>-119.317296</td>\n      <td>3A1 &amp; 3A2 Enteric Fermentation and Manure Mana...</td>\n      <td>Dairy Name Unknown</td>\n      <td>Dairy</td>\n      <td>DAF001759</td>\n      <td>2019-11-10</td>\n      <td>CA</td>\n      <td>EARLIMART</td>\n      <td>RAFIQ</td>\n      <td>MULTIPOLYGON (((61647.033 -234595.348, 61646.1...</td>\n      <td>244.122330</td>\n      <td>20160912</td>\n      <td>3346.000000</td>\n    </tr>\n    <tr>\n      <th>57</th>\n      <td>35.994762</td>\n      <td>-119.497973</td>\n      <td>3A1 &amp; 3A2 Enteric Fermentation and Manure Mana...</td>\n      <td>Dairy Name Unknown</td>\n      <td>Dairy</td>\n      <td>DAF001767</td>\n      <td>2019-11-10</td>\n      <td>CA</td>\n      <td>CORCORAN</td>\n      <td>RAFIQ</td>\n      <td>MULTIPOLYGON (((45304.763 -224578.476, 45303.9...</td>\n      <td>112.788443</td>\n      <td>20160912</td>\n      <td>1114.666667</td>\n    </tr>\n    <tr>\n      <th>61</th>\n      <td>36.181868</td>\n      <td>-119.560789</td>\n      <td>3A1 &amp; 3A2 Enteric Fermentation and Manure Mana...</td>\n      <td>Dairy Name Unknown</td>\n      <td>Dairy</td>\n      <td>DAF001776</td>\n      <td>2019-11-10</td>\n      <td>CA</td>\n      <td>HANFORD</td>\n      <td>RAFIQ</td>\n      <td>MULTIPOLYGON (((39551.942 -203816.734, 39551.1...</td>\n      <td>105.410700</td>\n      <td>20160912</td>\n      <td>1216.272727</td>\n    </tr>\n    <tr>\n      <th>...</th>\n      <td>...</td>\n      <td>...</td>\n      <td>...</td>\n      <td>...</td>\n      <td>...</td>\n      <td>...</td>\n      <td>...</td>\n      <td>...</td>\n      <td>...</td>\n      <td>...</td>\n      <td>...</td>\n      <td>...</td>\n      <td>...</td>\n      <td>...</td>\n    </tr>\n    <tr>\n      <th>234449</th>\n      <td>NaN</td>\n      <td>NaN</td>\n      <td>4D1 &amp; 4D2 Domestic Wastewater Treatment and Di...</td>\n      <td>Delta Diablo S.D.</td>\n      <td>Wastewater Treatment Plant</td>\n      <td>WWT000027</td>\n      <td>2019-08-20</td>\n      <td>CA</td>\n      <td>Antioch</td>\n      <td>CARB</td>\n      <td>MULTIPOLYGON (((-162518.517 1629.418, -162411....</td>\n      <td>154.098369</td>\n      <td>20160910</td>\n      <td>81837.000000</td>\n    </tr>\n    <tr>\n      <th>234555</th>\n      <td>NaN</td>\n      <td>NaN</td>\n      <td>4D1 &amp; 4D2 Domestic Wastewater Treatment and Di...</td>\n      <td>ORANGE COUNTY S.D. #2</td>\n      <td>Wastewater Treatment Plant</td>\n      <td>WWT000087</td>\n      <td>2019-08-20</td>\n      <td>CA</td>\n      <td>Huntington Beach</td>\n      <td>CARB</td>\n      <td>MULTIPOLYGON (((189558.884 -483604.172, 189625...</td>\n      <td>133.962115</td>\n      <td>20170902</td>\n      <td>76859.333333</td>\n    </tr>\n    <tr>\n      <th>234558</th>\n      <td>NaN</td>\n      <td>NaN</td>\n      <td>4D1 &amp; 4D2 Domestic Wastewater Treatment and Di...</td>\n      <td>LACSD Valencia WRP</td>\n      <td>Wastewater Treatment Plant</td>\n      <td>WWT000060</td>\n      <td>2019-08-20</td>\n      <td>CA</td>\n      <td>Valencia</td>\n      <td>CARB</td>\n      <td>MULTIPOLYGON (((129586.403 -397723.721, 129580...</td>\n      <td>107.186755</td>\n      <td>20171013</td>\n      <td>18890.911765</td>\n    </tr>\n    <tr>\n      <th>234559</th>\n      <td>NaN</td>\n      <td>NaN</td>\n      <td>4D1 &amp; 4D2 Domestic Wastewater Treatment and Di...</td>\n      <td>LACSD Joint WPCP</td>\n      <td>Wastewater Treatment Plant</td>\n      <td>WWT000059</td>\n      <td>2019-08-20</td>\n      <td>CA</td>\n      <td>Carson</td>\n      <td>CARB</td>\n      <td>MULTIPOLYGON (((158451.241 -466745.518, 158445...</td>\n      <td>252.101421</td>\n      <td>20170902</td>\n      <td>107844.857143</td>\n    </tr>\n    <tr>\n      <th>234565</th>\n      <td>NaN</td>\n      <td>NaN</td>\n      <td>4D1 &amp; 4D2 Domestic Wastewater Treatment and Di...</td>\n      <td>Los Angeles, Terminal Island</td>\n      <td>Wastewater Treatment Plant</td>\n      <td>WWT000069</td>\n      <td>2019-08-20</td>\n      <td>CA</td>\n      <td>San Pedro</td>\n      <td>CARB</td>\n      <td>MULTIPOLYGON (((160812.567 -472751.001, 160814...</td>\n      <td>226.176912</td>\n      <td>20170902</td>\n      <td>39212.400000</td>\n    </tr>\n  </tbody>\n</table>\n<p>48291 rows × 14 columns</p>\n</div>"
     },
     "metadata": {},
     "execution_count": 767
    }
   ],
   "source": [
    "aviris_ch4_all[aviris_ch4_all['AVIRIS_CH4_median_ppmm'].notna()].head(5)"
   ]
  },
  {
   "source": [
    "#### Step 5. \n",
    "Finally, we calculate an estimate of emitted CH$_4$ mass in the column above each point using the formula\n",
    "$$IME = k \\sum_{i=0}^{p}(a_i)(S_i)$$ \n",
    "where:\n",
    "* $a_i$ = zonal mean CH$_4$ enhancement (ppm m),\n",
    "* $S_i$ = area used to compute IME ($n$ pixels x 9m$^2$ pixel area [m$^2$])\n",
    "* $k$ = a unit conversion to CH$_4$ mass (kg)"
   ],
   "cell_type": "markdown",
   "metadata": {}
  },
  {
   "cell_type": "code",
   "execution_count": null,
   "metadata": {},
   "outputs": [],
   "source": [
    "# calculate area\n",
    "count = aviris_ch4_all['AVIRIS_CH4_pxcount']\n",
    "area = count * 9 # m2\n",
    "\n",
    "# calculate k\n",
    "m = 16.04 # g CH4/mol\n",
    "a = 22.71108 # L/mol of gas, assuming STP\n",
    "vL = 1000 #L/m3\n",
    "gkg = 1e-3\n",
    "k = m * 1/a * 1/vc * gkg\n",
    "\n",
    "# define IEM as median CH4 enhancement (ppm m)\n",
    "iem = aviris_ch4_all['AVIRIS_CH4_median_ppmm']\n",
    "\n",
    "# caculate mass\n",
    "mass = iem * area * k"
   ]
  },
  {
   "source": [
    "We added the mass estimate as a new column to the `aviris_ch4_all` geodataframe. This will later become our response variable. We exported the final dataframe as a geojson for subsequent merging with features."
   ],
   "cell_type": "markdown",
   "metadata": {}
  },
  {
   "cell_type": "code",
   "execution_count": 943,
   "metadata": {},
   "outputs": [],
   "source": [
    "aviris_ch4_all['CH4_Mass_kg'] = mass"
   ]
  },
  {
   "cell_type": "code",
   "execution_count": 945,
   "metadata": {},
   "outputs": [],
   "source": [
    "# aviris_ch4_all.to_file(os.sep.join([outdir, 'AVIRIS_CH4.geojson']), driver = 'GeoJSON')"
   ]
  }
 ]
}