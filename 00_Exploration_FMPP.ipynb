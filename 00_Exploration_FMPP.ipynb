{
 "cells": [
  {
   "cell_type": "markdown",
   "metadata": {},
   "source": [
    "# Exploratory Data Analysis: 2018 FMMP shape files\n",
    "Fall 2020\n",
    "\n",
    "Julia Longmate, Hikari Murayama, Michelle Sims, Marshall Worsham"
   ]
  },
  {
   "cell_type": "code",
   "execution_count": 2,
   "metadata": {},
   "outputs": [],
   "source": [
    "import pandas as pd\n",
    "import geopandas as gpd"
   ]
  },
  {
   "cell_type": "markdown",
   "metadata": {},
   "source": [
    "## About the Data\n",
    "*Retrieval Link*: [Link](https://gis.conservation.ca.gov/portal/home/item.html?id=16e43ece55474ca4a4f705ab4f64cb98)\n",
    "\n",
    "*Meta Data Link*: [Link](https://gis.conservation.ca.gov/portal/sharing/rest/content/items/16e43ece55474ca4a4f705ab4f64cb98/info/metadata/metadata.xml?format=default&output=html)\n",
    "\n",
    "*Description*: This 2018 looks at the California's agricultural land resources. It mixes years based on what's available. FMPP stands for \"Farmland Mapping and Monitoring Program\".\n",
    "\n",
    "## Brief Description"
   ]
  },
  {
   "cell_type": "code",
   "execution_count": 3,
   "metadata": {},
   "outputs": [],
   "source": [
    "shapefile = gpd.read_file('zip://data/2018_in_progress_FMMP_shape_files.zip')"
   ]
  },
  {
   "cell_type": "code",
   "execution_count": 4,
   "metadata": {},
   "outputs": [
    {
     "data": {
      "text/html": [
       "<div>\n",
       "<style scoped>\n",
       "    .dataframe tbody tr th:only-of-type {\n",
       "        vertical-align: middle;\n",
       "    }\n",
       "\n",
       "    .dataframe tbody tr th {\n",
       "        vertical-align: top;\n",
       "    }\n",
       "\n",
       "    .dataframe thead th {\n",
       "        text-align: right;\n",
       "    }\n",
       "</style>\n",
       "<table border=\"1\" class=\"dataframe\">\n",
       "  <thead>\n",
       "    <tr style=\"text-align: right;\">\n",
       "      <th></th>\n",
       "      <th>upd_year</th>\n",
       "      <th>county_nam</th>\n",
       "      <th>polygon_ac</th>\n",
       "      <th>Shape_Leng</th>\n",
       "      <th>Shape_Area</th>\n",
       "      <th>polygon_ty</th>\n",
       "      <th>geometry</th>\n",
       "    </tr>\n",
       "  </thead>\n",
       "  <tbody>\n",
       "    <tr>\n",
       "      <th>0</th>\n",
       "      <td>2018.0</td>\n",
       "      <td>fre</td>\n",
       "      <td>1.408911e+06</td>\n",
       "      <td>414253.853348</td>\n",
       "      <td>5.701660e+09</td>\n",
       "      <td>Z</td>\n",
       "      <td>POLYGON ((90663.062 -148169.667, 90663.056 -14...</td>\n",
       "    </tr>\n",
       "    <tr>\n",
       "      <th>1</th>\n",
       "      <td>2018.0</td>\n",
       "      <td>fre</td>\n",
       "      <td>1.742356e+02</td>\n",
       "      <td>4095.306909</td>\n",
       "      <td>7.051065e+05</td>\n",
       "      <td>Cl</td>\n",
       "      <td>POLYGON ((-31059.792 -199224.246, -31061.748 -...</td>\n",
       "    </tr>\n",
       "    <tr>\n",
       "      <th>2</th>\n",
       "      <td>2018.0</td>\n",
       "      <td>fre</td>\n",
       "      <td>5.291792e+02</td>\n",
       "      <td>6302.934162</td>\n",
       "      <td>2.141512e+06</td>\n",
       "      <td>Cl</td>\n",
       "      <td>POLYGON ((-23799.307 -189557.176, -23799.309 -...</td>\n",
       "    </tr>\n",
       "    <tr>\n",
       "      <th>3</th>\n",
       "      <td>2018.0</td>\n",
       "      <td>fre</td>\n",
       "      <td>1.802219e+02</td>\n",
       "      <td>4804.682091</td>\n",
       "      <td>7.293320e+05</td>\n",
       "      <td>Cl</td>\n",
       "      <td>POLYGON ((-13135.532 -179438.149, -13136.793 -...</td>\n",
       "    </tr>\n",
       "    <tr>\n",
       "      <th>4</th>\n",
       "      <td>2018.0</td>\n",
       "      <td>fre</td>\n",
       "      <td>2.573413e+01</td>\n",
       "      <td>1640.695924</td>\n",
       "      <td>1.041423e+05</td>\n",
       "      <td>Cl</td>\n",
       "      <td>POLYGON ((15464.846 -179376.638, 15464.500 -17...</td>\n",
       "    </tr>\n",
       "  </tbody>\n",
       "</table>\n",
       "</div>"
      ],
      "text/plain": [
       "   upd_year county_nam    polygon_ac     Shape_Leng    Shape_Area polygon_ty  \\\n",
       "0    2018.0        fre  1.408911e+06  414253.853348  5.701660e+09          Z   \n",
       "1    2018.0        fre  1.742356e+02    4095.306909  7.051065e+05         Cl   \n",
       "2    2018.0        fre  5.291792e+02    6302.934162  2.141512e+06         Cl   \n",
       "3    2018.0        fre  1.802219e+02    4804.682091  7.293320e+05         Cl   \n",
       "4    2018.0        fre  2.573413e+01    1640.695924  1.041423e+05         Cl   \n",
       "\n",
       "                                            geometry  \n",
       "0  POLYGON ((90663.062 -148169.667, 90663.056 -14...  \n",
       "1  POLYGON ((-31059.792 -199224.246, -31061.748 -...  \n",
       "2  POLYGON ((-23799.307 -189557.176, -23799.309 -...  \n",
       "3  POLYGON ((-13135.532 -179438.149, -13136.793 -...  \n",
       "4  POLYGON ((15464.846 -179376.638, 15464.500 -17...  "
      ]
     },
     "execution_count": 4,
     "metadata": {},
     "output_type": "execute_result"
    }
   ],
   "source": [
    "shapefile.head()"
   ]
  },
  {
   "cell_type": "code",
   "execution_count": 5,
   "metadata": {},
   "outputs": [
    {
     "data": {
      "text/plain": [
       "array(['Z', 'Cl', 'D', 'G', 'L', 'nv', 'P', 'R', 'S', 'sAC', 'U', 'V',\n",
       "       'W'], dtype=object)"
      ]
     },
     "execution_count": 5,
     "metadata": {},
     "output_type": "execute_result"
    }
   ],
   "source": [
    "shapefile.polygon_ty.unique()"
   ]
  },
  {
   "cell_type": "markdown",
   "metadata": {},
   "source": [
    "From the meta data documentation the classes are the following:\n",
    "- `Z` -  ?\n",
    "- `Cl` -  Confined Animal Agriculture \n",
    "- `D` -  Urban and Built-Up Land \n",
    "- `G` -  Grazing Land\n",
    "- `L` -  Farmland of Local Importance\n",
    "- `nv` -  Nonagricultural and Natural Vegetation\n",
    "- `P` -  Prime Farmland\n",
    "- `R` -  Rural Residential Land\n",
    "- `S` -  Farmland of Statewide Importance\n",
    "- `sAC` -  Semi-Agricultural and Rural Commercial Land\n",
    "- `U` -  Unique Farmland\n",
    "- `V` - Vacant or Disturbed Land\n",
    "- `W` - Water"
   ]
  },
  {
   "cell_type": "code",
   "execution_count": 10,
   "metadata": {},
   "outputs": [
    {
     "data": {
      "text/plain": [
       "U      2714\n",
       "S      2247\n",
       "P      1512\n",
       "L      1128\n",
       "R       869\n",
       "sAC     488\n",
       "D       447\n",
       "V       320\n",
       "Cl      187\n",
       "nv      139\n",
       "G        23\n",
       "W         8\n",
       "Z         1\n",
       "Name: polygon_ty, dtype: int64"
      ]
     },
     "execution_count": 10,
     "metadata": {},
     "output_type": "execute_result"
    }
   ],
   "source": [
    "shapefile.polygon_ty.value_counts()"
   ]
  },
  {
   "cell_type": "markdown",
   "metadata": {},
   "source": [
    "It seems like unique farmland is most common, followed by statewide important farmland. We need to look into how these farm classes differ."
   ]
  }
 ],
 "metadata": {
  "kernelspec": {
   "display_name": "Python 3",
   "language": "python",
   "name": "python3"
  },
  "language_info": {
   "codemirror_mode": {
    "name": "ipython",
    "version": 3
   },
   "file_extension": ".py",
   "mimetype": "text/x-python",
   "name": "python",
   "nbconvert_exporter": "python",
   "pygments_lexer": "ipython3",
   "version": "3.8.3"
  }
 },
 "nbformat": 4,
 "nbformat_minor": 4
}
