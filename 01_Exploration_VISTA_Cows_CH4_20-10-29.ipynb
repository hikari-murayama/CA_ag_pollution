{
 "metadata": {
  "language_info": {
   "codemirror_mode": {
    "name": "ipython",
    "version": 3
   },
   "file_extension": ".py",
   "mimetype": "text/x-python",
   "name": "python",
   "nbconvert_exporter": "python",
   "pygments_lexer": "ipython3",
   "version": "3.8.2-final"
  },
  "orig_nbformat": 2,
  "kernelspec": {
   "name": "python3",
   "display_name": "Python 3"
  }
 },
 "nbformat": 4,
 "nbformat_minor": 2,
 "cells": [
  {
   "source": [
    "# VISTA-CA EDA + Estimating CH$_4$ from Cows\n",
    "## ER 131 Project | Group 4\n",
    "**Author: ** ['Marshall Worsham'] <br>\n",
    "**Date: ** 10-29-2020"
   ],
   "cell_type": "markdown",
   "metadata": {}
  },
  {
   "source": [
    "## Motivations\n",
    "* Enteric fermentation from cattle is a major source of $CH_4$, a greenhouse gas with nearly two orders of magnitude greater warming potential than $CO_2$\n",
    "* Because of the difficulty of directly measuring enteric emissions in situ, large-scale emissions estimates are typically generated from mathematical models calculated at the individual and scaled up to population from agricultural census data\n",
    "* The amount of $CH_4$ produced from enteric fermentation is primarily a function of intake (feed) mass and feed composition\n",
    "* From the literature there are a handful of models available to calculate $CH_4$ emissions: \n",
    "    * Moraes et al. (2014)\n",
    "    * IPCC (2006)\n",
    "    * Nielsen et al. (2013)\n",
    "    * Appuhamy et al. (2018)\n",
    "    * US EPA"
   ],
   "cell_type": "markdown",
   "metadata": {}
  },
  {
   "source": [
    "## Formulas for Estimating CH$_4$ Emissions (g/cow/d) \n",
    "\n",
    "### Dairy\n",
    "#### IPCC\n",
    "$CH_{4|dairy} = \\frac{0.065 * GEI}{0.05565}$ <br>\n",
    "#### US EPA \n",
    "$CH_{4|dairy} = \\frac{(0.059 * GEI)}{0.05565}$ <br>\n",
    "#### Moraes \n",
    "$CH_{4|dairy} = \\frac{2.88 + 0.053 * GEI - 0.190 EE}{0.05565}$ <br>\n",
    "#### Appuhamy\n",
    "$CH_{4|dairy} = CH_{4|lactating} + CH_{4|dry} + CH_{4|replacement}$ <br>\n",
    "* $CH_{4|lactating} = 11.2*DMI + 2.18*dNDF + 32.2*Milk fat$\n",
    "* $CH_{4|dry} = 9.6 + 22.1 *DMI$\n",
    "* $CH_{4|replacement} = 9.6 + 22.1 * DMI$\n",
    "\n",
    "DMI = dry matter intake (kg/d)<br>\n",
    "GEI = gross energy intake (MJ/d) <br>\n",
    "EE = ether extract (% dry matter) <br>\n",
    "dNDF = digestible neutral detergent fiber (% dry matter) <br>\n"
   ],
   "cell_type": "markdown",
   "metadata": {}
  },
  {
   "source": [
    "## Libraries and dependencies"
   ],
   "cell_type": "markdown",
   "metadata": {}
  },
  {
   "cell_type": "code",
   "execution_count": 140,
   "metadata": {},
   "outputs": [],
   "source": [
    "import pandas as pd   \n",
    "import os\n",
    "import numpy as np\n",
    "import zipfile\n",
    "import geopandas as gpd\n",
    "import matplotlib.pyplot as plt\n",
    "import netCDF4 as nc"
   ]
  },
  {
   "source": [
    "## California Cow Intake Data\n",
    "(Appuhamy et al. 2018)"
   ],
   "cell_type": "markdown",
   "metadata": {}
  },
  {
   "cell_type": "code",
   "execution_count": 2,
   "metadata": {},
   "outputs": [],
   "source": [
    "# make a dataframe with mean values of GMI, GEI, dNDF, EE, Milk fat for CA cows, reported in Appuhamy et al. 2018\n",
    "intake = pd.DataFrame(\n",
    "    [[13.5, 248.2, 45.9, 3.6, 0], [9.9, 181.2, 47.9, 3.2, 0], [19.9, 381.0, 34.1, 3.2, 3.6], [10.3, 173.0, 45.8, 3.4, 0.0]],\n",
    "    columns = ['DMI_mean', 'GEI_mean', 'dNDF_mean', 'EE_mean', 'Milk Fat'])\n",
    "intake['type'] = ['CA Heifer', 'CA Dry Cow', 'CA Lactating Cow', 'Generic estimate from literature']"
   ]
  },
  {
   "cell_type": "code",
   "execution_count": 3,
   "metadata": {},
   "outputs": [
    {
     "output_type": "execute_result",
     "data": {
      "text/plain": [
       "   DMI_mean  GEI_mean  dNDF_mean  EE_mean  Milk Fat  \\\n",
       "0      13.5     248.2       45.9      3.6       0.0   \n",
       "1       9.9     181.2       47.9      3.2       0.0   \n",
       "2      19.9     381.0       34.1      3.2       3.6   \n",
       "3      10.3     173.0       45.8      3.4       0.0   \n",
       "\n",
       "                               type  \n",
       "0                         CA Heifer  \n",
       "1                        CA Dry Cow  \n",
       "2                  CA Lactating Cow  \n",
       "3  Generic estimate from literature  "
      ],
      "text/html": "<div>\n<style scoped>\n    .dataframe tbody tr th:only-of-type {\n        vertical-align: middle;\n    }\n\n    .dataframe tbody tr th {\n        vertical-align: top;\n    }\n\n    .dataframe thead th {\n        text-align: right;\n    }\n</style>\n<table border=\"1\" class=\"dataframe\">\n  <thead>\n    <tr style=\"text-align: right;\">\n      <th></th>\n      <th>DMI_mean</th>\n      <th>GEI_mean</th>\n      <th>dNDF_mean</th>\n      <th>EE_mean</th>\n      <th>Milk Fat</th>\n      <th>type</th>\n    </tr>\n  </thead>\n  <tbody>\n    <tr>\n      <th>0</th>\n      <td>13.5</td>\n      <td>248.2</td>\n      <td>45.9</td>\n      <td>3.6</td>\n      <td>0.0</td>\n      <td>CA Heifer</td>\n    </tr>\n    <tr>\n      <th>1</th>\n      <td>9.9</td>\n      <td>181.2</td>\n      <td>47.9</td>\n      <td>3.2</td>\n      <td>0.0</td>\n      <td>CA Dry Cow</td>\n    </tr>\n    <tr>\n      <th>2</th>\n      <td>19.9</td>\n      <td>381.0</td>\n      <td>34.1</td>\n      <td>3.2</td>\n      <td>3.6</td>\n      <td>CA Lactating Cow</td>\n    </tr>\n    <tr>\n      <th>3</th>\n      <td>10.3</td>\n      <td>173.0</td>\n      <td>45.8</td>\n      <td>3.4</td>\n      <td>0.0</td>\n      <td>Generic estimate from literature</td>\n    </tr>\n  </tbody>\n</table>\n</div>"
     },
     "metadata": {},
     "execution_count": 3
    }
   ],
   "source": [
    "intake"
   ]
  },
  {
   "source": [
    "## VISTA-CA\n",
    "Hopkins et al. 2019 provide point shapefiles of known and expected point sources of methane emissions in California as part of the North American Carbon Program. Below we load and plot the locations of 1787 dairy and cattle feed lot operations in CA.\n",
    "\n",
    "#### Citation\n",
    "Marklein, A.R., D. Meyer, M.L. Fischer, S. Jeong, T. Rafiq, M. Carr, and F.M. Hopkins. 2020. Methane Emissions from Dairy Sources (Vista-CA), State of California, USA, 2019. ORNL DAAC, Oak Ridge, Tennessee, USA. [https://doi.org/10.3334/ORNLDAAC/1814](https://doi.org/10.3334/ORNLDAAC/1814)"
   ],
   "cell_type": "markdown",
   "metadata": {}
  },
  {
   "cell_type": "code",
   "execution_count": 3,
   "metadata": {},
   "outputs": [
    {
     "output_type": "stream",
     "name": "stdout",
     "text": [
      "File Name                                             Modified             Size\nVista_CA_Dairies/Vista_CA_Dairies.dbf          2019-11-10 10:36:00      3130229\nVista_CA_Dairies/Vista_CA_Dairies.prj          2019-10-02 13:13:18          145\nVista_CA_Dairies/Vista_CA_Dairies.sbn          2019-11-05 17:33:36        16092\nVista_CA_Dairies/Vista_CA_Dairies.sbx          2019-11-05 17:33:36          540\nVista_CA_Dairies/Vista_CA_Dairies.shp          2019-11-10 10:36:00        75560\nVista_CA_Dairies/Vista_CA_Dairies.shx          2019-11-10 10:36:00        13820\n"
     ]
    },
    {
     "output_type": "execute_result",
     "data": {
      "text/plain": [
       "['Vista_CA_Dairies/Vista_CA_Dairies.shp']"
      ]
     },
     "metadata": {},
     "execution_count": 3
    }
   ],
   "source": [
    "# unzip files from the repository\n",
    "# these are in the Cows.zip package\n",
    "# this should load them, as long as the files remain in the same directory as this notebook\n",
    "\n",
    "vista = 'VISTA'\n",
    "os.listdir(vista)\n",
    "z = os.listdir(vista)[1]\n",
    "zf = zipfile.ZipFile(os.sep.join(['.', vista, z]), 'r')\n",
    "zf.printdir()\n",
    "fl = zf.extractall()\n",
    "[i for i in zf.namelist() if 'shp' in i]"
   ]
  },
  {
   "cell_type": "code",
   "execution_count": 4,
   "metadata": {},
   "outputs": [
    {
     "output_type": "stream",
     "name": "stdout",
     "text": [
      "File Name                                             Modified             Size\nVista_CA_Feed_Lots/Vista_CA_Feed_Lots.dbf      2019-11-10 10:34:08       131754\nVista_CA_Feed_Lots/Vista_CA_Feed_Lots.prj      2019-07-09 22:07:12          145\nVista_CA_Feed_Lots/Vista_CA_Feed_Lots.sbn      2019-11-05 17:41:16          836\nVista_CA_Feed_Lots/Vista_CA_Feed_Lots.sbx      2019-11-05 17:41:16          148\nVista_CA_Feed_Lots/Vista_CA_Feed_Lots.shp      2019-11-10 10:34:08         3268\nVista_CA_Feed_Lots/Vista_CA_Feed_Lots.shx      2019-11-10 10:34:08          676\nFile Name                                             Modified             Size\nVista_CA_Dairies/Vista_CA_Dairies.dbf          2019-11-10 10:36:00      3130229\nVista_CA_Dairies/Vista_CA_Dairies.prj          2019-10-02 13:13:18          145\nVista_CA_Dairies/Vista_CA_Dairies.sbn          2019-11-05 17:33:36        16092\nVista_CA_Dairies/Vista_CA_Dairies.sbx          2019-11-05 17:33:36          540\nVista_CA_Dairies/Vista_CA_Dairies.shp          2019-11-10 10:36:00        75560\nVista_CA_Dairies/Vista_CA_Dairies.shx          2019-11-10 10:36:00        13820\n"
     ]
    }
   ],
   "source": [
    "# open the files and store data in a geodataframe\n",
    "\n",
    "vista_ch4 = gpd.GeoDataFrame() # initialize empty dataframe\n",
    "\n",
    "vista = 'VISTA'\n",
    "for z in os.listdir(vista):\n",
    "    zf = zipfile.ZipFile(os.sep.join(['.', vista, z]), 'r')\n",
    "    zf.printdir()\n",
    "    shapes = zf.extractall()\n",
    "    sf = [i for i in zf.namelist() if 'shp' in i]\n",
    "    gpdf = gpd.read_file(sf[0], low_memory = False)\n",
    "    vista_ch4 = vista_ch4.append(gpdf)"
   ]
  },
  {
   "cell_type": "code",
   "execution_count": 5,
   "metadata": {},
   "outputs": [
    {
     "output_type": "stream",
     "name": "stdout",
     "text": [
      "(1787, 11)\n"
     ]
    },
    {
     "output_type": "execute_result",
     "data": {
      "text/plain": [
       "    Latitude   Longitude     City State Source   Vista_ID  \\\n",
       "0  37.519455 -120.749914   DENAIR    CA  RAFIQ  FDL000022   \n",
       "1  37.727375 -120.841383  OAKDALE    CA  RAFIQ  FDL000019   \n",
       "2  38.304731 -121.316172     GALT    CA  RAFIQ  FDL000007   \n",
       "3  38.328705 -121.188084   HERALD    CA  RAFIQ  FDL000010   \n",
       "4  39.698616 -122.199166   ORLAND    CA  RAFIQ  FDL000045   \n",
       "\n",
       "                  VistaIPCC                     VistaName VistaSType  \\\n",
       "0  3A1 Enteric Fermentation    G & S Cattle Co of Turlock   Feed Lot   \n",
       "1  3A1 Enteric Fermentation      Farmers Livestock Market   Feed Lot   \n",
       "2  3A1 Enteric Fermentation  Cattlemen's Livestock Market   Feed Lot   \n",
       "3  3A1 Enteric Fermentation         Clay Station Feed Lot   Feed Lot   \n",
       "4  3A1 Enteric Fermentation   Orland Livestock Commission   Feed Lot   \n",
       "\n",
       "    VistaDate                               geometry  \n",
       "0  2019-11-10  POINT Z (-120.74991 37.51946 0.00000)  \n",
       "1  2019-11-10  POINT Z (-120.84138 37.72738 0.00000)  \n",
       "2  2019-11-10  POINT Z (-121.31617 38.30473 0.00000)  \n",
       "3  2019-11-10  POINT Z (-121.18808 38.32871 0.00000)  \n",
       "4  2019-11-10  POINT Z (-122.19917 39.69862 0.00000)  "
      ],
      "text/html": "<div>\n<style scoped>\n    .dataframe tbody tr th:only-of-type {\n        vertical-align: middle;\n    }\n\n    .dataframe tbody tr th {\n        vertical-align: top;\n    }\n\n    .dataframe thead th {\n        text-align: right;\n    }\n</style>\n<table border=\"1\" class=\"dataframe\">\n  <thead>\n    <tr style=\"text-align: right;\">\n      <th></th>\n      <th>Latitude</th>\n      <th>Longitude</th>\n      <th>City</th>\n      <th>State</th>\n      <th>Source</th>\n      <th>Vista_ID</th>\n      <th>VistaIPCC</th>\n      <th>VistaName</th>\n      <th>VistaSType</th>\n      <th>VistaDate</th>\n      <th>geometry</th>\n    </tr>\n  </thead>\n  <tbody>\n    <tr>\n      <th>0</th>\n      <td>37.519455</td>\n      <td>-120.749914</td>\n      <td>DENAIR</td>\n      <td>CA</td>\n      <td>RAFIQ</td>\n      <td>FDL000022</td>\n      <td>3A1 Enteric Fermentation</td>\n      <td>G &amp; S Cattle Co of Turlock</td>\n      <td>Feed Lot</td>\n      <td>2019-11-10</td>\n      <td>POINT Z (-120.74991 37.51946 0.00000)</td>\n    </tr>\n    <tr>\n      <th>1</th>\n      <td>37.727375</td>\n      <td>-120.841383</td>\n      <td>OAKDALE</td>\n      <td>CA</td>\n      <td>RAFIQ</td>\n      <td>FDL000019</td>\n      <td>3A1 Enteric Fermentation</td>\n      <td>Farmers Livestock Market</td>\n      <td>Feed Lot</td>\n      <td>2019-11-10</td>\n      <td>POINT Z (-120.84138 37.72738 0.00000)</td>\n    </tr>\n    <tr>\n      <th>2</th>\n      <td>38.304731</td>\n      <td>-121.316172</td>\n      <td>GALT</td>\n      <td>CA</td>\n      <td>RAFIQ</td>\n      <td>FDL000007</td>\n      <td>3A1 Enteric Fermentation</td>\n      <td>Cattlemen's Livestock Market</td>\n      <td>Feed Lot</td>\n      <td>2019-11-10</td>\n      <td>POINT Z (-121.31617 38.30473 0.00000)</td>\n    </tr>\n    <tr>\n      <th>3</th>\n      <td>38.328705</td>\n      <td>-121.188084</td>\n      <td>HERALD</td>\n      <td>CA</td>\n      <td>RAFIQ</td>\n      <td>FDL000010</td>\n      <td>3A1 Enteric Fermentation</td>\n      <td>Clay Station Feed Lot</td>\n      <td>Feed Lot</td>\n      <td>2019-11-10</td>\n      <td>POINT Z (-121.18808 38.32871 0.00000)</td>\n    </tr>\n    <tr>\n      <th>4</th>\n      <td>39.698616</td>\n      <td>-122.199166</td>\n      <td>ORLAND</td>\n      <td>CA</td>\n      <td>RAFIQ</td>\n      <td>FDL000045</td>\n      <td>3A1 Enteric Fermentation</td>\n      <td>Orland Livestock Commission</td>\n      <td>Feed Lot</td>\n      <td>2019-11-10</td>\n      <td>POINT Z (-122.19917 39.69862 0.00000)</td>\n    </tr>\n  </tbody>\n</table>\n</div>"
     },
     "metadata": {},
     "execution_count": 5
    }
   ],
   "source": [
    "# check the shape and head of the gpdf\n",
    "print(vista_ch4.shape)\n",
    "vista_ch4.head()"
   ]
  },
  {
   "source": [
    "### Import CA counties to use as a base map "
   ],
   "cell_type": "markdown",
   "metadata": {}
  },
  {
   "cell_type": "code",
   "execution_count": 8,
   "metadata": {},
   "outputs": [
    {
     "output_type": "error",
     "ename": "ImportError",
     "evalue": "The descartes package is required for plotting polygons in geopandas. You can install it using 'conda install -c conda-forge descartes' or 'pip install descartes'.",
     "traceback": [
      "\u001b[0;31m---------------------------------------------------------------------------\u001b[0m",
      "\u001b[0;31mModuleNotFoundError\u001b[0m                       Traceback (most recent call last)",
      "\u001b[0;32m~/.pyenv/versions/er131/lib/python3.8/site-packages/geopandas/plotting.py\u001b[0m in \u001b[0;36m_plot_polygon_collection\u001b[0;34m(ax, geoms, values, color, cmap, vmin, vmax, **kwargs)\u001b[0m\n\u001b[1;32m    119\u001b[0m     \u001b[0;32mtry\u001b[0m\u001b[0;34m:\u001b[0m\u001b[0;34m\u001b[0m\u001b[0;34m\u001b[0m\u001b[0m\n\u001b[0;32m--> 120\u001b[0;31m         \u001b[0;32mfrom\u001b[0m \u001b[0mdescartes\u001b[0m\u001b[0;34m.\u001b[0m\u001b[0mpatch\u001b[0m \u001b[0;32mimport\u001b[0m \u001b[0mPolygonPatch\u001b[0m\u001b[0;34m\u001b[0m\u001b[0;34m\u001b[0m\u001b[0m\n\u001b[0m\u001b[1;32m    121\u001b[0m     \u001b[0;32mexcept\u001b[0m \u001b[0mImportError\u001b[0m\u001b[0;34m:\u001b[0m\u001b[0;34m\u001b[0m\u001b[0;34m\u001b[0m\u001b[0m\n",
      "\u001b[0;31mModuleNotFoundError\u001b[0m: No module named 'descartes'",
      "\nDuring handling of the above exception, another exception occurred:\n",
      "\u001b[0;31mImportError\u001b[0m                               Traceback (most recent call last)",
      "\u001b[0;32m<ipython-input-8-73e07f4262a7>\u001b[0m in \u001b[0;36m<module>\u001b[0;34m\u001b[0m\n\u001b[1;32m      1\u001b[0m \u001b[0mcounties\u001b[0m \u001b[0;34m=\u001b[0m \u001b[0mgpd\u001b[0m\u001b[0;34m.\u001b[0m\u001b[0mread_file\u001b[0m\u001b[0;34m(\u001b[0m\u001b[0mos\u001b[0m\u001b[0;34m.\u001b[0m\u001b[0msep\u001b[0m\u001b[0;34m.\u001b[0m\u001b[0mjoin\u001b[0m\u001b[0;34m(\u001b[0m\u001b[0;34m[\u001b[0m\u001b[0;34m'.'\u001b[0m\u001b[0;34m,\u001b[0m \u001b[0;34m'CA_Counties'\u001b[0m\u001b[0;34m,\u001b[0m \u001b[0;34m'CA_Counties_TIGER2016.shp'\u001b[0m\u001b[0;34m]\u001b[0m\u001b[0;34m)\u001b[0m\u001b[0;34m)\u001b[0m\u001b[0;34m\u001b[0m\u001b[0;34m\u001b[0m\u001b[0m\n\u001b[0;32m----> 2\u001b[0;31m \u001b[0mcounties\u001b[0m\u001b[0;34m.\u001b[0m\u001b[0mplot\u001b[0m\u001b[0;34m(\u001b[0m\u001b[0;34m)\u001b[0m\u001b[0;34m\u001b[0m\u001b[0;34m\u001b[0m\u001b[0m\n\u001b[0m",
      "\u001b[0;32m~/.pyenv/versions/er131/lib/python3.8/site-packages/geopandas/geodataframe.py\u001b[0m in \u001b[0;36mplot\u001b[0;34m(self, *args, **kwargs)\u001b[0m\n\u001b[1;32m    919\u001b[0m         \u001b[0;32mfrom\u001b[0m \u001b[0mthere\u001b[0m\u001b[0;34m.\u001b[0m\u001b[0;34m\u001b[0m\u001b[0;34m\u001b[0m\u001b[0m\n\u001b[1;32m    920\u001b[0m         \"\"\"\n\u001b[0;32m--> 921\u001b[0;31m         \u001b[0;32mreturn\u001b[0m \u001b[0mplot_dataframe\u001b[0m\u001b[0;34m(\u001b[0m\u001b[0mself\u001b[0m\u001b[0;34m,\u001b[0m \u001b[0;34m*\u001b[0m\u001b[0margs\u001b[0m\u001b[0;34m,\u001b[0m \u001b[0;34m**\u001b[0m\u001b[0mkwargs\u001b[0m\u001b[0;34m)\u001b[0m\u001b[0;34m\u001b[0m\u001b[0;34m\u001b[0m\u001b[0m\n\u001b[0m\u001b[1;32m    922\u001b[0m \u001b[0;34m\u001b[0m\u001b[0m\n\u001b[1;32m    923\u001b[0m     \u001b[0mplot\u001b[0m\u001b[0;34m.\u001b[0m\u001b[0m__doc__\u001b[0m \u001b[0;34m=\u001b[0m \u001b[0mplot_dataframe\u001b[0m\u001b[0;34m.\u001b[0m\u001b[0m__doc__\u001b[0m\u001b[0;34m\u001b[0m\u001b[0;34m\u001b[0m\u001b[0m\n",
      "\u001b[0;32m~/.pyenv/versions/er131/lib/python3.8/site-packages/geopandas/plotting.py\u001b[0m in \u001b[0;36mplot_dataframe\u001b[0;34m(df, column, cmap, color, ax, cax, categorical, legend, scheme, k, vmin, vmax, markersize, figsize, legend_kwds, categories, classification_kwds, missing_kwds, aspect, **style_kwds)\u001b[0m\n\u001b[1;32m    613\u001b[0m \u001b[0;34m\u001b[0m\u001b[0m\n\u001b[1;32m    614\u001b[0m     \u001b[0;32mif\u001b[0m \u001b[0mcolumn\u001b[0m \u001b[0;32mis\u001b[0m \u001b[0;32mNone\u001b[0m\u001b[0;34m:\u001b[0m\u001b[0;34m\u001b[0m\u001b[0;34m\u001b[0m\u001b[0m\n\u001b[0;32m--> 615\u001b[0;31m         return plot_series(\n\u001b[0m\u001b[1;32m    616\u001b[0m             \u001b[0mdf\u001b[0m\u001b[0;34m.\u001b[0m\u001b[0mgeometry\u001b[0m\u001b[0;34m,\u001b[0m\u001b[0;34m\u001b[0m\u001b[0;34m\u001b[0m\u001b[0m\n\u001b[1;32m    617\u001b[0m             \u001b[0mcmap\u001b[0m\u001b[0;34m=\u001b[0m\u001b[0mcmap\u001b[0m\u001b[0;34m,\u001b[0m\u001b[0;34m\u001b[0m\u001b[0;34m\u001b[0m\u001b[0m\n",
      "\u001b[0;32m~/.pyenv/versions/er131/lib/python3.8/site-packages/geopandas/plotting.py\u001b[0m in \u001b[0;36mplot_series\u001b[0;34m(s, cmap, color, ax, figsize, aspect, **style_kwds)\u001b[0m\n\u001b[1;32m    411\u001b[0m \u001b[0;34m\u001b[0m\u001b[0m\n\u001b[1;32m    412\u001b[0m         \u001b[0mvalues_\u001b[0m \u001b[0;34m=\u001b[0m \u001b[0mvalues\u001b[0m\u001b[0;34m[\u001b[0m\u001b[0mpoly_idx\u001b[0m\u001b[0;34m]\u001b[0m \u001b[0;32mif\u001b[0m \u001b[0mcmap\u001b[0m \u001b[0;32melse\u001b[0m \u001b[0;32mNone\u001b[0m\u001b[0;34m\u001b[0m\u001b[0;34m\u001b[0m\u001b[0m\n\u001b[0;32m--> 413\u001b[0;31m         _plot_polygon_collection(\n\u001b[0m\u001b[1;32m    414\u001b[0m             \u001b[0max\u001b[0m\u001b[0;34m,\u001b[0m \u001b[0mpolys\u001b[0m\u001b[0;34m,\u001b[0m \u001b[0mvalues_\u001b[0m\u001b[0;34m,\u001b[0m \u001b[0mfacecolor\u001b[0m\u001b[0;34m=\u001b[0m\u001b[0mfacecolor\u001b[0m\u001b[0;34m,\u001b[0m \u001b[0mcmap\u001b[0m\u001b[0;34m=\u001b[0m\u001b[0mcmap\u001b[0m\u001b[0;34m,\u001b[0m \u001b[0;34m**\u001b[0m\u001b[0mstyle_kwds\u001b[0m\u001b[0;34m\u001b[0m\u001b[0;34m\u001b[0m\u001b[0m\n\u001b[1;32m    415\u001b[0m         )\n",
      "\u001b[0;32m~/.pyenv/versions/er131/lib/python3.8/site-packages/geopandas/plotting.py\u001b[0m in \u001b[0;36m_plot_polygon_collection\u001b[0;34m(ax, geoms, values, color, cmap, vmin, vmax, **kwargs)\u001b[0m\n\u001b[1;32m    120\u001b[0m         \u001b[0;32mfrom\u001b[0m \u001b[0mdescartes\u001b[0m\u001b[0;34m.\u001b[0m\u001b[0mpatch\u001b[0m \u001b[0;32mimport\u001b[0m \u001b[0mPolygonPatch\u001b[0m\u001b[0;34m\u001b[0m\u001b[0;34m\u001b[0m\u001b[0m\n\u001b[1;32m    121\u001b[0m     \u001b[0;32mexcept\u001b[0m \u001b[0mImportError\u001b[0m\u001b[0;34m:\u001b[0m\u001b[0;34m\u001b[0m\u001b[0;34m\u001b[0m\u001b[0m\n\u001b[0;32m--> 122\u001b[0;31m         raise ImportError(\n\u001b[0m\u001b[1;32m    123\u001b[0m             \u001b[0;34m\"The descartes package is required for plotting polygons in geopandas. \"\u001b[0m\u001b[0;34m\u001b[0m\u001b[0;34m\u001b[0m\u001b[0m\n\u001b[1;32m    124\u001b[0m             \u001b[0;34m\"You can install it using 'conda install -c conda-forge descartes' or \"\u001b[0m\u001b[0;34m\u001b[0m\u001b[0;34m\u001b[0m\u001b[0m\n",
      "\u001b[0;31mImportError\u001b[0m: The descartes package is required for plotting polygons in geopandas. You can install it using 'conda install -c conda-forge descartes' or 'pip install descartes'."
     ]
    }
   ],
   "source": [
    "counties = gpd.read_file(os.sep.join(['.', 'CA_Counties', 'CA_Counties_TIGER2016.shp']))\n",
    "counties.plot()"
   ]
  },
  {
   "cell_type": "code",
   "execution_count": 9,
   "metadata": {},
   "outputs": [
    {
     "output_type": "stream",
     "name": "stdout",
     "text": [
      "counties:  epsg:3857\nch4:  epsg:4326\n"
     ]
    }
   ],
   "source": [
    "# match CRS\n",
    "print('counties: ', counties.crs)\n",
    "print('ch4: ', vista_ch4.crs)\n",
    "counties_wgs84 = counties.to_crs(epsg=4326)\n",
    "assert counties_wgs84.crs == vista_ch4.crs == 'epsg:4326'"
   ]
  },
  {
   "cell_type": "code",
   "execution_count": 11,
   "metadata": {},
   "outputs": [
    {
     "output_type": "error",
     "ename": "ImportError",
     "evalue": "The descartes package is required for plotting polygons in geopandas. You can install it using 'conda install -c conda-forge descartes' or 'pip install descartes'.",
     "traceback": [
      "\u001b[0;31m---------------------------------------------------------------------------\u001b[0m",
      "\u001b[0;31mModuleNotFoundError\u001b[0m                       Traceback (most recent call last)",
      "\u001b[0;32m~/.pyenv/versions/er131/lib/python3.8/site-packages/geopandas/plotting.py\u001b[0m in \u001b[0;36m_plot_polygon_collection\u001b[0;34m(ax, geoms, values, color, cmap, vmin, vmax, **kwargs)\u001b[0m\n\u001b[1;32m    119\u001b[0m     \u001b[0;32mtry\u001b[0m\u001b[0;34m:\u001b[0m\u001b[0;34m\u001b[0m\u001b[0;34m\u001b[0m\u001b[0m\n\u001b[0;32m--> 120\u001b[0;31m         \u001b[0;32mfrom\u001b[0m \u001b[0mdescartes\u001b[0m\u001b[0;34m.\u001b[0m\u001b[0mpatch\u001b[0m \u001b[0;32mimport\u001b[0m \u001b[0mPolygonPatch\u001b[0m\u001b[0;34m\u001b[0m\u001b[0;34m\u001b[0m\u001b[0m\n\u001b[0m\u001b[1;32m    121\u001b[0m     \u001b[0;32mexcept\u001b[0m \u001b[0mImportError\u001b[0m\u001b[0;34m:\u001b[0m\u001b[0;34m\u001b[0m\u001b[0;34m\u001b[0m\u001b[0m\n",
      "\u001b[0;31mModuleNotFoundError\u001b[0m: No module named 'descartes'",
      "\nDuring handling of the above exception, another exception occurred:\n",
      "\u001b[0;31mImportError\u001b[0m                               Traceback (most recent call last)",
      "\u001b[0;32m<ipython-input-11-d5c16a5efd44>\u001b[0m in \u001b[0;36m<module>\u001b[0;34m\u001b[0m\n\u001b[1;32m      1\u001b[0m \u001b[0mfig\u001b[0m\u001b[0;34m,\u001b[0m \u001b[0max\u001b[0m \u001b[0;34m=\u001b[0m \u001b[0mplt\u001b[0m\u001b[0;34m.\u001b[0m\u001b[0msubplots\u001b[0m\u001b[0;34m(\u001b[0m\u001b[0mfigsize\u001b[0m\u001b[0;34m=\u001b[0m\u001b[0;34m(\u001b[0m\u001b[0;36m10\u001b[0m\u001b[0;34m,\u001b[0m\u001b[0;36m20\u001b[0m\u001b[0;34m)\u001b[0m\u001b[0;34m)\u001b[0m\u001b[0;34m\u001b[0m\u001b[0;34m\u001b[0m\u001b[0m\n\u001b[0;32m----> 2\u001b[0;31m \u001b[0mcounties_wgs84\u001b[0m\u001b[0;34m.\u001b[0m\u001b[0mplot\u001b[0m\u001b[0;34m(\u001b[0m\u001b[0max\u001b[0m\u001b[0;34m=\u001b[0m\u001b[0max\u001b[0m\u001b[0;34m,\u001b[0m \u001b[0mcolor\u001b[0m \u001b[0;34m=\u001b[0m \u001b[0;34m'black'\u001b[0m\u001b[0;34m,\u001b[0m \u001b[0medgecolor\u001b[0m\u001b[0;34m=\u001b[0m\u001b[0;34m'white'\u001b[0m\u001b[0;34m,\u001b[0m \u001b[0malpha\u001b[0m \u001b[0;34m=\u001b[0m \u001b[0;36m0.8\u001b[0m\u001b[0;34m)\u001b[0m\u001b[0;34m\u001b[0m\u001b[0;34m\u001b[0m\u001b[0m\n\u001b[0m\u001b[1;32m      3\u001b[0m \u001b[0mvista_ch4\u001b[0m\u001b[0;34m.\u001b[0m\u001b[0mplot\u001b[0m\u001b[0;34m(\u001b[0m\u001b[0max\u001b[0m\u001b[0;34m=\u001b[0m\u001b[0max\u001b[0m\u001b[0;34m,\u001b[0m \u001b[0mcolumn\u001b[0m \u001b[0;34m=\u001b[0m \u001b[0;34m'VistaSType'\u001b[0m\u001b[0;34m,\u001b[0m \u001b[0medgecolor\u001b[0m \u001b[0;34m=\u001b[0m \u001b[0;34m'whitesmoke'\u001b[0m\u001b[0;34m,\u001b[0m \u001b[0mcmap\u001b[0m \u001b[0;34m=\u001b[0m \u001b[0;34m'Set3'\u001b[0m\u001b[0;34m,\u001b[0m \u001b[0mlegend\u001b[0m \u001b[0;34m=\u001b[0m \u001b[0;32mTrue\u001b[0m\u001b[0;34m)\u001b[0m\u001b[0;34m;\u001b[0m\u001b[0;34m\u001b[0m\u001b[0;34m\u001b[0m\u001b[0m\n",
      "\u001b[0;32m~/.pyenv/versions/er131/lib/python3.8/site-packages/geopandas/geodataframe.py\u001b[0m in \u001b[0;36mplot\u001b[0;34m(self, *args, **kwargs)\u001b[0m\n\u001b[1;32m    919\u001b[0m         \u001b[0;32mfrom\u001b[0m \u001b[0mthere\u001b[0m\u001b[0;34m.\u001b[0m\u001b[0;34m\u001b[0m\u001b[0;34m\u001b[0m\u001b[0m\n\u001b[1;32m    920\u001b[0m         \"\"\"\n\u001b[0;32m--> 921\u001b[0;31m         \u001b[0;32mreturn\u001b[0m \u001b[0mplot_dataframe\u001b[0m\u001b[0;34m(\u001b[0m\u001b[0mself\u001b[0m\u001b[0;34m,\u001b[0m \u001b[0;34m*\u001b[0m\u001b[0margs\u001b[0m\u001b[0;34m,\u001b[0m \u001b[0;34m**\u001b[0m\u001b[0mkwargs\u001b[0m\u001b[0;34m)\u001b[0m\u001b[0;34m\u001b[0m\u001b[0;34m\u001b[0m\u001b[0m\n\u001b[0m\u001b[1;32m    922\u001b[0m \u001b[0;34m\u001b[0m\u001b[0m\n\u001b[1;32m    923\u001b[0m     \u001b[0mplot\u001b[0m\u001b[0;34m.\u001b[0m\u001b[0m__doc__\u001b[0m \u001b[0;34m=\u001b[0m \u001b[0mplot_dataframe\u001b[0m\u001b[0;34m.\u001b[0m\u001b[0m__doc__\u001b[0m\u001b[0;34m\u001b[0m\u001b[0;34m\u001b[0m\u001b[0m\n",
      "\u001b[0;32m~/.pyenv/versions/er131/lib/python3.8/site-packages/geopandas/plotting.py\u001b[0m in \u001b[0;36mplot_dataframe\u001b[0;34m(df, column, cmap, color, ax, cax, categorical, legend, scheme, k, vmin, vmax, markersize, figsize, legend_kwds, categories, classification_kwds, missing_kwds, aspect, **style_kwds)\u001b[0m\n\u001b[1;32m    613\u001b[0m \u001b[0;34m\u001b[0m\u001b[0m\n\u001b[1;32m    614\u001b[0m     \u001b[0;32mif\u001b[0m \u001b[0mcolumn\u001b[0m \u001b[0;32mis\u001b[0m \u001b[0;32mNone\u001b[0m\u001b[0;34m:\u001b[0m\u001b[0;34m\u001b[0m\u001b[0;34m\u001b[0m\u001b[0m\n\u001b[0;32m--> 615\u001b[0;31m         return plot_series(\n\u001b[0m\u001b[1;32m    616\u001b[0m             \u001b[0mdf\u001b[0m\u001b[0;34m.\u001b[0m\u001b[0mgeometry\u001b[0m\u001b[0;34m,\u001b[0m\u001b[0;34m\u001b[0m\u001b[0;34m\u001b[0m\u001b[0m\n\u001b[1;32m    617\u001b[0m             \u001b[0mcmap\u001b[0m\u001b[0;34m=\u001b[0m\u001b[0mcmap\u001b[0m\u001b[0;34m,\u001b[0m\u001b[0;34m\u001b[0m\u001b[0;34m\u001b[0m\u001b[0m\n",
      "\u001b[0;32m~/.pyenv/versions/er131/lib/python3.8/site-packages/geopandas/plotting.py\u001b[0m in \u001b[0;36mplot_series\u001b[0;34m(s, cmap, color, ax, figsize, aspect, **style_kwds)\u001b[0m\n\u001b[1;32m    411\u001b[0m \u001b[0;34m\u001b[0m\u001b[0m\n\u001b[1;32m    412\u001b[0m         \u001b[0mvalues_\u001b[0m \u001b[0;34m=\u001b[0m \u001b[0mvalues\u001b[0m\u001b[0;34m[\u001b[0m\u001b[0mpoly_idx\u001b[0m\u001b[0;34m]\u001b[0m \u001b[0;32mif\u001b[0m \u001b[0mcmap\u001b[0m \u001b[0;32melse\u001b[0m \u001b[0;32mNone\u001b[0m\u001b[0;34m\u001b[0m\u001b[0;34m\u001b[0m\u001b[0m\n\u001b[0;32m--> 413\u001b[0;31m         _plot_polygon_collection(\n\u001b[0m\u001b[1;32m    414\u001b[0m             \u001b[0max\u001b[0m\u001b[0;34m,\u001b[0m \u001b[0mpolys\u001b[0m\u001b[0;34m,\u001b[0m \u001b[0mvalues_\u001b[0m\u001b[0;34m,\u001b[0m \u001b[0mfacecolor\u001b[0m\u001b[0;34m=\u001b[0m\u001b[0mfacecolor\u001b[0m\u001b[0;34m,\u001b[0m \u001b[0mcmap\u001b[0m\u001b[0;34m=\u001b[0m\u001b[0mcmap\u001b[0m\u001b[0;34m,\u001b[0m \u001b[0;34m**\u001b[0m\u001b[0mstyle_kwds\u001b[0m\u001b[0;34m\u001b[0m\u001b[0;34m\u001b[0m\u001b[0m\n\u001b[1;32m    415\u001b[0m         )\n",
      "\u001b[0;32m~/.pyenv/versions/er131/lib/python3.8/site-packages/geopandas/plotting.py\u001b[0m in \u001b[0;36m_plot_polygon_collection\u001b[0;34m(ax, geoms, values, color, cmap, vmin, vmax, **kwargs)\u001b[0m\n\u001b[1;32m    120\u001b[0m         \u001b[0;32mfrom\u001b[0m \u001b[0mdescartes\u001b[0m\u001b[0;34m.\u001b[0m\u001b[0mpatch\u001b[0m \u001b[0;32mimport\u001b[0m \u001b[0mPolygonPatch\u001b[0m\u001b[0;34m\u001b[0m\u001b[0;34m\u001b[0m\u001b[0m\n\u001b[1;32m    121\u001b[0m     \u001b[0;32mexcept\u001b[0m \u001b[0mImportError\u001b[0m\u001b[0;34m:\u001b[0m\u001b[0;34m\u001b[0m\u001b[0;34m\u001b[0m\u001b[0m\n\u001b[0;32m--> 122\u001b[0;31m         raise ImportError(\n\u001b[0m\u001b[1;32m    123\u001b[0m             \u001b[0;34m\"The descartes package is required for plotting polygons in geopandas. \"\u001b[0m\u001b[0;34m\u001b[0m\u001b[0;34m\u001b[0m\u001b[0m\n\u001b[1;32m    124\u001b[0m             \u001b[0;34m\"You can install it using 'conda install -c conda-forge descartes' or \"\u001b[0m\u001b[0;34m\u001b[0m\u001b[0;34m\u001b[0m\u001b[0m\n",
      "\u001b[0;31mImportError\u001b[0m: The descartes package is required for plotting polygons in geopandas. You can install it using 'conda install -c conda-forge descartes' or 'pip install descartes'."
     ]
    }
   ],
   "source": [
    "fig, ax = plt.subplots(figsize=(10,20))\n",
    "counties_wgs84.plot(ax=ax, color = 'black', edgecolor='white', alpha = 0.8)\n",
    "vista_ch4.plot(ax=ax, column = 'VistaSType', edgecolor = 'whitesmoke', cmap = 'Set3', legend = True);"
   ]
  },
  {
   "source": [
    "## Cows and CH$_4$\n",
    "The data below come from the [USDA National Agricultural Statistics Service QuickStats](https://quickstats.nass.usda.gov/#D0FD8ACF-923C-3308-91BB-1E1ACE7662B9) platform. I downloaded the following data and included it in the cows.zip file:\n",
    "* From the most recent California livestock census (2017), by California county:\n",
    "    1. Total count of cattle including calves\n",
    "    2. Total count of milk cows (a subset of (a))\n",
    "    3. Total count of milk-producing operations that had sales in the census year"
   ],
   "cell_type": "markdown",
   "metadata": {}
  },
  {
   "source": [
    "For the homework question, I just started with all cattle and used Appuhamy intake means to estimate per-county CH4 emissions. We can try to work on making this more granular later on. There should be some water quality regulatory filings that would include per-operation head counts, so maybe we can track that down."
   ],
   "cell_type": "markdown",
   "metadata": {}
  },
  {
   "cell_type": "code",
   "execution_count": 12,
   "metadata": {},
   "outputs": [],
   "source": [
    "nass = 'NASS'\n",
    "cows_csv = 'NASS_2017_Census_CA_County_CattleInclCalves.csv'\n",
    "ca_cows = pd.read_csv(os.sep.join(['.', nass, cows_csv]))"
   ]
  },
  {
   "cell_type": "code",
   "execution_count": 13,
   "metadata": {},
   "outputs": [
    {
     "output_type": "execute_result",
     "data": {
      "text/plain": [
       "  Program  Year      Period  Week Ending Geo Level       State  State ANSI  \\\n",
       "0  CENSUS  2017  END OF DEC          NaN    COUNTY  CALIFORNIA           6   \n",
       "1  CENSUS  2017  END OF DEC          NaN    COUNTY  CALIFORNIA           6   \n",
       "2  CENSUS  2017  END OF DEC          NaN    COUNTY  CALIFORNIA           6   \n",
       "3  CENSUS  2017  END OF DEC          NaN    COUNTY  CALIFORNIA           6   \n",
       "4  CENSUS  2017  END OF DEC          NaN    COUNTY  CALIFORNIA           6   \n",
       "\n",
       "     Ag District  Ag District Code   County  ...  Zip Code  Region  \\\n",
       "0  CENTRAL COAST                40  ALAMEDA  ...       NaN     NaN   \n",
       "1  CENTRAL COAST                40  ALAMEDA  ...       NaN     NaN   \n",
       "2  CENTRAL COAST                40  ALAMEDA  ...       NaN     NaN   \n",
       "3  CENTRAL COAST                40  ALAMEDA  ...       NaN     NaN   \n",
       "4  CENTRAL COAST                40  ALAMEDA  ...       NaN     NaN   \n",
       "\n",
       "   watershed_code  Watershed  Commodity                        Data Item  \\\n",
       "0               0        NaN     CATTLE  CATTLE, INCL CALVES - INVENTORY   \n",
       "1               0        NaN     CATTLE  CATTLE, INCL CALVES - INVENTORY   \n",
       "2               0        NaN     CATTLE  CATTLE, INCL CALVES - INVENTORY   \n",
       "3               0        NaN     CATTLE  CATTLE, INCL CALVES - INVENTORY   \n",
       "4               0        NaN     CATTLE  CATTLE, INCL CALVES - INVENTORY   \n",
       "\n",
       "                             Domain  \\\n",
       "0  INVENTORY OF CATTLE, INCL CALVES   \n",
       "1  INVENTORY OF CATTLE, INCL CALVES   \n",
       "2  INVENTORY OF CATTLE, INCL CALVES   \n",
       "3  INVENTORY OF CATTLE, INCL CALVES   \n",
       "4  INVENTORY OF CATTLE, INCL CALVES   \n",
       "\n",
       "                                     Domain Category  Value CV (%)  \n",
       "0    INVENTORY OF CATTLE, INCL CALVES: (1 TO 9 HEAD)     67   48.6  \n",
       "1  INVENTORY OF CATTLE, INCL CALVES: (10 TO 19 HEAD)    378   49.5  \n",
       "2  INVENTORY OF CATTLE, INCL CALVES: (100 TO 199 ...  2,293   30.1  \n",
       "3  INVENTORY OF CATTLE, INCL CALVES: (20 TO 49 HEAD)    851   33.7  \n",
       "4  INVENTORY OF CATTLE, INCL CALVES: (200 TO 499 ...  2,730   25.3  \n",
       "\n",
       "[5 rows x 21 columns]"
      ],
      "text/html": "<div>\n<style scoped>\n    .dataframe tbody tr th:only-of-type {\n        vertical-align: middle;\n    }\n\n    .dataframe tbody tr th {\n        vertical-align: top;\n    }\n\n    .dataframe thead th {\n        text-align: right;\n    }\n</style>\n<table border=\"1\" class=\"dataframe\">\n  <thead>\n    <tr style=\"text-align: right;\">\n      <th></th>\n      <th>Program</th>\n      <th>Year</th>\n      <th>Period</th>\n      <th>Week Ending</th>\n      <th>Geo Level</th>\n      <th>State</th>\n      <th>State ANSI</th>\n      <th>Ag District</th>\n      <th>Ag District Code</th>\n      <th>County</th>\n      <th>...</th>\n      <th>Zip Code</th>\n      <th>Region</th>\n      <th>watershed_code</th>\n      <th>Watershed</th>\n      <th>Commodity</th>\n      <th>Data Item</th>\n      <th>Domain</th>\n      <th>Domain Category</th>\n      <th>Value</th>\n      <th>CV (%)</th>\n    </tr>\n  </thead>\n  <tbody>\n    <tr>\n      <th>0</th>\n      <td>CENSUS</td>\n      <td>2017</td>\n      <td>END OF DEC</td>\n      <td>NaN</td>\n      <td>COUNTY</td>\n      <td>CALIFORNIA</td>\n      <td>6</td>\n      <td>CENTRAL COAST</td>\n      <td>40</td>\n      <td>ALAMEDA</td>\n      <td>...</td>\n      <td>NaN</td>\n      <td>NaN</td>\n      <td>0</td>\n      <td>NaN</td>\n      <td>CATTLE</td>\n      <td>CATTLE, INCL CALVES - INVENTORY</td>\n      <td>INVENTORY OF CATTLE, INCL CALVES</td>\n      <td>INVENTORY OF CATTLE, INCL CALVES: (1 TO 9 HEAD)</td>\n      <td>67</td>\n      <td>48.6</td>\n    </tr>\n    <tr>\n      <th>1</th>\n      <td>CENSUS</td>\n      <td>2017</td>\n      <td>END OF DEC</td>\n      <td>NaN</td>\n      <td>COUNTY</td>\n      <td>CALIFORNIA</td>\n      <td>6</td>\n      <td>CENTRAL COAST</td>\n      <td>40</td>\n      <td>ALAMEDA</td>\n      <td>...</td>\n      <td>NaN</td>\n      <td>NaN</td>\n      <td>0</td>\n      <td>NaN</td>\n      <td>CATTLE</td>\n      <td>CATTLE, INCL CALVES - INVENTORY</td>\n      <td>INVENTORY OF CATTLE, INCL CALVES</td>\n      <td>INVENTORY OF CATTLE, INCL CALVES: (10 TO 19 HEAD)</td>\n      <td>378</td>\n      <td>49.5</td>\n    </tr>\n    <tr>\n      <th>2</th>\n      <td>CENSUS</td>\n      <td>2017</td>\n      <td>END OF DEC</td>\n      <td>NaN</td>\n      <td>COUNTY</td>\n      <td>CALIFORNIA</td>\n      <td>6</td>\n      <td>CENTRAL COAST</td>\n      <td>40</td>\n      <td>ALAMEDA</td>\n      <td>...</td>\n      <td>NaN</td>\n      <td>NaN</td>\n      <td>0</td>\n      <td>NaN</td>\n      <td>CATTLE</td>\n      <td>CATTLE, INCL CALVES - INVENTORY</td>\n      <td>INVENTORY OF CATTLE, INCL CALVES</td>\n      <td>INVENTORY OF CATTLE, INCL CALVES: (100 TO 199 ...</td>\n      <td>2,293</td>\n      <td>30.1</td>\n    </tr>\n    <tr>\n      <th>3</th>\n      <td>CENSUS</td>\n      <td>2017</td>\n      <td>END OF DEC</td>\n      <td>NaN</td>\n      <td>COUNTY</td>\n      <td>CALIFORNIA</td>\n      <td>6</td>\n      <td>CENTRAL COAST</td>\n      <td>40</td>\n      <td>ALAMEDA</td>\n      <td>...</td>\n      <td>NaN</td>\n      <td>NaN</td>\n      <td>0</td>\n      <td>NaN</td>\n      <td>CATTLE</td>\n      <td>CATTLE, INCL CALVES - INVENTORY</td>\n      <td>INVENTORY OF CATTLE, INCL CALVES</td>\n      <td>INVENTORY OF CATTLE, INCL CALVES: (20 TO 49 HEAD)</td>\n      <td>851</td>\n      <td>33.7</td>\n    </tr>\n    <tr>\n      <th>4</th>\n      <td>CENSUS</td>\n      <td>2017</td>\n      <td>END OF DEC</td>\n      <td>NaN</td>\n      <td>COUNTY</td>\n      <td>CALIFORNIA</td>\n      <td>6</td>\n      <td>CENTRAL COAST</td>\n      <td>40</td>\n      <td>ALAMEDA</td>\n      <td>...</td>\n      <td>NaN</td>\n      <td>NaN</td>\n      <td>0</td>\n      <td>NaN</td>\n      <td>CATTLE</td>\n      <td>CATTLE, INCL CALVES - INVENTORY</td>\n      <td>INVENTORY OF CATTLE, INCL CALVES</td>\n      <td>INVENTORY OF CATTLE, INCL CALVES: (200 TO 499 ...</td>\n      <td>2,730</td>\n      <td>25.3</td>\n    </tr>\n  </tbody>\n</table>\n<p>5 rows × 21 columns</p>\n</div>"
     },
     "metadata": {},
     "execution_count": 13
    }
   ],
   "source": [
    "ca_cows.head()"
   ]
  },
  {
   "source": [
    "The NASS census bins head counts by size of operation/herd and also reports totals. Right now I only want totals."
   ],
   "cell_type": "markdown",
   "metadata": {}
  },
  {
   "cell_type": "code",
   "execution_count": 14,
   "metadata": {},
   "outputs": [
    {
     "output_type": "stream",
     "name": "stdout",
     "text": [
      "(57, 21)\n"
     ]
    },
    {
     "output_type": "execute_result",
     "data": {
      "text/plain": [
       "   Program  Year      Period  Week Ending Geo Level       State  State ANSI  \\\n",
       "7   CENSUS  2017  END OF DEC          NaN    COUNTY  CALIFORNIA           6   \n",
       "15  CENSUS  2017  END OF DEC          NaN    COUNTY  CALIFORNIA           6   \n",
       "22  CENSUS  2017  END OF DEC          NaN    COUNTY  CALIFORNIA           6   \n",
       "30  CENSUS  2017  END OF DEC          NaN    COUNTY  CALIFORNIA           6   \n",
       "38  CENSUS  2017  END OF DEC          NaN    COUNTY  CALIFORNIA           6   \n",
       "\n",
       "          Ag District  Ag District Code     County  ...  Zip Code  Region  \\\n",
       "7       CENTRAL COAST                40    ALAMEDA  ...       NaN     NaN   \n",
       "15   SIERRA MOUNTAINS                60     ALPINE  ...       NaN     NaN   \n",
       "22   SIERRA MOUNTAINS                60     AMADOR  ...       NaN     NaN   \n",
       "30  SACRAMENTO VALLEY                50      BUTTE  ...       NaN     NaN   \n",
       "38   SIERRA MOUNTAINS                60  CALAVERAS  ...       NaN     NaN   \n",
       "\n",
       "    watershed_code  Watershed  Commodity                        Data Item  \\\n",
       "7                0        NaN     CATTLE  CATTLE, INCL CALVES - INVENTORY   \n",
       "15               0        NaN     CATTLE  CATTLE, INCL CALVES - INVENTORY   \n",
       "22               0        NaN     CATTLE  CATTLE, INCL CALVES - INVENTORY   \n",
       "30               0        NaN     CATTLE  CATTLE, INCL CALVES - INVENTORY   \n",
       "38               0        NaN     CATTLE  CATTLE, INCL CALVES - INVENTORY   \n",
       "\n",
       "   Domain Domain Category   Value CV (%)  \n",
       "7   TOTAL   NOT SPECIFIED  18,524    5.6  \n",
       "15  TOTAL   NOT SPECIFIED     281    5.6  \n",
       "22  TOTAL   NOT SPECIFIED  15,209    5.6  \n",
       "30  TOTAL   NOT SPECIFIED  14,246    5.6  \n",
       "38  TOTAL   NOT SPECIFIED  22,093    5.6  \n",
       "\n",
       "[5 rows x 21 columns]"
      ],
      "text/html": "<div>\n<style scoped>\n    .dataframe tbody tr th:only-of-type {\n        vertical-align: middle;\n    }\n\n    .dataframe tbody tr th {\n        vertical-align: top;\n    }\n\n    .dataframe thead th {\n        text-align: right;\n    }\n</style>\n<table border=\"1\" class=\"dataframe\">\n  <thead>\n    <tr style=\"text-align: right;\">\n      <th></th>\n      <th>Program</th>\n      <th>Year</th>\n      <th>Period</th>\n      <th>Week Ending</th>\n      <th>Geo Level</th>\n      <th>State</th>\n      <th>State ANSI</th>\n      <th>Ag District</th>\n      <th>Ag District Code</th>\n      <th>County</th>\n      <th>...</th>\n      <th>Zip Code</th>\n      <th>Region</th>\n      <th>watershed_code</th>\n      <th>Watershed</th>\n      <th>Commodity</th>\n      <th>Data Item</th>\n      <th>Domain</th>\n      <th>Domain Category</th>\n      <th>Value</th>\n      <th>CV (%)</th>\n    </tr>\n  </thead>\n  <tbody>\n    <tr>\n      <th>7</th>\n      <td>CENSUS</td>\n      <td>2017</td>\n      <td>END OF DEC</td>\n      <td>NaN</td>\n      <td>COUNTY</td>\n      <td>CALIFORNIA</td>\n      <td>6</td>\n      <td>CENTRAL COAST</td>\n      <td>40</td>\n      <td>ALAMEDA</td>\n      <td>...</td>\n      <td>NaN</td>\n      <td>NaN</td>\n      <td>0</td>\n      <td>NaN</td>\n      <td>CATTLE</td>\n      <td>CATTLE, INCL CALVES - INVENTORY</td>\n      <td>TOTAL</td>\n      <td>NOT SPECIFIED</td>\n      <td>18,524</td>\n      <td>5.6</td>\n    </tr>\n    <tr>\n      <th>15</th>\n      <td>CENSUS</td>\n      <td>2017</td>\n      <td>END OF DEC</td>\n      <td>NaN</td>\n      <td>COUNTY</td>\n      <td>CALIFORNIA</td>\n      <td>6</td>\n      <td>SIERRA MOUNTAINS</td>\n      <td>60</td>\n      <td>ALPINE</td>\n      <td>...</td>\n      <td>NaN</td>\n      <td>NaN</td>\n      <td>0</td>\n      <td>NaN</td>\n      <td>CATTLE</td>\n      <td>CATTLE, INCL CALVES - INVENTORY</td>\n      <td>TOTAL</td>\n      <td>NOT SPECIFIED</td>\n      <td>281</td>\n      <td>5.6</td>\n    </tr>\n    <tr>\n      <th>22</th>\n      <td>CENSUS</td>\n      <td>2017</td>\n      <td>END OF DEC</td>\n      <td>NaN</td>\n      <td>COUNTY</td>\n      <td>CALIFORNIA</td>\n      <td>6</td>\n      <td>SIERRA MOUNTAINS</td>\n      <td>60</td>\n      <td>AMADOR</td>\n      <td>...</td>\n      <td>NaN</td>\n      <td>NaN</td>\n      <td>0</td>\n      <td>NaN</td>\n      <td>CATTLE</td>\n      <td>CATTLE, INCL CALVES - INVENTORY</td>\n      <td>TOTAL</td>\n      <td>NOT SPECIFIED</td>\n      <td>15,209</td>\n      <td>5.6</td>\n    </tr>\n    <tr>\n      <th>30</th>\n      <td>CENSUS</td>\n      <td>2017</td>\n      <td>END OF DEC</td>\n      <td>NaN</td>\n      <td>COUNTY</td>\n      <td>CALIFORNIA</td>\n      <td>6</td>\n      <td>SACRAMENTO VALLEY</td>\n      <td>50</td>\n      <td>BUTTE</td>\n      <td>...</td>\n      <td>NaN</td>\n      <td>NaN</td>\n      <td>0</td>\n      <td>NaN</td>\n      <td>CATTLE</td>\n      <td>CATTLE, INCL CALVES - INVENTORY</td>\n      <td>TOTAL</td>\n      <td>NOT SPECIFIED</td>\n      <td>14,246</td>\n      <td>5.6</td>\n    </tr>\n    <tr>\n      <th>38</th>\n      <td>CENSUS</td>\n      <td>2017</td>\n      <td>END OF DEC</td>\n      <td>NaN</td>\n      <td>COUNTY</td>\n      <td>CALIFORNIA</td>\n      <td>6</td>\n      <td>SIERRA MOUNTAINS</td>\n      <td>60</td>\n      <td>CALAVERAS</td>\n      <td>...</td>\n      <td>NaN</td>\n      <td>NaN</td>\n      <td>0</td>\n      <td>NaN</td>\n      <td>CATTLE</td>\n      <td>CATTLE, INCL CALVES - INVENTORY</td>\n      <td>TOTAL</td>\n      <td>NOT SPECIFIED</td>\n      <td>22,093</td>\n      <td>5.6</td>\n    </tr>\n  </tbody>\n</table>\n<p>5 rows × 21 columns</p>\n</div>"
     },
     "metadata": {},
     "execution_count": 14
    }
   ],
   "source": [
    "ca_cows_totals = ca_cows[(ca_cows['Domain'] == 'TOTAL') & (ca_cows['Program'] == 'CENSUS')]\n",
    "print(ca_cows_totals.shape)\n",
    "ca_cows_totals.head()"
   ]
  },
  {
   "cell_type": "code",
   "execution_count": 15,
   "metadata": {},
   "outputs": [
    {
     "output_type": "execute_result",
     "data": {
      "text/plain": [
       "Index(['Program', 'Year', 'Period', 'Week Ending', 'Geo Level', 'State',\n",
       "       'State ANSI', 'Ag District', 'Ag District Code', 'County',\n",
       "       'County ANSI', 'Zip Code', 'Region', 'watershed_code', 'Watershed',\n",
       "       'Commodity', 'Data Item', 'Domain', 'Domain Category', 'Value',\n",
       "       'CV (%)'],\n",
       "      dtype='object')"
      ]
     },
     "metadata": {},
     "execution_count": 15
    }
   ],
   "source": [
    "ca_cows_totals.columns"
   ]
  },
  {
   "cell_type": "code",
   "execution_count": 16,
   "metadata": {},
   "outputs": [],
   "source": [
    "# drop some unecessary columns\n",
    "cows_ch4 = ca_cows_totals.drop(columns = ['Period', 'Week Ending', 'Ag District', 'Ag District Code', 'Zip Code', 'Region', 'watershed_code', 'Watershed', 'Domain Category'])\n",
    "\n",
    "# 'Value' has counts of cattle but it's a series of unwieldy string objects with commas, so we want to turn those into integers\n",
    "cows_ch4['Value'] = [int(i.replace(',', '')) for i in cows_ch4['Value']]"
   ]
  },
  {
   "cell_type": "code",
   "execution_count": 17,
   "metadata": {},
   "outputs": [],
   "source": [
    "# define functions to compute EPA estimate of CH4 emissions by county\n",
    "def ch4_epa(GEI, count):\n",
    "    ch4 = count * (0.065 * GEI / 0.05565)\n",
    "    return ch4\n",
    "\n",
    "def ch4_appuhamy(DMI, count):\n",
    "    ch4 = count * (9.6 + 22.1 * DMI)\n",
    "    return ch4"
   ]
  },
  {
   "cell_type": "code",
   "execution_count": 18,
   "metadata": {},
   "outputs": [
    {
     "output_type": "execute_result",
     "data": {
      "text/plain": [
       "   DMI_mean  GEI_mean  dNDF_mean  EE_mean  Milk Fat  \\\n",
       "0      13.5     248.2       45.9      3.6       0.0   \n",
       "1       9.9     181.2       47.9      3.2       0.0   \n",
       "2      19.9     381.0       34.1      3.2       3.6   \n",
       "3      10.3     173.0       45.8      3.4       0.0   \n",
       "\n",
       "                               type  \n",
       "0                         CA Heifer  \n",
       "1                        CA Dry Cow  \n",
       "2                  CA Lactating Cow  \n",
       "3  Generic estimate from literature  "
      ],
      "text/html": "<div>\n<style scoped>\n    .dataframe tbody tr th:only-of-type {\n        vertical-align: middle;\n    }\n\n    .dataframe tbody tr th {\n        vertical-align: top;\n    }\n\n    .dataframe thead th {\n        text-align: right;\n    }\n</style>\n<table border=\"1\" class=\"dataframe\">\n  <thead>\n    <tr style=\"text-align: right;\">\n      <th></th>\n      <th>DMI_mean</th>\n      <th>GEI_mean</th>\n      <th>dNDF_mean</th>\n      <th>EE_mean</th>\n      <th>Milk Fat</th>\n      <th>type</th>\n    </tr>\n  </thead>\n  <tbody>\n    <tr>\n      <th>0</th>\n      <td>13.5</td>\n      <td>248.2</td>\n      <td>45.9</td>\n      <td>3.6</td>\n      <td>0.0</td>\n      <td>CA Heifer</td>\n    </tr>\n    <tr>\n      <th>1</th>\n      <td>9.9</td>\n      <td>181.2</td>\n      <td>47.9</td>\n      <td>3.2</td>\n      <td>0.0</td>\n      <td>CA Dry Cow</td>\n    </tr>\n    <tr>\n      <th>2</th>\n      <td>19.9</td>\n      <td>381.0</td>\n      <td>34.1</td>\n      <td>3.2</td>\n      <td>3.6</td>\n      <td>CA Lactating Cow</td>\n    </tr>\n    <tr>\n      <th>3</th>\n      <td>10.3</td>\n      <td>173.0</td>\n      <td>45.8</td>\n      <td>3.4</td>\n      <td>0.0</td>\n      <td>Generic estimate from literature</td>\n    </tr>\n  </tbody>\n</table>\n</div>"
     },
     "metadata": {},
     "execution_count": 18
    }
   ],
   "source": [
    "# reference for intake values\n",
    "intake"
   ]
  },
  {
   "cell_type": "code",
   "execution_count": 19,
   "metadata": {},
   "outputs": [],
   "source": [
    "# use the generic estimates of GEI and DMI from literature\n",
    "GEI_mean_generic = 173\n",
    "DMI_mean_generic = 10.3\n",
    "\n",
    "cows_ch4['CH4_epa'] = ch4_epa(GEI_mean_generic, cows_ch4['Value'])\n",
    "cows_ch4['CH4_appuhamy'] = ch4_appuhamy(DMI_mean_generic, cows_ch4['Value'])"
   ]
  },
  {
   "cell_type": "code",
   "execution_count": 20,
   "metadata": {},
   "outputs": [
    {
     "output_type": "execute_result",
     "data": {
      "text/plain": [
       "   Program  Year Geo Level       State  State ANSI     County  County ANSI  \\\n",
       "7   CENSUS  2017    COUNTY  CALIFORNIA           6    ALAMEDA            1   \n",
       "15  CENSUS  2017    COUNTY  CALIFORNIA           6     ALPINE            3   \n",
       "22  CENSUS  2017    COUNTY  CALIFORNIA           6     AMADOR            5   \n",
       "30  CENSUS  2017    COUNTY  CALIFORNIA           6      BUTTE            7   \n",
       "38  CENSUS  2017    COUNTY  CALIFORNIA           6  CALAVERAS            9   \n",
       "\n",
       "   Commodity                        Data Item Domain  Value CV (%)  \\\n",
       "7     CATTLE  CATTLE, INCL CALVES - INVENTORY  TOTAL  18524    5.6   \n",
       "15    CATTLE  CATTLE, INCL CALVES - INVENTORY  TOTAL    281    5.6   \n",
       "22    CATTLE  CATTLE, INCL CALVES - INVENTORY  TOTAL  15209    5.6   \n",
       "30    CATTLE  CATTLE, INCL CALVES - INVENTORY  TOTAL  14246    5.6   \n",
       "38    CATTLE  CATTLE, INCL CALVES - INVENTORY  TOTAL  22093    5.6   \n",
       "\n",
       "         CH4_epa  CH4_appuhamy  \n",
       "7   3.743080e+06    4394448.52  \n",
       "15  5.678068e+04      66661.63  \n",
       "22  3.073229e+06    3608031.07  \n",
       "30  2.878639e+06    3379578.58  \n",
       "38  4.464255e+06    5241122.39  "
      ],
      "text/html": "<div>\n<style scoped>\n    .dataframe tbody tr th:only-of-type {\n        vertical-align: middle;\n    }\n\n    .dataframe tbody tr th {\n        vertical-align: top;\n    }\n\n    .dataframe thead th {\n        text-align: right;\n    }\n</style>\n<table border=\"1\" class=\"dataframe\">\n  <thead>\n    <tr style=\"text-align: right;\">\n      <th></th>\n      <th>Program</th>\n      <th>Year</th>\n      <th>Geo Level</th>\n      <th>State</th>\n      <th>State ANSI</th>\n      <th>County</th>\n      <th>County ANSI</th>\n      <th>Commodity</th>\n      <th>Data Item</th>\n      <th>Domain</th>\n      <th>Value</th>\n      <th>CV (%)</th>\n      <th>CH4_epa</th>\n      <th>CH4_appuhamy</th>\n    </tr>\n  </thead>\n  <tbody>\n    <tr>\n      <th>7</th>\n      <td>CENSUS</td>\n      <td>2017</td>\n      <td>COUNTY</td>\n      <td>CALIFORNIA</td>\n      <td>6</td>\n      <td>ALAMEDA</td>\n      <td>1</td>\n      <td>CATTLE</td>\n      <td>CATTLE, INCL CALVES - INVENTORY</td>\n      <td>TOTAL</td>\n      <td>18524</td>\n      <td>5.6</td>\n      <td>3.743080e+06</td>\n      <td>4394448.52</td>\n    </tr>\n    <tr>\n      <th>15</th>\n      <td>CENSUS</td>\n      <td>2017</td>\n      <td>COUNTY</td>\n      <td>CALIFORNIA</td>\n      <td>6</td>\n      <td>ALPINE</td>\n      <td>3</td>\n      <td>CATTLE</td>\n      <td>CATTLE, INCL CALVES - INVENTORY</td>\n      <td>TOTAL</td>\n      <td>281</td>\n      <td>5.6</td>\n      <td>5.678068e+04</td>\n      <td>66661.63</td>\n    </tr>\n    <tr>\n      <th>22</th>\n      <td>CENSUS</td>\n      <td>2017</td>\n      <td>COUNTY</td>\n      <td>CALIFORNIA</td>\n      <td>6</td>\n      <td>AMADOR</td>\n      <td>5</td>\n      <td>CATTLE</td>\n      <td>CATTLE, INCL CALVES - INVENTORY</td>\n      <td>TOTAL</td>\n      <td>15209</td>\n      <td>5.6</td>\n      <td>3.073229e+06</td>\n      <td>3608031.07</td>\n    </tr>\n    <tr>\n      <th>30</th>\n      <td>CENSUS</td>\n      <td>2017</td>\n      <td>COUNTY</td>\n      <td>CALIFORNIA</td>\n      <td>6</td>\n      <td>BUTTE</td>\n      <td>7</td>\n      <td>CATTLE</td>\n      <td>CATTLE, INCL CALVES - INVENTORY</td>\n      <td>TOTAL</td>\n      <td>14246</td>\n      <td>5.6</td>\n      <td>2.878639e+06</td>\n      <td>3379578.58</td>\n    </tr>\n    <tr>\n      <th>38</th>\n      <td>CENSUS</td>\n      <td>2017</td>\n      <td>COUNTY</td>\n      <td>CALIFORNIA</td>\n      <td>6</td>\n      <td>CALAVERAS</td>\n      <td>9</td>\n      <td>CATTLE</td>\n      <td>CATTLE, INCL CALVES - INVENTORY</td>\n      <td>TOTAL</td>\n      <td>22093</td>\n      <td>5.6</td>\n      <td>4.464255e+06</td>\n      <td>5241122.39</td>\n    </tr>\n  </tbody>\n</table>\n</div>"
     },
     "metadata": {},
     "execution_count": 20
    }
   ],
   "source": [
    "cows_ch4.head()"
   ]
  },
  {
   "cell_type": "code",
   "execution_count": 21,
   "metadata": {},
   "outputs": [],
   "source": [
    "# some checks that we're landing in about the right place with these estimates\n",
    "pop = cows_ch4['Value']\n",
    "epa = cows_ch4['CH4_epa']\n",
    "appu = cows_ch4['CH4_appuhamy']\n",
    "\n",
    "total_pop = pop.sum() # total population of cattle should be around 5M\n",
    "ch4_epa_yr = (epa * 365 / 10**6).sum() # total CH4 emissions should be around 400K tons/yr\n",
    "ch4_appu_yr = (appu * 365 / 10**6).sum() # total CH4 emissions should be around 400K tons/yr and higher than epa estimate\n",
    "\n",
    "assert total_pop <= 6e6 and total_pop >= 4e6\n",
    "assert ch4_epa_yr <= 5e5 and ch4_epa_yr >=3e5\n",
    "assert ch4_appu_yr <= 5e5 and ch4_epa_yr >=3e5 and ch4_appu_yr > ch4_epa_yr"
   ]
  },
  {
   "source": [
    "### Export CH4 estimates to CSV"
   ],
   "cell_type": "markdown",
   "metadata": {}
  },
  {
   "cell_type": "code",
   "execution_count": 22,
   "metadata": {},
   "outputs": [],
   "source": [
    "cows_ch4.to_csv('cows_ch4.csv')"
   ]
  },
  {
   "source": [
    "## Some stuff on a Jupyter-Drive workflow\n",
    "This requires some backend work setting up the Drive API and OAuth credentials. [Some tips here](https://medium.com/@umdfirecoml/a-step-by-step-guide-on-how-to-download-your-google-drive-data-to-your-jupyter-notebook-using-the-52f4ce63c66c).\n"
   ],
   "cell_type": "markdown",
   "metadata": {}
  },
  {
   "cell_type": "code",
   "execution_count": 23,
   "metadata": {},
   "outputs": [
    {
     "output_type": "error",
     "ename": "ModuleNotFoundError",
     "evalue": "No module named 'gspread'",
     "traceback": [
      "\u001b[0;31m---------------------------------------------------------------------------\u001b[0m",
      "\u001b[0;31mModuleNotFoundError\u001b[0m                       Traceback (most recent call last)",
      "\u001b[0;32m<ipython-input-23-098723cf7282>\u001b[0m in \u001b[0;36m<module>\u001b[0;34m\u001b[0m\n\u001b[1;32m      1\u001b[0m \u001b[0;31m#!pip3 install df2gspread gspread\u001b[0m\u001b[0;34m\u001b[0m\u001b[0;34m\u001b[0m\u001b[0;34m\u001b[0m\u001b[0m\n\u001b[1;32m      2\u001b[0m \u001b[0;31m#!pip3 install pydrive\u001b[0m\u001b[0;34m\u001b[0m\u001b[0;34m\u001b[0m\u001b[0;34m\u001b[0m\u001b[0m\n\u001b[0;32m----> 3\u001b[0;31m \u001b[0;32mimport\u001b[0m \u001b[0mgspread\u001b[0m\u001b[0;34m\u001b[0m\u001b[0;34m\u001b[0m\u001b[0m\n\u001b[0m\u001b[1;32m      4\u001b[0m \u001b[0;32mfrom\u001b[0m \u001b[0mpydrive\u001b[0m\u001b[0;34m.\u001b[0m\u001b[0mauth\u001b[0m \u001b[0;32mimport\u001b[0m \u001b[0mGoogleAuth\u001b[0m\u001b[0;34m\u001b[0m\u001b[0;34m\u001b[0m\u001b[0m\n\u001b[1;32m      5\u001b[0m \u001b[0;32mfrom\u001b[0m \u001b[0mpydrive\u001b[0m\u001b[0;34m.\u001b[0m\u001b[0mdrive\u001b[0m \u001b[0;32mimport\u001b[0m \u001b[0mGoogleDrive\u001b[0m\u001b[0;34m\u001b[0m\u001b[0;34m\u001b[0m\u001b[0m\n",
      "\u001b[0;31mModuleNotFoundError\u001b[0m: No module named 'gspread'"
     ]
    }
   ],
   "source": [
    "#!pip3 install df2gspread gspread\n",
    "#!pip3 install pydrive\n",
    "import gspread \n",
    "from pydrive.auth import GoogleAuth\n",
    "from pydrive.drive import GoogleDrive \n",
    "from oauth2client.service_account import ServiceAccountCredentials"
   ]
  },
  {
   "cell_type": "code",
   "execution_count": 5,
   "metadata": {},
   "outputs": [],
   "source": [
    "scope = ['https://spreadsheets.google.com/feeds', 'https://www.googleapis.com/auth/drive'] \n",
    "credentials = ServiceAccountCredentials.from_json_keyfile_name('./jupyter-drive-294015-beb1b5310c70.json', scope) \n",
    "gc = gspread.authorize(credentials)"
   ]
  },
  {
   "cell_type": "code",
   "execution_count": 6,
   "metadata": {},
   "outputs": [],
   "source": [
    "sheetkey = '1hvhs2L76VWbfcJPF0wGlM7iOIiCQh1I2ThQYZduNIsU'\n",
    "book = gc.open_by_key(sheetkey) \n",
    "worksheet = book.worksheet(\"Sheet1\") \n",
    "table = worksheet.get_all_values()"
   ]
  },
  {
   "cell_type": "code",
   "execution_count": 8,
   "metadata": {},
   "outputs": [],
   "source": [
    "csvkey = '1HmVVn51T1W7JfHb5zIYb7wrtXMl04Env'"
   ]
  },
  {
   "cell_type": "code",
   "execution_count": 57,
   "metadata": {},
   "outputs": [],
   "source": [
    "# 1. Authenticate and create the PyDrive client.\n",
    "gauth = GoogleAuth()\n",
    "gauth.credentials = ServiceAccountCredentials.from_json_keyfile_name('./jupyter-drive-294015-beb1b5310c70.json', scope)\n",
    "drive = GoogleDrive(gauth)\n",
    "file_id = csvkey\n",
    "downloaded = drive.CreateFile({'id': file_id}) # allows you to temporarily load your file in the notebook VM\n",
    "\n",
    "# assume the file is called file.csv and it's located at the root of your drive\n",
    "downloaded.GetContentFile('file.csv')\n",
    "data = pd.read_csv('file.csv')"
   ]
  },
  {
   "cell_type": "code",
   "execution_count": 60,
   "metadata": {},
   "outputs": [
    {
     "output_type": "execute_result",
     "data": {
      "text/plain": [
       "    Program  Year Period  Week Ending Geo Level       State  State ANSI  \\\n",
       "0    CENSUS  2007   YEAR          NaN  ZIP CODE  CALIFORNIA           6   \n",
       "1    CENSUS  2007   YEAR          NaN  ZIP CODE  CALIFORNIA           6   \n",
       "2    CENSUS  2007   YEAR          NaN  ZIP CODE  CALIFORNIA           6   \n",
       "3    CENSUS  2007   YEAR          NaN  ZIP CODE  CALIFORNIA           6   \n",
       "4    CENSUS  2007   YEAR          NaN  ZIP CODE  CALIFORNIA           6   \n",
       "..      ...   ...    ...          ...       ...         ...         ...   \n",
       "503  CENSUS  2007   YEAR          NaN  ZIP CODE  CALIFORNIA           6   \n",
       "504  CENSUS  2007   YEAR          NaN  ZIP CODE  CALIFORNIA           6   \n",
       "505  CENSUS  2007   YEAR          NaN  ZIP CODE  CALIFORNIA           6   \n",
       "506  CENSUS  2007   YEAR          NaN  ZIP CODE  CALIFORNIA           6   \n",
       "507  CENSUS  2007   YEAR          NaN  ZIP CODE  CALIFORNIA           6   \n",
       "\n",
       "     Ag District  Ag District Code  County  ...  Zip Code  Region  \\\n",
       "0            NaN               NaN     NaN  ...     90210     NaN   \n",
       "1            NaN               NaN     NaN  ...     90210     NaN   \n",
       "2            NaN               NaN     NaN  ...     90248     NaN   \n",
       "3            NaN               NaN     NaN  ...     90248     NaN   \n",
       "4            NaN               NaN     NaN  ...     90265     NaN   \n",
       "..           ...               ...     ...  ...       ...     ...   \n",
       "503          NaN               NaN     NaN  ...     96115     NaN   \n",
       "504          NaN               NaN     NaN  ...     96121     NaN   \n",
       "505          NaN               NaN     NaN  ...     96128     NaN   \n",
       "506          NaN               NaN     NaN  ...     99999     NaN   \n",
       "507          NaN               NaN     NaN  ...     99999     NaN   \n",
       "\n",
       "     watershed_code  Watershed  Commodity  \\\n",
       "0                 0        NaN       MILK   \n",
       "1                 0        NaN       MILK   \n",
       "2                 0        NaN       MILK   \n",
       "3                 0        NaN       MILK   \n",
       "4                 0        NaN       MILK   \n",
       "..              ...        ...        ...   \n",
       "503               0        NaN       MILK   \n",
       "504               0        NaN       MILK   \n",
       "505               0        NaN       MILK   \n",
       "506               0        NaN       MILK   \n",
       "507               0        NaN       MILK   \n",
       "\n",
       "                                             Data Item Domain  \\\n",
       "0    MILK, INCL OTHER DAIRY PRODUCTS - OPERATIONS W...  SALES   \n",
       "1    MILK, INCL OTHER DAIRY PRODUCTS - OPERATIONS W...  TOTAL   \n",
       "2    MILK, INCL OTHER DAIRY PRODUCTS - OPERATIONS W...  SALES   \n",
       "3    MILK, INCL OTHER DAIRY PRODUCTS - OPERATIONS W...  TOTAL   \n",
       "4    MILK, INCL OTHER DAIRY PRODUCTS - OPERATIONS W...  TOTAL   \n",
       "..                                                 ...    ...   \n",
       "503  MILK, INCL OTHER DAIRY PRODUCTS - OPERATIONS W...  TOTAL   \n",
       "504  MILK, INCL OTHER DAIRY PRODUCTS - OPERATIONS W...  TOTAL   \n",
       "505  MILK, INCL OTHER DAIRY PRODUCTS - OPERATIONS W...  TOTAL   \n",
       "506  MILK, INCL OTHER DAIRY PRODUCTS - OPERATIONS W...  SALES   \n",
       "507  MILK, INCL OTHER DAIRY PRODUCTS - OPERATIONS W...  TOTAL   \n",
       "\n",
       "               Domain Category Value  CV (%)  \n",
       "0    SALES: (50,000 OR MORE $)     2     NaN  \n",
       "1                NOT SPECIFIED     2     NaN  \n",
       "2    SALES: (50,000 OR MORE $)     2     NaN  \n",
       "3                NOT SPECIFIED     2     NaN  \n",
       "4                NOT SPECIFIED     2     NaN  \n",
       "..                         ...   ...     ...  \n",
       "503              NOT SPECIFIED     1     NaN  \n",
       "504              NOT SPECIFIED     6     NaN  \n",
       "505              NOT SPECIFIED     1     NaN  \n",
       "506  SALES: (50,000 OR MORE $)    11     NaN  \n",
       "507              NOT SPECIFIED    15     NaN  \n",
       "\n",
       "[508 rows x 21 columns]"
      ],
      "text/html": "<div>\n<style scoped>\n    .dataframe tbody tr th:only-of-type {\n        vertical-align: middle;\n    }\n\n    .dataframe tbody tr th {\n        vertical-align: top;\n    }\n\n    .dataframe thead th {\n        text-align: right;\n    }\n</style>\n<table border=\"1\" class=\"dataframe\">\n  <thead>\n    <tr style=\"text-align: right;\">\n      <th></th>\n      <th>Program</th>\n      <th>Year</th>\n      <th>Period</th>\n      <th>Week Ending</th>\n      <th>Geo Level</th>\n      <th>State</th>\n      <th>State ANSI</th>\n      <th>Ag District</th>\n      <th>Ag District Code</th>\n      <th>County</th>\n      <th>...</th>\n      <th>Zip Code</th>\n      <th>Region</th>\n      <th>watershed_code</th>\n      <th>Watershed</th>\n      <th>Commodity</th>\n      <th>Data Item</th>\n      <th>Domain</th>\n      <th>Domain Category</th>\n      <th>Value</th>\n      <th>CV (%)</th>\n    </tr>\n  </thead>\n  <tbody>\n    <tr>\n      <th>0</th>\n      <td>CENSUS</td>\n      <td>2007</td>\n      <td>YEAR</td>\n      <td>NaN</td>\n      <td>ZIP CODE</td>\n      <td>CALIFORNIA</td>\n      <td>6</td>\n      <td>NaN</td>\n      <td>NaN</td>\n      <td>NaN</td>\n      <td>...</td>\n      <td>90210</td>\n      <td>NaN</td>\n      <td>0</td>\n      <td>NaN</td>\n      <td>MILK</td>\n      <td>MILK, INCL OTHER DAIRY PRODUCTS - OPERATIONS W...</td>\n      <td>SALES</td>\n      <td>SALES: (50,000 OR MORE $)</td>\n      <td>2</td>\n      <td>NaN</td>\n    </tr>\n    <tr>\n      <th>1</th>\n      <td>CENSUS</td>\n      <td>2007</td>\n      <td>YEAR</td>\n      <td>NaN</td>\n      <td>ZIP CODE</td>\n      <td>CALIFORNIA</td>\n      <td>6</td>\n      <td>NaN</td>\n      <td>NaN</td>\n      <td>NaN</td>\n      <td>...</td>\n      <td>90210</td>\n      <td>NaN</td>\n      <td>0</td>\n      <td>NaN</td>\n      <td>MILK</td>\n      <td>MILK, INCL OTHER DAIRY PRODUCTS - OPERATIONS W...</td>\n      <td>TOTAL</td>\n      <td>NOT SPECIFIED</td>\n      <td>2</td>\n      <td>NaN</td>\n    </tr>\n    <tr>\n      <th>2</th>\n      <td>CENSUS</td>\n      <td>2007</td>\n      <td>YEAR</td>\n      <td>NaN</td>\n      <td>ZIP CODE</td>\n      <td>CALIFORNIA</td>\n      <td>6</td>\n      <td>NaN</td>\n      <td>NaN</td>\n      <td>NaN</td>\n      <td>...</td>\n      <td>90248</td>\n      <td>NaN</td>\n      <td>0</td>\n      <td>NaN</td>\n      <td>MILK</td>\n      <td>MILK, INCL OTHER DAIRY PRODUCTS - OPERATIONS W...</td>\n      <td>SALES</td>\n      <td>SALES: (50,000 OR MORE $)</td>\n      <td>2</td>\n      <td>NaN</td>\n    </tr>\n    <tr>\n      <th>3</th>\n      <td>CENSUS</td>\n      <td>2007</td>\n      <td>YEAR</td>\n      <td>NaN</td>\n      <td>ZIP CODE</td>\n      <td>CALIFORNIA</td>\n      <td>6</td>\n      <td>NaN</td>\n      <td>NaN</td>\n      <td>NaN</td>\n      <td>...</td>\n      <td>90248</td>\n      <td>NaN</td>\n      <td>0</td>\n      <td>NaN</td>\n      <td>MILK</td>\n      <td>MILK, INCL OTHER DAIRY PRODUCTS - OPERATIONS W...</td>\n      <td>TOTAL</td>\n      <td>NOT SPECIFIED</td>\n      <td>2</td>\n      <td>NaN</td>\n    </tr>\n    <tr>\n      <th>4</th>\n      <td>CENSUS</td>\n      <td>2007</td>\n      <td>YEAR</td>\n      <td>NaN</td>\n      <td>ZIP CODE</td>\n      <td>CALIFORNIA</td>\n      <td>6</td>\n      <td>NaN</td>\n      <td>NaN</td>\n      <td>NaN</td>\n      <td>...</td>\n      <td>90265</td>\n      <td>NaN</td>\n      <td>0</td>\n      <td>NaN</td>\n      <td>MILK</td>\n      <td>MILK, INCL OTHER DAIRY PRODUCTS - OPERATIONS W...</td>\n      <td>TOTAL</td>\n      <td>NOT SPECIFIED</td>\n      <td>2</td>\n      <td>NaN</td>\n    </tr>\n    <tr>\n      <th>...</th>\n      <td>...</td>\n      <td>...</td>\n      <td>...</td>\n      <td>...</td>\n      <td>...</td>\n      <td>...</td>\n      <td>...</td>\n      <td>...</td>\n      <td>...</td>\n      <td>...</td>\n      <td>...</td>\n      <td>...</td>\n      <td>...</td>\n      <td>...</td>\n      <td>...</td>\n      <td>...</td>\n      <td>...</td>\n      <td>...</td>\n      <td>...</td>\n      <td>...</td>\n      <td>...</td>\n    </tr>\n    <tr>\n      <th>503</th>\n      <td>CENSUS</td>\n      <td>2007</td>\n      <td>YEAR</td>\n      <td>NaN</td>\n      <td>ZIP CODE</td>\n      <td>CALIFORNIA</td>\n      <td>6</td>\n      <td>NaN</td>\n      <td>NaN</td>\n      <td>NaN</td>\n      <td>...</td>\n      <td>96115</td>\n      <td>NaN</td>\n      <td>0</td>\n      <td>NaN</td>\n      <td>MILK</td>\n      <td>MILK, INCL OTHER DAIRY PRODUCTS - OPERATIONS W...</td>\n      <td>TOTAL</td>\n      <td>NOT SPECIFIED</td>\n      <td>1</td>\n      <td>NaN</td>\n    </tr>\n    <tr>\n      <th>504</th>\n      <td>CENSUS</td>\n      <td>2007</td>\n      <td>YEAR</td>\n      <td>NaN</td>\n      <td>ZIP CODE</td>\n      <td>CALIFORNIA</td>\n      <td>6</td>\n      <td>NaN</td>\n      <td>NaN</td>\n      <td>NaN</td>\n      <td>...</td>\n      <td>96121</td>\n      <td>NaN</td>\n      <td>0</td>\n      <td>NaN</td>\n      <td>MILK</td>\n      <td>MILK, INCL OTHER DAIRY PRODUCTS - OPERATIONS W...</td>\n      <td>TOTAL</td>\n      <td>NOT SPECIFIED</td>\n      <td>6</td>\n      <td>NaN</td>\n    </tr>\n    <tr>\n      <th>505</th>\n      <td>CENSUS</td>\n      <td>2007</td>\n      <td>YEAR</td>\n      <td>NaN</td>\n      <td>ZIP CODE</td>\n      <td>CALIFORNIA</td>\n      <td>6</td>\n      <td>NaN</td>\n      <td>NaN</td>\n      <td>NaN</td>\n      <td>...</td>\n      <td>96128</td>\n      <td>NaN</td>\n      <td>0</td>\n      <td>NaN</td>\n      <td>MILK</td>\n      <td>MILK, INCL OTHER DAIRY PRODUCTS - OPERATIONS W...</td>\n      <td>TOTAL</td>\n      <td>NOT SPECIFIED</td>\n      <td>1</td>\n      <td>NaN</td>\n    </tr>\n    <tr>\n      <th>506</th>\n      <td>CENSUS</td>\n      <td>2007</td>\n      <td>YEAR</td>\n      <td>NaN</td>\n      <td>ZIP CODE</td>\n      <td>CALIFORNIA</td>\n      <td>6</td>\n      <td>NaN</td>\n      <td>NaN</td>\n      <td>NaN</td>\n      <td>...</td>\n      <td>99999</td>\n      <td>NaN</td>\n      <td>0</td>\n      <td>NaN</td>\n      <td>MILK</td>\n      <td>MILK, INCL OTHER DAIRY PRODUCTS - OPERATIONS W...</td>\n      <td>SALES</td>\n      <td>SALES: (50,000 OR MORE $)</td>\n      <td>11</td>\n      <td>NaN</td>\n    </tr>\n    <tr>\n      <th>507</th>\n      <td>CENSUS</td>\n      <td>2007</td>\n      <td>YEAR</td>\n      <td>NaN</td>\n      <td>ZIP CODE</td>\n      <td>CALIFORNIA</td>\n      <td>6</td>\n      <td>NaN</td>\n      <td>NaN</td>\n      <td>NaN</td>\n      <td>...</td>\n      <td>99999</td>\n      <td>NaN</td>\n      <td>0</td>\n      <td>NaN</td>\n      <td>MILK</td>\n      <td>MILK, INCL OTHER DAIRY PRODUCTS - OPERATIONS W...</td>\n      <td>TOTAL</td>\n      <td>NOT SPECIFIED</td>\n      <td>15</td>\n      <td>NaN</td>\n    </tr>\n  </tbody>\n</table>\n<p>508 rows × 21 columns</p>\n</div>"
     },
     "metadata": {},
     "execution_count": 60
    }
   ],
   "source": [
    "data"
   ]
  }
 ]
}